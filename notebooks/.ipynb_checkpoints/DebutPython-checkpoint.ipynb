{
 "cells": [
  {
   "cell_type": "markdown",
   "metadata": {
    "colab_type": "text",
    "id": "dlvlfbO4_-8N"
   },
   "source": [
    "# Une Introduction à la programmation\n",
    "\n",
    "Faire de l'économie de nos jours, demande une bonne connaissance de la programmation. Python est un langage très [populaire](https://images.app.goo.gl/fPzvVcitoX695LCw5) et versatile. En plus, Google collab nous permet de l'utiliser directement sur le web sans installation du logiciel!"
   ]
  },
  {
   "cell_type": "markdown",
   "metadata": {
    "colab_type": "text",
    "id": "g9u7D53M_-8O"
   },
   "source": [
    "Programmer est utile afin de: \n",
    "\n",
    "* bien comprendre un problème (*you understand it if you can program it*)\n",
    "* permet de considérer des modèles sans solution analytique\n",
    "* efficacité afin de considérer robustesse\n",
    "* éviter la répétition\n",
    "* éviter les erreur de manipulation humaine\n",
    "* traiter un volume élevé de données"
   ]
  },
  {
   "cell_type": "markdown",
   "metadata": {
    "colab_type": "text",
    "id": "CoFO4dM4M8Fm"
   },
   "source": [
    "Un bon programme est: \n",
    "* lisible\n",
    "* bien documenté\n",
    "* évite la répétition inutile\n",
    "\n",
    "Les notebooks python sont une bonne façon d'apprendre la programmation. [Écoutez quelques personalités du web](https://www.youtube.com/watch?v=Dv7gLpW91DM) vous parler de l'importance de programmer. "
   ]
  },
  {
   "cell_type": "markdown",
   "metadata": {
    "colab_type": "text",
    "id": "znJB4EnX_-8P"
   },
   "source": [
    "## Utiliser le notebook"
   ]
  },
  {
   "cell_type": "markdown",
   "metadata": {
    "colab_type": "text",
    "id": "LwBVGn2j_-8Q"
   },
   "source": [
    "Un notebook n'est rien d'autre que la combinaison de texte et de code/output python. Attaché à un noyau de calcul, le notebook permet de garder ensemble des notes et des codes produisant des résultats. Il est composé de cellules. La cellule où j'écris ces lignes est une cellule markdown. Markdown est un langage multifonction qui permet d'écrire du texte, le mettre en forme, etc. Un petit guide de démarrage se trouve [ici](https://www.markdownguide.org/basic-syntax/). Par exemple, nous pouvons mettre des équations sous la forme : $$ y = f(x) $$, en utilisant LaTeX. Voir [ce petit video](https://www.youtube.com/watch?v=Rsoj2YavveE) pour une intro concernant les maths sous latex. \n",
    "\n",
    "Quand on execute une cellule, dans le menu ici-haut ou bien on fait shift+Enter, la cellule va être lancée sur markdown pour nous donner le texte mis en forme. Google collab nous met aussi un apercu à côté de la cellule en mode édition. Cliquez deux fois sur la cellule pour voir le code. Par exemple voici une liste :\n",
    "* markdown est très utile\n",
    "* on peut y faire des équations: $g(x,y) = \\frac{y}{x}$. \n",
    "* on peut mettre des liens web : [lien vers google](https://www.google.com)\n",
    "\n",
    "Pour créer une cellule, on clique sur + Code ici haut si on veut une cellule de code Python et + Texte si on veut une cellule markdown. Plusieurs autres fonctionalités sont possibles. "
   ]
  },
  {
   "cell_type": "markdown",
   "metadata": {
    "colab_type": "text",
    "id": "XZF8yi2vNib8"
   },
   "source": [
    "On peut mettre l'image d'un beau python: \n",
    "<p align=\"center\">\n",
    "<img src=\"https://images.idgesg.net/images/\n",
    "article/2018/07/python-100763894-large.jpg\" \n",
    "alt=\"drawing\" width=\"350\"/>"
   ]
  },
  {
   "cell_type": "markdown",
   "metadata": {
    "colab_type": "text",
    "id": "TvZ2d62p_-8T"
   },
   "source": [
    "## Les listes et les itérateurs"
   ]
  },
  {
   "cell_type": "markdown",
   "metadata": {
    "colab_type": "text",
    "id": "Fov1Entj_-8T"
   },
   "source": [
    "Elles sont des collections de choses, par exemple des chiffres mais aussi du texte, et plein d'autres trucs. Prenons un exemple:"
   ]
  },
  {
   "cell_type": "code",
   "execution_count": 0,
   "metadata": {
    "colab": {},
    "colab_type": "code",
    "id": "juGGNKp__-8U"
   },
   "outputs": [],
   "source": [
    "x = [1,2,3]\n",
    "y = ['benoit','marc','pierre']"
   ]
  },
  {
   "cell_type": "markdown",
   "metadata": {
    "colab_type": "text",
    "id": "sb7yqx1q_-8X"
   },
   "source": [
    "Pour imprimer ce qu'on vient de faire (une assignation), on simplement l'appeler. Aussi la dernière ligne de chaque cellule python, si elle n'est pas une assignation, est imprimée en sortie de cellule."
   ]
  },
  {
   "cell_type": "code",
   "execution_count": 74,
   "metadata": {
    "colab": {
     "base_uri": "https://localhost:8080/",
     "height": 33
    },
    "colab_type": "code",
    "executionInfo": {
     "elapsed": 5654,
     "status": "ok",
     "timestamp": 1577482003639,
     "user": {
      "displayName": "Pierre-Carl Michaud",
      "photoUrl": "https://lh3.googleusercontent.com/a-/AAuE7mAdgz-NrQSA9R7zmMIwPXQ4J9kyOWfiGgbt2_zLMA=s64",
      "userId": "08245724259323112556"
     },
     "user_tz": 300
    },
    "id": "huVM3Tqd_-8Y",
    "outputId": "59581332-2698-4c07-a98d-1d9de26fc693"
   },
   "outputs": [
    {
     "data": {
      "text/plain": [
       "[1, 2, 3]"
      ]
     },
     "execution_count": 74,
     "metadata": {
      "tags": []
     },
     "output_type": "execute_result"
    }
   ],
   "source": [
    "x"
   ]
  },
  {
   "cell_type": "code",
   "execution_count": 75,
   "metadata": {
    "colab": {
     "base_uri": "https://localhost:8080/",
     "height": 33
    },
    "colab_type": "code",
    "executionInfo": {
     "elapsed": 5601,
     "status": "ok",
     "timestamp": 1577482003641,
     "user": {
      "displayName": "Pierre-Carl Michaud",
      "photoUrl": "https://lh3.googleusercontent.com/a-/AAuE7mAdgz-NrQSA9R7zmMIwPXQ4J9kyOWfiGgbt2_zLMA=s64",
      "userId": "08245724259323112556"
     },
     "user_tz": 300
    },
    "id": "t6gLsmBMDcK2",
    "outputId": "1f0fd4a8-6186-4665-caf7-72b9d8cc4def"
   },
   "outputs": [
    {
     "data": {
      "text/plain": [
       "['benoit', 'marc', 'pierre']"
      ]
     },
     "execution_count": 75,
     "metadata": {
      "tags": []
     },
     "output_type": "execute_result"
    }
   ],
   "source": [
    "y"
   ]
  },
  {
   "cell_type": "markdown",
   "metadata": {
    "colab_type": "text",
    "id": "D4pGtMcy_-8b"
   },
   "source": [
    "Python indexe à partir de zéro. "
   ]
  },
  {
   "cell_type": "code",
   "execution_count": 76,
   "metadata": {
    "colab": {
     "base_uri": "https://localhost:8080/",
     "height": 33
    },
    "colab_type": "code",
    "executionInfo": {
     "elapsed": 5553,
     "status": "ok",
     "timestamp": 1577482003646,
     "user": {
      "displayName": "Pierre-Carl Michaud",
      "photoUrl": "https://lh3.googleusercontent.com/a-/AAuE7mAdgz-NrQSA9R7zmMIwPXQ4J9kyOWfiGgbt2_zLMA=s64",
      "userId": "08245724259323112556"
     },
     "user_tz": 300
    },
    "id": "xFVO7E8d_-8b",
    "outputId": "adab4542-4d76-4941-9757-3625fd592ec4"
   },
   "outputs": [
    {
     "data": {
      "text/plain": [
       "1"
      ]
     },
     "execution_count": 76,
     "metadata": {
      "tags": []
     },
     "output_type": "execute_result"
    }
   ],
   "source": [
    "x[0]"
   ]
  },
  {
   "cell_type": "markdown",
   "metadata": {
    "colab_type": "text",
    "id": "AeXzDeld_-8e"
   },
   "source": [
    "Quand on veut un groupe d'indices (par exemple les deux premiers), la borne supérieure n'est pas incluse (0:2 indique 0 et 1). "
   ]
  },
  {
   "cell_type": "code",
   "execution_count": 77,
   "metadata": {
    "colab": {
     "base_uri": "https://localhost:8080/",
     "height": 33
    },
    "colab_type": "code",
    "executionInfo": {
     "elapsed": 5514,
     "status": "ok",
     "timestamp": 1577482003648,
     "user": {
      "displayName": "Pierre-Carl Michaud",
      "photoUrl": "https://lh3.googleusercontent.com/a-/AAuE7mAdgz-NrQSA9R7zmMIwPXQ4J9kyOWfiGgbt2_zLMA=s64",
      "userId": "08245724259323112556"
     },
     "user_tz": 300
    },
    "id": "9Lt_-pFq_-8e",
    "outputId": "3c34e9d2-d785-4160-eb17-47541b3be24a"
   },
   "outputs": [
    {
     "data": {
      "text/plain": [
       "[1, 2]"
      ]
     },
     "execution_count": 77,
     "metadata": {
      "tags": []
     },
     "output_type": "execute_result"
    }
   ],
   "source": [
    "x[0:2]"
   ]
  },
  {
   "cell_type": "markdown",
   "metadata": {
    "colab_type": "text",
    "id": "dt4r9OGj_-8h"
   },
   "source": [
    "Je peux facilement prendre le dernier élément d'une liste (et le premier)"
   ]
  },
  {
   "cell_type": "code",
   "execution_count": 78,
   "metadata": {
    "colab": {
     "base_uri": "https://localhost:8080/",
     "height": 33
    },
    "colab_type": "code",
    "executionInfo": {
     "elapsed": 5473,
     "status": "ok",
     "timestamp": 1577482003649,
     "user": {
      "displayName": "Pierre-Carl Michaud",
      "photoUrl": "https://lh3.googleusercontent.com/a-/AAuE7mAdgz-NrQSA9R7zmMIwPXQ4J9kyOWfiGgbt2_zLMA=s64",
      "userId": "08245724259323112556"
     },
     "user_tz": 300
    },
    "id": "yfdUTJwc_-8i",
    "outputId": "6b521017-8723-40cb-9c35-99abd5cab06c"
   },
   "outputs": [
    {
     "data": {
      "text/plain": [
       "[3]"
      ]
     },
     "execution_count": 78,
     "metadata": {
      "tags": []
     },
     "output_type": "execute_result"
    }
   ],
   "source": [
    "x[-1:]"
   ]
  },
  {
   "cell_type": "code",
   "execution_count": 79,
   "metadata": {
    "colab": {
     "base_uri": "https://localhost:8080/",
     "height": 33
    },
    "colab_type": "code",
    "executionInfo": {
     "elapsed": 5397,
     "status": "ok",
     "timestamp": 1577482003651,
     "user": {
      "displayName": "Pierre-Carl Michaud",
      "photoUrl": "https://lh3.googleusercontent.com/a-/AAuE7mAdgz-NrQSA9R7zmMIwPXQ4J9kyOWfiGgbt2_zLMA=s64",
      "userId": "08245724259323112556"
     },
     "user_tz": 300
    },
    "id": "6xIMlzDNDoe-",
    "outputId": "1a12f55e-f9b3-498e-f3ab-c44604e7582b"
   },
   "outputs": [
    {
     "data": {
      "text/plain": [
       "[2, 3]"
      ]
     },
     "execution_count": 79,
     "metadata": {
      "tags": []
     },
     "output_type": "execute_result"
    }
   ],
   "source": [
    "x[-2:]"
   ]
  },
  {
   "cell_type": "markdown",
   "metadata": {
    "colab_type": "text",
    "id": "rz78hb2X_-8n"
   },
   "source": [
    "Une chose utile avec les listes, c'est qu'on peut appliquer des itérateurs. l'itérateur for est très utile pour traverser une liste. Tentons de mettre au carré tous les éléments de x:"
   ]
  },
  {
   "cell_type": "code",
   "execution_count": 80,
   "metadata": {
    "colab": {
     "base_uri": "https://localhost:8080/",
     "height": 33
    },
    "colab_type": "code",
    "executionInfo": {
     "elapsed": 5352,
     "status": "ok",
     "timestamp": 1577482003652,
     "user": {
      "displayName": "Pierre-Carl Michaud",
      "photoUrl": "https://lh3.googleusercontent.com/a-/AAuE7mAdgz-NrQSA9R7zmMIwPXQ4J9kyOWfiGgbt2_zLMA=s64",
      "userId": "08245724259323112556"
     },
     "user_tz": 300
    },
    "id": "ij-e-dzH_-8o",
    "outputId": "e341bb84-b6ea-45bb-aff2-b621609ebe8d"
   },
   "outputs": [
    {
     "data": {
      "text/plain": [
       "[1, 4, 9]"
      ]
     },
     "execution_count": 80,
     "metadata": {
      "tags": []
     },
     "output_type": "execute_result"
    }
   ],
   "source": [
    "z = [i**2 for i in x]\n",
    "z"
   ]
  },
  {
   "cell_type": "code",
   "execution_count": 81,
   "metadata": {
    "colab": {
     "base_uri": "https://localhost:8080/",
     "height": 33
    },
    "colab_type": "code",
    "executionInfo": {
     "elapsed": 5286,
     "status": "ok",
     "timestamp": 1577482003653,
     "user": {
      "displayName": "Pierre-Carl Michaud",
      "photoUrl": "https://lh3.googleusercontent.com/a-/AAuE7mAdgz-NrQSA9R7zmMIwPXQ4J9kyOWfiGgbt2_zLMA=s64",
      "userId": "08245724259323112556"
     },
     "user_tz": 300
    },
    "id": "koJG0RuCGtpw",
    "outputId": "cb71abbd-1a7b-4f84-9c9b-664a5d60a691"
   },
   "outputs": [
    {
     "data": {
      "text/plain": [
       "[1, 4, 9]"
      ]
     },
     "execution_count": 81,
     "metadata": {
      "tags": []
     },
     "output_type": "execute_result"
    }
   ],
   "source": [
    "z = []\n",
    "for i in x:\n",
    "  z.append(i**2)\n",
    "z"
   ]
  },
  {
   "cell_type": "markdown",
   "metadata": {
    "colab_type": "text",
    "id": "s-KwwO6W_-8r"
   },
   "source": [
    "On peut aussi faire des ordonnancements:"
   ]
  },
  {
   "cell_type": "code",
   "execution_count": 82,
   "metadata": {
    "colab": {
     "base_uri": "https://localhost:8080/",
     "height": 33
    },
    "colab_type": "code",
    "executionInfo": {
     "elapsed": 5250,
     "status": "ok",
     "timestamp": 1577482003655,
     "user": {
      "displayName": "Pierre-Carl Michaud",
      "photoUrl": "https://lh3.googleusercontent.com/a-/AAuE7mAdgz-NrQSA9R7zmMIwPXQ4J9kyOWfiGgbt2_zLMA=s64",
      "userId": "08245724259323112556"
     },
     "user_tz": 300
    },
    "id": "K_DmrcD1_-8r",
    "outputId": "90de893c-4f17-4e62-8140-0bb663c03947"
   },
   "outputs": [
    {
     "data": {
      "text/plain": [
       "[4, 2]"
      ]
     },
     "execution_count": 82,
     "metadata": {
      "tags": []
     },
     "output_type": "execute_result"
    }
   ],
   "source": [
    "q = []\n",
    "q.append(2)\n",
    "q.append(4)\n",
    "q.sort(reverse=True)\n",
    "q"
   ]
  },
  {
   "cell_type": "markdown",
   "metadata": {
    "colab_type": "text",
    "id": "OAVxd01wELfV"
   },
   "source": [
    "On peut aussi combiner des listes. Par exemple, "
   ]
  },
  {
   "cell_type": "code",
   "execution_count": 83,
   "metadata": {
    "colab": {
     "base_uri": "https://localhost:8080/",
     "height": 33
    },
    "colab_type": "code",
    "executionInfo": {
     "elapsed": 5183,
     "status": "ok",
     "timestamp": 1577482003656,
     "user": {
      "displayName": "Pierre-Carl Michaud",
      "photoUrl": "https://lh3.googleusercontent.com/a-/AAuE7mAdgz-NrQSA9R7zmMIwPXQ4J9kyOWfiGgbt2_zLMA=s64",
      "userId": "08245724259323112556"
     },
     "user_tz": 300
    },
    "id": "rfgYNflLEQ4r",
    "outputId": "e3d21a88-3f13-4899-8785-237bbfdebdb7"
   },
   "outputs": [
    {
     "data": {
      "text/plain": [
       "[(1, 'benoit'), (2, 'marc'), (3, 'pierre')]"
      ]
     },
     "execution_count": 83,
     "metadata": {
      "tags": []
     },
     "output_type": "execute_result"
    }
   ],
   "source": [
    "[(i,j) for i,j in zip(x,y)]"
   ]
  },
  {
   "cell_type": "markdown",
   "metadata": {
    "colab_type": "text",
    "id": "rPd97wHaEtT4"
   },
   "source": [
    "Le dernier exemple permet d'introduire les tuple, un autre type de données. Les tuples permettent de combiner du texte et des chiffres, souvent en combinaisons.  "
   ]
  },
  {
   "cell_type": "code",
   "execution_count": 84,
   "metadata": {
    "colab": {
     "base_uri": "https://localhost:8080/",
     "height": 33
    },
    "colab_type": "code",
    "executionInfo": {
     "elapsed": 5156,
     "status": "ok",
     "timestamp": 1577482003657,
     "user": {
      "displayName": "Pierre-Carl Michaud",
      "photoUrl": "https://lh3.googleusercontent.com/a-/AAuE7mAdgz-NrQSA9R7zmMIwPXQ4J9kyOWfiGgbt2_zLMA=s64",
      "userId": "08245724259323112556"
     },
     "user_tz": 300
    },
    "id": "lH56dF1dFBVc",
    "outputId": "12b79cd4-3d9f-4547-cce7-c26ef45e3821"
   },
   "outputs": [
    {
     "data": {
      "text/plain": [
       "{1: 'benoit', 2: 'marc', 3: 'pierre'}"
      ]
     },
     "execution_count": 84,
     "metadata": {
      "tags": []
     },
     "output_type": "execute_result"
    }
   ],
   "source": [
    "dict(zip(x,y))"
   ]
  },
  {
   "cell_type": "markdown",
   "metadata": {
    "colab_type": "text",
    "id": "IXESBot2FMdv"
   },
   "source": [
    "On peut utiliser les dictionnaires pour créer des correspondances. Par exemple, supposons que je veux avoir le nom de la personne avec le numéro 1. "
   ]
  },
  {
   "cell_type": "code",
   "execution_count": 85,
   "metadata": {
    "colab": {
     "base_uri": "https://localhost:8080/",
     "height": 33
    },
    "colab_type": "code",
    "executionInfo": {
     "elapsed": 5107,
     "status": "ok",
     "timestamp": 1577482003658,
     "user": {
      "displayName": "Pierre-Carl Michaud",
      "photoUrl": "https://lh3.googleusercontent.com/a-/AAuE7mAdgz-NrQSA9R7zmMIwPXQ4J9kyOWfiGgbt2_zLMA=s64",
      "userId": "08245724259323112556"
     },
     "user_tz": 300
    },
    "id": "ViDFfurqFXl5",
    "outputId": "0b070369-8eb6-4f42-e976-752fdc527925"
   },
   "outputs": [
    {
     "data": {
      "text/plain": [
       "'benoit'"
      ]
     },
     "execution_count": 85,
     "metadata": {
      "tags": []
     },
     "output_type": "execute_result"
    }
   ],
   "source": [
    "d = dict(zip(x,y))\n",
    "d[1]"
   ]
  },
  {
   "cell_type": "markdown",
   "metadata": {
    "colab_type": "text",
    "id": "xUsaTIGD_-9A"
   },
   "source": [
    "Les listes sont très utiles pour ramasser des choses, etc. Cependant, elles ne sont pas si rapides pour les calculs et ne sont pas des vecteurs. Donc, les opérations compliquées ne sont pas façiles à faire... On utilise plutôt la librairie numpy pour ceci. "
   ]
  },
  {
   "cell_type": "markdown",
   "metadata": {
    "colab_type": "text",
    "id": "Ba9NdA9k_-9B"
   },
   "source": [
    "## Numpy"
   ]
  },
  {
   "cell_type": "markdown",
   "metadata": {
    "colab_type": "text",
    "id": "-8GARWKz_-9C"
   },
   "source": [
    "Numpy est une collection de plusieurs fonctions numériques rapides ainsi que de vecteurs et matrices qui sont appelées array. Pour ceux qui ont utilisé Matlab, c'est ce qu'il y a de plus près. D'ailleurs consultez ce site web pour ceux qui connaissent déjà [Matlab](https://cheatsheets.quantecon.org/). Pour importer une librairie, on utilise import. Par la suite toutes les fonctions de numpy sont numpy.fonction, etc. Pour ne pas avoir à taper numpy. toutes les fois, on choisi par convention np comme diminutif. "
   ]
  },
  {
   "cell_type": "code",
   "execution_count": 0,
   "metadata": {
    "colab": {},
    "colab_type": "code",
    "id": "nnDJGYnc_-9C"
   },
   "outputs": [],
   "source": [
    "import numpy as np"
   ]
  },
  {
   "cell_type": "code",
   "execution_count": 87,
   "metadata": {
    "colab": {
     "base_uri": "https://localhost:8080/",
     "height": 33
    },
    "colab_type": "code",
    "executionInfo": {
     "elapsed": 5061,
     "status": "ok",
     "timestamp": 1577482003659,
     "user": {
      "displayName": "Pierre-Carl Michaud",
      "photoUrl": "https://lh3.googleusercontent.com/a-/AAuE7mAdgz-NrQSA9R7zmMIwPXQ4J9kyOWfiGgbt2_zLMA=s64",
      "userId": "08245724259323112556"
     },
     "user_tz": 300
    },
    "id": "8fqQJnVs_-9F",
    "outputId": "a7125d4b-f8a8-4b09-cb21-d5be190bb891"
   },
   "outputs": [
    {
     "data": {
      "text/plain": [
       "5.0"
      ]
     },
     "execution_count": 87,
     "metadata": {
      "tags": []
     },
     "output_type": "execute_result"
    }
   ],
   "source": [
    "np.sqrt(25)"
   ]
  },
  {
   "cell_type": "markdown",
   "metadata": {
    "colab_type": "text",
    "id": "ZgWl8voq_-9K"
   },
   "source": [
    "Il est important de comprendre pourquoi on indexe les fonctions par modules (np.). Supposons que nous créeons nous même une fonction sqrt mais qui fait autre chose. Si on fait sqrt(25.0), python ne saura pas si c'est la fonction qui vient de numpy ou bien notre fonction. Il est donc prudent d'importer les modules en utilisant le diminutif du module. "
   ]
  },
  {
   "cell_type": "markdown",
   "metadata": {
    "colab_type": "text",
    "id": "_XmT3CdaGJ24"
   },
   "source": [
    "Regardons maintenant les particularités de numpy. "
   ]
  },
  {
   "cell_type": "code",
   "execution_count": 88,
   "metadata": {
    "colab": {
     "base_uri": "https://localhost:8080/",
     "height": 33
    },
    "colab_type": "code",
    "executionInfo": {
     "elapsed": 4982,
     "status": "ok",
     "timestamp": 1577482003663,
     "user": {
      "displayName": "Pierre-Carl Michaud",
      "photoUrl": "https://lh3.googleusercontent.com/a-/AAuE7mAdgz-NrQSA9R7zmMIwPXQ4J9kyOWfiGgbt2_zLMA=s64",
      "userId": "08245724259323112556"
     },
     "user_tz": 300
    },
    "id": "qNa5R9Ok_-9M",
    "outputId": "62940d5e-475e-4074-eba2-68f43b151fb2"
   },
   "outputs": [
    {
     "data": {
      "text/plain": [
       "array([1, 4, 9])"
      ]
     },
     "execution_count": 88,
     "metadata": {
      "tags": []
     },
     "output_type": "execute_result"
    }
   ],
   "source": [
    "x = np.array([1,2,3])\n",
    "y = x**2\n",
    "y"
   ]
  },
  {
   "cell_type": "code",
   "execution_count": 89,
   "metadata": {
    "colab": {
     "base_uri": "https://localhost:8080/",
     "height": 33
    },
    "colab_type": "code",
    "executionInfo": {
     "elapsed": 4950,
     "status": "ok",
     "timestamp": 1577482003665,
     "user": {
      "displayName": "Pierre-Carl Michaud",
      "photoUrl": "https://lh3.googleusercontent.com/a-/AAuE7mAdgz-NrQSA9R7zmMIwPXQ4J9kyOWfiGgbt2_zLMA=s64",
      "userId": "08245724259323112556"
     },
     "user_tz": 300
    },
    "id": "G_dROOiI_-9P",
    "outputId": "6ded45f2-d410-427f-a67d-307e44c06762"
   },
   "outputs": [
    {
     "data": {
      "text/plain": [
       "array([ 1,  8, 27])"
      ]
     },
     "execution_count": 89,
     "metadata": {
      "tags": []
     },
     "output_type": "execute_result"
    }
   ],
   "source": [
    "z = np.multiply(x,y)\n",
    "z"
   ]
  },
  {
   "cell_type": "code",
   "execution_count": 90,
   "metadata": {
    "colab": {
     "base_uri": "https://localhost:8080/",
     "height": 33
    },
    "colab_type": "code",
    "executionInfo": {
     "elapsed": 4901,
     "status": "ok",
     "timestamp": 1577482003666,
     "user": {
      "displayName": "Pierre-Carl Michaud",
      "photoUrl": "https://lh3.googleusercontent.com/a-/AAuE7mAdgz-NrQSA9R7zmMIwPXQ4J9kyOWfiGgbt2_zLMA=s64",
      "userId": "08245724259323112556"
     },
     "user_tz": 300
    },
    "id": "GdsjbG_QGQar",
    "outputId": "ae99bfd2-5e7b-4517-f529-8fc686c59535"
   },
   "outputs": [
    {
     "data": {
      "text/plain": [
       "array([ 1,  8, 27])"
      ]
     },
     "execution_count": 90,
     "metadata": {
      "tags": []
     },
     "output_type": "execute_result"
    }
   ],
   "source": [
    "z = np.array([i*j for i,j in zip(x,y)])\n",
    "z"
   ]
  },
  {
   "cell_type": "markdown",
   "metadata": {
    "colab_type": "text",
    "id": "QixYgptr_-9R"
   },
   "source": [
    "La fonction linspace est très utile pour créer des grilles. Supposons que je peux 10 points équi-distants sur la distance [0,1]. On peut le faire par :"
   ]
  },
  {
   "cell_type": "code",
   "execution_count": 91,
   "metadata": {
    "colab": {
     "base_uri": "https://localhost:8080/",
     "height": 50
    },
    "colab_type": "code",
    "executionInfo": {
     "elapsed": 4798,
     "status": "ok",
     "timestamp": 1577482003667,
     "user": {
      "displayName": "Pierre-Carl Michaud",
      "photoUrl": "https://lh3.googleusercontent.com/a-/AAuE7mAdgz-NrQSA9R7zmMIwPXQ4J9kyOWfiGgbt2_zLMA=s64",
      "userId": "08245724259323112556"
     },
     "user_tz": 300
    },
    "id": "xT8s-aW3_-9S",
    "outputId": "93cadb78-4852-463d-f32b-74320165c28c"
   },
   "outputs": [
    {
     "data": {
      "text/plain": [
       "array([0.        , 0.11111111, 0.22222222, 0.33333333, 0.44444444,\n",
       "       0.55555556, 0.66666667, 0.77777778, 0.88888889, 1.        ])"
      ]
     },
     "execution_count": 91,
     "metadata": {
      "tags": []
     },
     "output_type": "execute_result"
    }
   ],
   "source": [
    "np.linspace(0,1,10)"
   ]
  },
  {
   "cell_type": "markdown",
   "metadata": {
    "colab_type": "text",
    "id": "-ATOnNoFHBhW"
   },
   "source": [
    "On peut vouloir savoir la valeur maximale dans un array (ou son indice): "
   ]
  },
  {
   "cell_type": "code",
   "execution_count": 92,
   "metadata": {
    "colab": {
     "base_uri": "https://localhost:8080/",
     "height": 33
    },
    "colab_type": "code",
    "executionInfo": {
     "elapsed": 4772,
     "status": "ok",
     "timestamp": 1577482003667,
     "user": {
      "displayName": "Pierre-Carl Michaud",
      "photoUrl": "https://lh3.googleusercontent.com/a-/AAuE7mAdgz-NrQSA9R7zmMIwPXQ4J9kyOWfiGgbt2_zLMA=s64",
      "userId": "08245724259323112556"
     },
     "user_tz": 300
    },
    "id": "FE5cVj0sHAIM",
    "outputId": "70fbaed4-5343-4512-c5e8-84b1c58a16d5"
   },
   "outputs": [
    {
     "data": {
      "text/plain": [
       "(3, 2)"
      ]
     },
     "execution_count": 92,
     "metadata": {
      "tags": []
     },
     "output_type": "execute_result"
    }
   ],
   "source": [
    "np.max(x), np.argmax(x)"
   ]
  },
  {
   "cell_type": "markdown",
   "metadata": {
    "colab_type": "text",
    "id": "w8SB5WKu_-9b"
   },
   "source": [
    "## Pandas"
   ]
  },
  {
   "cell_type": "markdown",
   "metadata": {
    "colab_type": "text",
    "id": "qu0tO2jy_-9c"
   },
   "source": [
    "Pandas permet d'importer et manipuler des données. Il est très puissant et rapide. Regardons un exemple avec des une banque de données sur les élasticités prix de différents aliments. "
   ]
  },
  {
   "cell_type": "code",
   "execution_count": 0,
   "metadata": {
    "colab": {},
    "colab_type": "code",
    "id": "y7h6oy4x_-9d"
   },
   "outputs": [],
   "source": [
    "import pandas as pd"
   ]
  },
  {
   "cell_type": "code",
   "execution_count": 94,
   "metadata": {
    "colab": {
     "base_uri": "https://localhost:8080/",
     "height": 731
    },
    "colab_type": "code",
    "executionInfo": {
     "elapsed": 6357,
     "status": "ok",
     "timestamp": 1577482005314,
     "user": {
      "displayName": "Pierre-Carl Michaud",
      "photoUrl": "https://lh3.googleusercontent.com/a-/AAuE7mAdgz-NrQSA9R7zmMIwPXQ4J9kyOWfiGgbt2_zLMA=s64",
      "userId": "08245724259323112556"
     },
     "user_tz": 300
    },
    "id": "Q5ZIGKfiacFT",
    "outputId": "a905c3f2-05e8-460c-e922-364e4111022e"
   },
   "outputs": [
    {
     "data": {
      "text/html": [
       "<div>\n",
       "<style scoped>\n",
       "    .dataframe tbody tr th:only-of-type {\n",
       "        vertical-align: middle;\n",
       "    }\n",
       "\n",
       "    .dataframe tbody tr th {\n",
       "        vertical-align: top;\n",
       "    }\n",
       "\n",
       "    .dataframe thead th {\n",
       "        text-align: right;\n",
       "    }\n",
       "</style>\n",
       "<table border=\"1\" class=\"dataframe\">\n",
       "  <thead>\n",
       "    <tr style=\"text-align: right;\">\n",
       "      <th></th>\n",
       "      <th>GEOCOM_ID</th>\n",
       "      <th>FULL CITATION</th>\n",
       "      <th>AUTHOR</th>\n",
       "      <th>PUBLICATION DATE</th>\n",
       "      <th>TYPE OF PUBLICATION</th>\n",
       "      <th>GEOGRAPHY</th>\n",
       "      <th>SOURCE OF DATA</th>\n",
       "      <th>TYPE OF DATA</th>\n",
       "      <th>LEVEL</th>\n",
       "      <th>DATA PERIOD</th>\n",
       "      <th>DATA COVERED</th>\n",
       "      <th>SOURCE OF RESULTS</th>\n",
       "      <th>TECHNICALITY</th>\n",
       "      <th>Study Details</th>\n",
       "      <th>MODEL</th>\n",
       "      <th>DEMAND</th>\n",
       "      <th>PROPERTY</th>\n",
       "      <th>Region Details</th>\n",
       "      <th>MAJOR_COMMODITY</th>\n",
       "      <th>MINOR_COMMODITY</th>\n",
       "      <th>ELASTICITY_INFO</th>\n",
       "      <th>AMOUNT</th>\n",
       "      <th>SIGNIFICANCE</th>\n",
       "      <th>SIGNIFICANCE LEVEL</th>\n",
       "    </tr>\n",
       "  </thead>\n",
       "  <tbody>\n",
       "    <tr>\n",
       "      <th>0</th>\n",
       "      <td>271</td>\n",
       "      <td>Liu, Kang E., and Wen S. Chern. [Food demand i...</td>\n",
       "      <td>Liu et. al.</td>\n",
       "      <td>2003</td>\n",
       "      <td>not avail</td>\n",
       "      <td>China</td>\n",
       "      <td>not avail</td>\n",
       "      <td>cross section</td>\n",
       "      <td>not avail</td>\n",
       "      <td>1998</td>\n",
       "      <td>not avail</td>\n",
       "      <td>Table 11.  Unconditional Elasticities for 18 F...</td>\n",
       "      <td>not avail</td>\n",
       "      <td>not avail</td>\n",
       "      <td>QAIDS</td>\n",
       "      <td>Marshallian</td>\n",
       "      <td>not avail</td>\n",
       "      <td>not avail</td>\n",
       "      <td>Rice</td>\n",
       "      <td>Rice</td>\n",
       "      <td>own price</td>\n",
       "      <td>-1.689</td>\n",
       "      <td>not avail</td>\n",
       "      <td>NaN</td>\n",
       "    </tr>\n",
       "    <tr>\n",
       "      <th>1</th>\n",
       "      <td>271</td>\n",
       "      <td>Liu, Kang E., and Wen S. Chern. [Food demand i...</td>\n",
       "      <td>Liu et. al.</td>\n",
       "      <td>2003</td>\n",
       "      <td>not avail</td>\n",
       "      <td>China</td>\n",
       "      <td>not avail</td>\n",
       "      <td>cross section</td>\n",
       "      <td>not avail</td>\n",
       "      <td>1998</td>\n",
       "      <td>not avail</td>\n",
       "      <td>Table 11.  Unconditional Elasticities for 18 F...</td>\n",
       "      <td>not avail</td>\n",
       "      <td>not avail</td>\n",
       "      <td>QAIDS</td>\n",
       "      <td>Marshallian</td>\n",
       "      <td>not avail</td>\n",
       "      <td>not avail</td>\n",
       "      <td>Rice</td>\n",
       "      <td>Flour</td>\n",
       "      <td>cross price</td>\n",
       "      <td>3.038</td>\n",
       "      <td>not avail</td>\n",
       "      <td>NaN</td>\n",
       "    </tr>\n",
       "    <tr>\n",
       "      <th>2</th>\n",
       "      <td>271</td>\n",
       "      <td>Liu, Kang E., and Wen S. Chern. [Food demand i...</td>\n",
       "      <td>Liu et. al.</td>\n",
       "      <td>2003</td>\n",
       "      <td>not avail</td>\n",
       "      <td>China</td>\n",
       "      <td>not avail</td>\n",
       "      <td>cross section</td>\n",
       "      <td>not avail</td>\n",
       "      <td>1998</td>\n",
       "      <td>not avail</td>\n",
       "      <td>Table 11.  Unconditional Elasticities for 18 F...</td>\n",
       "      <td>not avail</td>\n",
       "      <td>not avail</td>\n",
       "      <td>QAIDS</td>\n",
       "      <td>Marshallian</td>\n",
       "      <td>not avail</td>\n",
       "      <td>not avail</td>\n",
       "      <td>Rice</td>\n",
       "      <td>Grain coarse</td>\n",
       "      <td>cross price</td>\n",
       "      <td>0.721</td>\n",
       "      <td>not avail</td>\n",
       "      <td>NaN</td>\n",
       "    </tr>\n",
       "    <tr>\n",
       "      <th>3</th>\n",
       "      <td>271</td>\n",
       "      <td>Liu, Kang E., and Wen S. Chern. [Food demand i...</td>\n",
       "      <td>Liu et. al.</td>\n",
       "      <td>2003</td>\n",
       "      <td>not avail</td>\n",
       "      <td>China</td>\n",
       "      <td>not avail</td>\n",
       "      <td>cross section</td>\n",
       "      <td>not avail</td>\n",
       "      <td>1998</td>\n",
       "      <td>not avail</td>\n",
       "      <td>Table 11.  Unconditional Elasticities for 18 F...</td>\n",
       "      <td>not avail</td>\n",
       "      <td>not avail</td>\n",
       "      <td>QAIDS</td>\n",
       "      <td>Marshallian</td>\n",
       "      <td>not avail</td>\n",
       "      <td>not avail</td>\n",
       "      <td>Rice</td>\n",
       "      <td>Potato</td>\n",
       "      <td>cross price</td>\n",
       "      <td>1.251</td>\n",
       "      <td>not avail</td>\n",
       "      <td>NaN</td>\n",
       "    </tr>\n",
       "    <tr>\n",
       "      <th>4</th>\n",
       "      <td>271</td>\n",
       "      <td>Liu, Kang E., and Wen S. Chern. [Food demand i...</td>\n",
       "      <td>Liu et. al.</td>\n",
       "      <td>2003</td>\n",
       "      <td>not avail</td>\n",
       "      <td>China</td>\n",
       "      <td>not avail</td>\n",
       "      <td>cross section</td>\n",
       "      <td>not avail</td>\n",
       "      <td>1998</td>\n",
       "      <td>not avail</td>\n",
       "      <td>Table 11.  Unconditional Elasticities for 18 F...</td>\n",
       "      <td>not avail</td>\n",
       "      <td>not avail</td>\n",
       "      <td>QAIDS</td>\n",
       "      <td>Marshallian</td>\n",
       "      <td>not avail</td>\n",
       "      <td>not avail</td>\n",
       "      <td>Rice</td>\n",
       "      <td>Vegetable fresh</td>\n",
       "      <td>cross price</td>\n",
       "      <td>-0.112</td>\n",
       "      <td>not avail</td>\n",
       "      <td>NaN</td>\n",
       "    </tr>\n",
       "  </tbody>\n",
       "</table>\n",
       "</div>"
      ],
      "text/plain": [
       "   GEOCOM_ID  ... SIGNIFICANCE LEVEL\n",
       "0        271  ...                NaN\n",
       "1        271  ...                NaN\n",
       "2        271  ...                NaN\n",
       "3        271  ...                NaN\n",
       "4        271  ...                NaN\n",
       "\n",
       "[5 rows x 24 columns]"
      ]
     },
     "execution_count": 94,
     "metadata": {
      "tags": []
     },
     "output_type": "execute_result"
    }
   ],
   "source": [
    "link = 'https://www.ers.usda.gov/media/9359/demandelasdata092507_1_.xls'\n",
    "df = pd.read_excel(link)\n",
    "df.head()"
   ]
  },
  {
   "cell_type": "markdown",
   "metadata": {
    "colab_type": "text",
    "id": "51PwnCLKIPfu"
   },
   "source": [
    "La base contient les colonnes suivantes: "
   ]
  },
  {
   "cell_type": "code",
   "execution_count": 95,
   "metadata": {
    "colab": {
     "base_uri": "https://localhost:8080/",
     "height": 131
    },
    "colab_type": "code",
    "executionInfo": {
     "elapsed": 6335,
     "status": "ok",
     "timestamp": 1577482005316,
     "user": {
      "displayName": "Pierre-Carl Michaud",
      "photoUrl": "https://lh3.googleusercontent.com/a-/AAuE7mAdgz-NrQSA9R7zmMIwPXQ4J9kyOWfiGgbt2_zLMA=s64",
      "userId": "08245724259323112556"
     },
     "user_tz": 300
    },
    "id": "YO6lUY8VIS28",
    "outputId": "10a0c906-3a15-4730-9b0c-919070c2da4f"
   },
   "outputs": [
    {
     "data": {
      "text/plain": [
       "Index(['GEOCOM_ID', 'FULL CITATION', 'AUTHOR', 'PUBLICATION DATE',\n",
       "       'TYPE OF PUBLICATION', 'GEOGRAPHY', 'SOURCE OF DATA', 'TYPE OF DATA',\n",
       "       'LEVEL', 'DATA PERIOD', 'DATA COVERED', 'SOURCE OF RESULTS',\n",
       "       'TECHNICALITY', 'Study Details', 'MODEL', 'DEMAND', 'PROPERTY',\n",
       "       'Region Details', 'MAJOR_COMMODITY', 'MINOR_COMMODITY',\n",
       "       'ELASTICITY_INFO', 'AMOUNT', 'SIGNIFICANCE', 'SIGNIFICANCE LEVEL'],\n",
       "      dtype='object')"
      ]
     },
     "execution_count": 95,
     "metadata": {
      "tags": []
     },
     "output_type": "execute_result"
    }
   ],
   "source": [
    "df.columns"
   ]
  },
  {
   "cell_type": "markdown",
   "metadata": {
    "colab_type": "text",
    "id": "xxx_su6zIZeI"
   },
   "source": [
    "Les élasticités sont dans la colonne AMOUNT. Chaque estimé provient d'une étude et plusieurs informations ont été relevés sur chaque estimé. On pourrait par exemple vouloir regarder les élasticités prix par produit. "
   ]
  },
  {
   "cell_type": "code",
   "execution_count": 96,
   "metadata": {
    "colab": {
     "base_uri": "https://localhost:8080/",
     "height": 212
    },
    "colab_type": "code",
    "executionInfo": {
     "elapsed": 6302,
     "status": "ok",
     "timestamp": 1577482005317,
     "user": {
      "displayName": "Pierre-Carl Michaud",
      "photoUrl": "https://lh3.googleusercontent.com/a-/AAuE7mAdgz-NrQSA9R7zmMIwPXQ4J9kyOWfiGgbt2_zLMA=s64",
      "userId": "08245724259323112556"
     },
     "user_tz": 300
    },
    "id": "wmtREnlMao5C",
    "outputId": "7396d9ad-ac53-4aaf-add9-b0ac7c1bc66e"
   },
   "outputs": [
    {
     "data": {
      "text/plain": [
       "Meat                        139\n",
       "Fish                        137\n",
       "Oil and fat                 127\n",
       "Dairy                       123\n",
       "Food other                  123\n",
       "                           ... \n",
       "Milk nonfat skim organic      1\n",
       "Poultry other                 1\n",
       "Grapefruit juice              1\n",
       "Milk nonfat skim branded      1\n",
       "Protein                       1\n",
       "Name: MAJOR_COMMODITY, Length: 274, dtype: int64"
      ]
     },
     "execution_count": 96,
     "metadata": {
      "tags": []
     },
     "output_type": "execute_result"
    }
   ],
   "source": [
    "subset = df['ELASTICITY_INFO']=='own price'\n",
    "df = df.loc[subset,:]\n",
    "df['MAJOR_COMMODITY'].value_counts()"
   ]
  },
  {
   "cell_type": "markdown",
   "metadata": {
    "colab_type": "text",
    "id": "K7quFtLFJEEI"
   },
   "source": [
    "On voit qu'il y a 139 estimés de l'élasticité prix de la viande. Regardons leur distribution: "
   ]
  },
  {
   "cell_type": "code",
   "execution_count": 97,
   "metadata": {
    "colab": {
     "base_uri": "https://localhost:8080/",
     "height": 163
    },
    "colab_type": "code",
    "executionInfo": {
     "elapsed": 6262,
     "status": "ok",
     "timestamp": 1577482005318,
     "user": {
      "displayName": "Pierre-Carl Michaud",
      "photoUrl": "https://lh3.googleusercontent.com/a-/AAuE7mAdgz-NrQSA9R7zmMIwPXQ4J9kyOWfiGgbt2_zLMA=s64",
      "userId": "08245724259323112556"
     },
     "user_tz": 300
    },
    "id": "9VkEMCIgJMFK",
    "outputId": "4670d06f-0a4b-4315-9c3c-d249dc96c146"
   },
   "outputs": [
    {
     "data": {
      "text/plain": [
       "count    139.000000\n",
       "mean      -0.481927\n",
       "std        0.177127\n",
       "min       -1.091000\n",
       "25%       -0.607240\n",
       "50%       -0.524160\n",
       "75%       -0.367455\n",
       "max        0.004000\n",
       "Name: AMOUNT, dtype: float64"
      ]
     },
     "execution_count": 97,
     "metadata": {
      "tags": []
     },
     "output_type": "execute_result"
    }
   ],
   "source": [
    "df.loc[df['MAJOR_COMMODITY']=='Meat','AMOUNT'].describe()"
   ]
  },
  {
   "cell_type": "markdown",
   "metadata": {
    "colab_type": "text",
    "id": "1JWIOK5XJpdo"
   },
   "source": [
    "L'elasticité moyenne est de -0.48. Regardons d'un seul coup les élasticités prix par produit"
   ]
  },
  {
   "cell_type": "code",
   "execution_count": 0,
   "metadata": {
    "colab": {},
    "colab_type": "code",
    "id": "VjdrLWkuJ3wb"
   },
   "outputs": [],
   "source": [
    "table = df['AMOUNT'].groupby(df['MAJOR_COMMODITY']).mean()"
   ]
  },
  {
   "cell_type": "code",
   "execution_count": 99,
   "metadata": {
    "colab": {
     "base_uri": "https://localhost:8080/",
     "height": 33
    },
    "colab_type": "code",
    "executionInfo": {
     "elapsed": 6195,
     "status": "ok",
     "timestamp": 1577482005321,
     "user": {
      "displayName": "Pierre-Carl Michaud",
      "photoUrl": "https://lh3.googleusercontent.com/a-/AAuE7mAdgz-NrQSA9R7zmMIwPXQ4J9kyOWfiGgbt2_zLMA=s64",
      "userId": "08245724259323112556"
     },
     "user_tz": 300
    },
    "id": "MFANJN7RKSzW",
    "outputId": "81e4c47b-7488-4f4a-ded9-595f4dd2524c"
   },
   "outputs": [
    {
     "data": {
      "text/plain": [
       "(-0.48192719424460434, -0.5518782926829267)"
      ]
     },
     "execution_count": 99,
     "metadata": {
      "tags": []
     },
     "output_type": "execute_result"
    }
   ],
   "source": [
    "table['Meat'], table['Dairy']"
   ]
  },
  {
   "cell_type": "markdown",
   "metadata": {
    "colab_type": "text",
    "id": "56T_pqQeKlqR"
   },
   "source": [
    "Regardons comment ces élasticités varient entre le Canada et les États-Unis.  "
   ]
  },
  {
   "cell_type": "code",
   "execution_count": 100,
   "metadata": {
    "colab": {
     "base_uri": "https://localhost:8080/",
     "height": 622
    },
    "colab_type": "code",
    "executionInfo": {
     "elapsed": 6141,
     "status": "ok",
     "timestamp": 1577482005323,
     "user": {
      "displayName": "Pierre-Carl Michaud",
      "photoUrl": "https://lh3.googleusercontent.com/a-/AAuE7mAdgz-NrQSA9R7zmMIwPXQ4J9kyOWfiGgbt2_zLMA=s64",
      "userId": "08245724259323112556"
     },
     "user_tz": 300
    },
    "id": "7qEOWtCvKuoU",
    "outputId": "0518db97-0a0a-47f2-e86a-fc05b1cd9215"
   },
   "outputs": [
    {
     "data": {
      "text/html": [
       "<div>\n",
       "<style scoped>\n",
       "    .dataframe tbody tr th:only-of-type {\n",
       "        vertical-align: middle;\n",
       "    }\n",
       "\n",
       "    .dataframe tbody tr th {\n",
       "        vertical-align: top;\n",
       "    }\n",
       "\n",
       "    .dataframe thead th {\n",
       "        text-align: right;\n",
       "    }\n",
       "</style>\n",
       "<table border=\"1\" class=\"dataframe\">\n",
       "  <thead>\n",
       "    <tr style=\"text-align: right;\">\n",
       "      <th>GEOGRAPHY</th>\n",
       "      <th>United States</th>\n",
       "      <th>Canada</th>\n",
       "    </tr>\n",
       "    <tr>\n",
       "      <th>MAJOR_COMMODITY</th>\n",
       "      <th></th>\n",
       "      <th></th>\n",
       "    </tr>\n",
       "  </thead>\n",
       "  <tbody>\n",
       "    <tr>\n",
       "      <th>Apple</th>\n",
       "      <td>-0.358378</td>\n",
       "      <td>-0.091560</td>\n",
       "    </tr>\n",
       "    <tr>\n",
       "      <th>Apple juice</th>\n",
       "      <td>-0.150000</td>\n",
       "      <td>-0.349900</td>\n",
       "    </tr>\n",
       "    <tr>\n",
       "      <th>Banana</th>\n",
       "      <td>-0.587967</td>\n",
       "      <td>-0.166180</td>\n",
       "    </tr>\n",
       "    <tr>\n",
       "      <th>Beverage and tobacco</th>\n",
       "      <td>-0.108380</td>\n",
       "      <td>-0.304200</td>\n",
       "    </tr>\n",
       "    <tr>\n",
       "      <th>Bread and cereal</th>\n",
       "      <td>-0.040450</td>\n",
       "      <td>-0.125320</td>\n",
       "    </tr>\n",
       "    <tr>\n",
       "      <th>Dairy</th>\n",
       "      <td>-0.703321</td>\n",
       "      <td>-0.262240</td>\n",
       "    </tr>\n",
       "    <tr>\n",
       "      <th>Dairy product</th>\n",
       "      <td>-0.245800</td>\n",
       "      <td>-0.095000</td>\n",
       "    </tr>\n",
       "    <tr>\n",
       "      <th>Fish</th>\n",
       "      <td>-0.287243</td>\n",
       "      <td>-0.270910</td>\n",
       "    </tr>\n",
       "    <tr>\n",
       "      <th>Food other</th>\n",
       "      <td>-0.120482</td>\n",
       "      <td>-0.243750</td>\n",
       "    </tr>\n",
       "    <tr>\n",
       "      <th>Fruit</th>\n",
       "      <td>-0.695125</td>\n",
       "      <td>-0.213000</td>\n",
       "    </tr>\n",
       "    <tr>\n",
       "      <th>Fruit and vegetable</th>\n",
       "      <td>-0.259930</td>\n",
       "      <td>-0.193910</td>\n",
       "    </tr>\n",
       "    <tr>\n",
       "      <th>Grape</th>\n",
       "      <td>-1.418917</td>\n",
       "      <td>-0.620250</td>\n",
       "    </tr>\n",
       "    <tr>\n",
       "      <th>Grapefruit</th>\n",
       "      <td>-0.604025</td>\n",
       "      <td>-0.069680</td>\n",
       "    </tr>\n",
       "    <tr>\n",
       "      <th>Meat</th>\n",
       "      <td>-0.325400</td>\n",
       "      <td>-0.316755</td>\n",
       "    </tr>\n",
       "    <tr>\n",
       "      <th>Melon</th>\n",
       "      <td>0.010500</td>\n",
       "      <td>-0.720500</td>\n",
       "    </tr>\n",
       "    <tr>\n",
       "      <th>Oil and fat</th>\n",
       "      <td>-0.073445</td>\n",
       "      <td>-0.140420</td>\n",
       "    </tr>\n",
       "    <tr>\n",
       "      <th>Orange</th>\n",
       "      <td>-0.813300</td>\n",
       "      <td>-0.483300</td>\n",
       "    </tr>\n",
       "    <tr>\n",
       "      <th>Orange juice</th>\n",
       "      <td>-1.391000</td>\n",
       "      <td>-0.044800</td>\n",
       "    </tr>\n",
       "    <tr>\n",
       "      <th>Vegetable</th>\n",
       "      <td>-0.686133</td>\n",
       "      <td>-0.144000</td>\n",
       "    </tr>\n",
       "  </tbody>\n",
       "</table>\n",
       "</div>"
      ],
      "text/plain": [
       "GEOGRAPHY             United States    Canada\n",
       "MAJOR_COMMODITY                              \n",
       "Apple                     -0.358378 -0.091560\n",
       "Apple juice               -0.150000 -0.349900\n",
       "Banana                    -0.587967 -0.166180\n",
       "Beverage and tobacco      -0.108380 -0.304200\n",
       "Bread and cereal          -0.040450 -0.125320\n",
       "Dairy                     -0.703321 -0.262240\n",
       "Dairy product             -0.245800 -0.095000\n",
       "Fish                      -0.287243 -0.270910\n",
       "Food other                -0.120482 -0.243750\n",
       "Fruit                     -0.695125 -0.213000\n",
       "Fruit and vegetable       -0.259930 -0.193910\n",
       "Grape                     -1.418917 -0.620250\n",
       "Grapefruit                -0.604025 -0.069680\n",
       "Meat                      -0.325400 -0.316755\n",
       "Melon                      0.010500 -0.720500\n",
       "Oil and fat               -0.073445 -0.140420\n",
       "Orange                    -0.813300 -0.483300\n",
       "Orange juice              -1.391000 -0.044800\n",
       "Vegetable                 -0.686133 -0.144000"
      ]
     },
     "execution_count": 100,
     "metadata": {
      "tags": []
     },
     "output_type": "execute_result"
    }
   ],
   "source": [
    "table = df.groupby(['MAJOR_COMMODITY','GEOGRAPHY'])['AMOUNT'].mean().unstack()\n",
    "table = table.loc[:,['United States','Canada']].dropna()\n",
    "table"
   ]
  },
  {
   "cell_type": "markdown",
   "metadata": {
    "colab_type": "text",
    "id": "xp_UML2fL7VO"
   },
   "source": [
    "Ces informations peuvent être très utile pour une entreprise avec du pouvoir de marché ou pour des autorités publiques voulant prélever une taxe..."
   ]
  },
  {
   "cell_type": "markdown",
   "metadata": {
    "colab_type": "text",
    "id": "MDbWoT0M_-90"
   },
   "source": [
    "## Matplotlib et Pyplot"
   ]
  },
  {
   "cell_type": "markdown",
   "metadata": {
    "colab_type": "text",
    "id": "VYxuxwYk_-91"
   },
   "source": [
    "Matplotlib est une suite puissante pour faire des graphiques. Nous utiliserons une petit partie, qui est le module Pyplot de Matplotlib. On l'importe de la façon suivante: "
   ]
  },
  {
   "cell_type": "code",
   "execution_count": 0,
   "metadata": {
    "colab": {},
    "colab_type": "code",
    "id": "VtTQOemd_-91"
   },
   "outputs": [],
   "source": [
    "from matplotlib import pyplot as plt"
   ]
  },
  {
   "cell_type": "markdown",
   "metadata": {
    "colab_type": "text",
    "id": "jA8L1XjV_-95"
   },
   "source": [
    "Un graphique est une série de commande. Tant que la commande plt.show() n'est pas lancée, on peut rajouter des options. Par exemple, "
   ]
  },
  {
   "cell_type": "code",
   "execution_count": 102,
   "metadata": {
    "colab": {
     "base_uri": "https://localhost:8080/",
     "height": 278
    },
    "colab_type": "code",
    "executionInfo": {
     "elapsed": 6086,
     "status": "ok",
     "timestamp": 1577482005325,
     "user": {
      "displayName": "Pierre-Carl Michaud",
      "photoUrl": "https://lh3.googleusercontent.com/a-/AAuE7mAdgz-NrQSA9R7zmMIwPXQ4J9kyOWfiGgbt2_zLMA=s64",
      "userId": "08245724259323112556"
     },
     "user_tz": 300
    },
    "id": "mYRjsbLK_-96",
    "outputId": "4b6cccad-038b-451d-c1a3-c047c025d76f"
   },
   "outputs": [
    {
     "data": {
      "image/png": "[encoded data removed]",
      "text/plain": [
       "<Figure size 432x288 with 1 Axes>"
      ]
     },
     "metadata": {
      "tags": []
     },
     "output_type": "display_data"
    }
   ],
   "source": [
    "x = np.linspace(0,50,100)\n",
    "y = x**2\n",
    "plt.figure()\n",
    "plt.plot(x,y)\n",
    "plt.xlabel('x')\n",
    "plt.ylabel('y')\n",
    "plt.show()"
   ]
  },
  {
   "cell_type": "markdown",
   "metadata": {
    "colab_type": "text",
    "id": "aoX9riKa_-98"
   },
   "source": [
    "On peut mettre plusieurs lignes. Parmi les graphiques utiles, il y a scatter, plot (ligne) et hist (histogram). Ce site [web](https://matplotlib.org/3.1.1/tutorials/introductory/sample_plots.html) vous donne toute une liste de graphiques. "
   ]
  },
  {
   "cell_type": "code",
   "execution_count": 103,
   "metadata": {
    "colab": {
     "base_uri": "https://localhost:8080/",
     "height": 382
    },
    "colab_type": "code",
    "executionInfo": {
     "elapsed": 6327,
     "status": "ok",
     "timestamp": 1577482005618,
     "user": {
      "displayName": "Pierre-Carl Michaud",
      "photoUrl": "https://lh3.googleusercontent.com/a-/AAuE7mAdgz-NrQSA9R7zmMIwPXQ4J9kyOWfiGgbt2_zLMA=s64",
      "userId": "08245724259323112556"
     },
     "user_tz": 300
    },
    "id": "db3ziut3MqGd",
    "outputId": "752a8d25-17e2-423a-bede-a7cb8fedc319"
   },
   "outputs": [
    {
     "data": {
      "image/png": "[encoded data removed]",
      "text/plain": [
       "<Figure size 432x288 with 1 Axes>"
      ]
     },
     "metadata": {
      "tags": []
     },
     "output_type": "display_data"
    }
   ],
   "source": [
    "plt.figure()\n",
    "plt.bar(table.index,-table['Canada'])\n",
    "plt.xticks(rotation='vertical')\n",
    "plt.title('Canada')\n",
    "plt.ylabel('price elasticity (absolute value)')\n",
    "plt.show()"
   ]
  },
  {
   "cell_type": "markdown",
   "metadata": {
    "colab_type": "text",
    "id": "8Hbd_X_6_-98"
   },
   "source": [
    "## Scipy"
   ]
  },
  {
   "cell_type": "markdown",
   "metadata": {
    "colab_type": "text",
    "id": "RnjdIsZQ_-99"
   },
   "source": [
    "Scipy, comme son nom l'indique permet d'utiliser des librairies de fonctions scientifiques. Trois groupes en particulier sont d'intérêt: les fonctions statistiques (stats), les fonctions d'optimisation (optimize) et les fonctions d'interpolation (interpolate). "
   ]
  },
  {
   "cell_type": "code",
   "execution_count": 0,
   "metadata": {
    "colab": {},
    "colab_type": "code",
    "id": "3luv2E02_-99"
   },
   "outputs": [],
   "source": [
    "from scipy.stats import norm"
   ]
  },
  {
   "cell_type": "markdown",
   "metadata": {
    "colab_type": "text",
    "id": "B5wsXd8d_--F"
   },
   "source": [
    "Parmi les fonctions statistiques les plus utiles, on retrouve les distributions statistiques. Par exemple, la normal est (norm). Norm est en fait un module, il contient plein de fonctions."
   ]
  },
  {
   "cell_type": "markdown",
   "metadata": {
    "colab_type": "text",
    "id": "HsqRIshZ_--H"
   },
   "source": [
    "En particulier, on pourrait vouloir utiliser la fonction de répartion  (cdf) de la loi normal (0,1) ainsi que sa densité (pdf), et l'inverse de la CDF (ppf). Ainsi, on va faire: \n"
   ]
  },
  {
   "cell_type": "code",
   "execution_count": 105,
   "metadata": {
    "colab": {
     "base_uri": "https://localhost:8080/",
     "height": 33
    },
    "colab_type": "code",
    "executionInfo": {
     "elapsed": 6504,
     "status": "ok",
     "timestamp": 1577482005883,
     "user": {
      "displayName": "Pierre-Carl Michaud",
      "photoUrl": "https://lh3.googleusercontent.com/a-/AAuE7mAdgz-NrQSA9R7zmMIwPXQ4J9kyOWfiGgbt2_zLMA=s64",
      "userId": "08245724259323112556"
     },
     "user_tz": 300
    },
    "id": "IN61YJz9_--K",
    "outputId": "7c1cb3a8-76b1-4c3f-bb1d-d434b0ea96d1"
   },
   "outputs": [
    {
     "data": {
      "text/plain": [
       "0.5"
      ]
     },
     "execution_count": 105,
     "metadata": {
      "tags": []
     },
     "output_type": "execute_result"
    }
   ],
   "source": [
    "norm(0,1).cdf(0)"
   ]
  },
  {
   "cell_type": "code",
   "execution_count": 106,
   "metadata": {
    "colab": {
     "base_uri": "https://localhost:8080/",
     "height": 33
    },
    "colab_type": "code",
    "executionInfo": {
     "elapsed": 6436,
     "status": "ok",
     "timestamp": 1577482005884,
     "user": {
      "displayName": "Pierre-Carl Michaud",
      "photoUrl": "https://lh3.googleusercontent.com/a-/AAuE7mAdgz-NrQSA9R7zmMIwPXQ4J9kyOWfiGgbt2_zLMA=s64",
      "userId": "08245724259323112556"
     },
     "user_tz": 300
    },
    "id": "Ptxccfuc_--N",
    "outputId": "4ae72f38-692f-4cc5-9475-175f30a1641d"
   },
   "outputs": [
    {
     "data": {
      "text/plain": [
       "0.3989422804014327"
      ]
     },
     "execution_count": 106,
     "metadata": {
      "tags": []
     },
     "output_type": "execute_result"
    }
   ],
   "source": [
    "norm(0,1).pdf(0)"
   ]
  },
  {
   "cell_type": "code",
   "execution_count": 107,
   "metadata": {
    "colab": {
     "base_uri": "https://localhost:8080/",
     "height": 33
    },
    "colab_type": "code",
    "executionInfo": {
     "elapsed": 6396,
     "status": "ok",
     "timestamp": 1577482005885,
     "user": {
      "displayName": "Pierre-Carl Michaud",
      "photoUrl": "https://lh3.googleusercontent.com/a-/AAuE7mAdgz-NrQSA9R7zmMIwPXQ4J9kyOWfiGgbt2_zLMA=s64",
      "userId": "08245724259323112556"
     },
     "user_tz": 300
    },
    "id": "LKzLzJ1f_--R",
    "outputId": "97446446-5d86-420b-991d-a80a2b081f80"
   },
   "outputs": [
    {
     "data": {
      "text/plain": [
       "0.0"
      ]
     },
     "execution_count": 107,
     "metadata": {
      "tags": []
     },
     "output_type": "execute_result"
    }
   ],
   "source": [
    "norm(0,1).ppf(0.5)"
   ]
  },
  {
   "cell_type": "markdown",
   "metadata": {
    "colab_type": "text",
    "id": "a-EjLe_Y_--T"
   },
   "source": [
    "On peut aussi faire des tirages aléatoires de cette loi: "
   ]
  },
  {
   "cell_type": "code",
   "execution_count": 108,
   "metadata": {
    "colab": {
     "base_uri": "https://localhost:8080/",
     "height": 33
    },
    "colab_type": "code",
    "executionInfo": {
     "elapsed": 6349,
     "status": "ok",
     "timestamp": 1577482005886,
     "user": {
      "displayName": "Pierre-Carl Michaud",
      "photoUrl": "https://lh3.googleusercontent.com/a-/AAuE7mAdgz-NrQSA9R7zmMIwPXQ4J9kyOWfiGgbt2_zLMA=s64",
      "userId": "08245724259323112556"
     },
     "user_tz": 300
    },
    "id": "ZGVSeFKh_--U",
    "outputId": "4fb258f0-2dec-471e-c902-0a5243a1f2be"
   },
   "outputs": [
    {
     "data": {
      "text/plain": [
       "(0.030008967146246745, 0.9917824026013188)"
      ]
     },
     "execution_count": 108,
     "metadata": {
      "tags": []
     },
     "output_type": "execute_result"
    }
   ],
   "source": [
    "n = norm(0,1).rvs(size=1000)\n",
    "(np.mean(n),np.std(n))"
   ]
  },
  {
   "cell_type": "code",
   "execution_count": 109,
   "metadata": {
    "colab": {
     "base_uri": "https://localhost:8080/",
     "height": 265
    },
    "colab_type": "code",
    "executionInfo": {
     "elapsed": 6673,
     "status": "ok",
     "timestamp": 1577482006246,
     "user": {
      "displayName": "Pierre-Carl Michaud",
      "photoUrl": "https://lh3.googleusercontent.com/a-/AAuE7mAdgz-NrQSA9R7zmMIwPXQ4J9kyOWfiGgbt2_zLMA=s64",
      "userId": "08245724259323112556"
     },
     "user_tz": 300
    },
    "id": "FMQcW-0Z_--X",
    "outputId": "0b0f5e64-d563-4c16-cf47-5a5d1077075c"
   },
   "outputs": [
    {
     "data": {
      "image/png": "[encoded data removed]",
      "text/plain": [
       "<Figure size 432x288 with 1 Axes>"
      ]
     },
     "metadata": {
      "tags": []
     },
     "output_type": "display_data"
    }
   ],
   "source": [
    "plt.figure()\n",
    "plt.hist(n,bins=100)\n",
    "plt.show()"
   ]
  },
  {
   "cell_type": "markdown",
   "metadata": {
    "colab_type": "text",
    "id": "oyLHym4B_--Z"
   },
   "source": [
    "Finalement, petit trucs: au lieu de garder norm(0,1) et ses fonctions, nous pourrions utiliser des alias pour les fonctions"
   ]
  },
  {
   "cell_type": "code",
   "execution_count": 0,
   "metadata": {
    "colab": {},
    "colab_type": "code",
    "id": "r_iVY6P1_--b"
   },
   "outputs": [],
   "source": [
    "Phi = norm(0,1).cdf\n",
    "phi = norm(0,1).pdf \n",
    "InvPhi = norm(0,1).ppf"
   ]
  },
  {
   "cell_type": "markdown",
   "metadata": {
    "colab_type": "text",
    "id": "7TPuZDim_--d"
   },
   "source": [
    "On peut vérifier que ca donne les mêmes réponses qu'ici bas. "
   ]
  },
  {
   "cell_type": "code",
   "execution_count": 111,
   "metadata": {
    "colab": {
     "base_uri": "https://localhost:8080/",
     "height": 33
    },
    "colab_type": "code",
    "executionInfo": {
     "elapsed": 6615,
     "status": "ok",
     "timestamp": 1577482006248,
     "user": {
      "displayName": "Pierre-Carl Michaud",
      "photoUrl": "https://lh3.googleusercontent.com/a-/AAuE7mAdgz-NrQSA9R7zmMIwPXQ4J9kyOWfiGgbt2_zLMA=s64",
      "userId": "08245724259323112556"
     },
     "user_tz": 300
    },
    "id": "urNDRDCr_--d",
    "outputId": "96aab0cb-8748-4e61-c087-86daccc16cc3"
   },
   "outputs": [
    {
     "data": {
      "text/plain": [
       "(0.5, 0.3989422804014327, 0.0)"
      ]
     },
     "execution_count": 111,
     "metadata": {
      "tags": []
     },
     "output_type": "execute_result"
    }
   ],
   "source": [
    "Phi(0),phi(0),InvPhi(0.5)"
   ]
  },
  {
   "cell_type": "markdown",
   "metadata": {
    "colab_type": "text",
    "id": "EQXGM3WP_--h"
   },
   "source": [
    "Le module optimize nous permet d'appeler toute sorte de fonctions d'optimisation. Nous les utiliserons plus tard. Pour le moment, suffit de voir comment on importe: "
   ]
  },
  {
   "cell_type": "code",
   "execution_count": 0,
   "metadata": {
    "colab": {},
    "colab_type": "code",
    "id": "OwWVbXDm_--h"
   },
   "outputs": [],
   "source": [
    "from scipy import optimize as op"
   ]
  },
  {
   "cell_type": "markdown",
   "metadata": {
    "colab_type": "text",
    "id": "1iuG_Jou_--j"
   },
   "source": [
    "Nous utiliserons en particuler les fonctions minimize_scalar et brentq. "
   ]
  },
  {
   "cell_type": "markdown",
   "metadata": {
    "colab_type": "text",
    "id": "_jO_ZMi-_--j"
   },
   "source": [
    "Finalement, un module utile est interpolate. Par exemple, supposons que j'ai des points de la fonction $y=f(x)=\\sqrt(x)$"
   ]
  },
  {
   "cell_type": "code",
   "execution_count": 0,
   "metadata": {
    "colab": {},
    "colab_type": "code",
    "id": "j2ZVRV2v_--k"
   },
   "outputs": [],
   "source": [
    "x = np.linspace(0,100,10)\n",
    "y = [np.sqrt(i) for i in x]"
   ]
  },
  {
   "cell_type": "code",
   "execution_count": 114,
   "metadata": {
    "colab": {
     "base_uri": "https://localhost:8080/",
     "height": 281
    },
    "colab_type": "code",
    "executionInfo": {
     "elapsed": 6552,
     "status": "ok",
     "timestamp": 1577482006251,
     "user": {
      "displayName": "Pierre-Carl Michaud",
      "photoUrl": "https://lh3.googleusercontent.com/a-/AAuE7mAdgz-NrQSA9R7zmMIwPXQ4J9kyOWfiGgbt2_zLMA=s64",
      "userId": "08245724259323112556"
     },
     "user_tz": 300
    },
    "id": "UeIiRAin_--m",
    "outputId": "aee134fc-1c59-419c-8f18-4477a96d6a37"
   },
   "outputs": [
    {
     "data": {
      "text/plain": [
       "<matplotlib.collections.PathCollection at 0x7f05901ded30>"
      ]
     },
     "execution_count": 114,
     "metadata": {
      "tags": []
     },
     "output_type": "execute_result"
    },
    {
     "data": {
      "image/png": "[encoded data removed]",
      "text/plain": [
       "<Figure size 432x288 with 1 Axes>"
      ]
     },
     "metadata": {
      "tags": []
     },
     "output_type": "display_data"
    }
   ],
   "source": [
    "plt.figure()\n",
    "plt.scatter(x,y)"
   ]
  },
  {
   "cell_type": "markdown",
   "metadata": {
    "colab_type": "text",
    "id": "K4BYuw4A_--o"
   },
   "source": [
    "Supposons maintenant que nous oublions que nous connaissons la fonction. Par exemple, il y a des situations ou on a des données, mais on aimerait avoir la fonction à une valeur autre que les points dans les données. Si ces points sont dans le range couvert par les données, on dit qu'on veut interpoler. "
   ]
  },
  {
   "cell_type": "code",
   "execution_count": 0,
   "metadata": {
    "colab": {},
    "colab_type": "code",
    "id": "W2IafRbu_--o"
   },
   "outputs": [],
   "source": [
    "from scipy import interpolate as it"
   ]
  },
  {
   "cell_type": "markdown",
   "metadata": {
    "colab_type": "text",
    "id": "3L9kKVhY_--q"
   },
   "source": [
    "Créons une interpolation linéaire:"
   ]
  },
  {
   "cell_type": "code",
   "execution_count": 0,
   "metadata": {
    "colab": {},
    "colab_type": "code",
    "id": "5ntRdxu3_--q"
   },
   "outputs": [],
   "source": [
    "f = it.interp1d(x,y,kind='linear')"
   ]
  },
  {
   "cell_type": "markdown",
   "metadata": {
    "colab_type": "text",
    "id": "7uYkFUOx_--s"
   },
   "source": [
    "Créons des nouveaux points"
   ]
  },
  {
   "cell_type": "code",
   "execution_count": 0,
   "metadata": {
    "colab": {},
    "colab_type": "code",
    "id": "CJpEzdwz_--t"
   },
   "outputs": [],
   "source": [
    "xi = np.linspace(0,100,50)"
   ]
  },
  {
   "cell_type": "markdown",
   "metadata": {
    "colab_type": "text",
    "id": "d5sct0H6_--v"
   },
   "source": [
    "On peut alors trovuées les y interpolées en appliquant f: "
   ]
  },
  {
   "cell_type": "code",
   "execution_count": 0,
   "metadata": {
    "colab": {},
    "colab_type": "code",
    "id": "xkSA2sqs_--v"
   },
   "outputs": [],
   "source": [
    "yi = f(xi)"
   ]
  },
  {
   "cell_type": "markdown",
   "metadata": {
    "colab_type": "text",
    "id": "JL1nlKQM_--x"
   },
   "source": [
    "On pourrait faire une autre interpolation, plus précise, par exemple cubique: "
   ]
  },
  {
   "cell_type": "code",
   "execution_count": 0,
   "metadata": {
    "colab": {},
    "colab_type": "code",
    "id": "7Yr9jszc_--x"
   },
   "outputs": [],
   "source": [
    "f2 = it.interp1d(x,y,kind='cubic')"
   ]
  },
  {
   "cell_type": "code",
   "execution_count": 120,
   "metadata": {
    "colab": {
     "base_uri": "https://localhost:8080/",
     "height": 265
    },
    "colab_type": "code",
    "executionInfo": {
     "elapsed": 6841,
     "status": "ok",
     "timestamp": 1577482006625,
     "user": {
      "displayName": "Pierre-Carl Michaud",
      "photoUrl": "https://lh3.googleusercontent.com/a-/AAuE7mAdgz-NrQSA9R7zmMIwPXQ4J9kyOWfiGgbt2_zLMA=s64",
      "userId": "08245724259323112556"
     },
     "user_tz": 300
    },
    "id": "M-ehEMOB_--3",
    "outputId": "ef801953-d9ea-4884-a9a3-059ab8a7f448"
   },
   "outputs": [
    {
     "data": {
      "image/png": "[encoded data removed]",
      "text/plain": [
       "<Figure size 432x288 with 1 Axes>"
      ]
     },
     "metadata": {
      "tags": []
     },
     "output_type": "display_data"
    }
   ],
   "source": [
    "plt.figure()\n",
    "plt.scatter(x,y,label='data')\n",
    "plt.plot(xi,yi,label='linéaire')\n",
    "plt.plot(xi,f2(xi),label='cubique')\n",
    "plt.show()"
   ]
  },
  {
   "cell_type": "markdown",
   "metadata": {
    "colab_type": "text",
    "id": "zIgbfoNn_--4"
   },
   "source": [
    "## Fonctions"
   ]
  },
  {
   "cell_type": "markdown",
   "metadata": {
    "colab_type": "text",
    "id": "ieGF6nOo_--5"
   },
   "source": [
    "Il sera souvent utile de créer nos propres fonctions. Python permet de le faire à l'aide de la directive def:"
   ]
  },
  {
   "cell_type": "code",
   "execution_count": 0,
   "metadata": {
    "colab": {},
    "colab_type": "code",
    "id": "rIwMtUb2_--5"
   },
   "outputs": [],
   "source": [
    "def myfunc(x):\n",
    "    return x**2"
   ]
  },
  {
   "cell_type": "code",
   "execution_count": 122,
   "metadata": {
    "colab": {
     "base_uri": "https://localhost:8080/",
     "height": 33
    },
    "colab_type": "code",
    "executionInfo": {
     "elapsed": 6759,
     "status": "ok",
     "timestamp": 1577482006627,
     "user": {
      "displayName": "Pierre-Carl Michaud",
      "photoUrl": "https://lh3.googleusercontent.com/a-/AAuE7mAdgz-NrQSA9R7zmMIwPXQ4J9kyOWfiGgbt2_zLMA=s64",
      "userId": "08245724259323112556"
     },
     "user_tz": 300
    },
    "id": "uu7PNki5_--7",
    "outputId": "08ce6587-71a6-4792-a6e7-06651b038f92"
   },
   "outputs": [
    {
     "data": {
      "text/plain": [
       "[0, 1, 4, 9, 16, 25, 36, 49, 64, 81]"
      ]
     },
     "execution_count": 122,
     "metadata": {
      "tags": []
     },
     "output_type": "execute_result"
    }
   ],
   "source": [
    "y = [myfunc(i) for i in range(10)]\n",
    "y"
   ]
  },
  {
   "cell_type": "markdown",
   "metadata": {
    "colab_type": "text",
    "id": "8Q-1MDTD_--9"
   },
   "source": [
    "Un des éléments auquel il faut faire attention sont les déclarations de variables dans la fonction. Par exemple, supposons qu'un paramètre s'appelle alpha"
   ]
  },
  {
   "cell_type": "code",
   "execution_count": 0,
   "metadata": {
    "colab": {},
    "colab_type": "code",
    "id": "zTctQDgh_--9"
   },
   "outputs": [],
   "source": [
    "alpha = 2"
   ]
  },
  {
   "cell_type": "markdown",
   "metadata": {
    "colab_type": "text",
    "id": "x4Pf8_P6_---"
   },
   "source": [
    "Et nous construisons une fonction: "
   ]
  },
  {
   "cell_type": "code",
   "execution_count": 0,
   "metadata": {
    "colab": {},
    "colab_type": "code",
    "id": "QbBDaHVZ_--_"
   },
   "outputs": [],
   "source": [
    "def myfunc(x):\n",
    "    return x**alpha"
   ]
  },
  {
   "cell_type": "markdown",
   "metadata": {
    "colab_type": "text",
    "id": "DMSAgKWc_-_C"
   },
   "source": [
    "alpha n'est pas défini dans la fonction, ni dans ses arguments. Si c'est le cas, python ira chercher la valeur dans le programme (considère comme variable globale). "
   ]
  },
  {
   "cell_type": "code",
   "execution_count": 125,
   "metadata": {
    "colab": {
     "base_uri": "https://localhost:8080/",
     "height": 33
    },
    "colab_type": "code",
    "executionInfo": {
     "elapsed": 6678,
     "status": "ok",
     "timestamp": 1577482006630,
     "user": {
      "displayName": "Pierre-Carl Michaud",
      "photoUrl": "https://lh3.googleusercontent.com/a-/AAuE7mAdgz-NrQSA9R7zmMIwPXQ4J9kyOWfiGgbt2_zLMA=s64",
      "userId": "08245724259323112556"
     },
     "user_tz": 300
    },
    "id": "pGCm74Cn_-_D",
    "outputId": "8574f22a-ef54-4ba6-d83b-d3976b442681"
   },
   "outputs": [
    {
     "data": {
      "text/plain": [
       "25"
      ]
     },
     "execution_count": 125,
     "metadata": {
      "tags": []
     },
     "output_type": "execute_result"
    }
   ],
   "source": [
    "myfunc(5)"
   ]
  },
  {
   "cell_type": "markdown",
   "metadata": {
    "colab_type": "text",
    "id": "KhND9Fje_-_G"
   },
   "source": [
    "Supposons maintenant que nous faisons "
   ]
  },
  {
   "cell_type": "code",
   "execution_count": 0,
   "metadata": {
    "colab": {},
    "colab_type": "code",
    "id": "bxvGYgOZ_-_G"
   },
   "outputs": [],
   "source": [
    "def myfunc(x):\n",
    "    alpha = 3\n",
    "    return x**alpha"
   ]
  },
  {
   "cell_type": "code",
   "execution_count": 127,
   "metadata": {
    "colab": {
     "base_uri": "https://localhost:8080/",
     "height": 33
    },
    "colab_type": "code",
    "executionInfo": {
     "elapsed": 6942,
     "status": "ok",
     "timestamp": 1577482006952,
     "user": {
      "displayName": "Pierre-Carl Michaud",
      "photoUrl": "https://lh3.googleusercontent.com/a-/AAuE7mAdgz-NrQSA9R7zmMIwPXQ4J9kyOWfiGgbt2_zLMA=s64",
      "userId": "08245724259323112556"
     },
     "user_tz": 300
    },
    "id": "uBHLAe2d_-_I",
    "outputId": "ca2e0c32-cfae-476f-e8d8-c70d44ca16be"
   },
   "outputs": [
    {
     "data": {
      "text/plain": [
       "8"
      ]
     },
     "execution_count": 127,
     "metadata": {
      "tags": []
     },
     "output_type": "execute_result"
    }
   ],
   "source": [
    "myfunc(2)"
   ]
  },
  {
   "cell_type": "code",
   "execution_count": 128,
   "metadata": {
    "colab": {
     "base_uri": "https://localhost:8080/",
     "height": 33
    },
    "colab_type": "code",
    "executionInfo": {
     "elapsed": 6902,
     "status": "ok",
     "timestamp": 1577482006955,
     "user": {
      "displayName": "Pierre-Carl Michaud",
      "photoUrl": "https://lh3.googleusercontent.com/a-/AAuE7mAdgz-NrQSA9R7zmMIwPXQ4J9kyOWfiGgbt2_zLMA=s64",
      "userId": "08245724259323112556"
     },
     "user_tz": 300
    },
    "id": "WYkT6G6o_-_J",
    "outputId": "0a497013-d38b-451c-c9de-05aa0e21fec1"
   },
   "outputs": [
    {
     "data": {
      "text/plain": [
       "2"
      ]
     },
     "execution_count": 128,
     "metadata": {
      "tags": []
     },
     "output_type": "execute_result"
    }
   ],
   "source": [
    "alpha"
   ]
  },
  {
   "cell_type": "markdown",
   "metadata": {
    "colab_type": "text",
    "id": "5aBzpfP2_-_L"
   },
   "source": [
    "Si nous changeons la valeur à l'intérieur de la fonction, python ne va pas chercher une valeur globale. Il utilisera la variable locale. Donc, il faut faire attention! En générale, on évite les variables globales: \n"
   ]
  },
  {
   "cell_type": "code",
   "execution_count": 0,
   "metadata": {
    "colab": {},
    "colab_type": "code",
    "id": "_pVJsbJj_-_M"
   },
   "outputs": [],
   "source": [
    "def myfunc(x,alpha):\n",
    "    return x**alpha"
   ]
  },
  {
   "cell_type": "code",
   "execution_count": 130,
   "metadata": {
    "colab": {
     "base_uri": "https://localhost:8080/",
     "height": 33
    },
    "colab_type": "code",
    "executionInfo": {
     "elapsed": 6855,
     "status": "ok",
     "timestamp": 1577482006957,
     "user": {
      "displayName": "Pierre-Carl Michaud",
      "photoUrl": "https://lh3.googleusercontent.com/a-/AAuE7mAdgz-NrQSA9R7zmMIwPXQ4J9kyOWfiGgbt2_zLMA=s64",
      "userId": "08245724259323112556"
     },
     "user_tz": 300
    },
    "id": "JjkYLv9Q_-_O",
    "outputId": "1e3c3ebe-dacb-44cb-b682-5e480859f2eb"
   },
   "outputs": [
    {
     "data": {
      "text/plain": [
       "(4, 8)"
      ]
     },
     "execution_count": 130,
     "metadata": {
      "tags": []
     },
     "output_type": "execute_result"
    }
   ],
   "source": [
    "myfunc(2,2), myfunc(2,3)"
   ]
  },
  {
   "cell_type": "markdown",
   "metadata": {
    "colab_type": "text",
    "id": "0J-GJAVuO1Dy"
   },
   "source": [
    "# Épilogue\n",
    "\n",
    "Ce notebook permet d'introduire le langage est les commandes de bases. Mais ce n'est pas une introduction exhaustive. Je vous recommande fortement le site de [quantecon.org](https://quantecon.org/) maintenu par Thomas Sargent, prix nobel d'économie, et son équipe. Dans les prochains cours, nous appliquerons sur python la théorie du consommateur, du producteur ainsi que l'équilibre général."
   ]
  }
 ],
 "metadata": {
  "accelerator": "GPU",
  "colab": {
   "collapsed_sections": [],
   "name": "Intro.ipynb",
   "provenance": [],
   "toc_visible": true
  },
  "kernelspec": {
   "display_name": "Python 3",
   "language": "python",
   "name": "python3"
  },
  "language_info": {
   "codemirror_mode": {
    "name": "ipython",
    "version": 3
   },
   "file_extension": ".py",
   "mimetype": "text/x-python",
   "name": "python",
   "nbconvert_exporter": "python",
   "pygments_lexer": "ipython3",
   "version": "3.7.7"
  },
  "varInspector": {
   "cols": {
    "lenName": 16,
    "lenType": 16,
    "lenVar": 40
   },
   "kernels_config": {
    "python": {
     "delete_cmd_postfix": "",
     "delete_cmd_prefix": "del ",
     "library": "var_list.py",
     "varRefreshCmd": "print(var_dic_list())"
    },
    "r": {
     "delete_cmd_postfix": ") ",
     "delete_cmd_prefix": "rm(",
     "library": "var_list.r",
     "varRefreshCmd": "cat(var_dic_list()) "
    }
   },
   "types_to_exclude": [
    "module",
    "function",
    "builtin_function_or_method",
    "instance",
    "_Feature"
   ],
   "window_display": false
  }
 },
 "nbformat": 4,
 "nbformat_minor": 1
}
