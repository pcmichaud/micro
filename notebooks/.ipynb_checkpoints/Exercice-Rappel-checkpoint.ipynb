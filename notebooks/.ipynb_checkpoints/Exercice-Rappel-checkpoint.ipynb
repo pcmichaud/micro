{
 "cells": [
  {
   "cell_type": "markdown",
   "metadata": {},
   "source": [
    "# Questions"
   ]
  },
  {
   "cell_type": "markdown",
   "metadata": {
    "indent": "0"
   },
   "source": [
    "## 1. Latex\n",
    "\n",
    "Écrivez l'équation y = log(x) + a log(z) en markdown, en utilisant la notation latex, dans la cellule  qui suit"
   ]
  },
  {
   "cell_type": "code",
   "execution_count": null,
   "metadata": {},
   "outputs": [],
   "source": []
  },
  {
   "cell_type": "markdown",
   "metadata": {},
   "source": [
    "## 2. Dérivée partielle \n",
    "\n",
    "Quel est la dérivée partielle de cette fonction par rapport à $z$? Écrire la dérivée dans une cellule markdown (solution analytique) et ensuite faire le calcul avec sympy (solution symbolique). "
   ]
  },
  {
   "cell_type": "markdown",
   "metadata": {},
   "source": []
  },
  {
   "cell_type": "code",
   "execution_count": null,
   "metadata": {},
   "outputs": [],
   "source": []
  },
  {
   "cell_type": "markdown",
   "metadata": {
    "indent": "0"
   },
   "source": [
    "## 3. Homogénéité\n",
    "\n",
    "Trouvez le degré d'homogénéité de la fonction, \n",
    "\n",
    "$$ f(x,z) = x z^{a}$$\n",
    "\n",
    "Écrire votre réponse en markdown latex. \n"
   ]
  },
  {
   "cell_type": "code",
   "execution_count": null,
   "metadata": {},
   "outputs": [],
   "source": []
  },
  {
   "cell_type": "markdown",
   "metadata": {},
   "source": [
    "## 4. Lagrangien\n",
    "\n",
    "Trouvez la solution analytique pour $x$ et $y$ qui maximise $f = (x+2)(y+1)$ sous la contrainte, $4x + 10y \\leq 62$."
   ]
  },
  {
   "cell_type": "code",
   "execution_count": null,
   "metadata": {},
   "outputs": [],
   "source": []
  },
  {
   "cell_type": "markdown",
   "metadata": {
    "indent": "0"
   },
   "source": [
    "## 5. Graphiques \n",
    "\n",
    "Tracez sur un même graphique la fonction\n",
    "\n",
    "\n",
    "$$f(x) = \\frac{x^{1-\\sigma}}{1-\\sigma}$$\n",
    "\n",
    "pour les valeurs de $\\sigma = (0.25,0.5,0.75)$ quand $x \\in [1,100]$. Assurez-vous que les axes sont bien identifiés. "
   ]
  },
  {
   "cell_type": "code",
   "execution_count": null,
   "metadata": {},
   "outputs": [],
   "source": []
  }
 ],
 "metadata": {
  "kernelspec": {
   "display_name": "Python 3",
   "language": "python",
   "name": "python3"
  },
  "language_info": {
   "codemirror_mode": {
    "name": "ipython",
    "version": 3
   },
   "file_extension": ".py",
   "mimetype": "text/x-python",
   "name": "python",
   "nbconvert_exporter": "python",
   "pygments_lexer": "ipython3",
   "version": "3.8.3"
  }
 },
 "nbformat": 4,
 "nbformat_minor": 4
}
