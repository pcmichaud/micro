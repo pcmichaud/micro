{
 "cells": [
  {
   "cell_type": "markdown",
   "metadata": {},
   "source": [
    "# Exercice Effets prix"
   ]
  },
  {
   "cell_type": "markdown",
   "metadata": {
    "indent": "-20"
   },
   "source": [
    "Marc alloue son budget récréatif pour l'hiver  à deux activités: des visites au cinéma ($x_1$) et les massages ($x_2$). Il a un revenu $I$ pour ces activités. Ses préférences sont données par: \n",
    "\n",
    "$$ u(x_1,x_2) = \\frac{1}{2}\\left(x_1^{\\frac{2}{9}} x_2^{\\frac{1}{9}}\\right)^{3} $$"
   ]
  },
  {
   "cell_type": "markdown",
   "metadata": {},
   "source": [
    "1. Quelles sont les fonctions de demande classique si $p_1$ et $p_2$ sont les prix d\"une visite au cinéma et d'un massage respectivement?"
   ]
  },
  {
   "cell_type": "code",
   "execution_count": null,
   "metadata": {},
   "outputs": [],
   "source": []
  },
  {
   "cell_type": "markdown",
   "metadata": {
    "indent": "0"
   },
   "source": [
    "2. Si les séances au cinéma et au centre de massage coûtent respectivement 12 et 30, et que son budget est de 500, combien de séances prendra-t-il?"
   ]
  },
  {
   "cell_type": "code",
   "execution_count": null,
   "metadata": {},
   "outputs": [],
   "source": []
  },
  {
   "cell_type": "markdown",
   "metadata": {},
   "source": [
    "3. Marc reçoit un bonus de 250. Comment changera-t-il le nombre de séances demandées?"
   ]
  },
  {
   "cell_type": "code",
   "execution_count": null,
   "metadata": {},
   "outputs": [],
   "source": []
  },
  {
   "cell_type": "markdown",
   "metadata": {},
   "source": [
    "4. Le propriétaire du cinéma diminue le prix de 12 à 8 afin d'attirer davantage de clientèle et espérer augmenter ses revenus. Le budget de Marc est toujours de 500. Combien de séances Marc demande-t-il alors? "
   ]
  },
  {
   "cell_type": "code",
   "execution_count": null,
   "metadata": {},
   "outputs": [],
   "source": []
  },
  {
   "cell_type": "markdown",
   "metadata": {},
   "source": [
    "5. Calculer l'effet substitution, revenu et prix total de ce changement de prix"
   ]
  },
  {
   "cell_type": "code",
   "execution_count": null,
   "metadata": {},
   "outputs": [],
   "source": []
  },
  {
   "cell_type": "markdown",
   "metadata": {},
   "source": [
    "6. Si tous les clients du cinéma ont les mêmes préférences que Marc, la stratégie du propriétaire du cinéma portera-t-elle fruit?"
   ]
  },
  {
   "cell_type": "code",
   "execution_count": null,
   "metadata": {},
   "outputs": [],
   "source": []
  }
 ],
 "metadata": {
  "kernelspec": {
   "display_name": "Python 3",
   "language": "python",
   "name": "python3"
  },
  "language_info": {
   "codemirror_mode": {
    "name": "ipython",
    "version": 3
   },
   "file_extension": ".py",
   "mimetype": "text/x-python",
   "name": "python",
   "nbconvert_exporter": "python",
   "pygments_lexer": "ipython3",
   "version": "3.8.3"
  }
 },
 "nbformat": 4,
 "nbformat_minor": 4
}
