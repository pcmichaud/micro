{
 "cells": [
  {
   "cell_type": "markdown",
   "metadata": {
    "colab_type": "text",
    "id": "dlvlfbO4_-8N"
   },
   "source": [
    "# Une Introduction à la programmation\n",
    "\n",
    "Faire de l'économie de nos jours, demande une bonne connaissance de la programmation. Python est un langage très [populaire](https://images.app.goo.gl/fPzvVcitoX695LCw5) et versatile. En plus, Google collab nous permet de l'utiliser directement sur le web sans installation du logiciel!"
   ]
  },
  {
   "cell_type": "markdown",
   "metadata": {
    "colab_type": "text",
    "id": "g9u7D53M_-8O"
   },
   "source": [
    "Programmer est utile afin de: \n",
    "\n",
    "* bien comprendre un problème (*you understand it if you can program it*)\n",
    "* permet de considérer des modèles sans solution analytique\n",
    "* efficacité afin de considérer robustesse\n",
    "* éviter la répétition\n",
    "* éviter les erreur de manipulation humaine\n",
    "* traiter un volume élevé de données"
   ]
  },
  {
   "cell_type": "markdown",
   "metadata": {
    "colab_type": "text",
    "id": "CoFO4dM4M8Fm"
   },
   "source": [
    "Un bon programme est: \n",
    "* lisible\n",
    "* bien documenté\n",
    "* évite la répétition inutile\n",
    "\n",
    "Les notebooks python sont une bonne façon d'apprendre la programmation. [Écoutez quelques personalités du web](https://www.youtube.com/watch?v=Dv7gLpW91DM) vous parler de l'importance de programmer. "
   ]
  },
  {
   "cell_type": "markdown",
   "metadata": {
    "colab_type": "text",
    "id": "znJB4EnX_-8P"
   },
   "source": [
    "## Utiliser le notebook"
   ]
  },
  {
   "cell_type": "markdown",
   "metadata": {
    "colab_type": "text",
    "id": "LwBVGn2j_-8Q"
   },
   "source": [
    "Un notebook n'est rien d'autre qu'une combinaison de texte et de code/output python. Attaché à un noyau de calcul, le notebook permet de garder ensemble des notes et des codes produisant des résultats. Il est composé de cellules. La cellule où j'écris ces lignes est une cellule markdown. Markdown est un langage multifonction qui permet d'écrire du texte, le mettre en forme, etc. Un petit guide de démarrage se trouve [ici](https://www.markdownguide.org/basic-syntax/). Par exemple, nous pouvons mettre des équations sous la forme : $$ y = f(x) $$, en utilisant LaTeX. Voir [ce petit video](https://www.youtube.com/watch?v=Rsoj2YavveE) pour une intro concernant les maths sous latex. \n",
    "\n",
    "Quand on execute une cellule, dans le menu ici-haut ou bien on fait shift+Enter, la cellule va être lancée sur markdown pour nous donner le texte mis en forme. Google collab nous met aussi un apercu à côté de la cellule en mode édition. Cliquez deux fois sur la cellule pour voir le code. Par exemple voici une liste :\n",
    "* markdown est très utile\n",
    "* on peut y faire des équations: $g(x,y) = \\frac{y}{x}$. \n",
    "* on peut mettre des liens web : [lien vers google](https://www.google.com)\n",
    "\n",
    "Pour créer une cellule, on clique sur + Code ici haut si on veut une cellule de code Python et + Texte si on veut une cellule markdown. Plusieurs autres fonctionalités sont possibles. "
   ]
  },
  {
   "cell_type": "markdown",
   "metadata": {
    "colab_type": "text",
    "id": "XZF8yi2vNib8"
   },
   "source": [
    "On peut mettre l'image d'un beau python: \n",
    "<p align=\"center\">\n",
    "<img src=\"https://images.idgesg.net/images/\n",
    "article/2018/07/python-100763894-large.jpg\" \n",
    "alt=\"drawing\" width=\"350\"/>"
   ]
  },
  {
   "cell_type": "markdown",
   "metadata": {
    "colab_type": "text",
    "id": "TvZ2d62p_-8T"
   },
   "source": [
    "## Les listes et les itérateurs"
   ]
  },
  {
   "cell_type": "markdown",
   "metadata": {
    "colab_type": "text",
    "id": "Fov1Entj_-8T"
   },
   "source": [
    "Elles sont des collections de choses, par exemple des chiffres mais aussi du texte, et plein d'autres trucs. Prenons un exemple:"
   ]
  },
  {
   "cell_type": "code",
   "execution_count": 22,
   "metadata": {
    "colab": {},
    "colab_type": "code",
    "id": "juGGNKp__-8U"
   },
   "outputs": [],
   "source": [
    "x = [1,2,3]\n",
    "y = ['benoit','marc','pierre']"
   ]
  },
  {
   "cell_type": "markdown",
   "metadata": {
    "colab_type": "text",
    "id": "sb7yqx1q_-8X"
   },
   "source": [
    "Pour imprimer ce qu'on vient de faire (une assignation), on peut simplement l'appeler. Aussi la dernière ligne de chaque cellule python, si elle n'est pas une assignation, est imprimée en sortie de cellule."
   ]
  },
  {
   "cell_type": "code",
   "execution_count": 24,
   "metadata": {
    "colab": {
     "base_uri": "https://localhost:8080/",
     "height": 33
    },
    "colab_type": "code",
    "executionInfo": {
     "elapsed": 5654,
     "status": "ok",
     "timestamp": 1577482003639,
     "user": {
      "displayName": "Pierre-Carl Michaud",
      "photoUrl": "https://lh3.googleusercontent.com/a-/AAuE7mAdgz-NrQSA9R7zmMIwPXQ4J9kyOWfiGgbt2_zLMA=s64",
      "userId": "08245724259323112556"
     },
     "user_tz": 300
    },
    "id": "huVM3Tqd_-8Y",
    "outputId": "59581332-2698-4c07-a98d-1d9de26fc693"
   },
   "outputs": [
    {
     "output_type": "execute_result",
     "data": {
      "text/plain": "[1, 2, 3]"
     },
     "metadata": {},
     "execution_count": 24
    }
   ],
   "source": [
    "x"
   ]
  },
  {
   "cell_type": "code",
   "execution_count": 26,
   "metadata": {
    "colab": {
     "base_uri": "https://localhost:8080/",
     "height": 33
    },
    "colab_type": "code",
    "executionInfo": {
     "elapsed": 5601,
     "status": "ok",
     "timestamp": 1577482003641,
     "user": {
      "displayName": "Pierre-Carl Michaud",
      "photoUrl": "https://lh3.googleusercontent.com/a-/AAuE7mAdgz-NrQSA9R7zmMIwPXQ4J9kyOWfiGgbt2_zLMA=s64",
      "userId": "08245724259323112556"
     },
     "user_tz": 300
    },
    "id": "t6gLsmBMDcK2",
    "outputId": "1f0fd4a8-6186-4665-caf7-72b9d8cc4def"
   },
   "outputs": [
    {
     "output_type": "execute_result",
     "data": {
      "text/plain": "['benoit', 'marc', 'pierre']"
     },
     "metadata": {},
     "execution_count": 26
    }
   ],
   "source": [
    "y"
   ]
  },
  {
   "cell_type": "markdown",
   "metadata": {
    "colab_type": "text",
    "id": "D4pGtMcy_-8b"
   },
   "source": [
    "Python indexe à partir de zéro. "
   ]
  },
  {
   "cell_type": "code",
   "execution_count": 28,
   "metadata": {
    "colab": {
     "base_uri": "https://localhost:8080/",
     "height": 33
    },
    "colab_type": "code",
    "executionInfo": {
     "elapsed": 5553,
     "status": "ok",
     "timestamp": 1577482003646,
     "user": {
      "displayName": "Pierre-Carl Michaud",
      "photoUrl": "https://lh3.googleusercontent.com/a-/AAuE7mAdgz-NrQSA9R7zmMIwPXQ4J9kyOWfiGgbt2_zLMA=s64",
      "userId": "08245724259323112556"
     },
     "user_tz": 300
    },
    "id": "xFVO7E8d_-8b",
    "outputId": "adab4542-4d76-4941-9757-3625fd592ec4"
   },
   "outputs": [
    {
     "output_type": "execute_result",
     "data": {
      "text/plain": "1"
     },
     "metadata": {},
     "execution_count": 28
    }
   ],
   "source": [
    "x[0]"
   ]
  },
  {
   "cell_type": "markdown",
   "metadata": {
    "colab_type": "text",
    "id": "AeXzDeld_-8e"
   },
   "source": [
    "Quand on veut un groupe d'indices (par exemple les deux premiers), la borne supérieure n'est pas incluse (0:2 indique 0 et 1). "
   ]
  },
  {
   "cell_type": "code",
   "execution_count": 30,
   "metadata": {
    "colab": {
     "base_uri": "https://localhost:8080/",
     "height": 33
    },
    "colab_type": "code",
    "executionInfo": {
     "elapsed": 5514,
     "status": "ok",
     "timestamp": 1577482003648,
     "user": {
      "displayName": "Pierre-Carl Michaud",
      "photoUrl": "https://lh3.googleusercontent.com/a-/AAuE7mAdgz-NrQSA9R7zmMIwPXQ4J9kyOWfiGgbt2_zLMA=s64",
      "userId": "08245724259323112556"
     },
     "user_tz": 300
    },
    "id": "9Lt_-pFq_-8e",
    "outputId": "3c34e9d2-d785-4160-eb17-47541b3be24a"
   },
   "outputs": [
    {
     "output_type": "execute_result",
     "data": {
      "text/plain": "[1, 2]"
     },
     "metadata": {},
     "execution_count": 30
    }
   ],
   "source": [
    "x[0:2]"
   ]
  },
  {
   "cell_type": "markdown",
   "metadata": {
    "colab_type": "text",
    "id": "dt4r9OGj_-8h"
   },
   "source": [
    "Je peux facilement prendre le dernier élément d'une liste (et le premier)"
   ]
  },
  {
   "cell_type": "code",
   "execution_count": 32,
   "metadata": {
    "colab": {
     "base_uri": "https://localhost:8080/",
     "height": 33
    },
    "colab_type": "code",
    "executionInfo": {
     "elapsed": 5473,
     "status": "ok",
     "timestamp": 1577482003649,
     "user": {
      "displayName": "Pierre-Carl Michaud",
      "photoUrl": "https://lh3.googleusercontent.com/a-/AAuE7mAdgz-NrQSA9R7zmMIwPXQ4J9kyOWfiGgbt2_zLMA=s64",
      "userId": "08245724259323112556"
     },
     "user_tz": 300
    },
    "id": "yfdUTJwc_-8i",
    "outputId": "6b521017-8723-40cb-9c35-99abd5cab06c"
   },
   "outputs": [
    {
     "output_type": "execute_result",
     "data": {
      "text/plain": "[3]"
     },
     "metadata": {},
     "execution_count": 32
    }
   ],
   "source": [
    "x[-1:]"
   ]
  },
  {
   "cell_type": "code",
   "execution_count": 34,
   "metadata": {
    "colab": {
     "base_uri": "https://localhost:8080/",
     "height": 33
    },
    "colab_type": "code",
    "executionInfo": {
     "elapsed": 5397,
     "status": "ok",
     "timestamp": 1577482003651,
     "user": {
      "displayName": "Pierre-Carl Michaud",
      "photoUrl": "https://lh3.googleusercontent.com/a-/AAuE7mAdgz-NrQSA9R7zmMIwPXQ4J9kyOWfiGgbt2_zLMA=s64",
      "userId": "08245724259323112556"
     },
     "user_tz": 300
    },
    "id": "6xIMlzDNDoe-",
    "outputId": "1a12f55e-f9b3-498e-f3ab-c44604e7582b"
   },
   "outputs": [
    {
     "output_type": "execute_result",
     "data": {
      "text/plain": "[2, 3]"
     },
     "metadata": {},
     "execution_count": 34
    }
   ],
   "source": [
    "x[-2:]"
   ]
  },
  {
   "cell_type": "markdown",
   "metadata": {
    "colab_type": "text",
    "id": "rz78hb2X_-8n"
   },
   "source": [
    "Une chose utile avec les listes, c'est qu'on peut appliquer des itérateurs. l'itérateur for est très utile pour traverser une liste. Tentons de mettre au carré tous les éléments de x:"
   ]
  },
  {
   "cell_type": "code",
   "execution_count": 36,
   "metadata": {
    "colab": {
     "base_uri": "https://localhost:8080/",
     "height": 33
    },
    "colab_type": "code",
    "executionInfo": {
     "elapsed": 5352,
     "status": "ok",
     "timestamp": 1577482003652,
     "user": {
      "displayName": "Pierre-Carl Michaud",
      "photoUrl": "https://lh3.googleusercontent.com/a-/AAuE7mAdgz-NrQSA9R7zmMIwPXQ4J9kyOWfiGgbt2_zLMA=s64",
      "userId": "08245724259323112556"
     },
     "user_tz": 300
    },
    "id": "ij-e-dzH_-8o",
    "outputId": "e341bb84-b6ea-45bb-aff2-b621609ebe8d"
   },
   "outputs": [
    {
     "output_type": "execute_result",
     "data": {
      "text/plain": "[1, 4, 9]"
     },
     "metadata": {},
     "execution_count": 36
    }
   ],
   "source": [
    "z = [i**2 for i in x]\n",
    "z"
   ]
  },
  {
   "cell_type": "code",
   "execution_count": 38,
   "metadata": {
    "colab": {
     "base_uri": "https://localhost:8080/",
     "height": 33
    },
    "colab_type": "code",
    "executionInfo": {
     "elapsed": 5286,
     "status": "ok",
     "timestamp": 1577482003653,
     "user": {
      "displayName": "Pierre-Carl Michaud",
      "photoUrl": "https://lh3.googleusercontent.com/a-/AAuE7mAdgz-NrQSA9R7zmMIwPXQ4J9kyOWfiGgbt2_zLMA=s64",
      "userId": "08245724259323112556"
     },
     "user_tz": 300
    },
    "id": "koJG0RuCGtpw",
    "outputId": "cb71abbd-1a7b-4f84-9c9b-664a5d60a691"
   },
   "outputs": [
    {
     "output_type": "execute_result",
     "data": {
      "text/plain": "[1, 4, 9]"
     },
     "metadata": {},
     "execution_count": 38
    }
   ],
   "source": [
    "z = []\n",
    "for i in x:\n",
    "  z.append(i**2)\n",
    "z"
   ]
  },
  {
   "cell_type": "markdown",
   "metadata": {
    "colab_type": "text",
    "id": "s-KwwO6W_-8r"
   },
   "source": [
    "On peut aussi faire des ordonnancements:"
   ]
  },
  {
   "cell_type": "code",
   "execution_count": 40,
   "metadata": {
    "colab": {
     "base_uri": "https://localhost:8080/",
     "height": 33
    },
    "colab_type": "code",
    "executionInfo": {
     "elapsed": 5250,
     "status": "ok",
     "timestamp": 1577482003655,
     "user": {
      "displayName": "Pierre-Carl Michaud",
      "photoUrl": "https://lh3.googleusercontent.com/a-/AAuE7mAdgz-NrQSA9R7zmMIwPXQ4J9kyOWfiGgbt2_zLMA=s64",
      "userId": "08245724259323112556"
     },
     "user_tz": 300
    },
    "id": "K_DmrcD1_-8r",
    "outputId": "90de893c-4f17-4e62-8140-0bb663c03947"
   },
   "outputs": [
    {
     "output_type": "execute_result",
     "data": {
      "text/plain": "[4, 2]"
     },
     "metadata": {},
     "execution_count": 40
    }
   ],
   "source": [
    "q = []\n",
    "q.append(2)\n",
    "q.append(4)\n",
    "q.sort(reverse=True)\n",
    "q"
   ]
  },
  {
   "cell_type": "markdown",
   "metadata": {
    "colab_type": "text",
    "id": "OAVxd01wELfV"
   },
   "source": [
    "On peut aussi combiner des listes. Par exemple, "
   ]
  },
  {
   "cell_type": "code",
   "execution_count": 42,
   "metadata": {
    "colab": {
     "base_uri": "https://localhost:8080/",
     "height": 33
    },
    "colab_type": "code",
    "executionInfo": {
     "elapsed": 5183,
     "status": "ok",
     "timestamp": 1577482003656,
     "user": {
      "displayName": "Pierre-Carl Michaud",
      "photoUrl": "https://lh3.googleusercontent.com/a-/AAuE7mAdgz-NrQSA9R7zmMIwPXQ4J9kyOWfiGgbt2_zLMA=s64",
      "userId": "08245724259323112556"
     },
     "user_tz": 300
    },
    "id": "rfgYNflLEQ4r",
    "outputId": "e3d21a88-3f13-4899-8785-237bbfdebdb7"
   },
   "outputs": [
    {
     "output_type": "execute_result",
     "data": {
      "text/plain": "[(0.0, 0.0),\n (0.5050505050505051, 0.25507601265177027),\n (1.0101010101010102, 1.020304050607081),\n (1.5151515151515151, 2.295684113865932),\n (2.0202020202020203, 4.081216202428324),\n (2.5252525252525255, 6.3769003162942575),\n (3.0303030303030303, 9.182736455463727),\n (3.5353535353535355, 12.498724619936741),\n (4.040404040404041, 16.324864809713297),\n (4.545454545454546, 20.661157024793393),\n (5.050505050505051, 25.50760126517703),\n (5.555555555555556, 30.864197530864207),\n (6.0606060606060606, 36.73094582185491),\n (6.565656565656566, 43.10784613814917),\n (7.070707070707071, 49.994898479746965),\n (7.575757575757576, 57.39210284664831),\n (8.080808080808081, 65.29945923885319),\n (8.585858585858587, 73.7169676563616),\n (9.090909090909092, 82.64462809917357),\n (9.595959595959597, 92.08244056728907),\n (10.101010101010102, 102.03040506070812),\n (10.606060606060607, 112.4885215794307),\n (11.111111111111112, 123.45679012345683),\n (11.616161616161618, 134.93521069278648),\n (12.121212121212121, 146.92378328741964),\n (12.626262626262626, 159.4225079073564),\n (13.131313131313131, 172.43138455259668),\n (13.636363636363637, 185.95041322314052),\n (14.141414141414142, 199.97959391898786),\n (14.646464646464647, 214.51892664013877),\n (15.151515151515152, 229.56841138659323),\n (15.656565656565657, 245.12804815835122),\n (16.161616161616163, 261.19783695541275),\n (16.666666666666668, 277.7777777777778),\n (17.171717171717173, 294.8678706254464),\n (17.67676767676768, 312.46811549841857),\n (18.181818181818183, 330.5785123966943),\n (18.68686868686869, 349.19906132027353),\n (19.191919191919194, 368.3297622691563),\n (19.6969696969697, 387.9706152433426),\n (20.202020202020204, 408.1216202428325),\n (20.70707070707071, 428.7827772676259),\n (21.212121212121215, 449.9540863177228),\n (21.71717171717172, 471.63554739312326),\n (22.222222222222225, 493.8271604938273),\n (22.72727272727273, 516.5289256198348),\n (23.232323232323235, 539.7408427711459),\n (23.73737373737374, 563.4629119477606),\n (24.242424242424242, 587.6951331496786),\n (24.747474747474747, 612.4375063769003),\n (25.252525252525253, 637.6900316294256),\n (25.757575757575758, 663.4527089072544),\n (26.262626262626263, 689.7255382103867),\n (26.767676767676768, 716.5085195388226),\n (27.272727272727273, 743.8016528925621),\n (27.77777777777778, 771.604938271605),\n (28.282828282828284, 799.9183756759514),\n (28.78787878787879, 828.7419651056015),\n (29.292929292929294, 858.0757065605551),\n (29.7979797979798, 887.9196000408123),\n (30.303030303030305, 918.2736455463729),\n (30.80808080808081, 949.1378430772371),\n (31.313131313131315, 980.5121926334049),\n (31.81818181818182, 1012.3966942148761),\n (32.323232323232325, 1044.791347821651),\n (32.82828282828283, 1077.6961534537293),\n (33.333333333333336, 1111.1111111111113),\n (33.83838383838384, 1145.0362207937967),\n (34.343434343434346, 1179.4714825017857),\n (34.84848484848485, 1214.4168962350782),\n (35.35353535353536, 1249.8724619936743),\n (35.85858585858586, 1285.838179777574),\n (36.36363636363637, 1322.3140495867772),\n (36.86868686868687, 1359.3000714212837),\n (37.37373737373738, 1396.7962452810941),\n (37.87878787878788, 1434.8025711662078),\n (38.38383838383839, 1473.319049076625),\n (38.88888888888889, 1512.345679012346),\n (39.3939393939394, 1551.8824609733704),\n (39.8989898989899, 1591.9293949596984),\n (40.40404040404041, 1632.48648097133),\n (40.909090909090914, 1673.5537190082648),\n (41.41414141414142, 1715.1311090705035),\n (41.919191919191924, 1757.2186511580455),\n (42.42424242424243, 1799.8163452708911),\n (42.929292929292934, 1842.9241914090403),\n (43.43434343434344, 1886.542189572493),\n (43.939393939393945, 1930.6703397612494),\n (44.44444444444445, 1975.3086419753092),\n (44.949494949494955, 2020.4570962146724),\n (45.45454545454546, 2066.1157024793392),\n (45.959595959595966, 2112.2844607693096),\n (46.46464646464647, 2158.9633710845837),\n (46.969696969696976, 2206.1524334251612),\n (47.47474747474748, 2253.8516477910425),\n (47.979797979797986, 2302.061014182227),\n (48.484848484848484, 2350.780532598714),\n (48.98989898989899, 2400.010203040506),\n (49.494949494949495, 2449.750025507601),\n (50.0, 2500.0)]"
     },
     "metadata": {},
     "execution_count": 42
    }
   ],
   "source": [
    "[(i,j) for i,j in zip(x,y)]"
   ]
  },
  {
   "cell_type": "markdown",
   "metadata": {
    "colab_type": "text",
    "id": "rPd97wHaEtT4"
   },
   "source": [
    "Le dernier exemple permet d'introduire les tuple, un autre type de données. Les tuples permettent de combiner du texte et des chiffres, souvent en combinaisons.  "
   ]
  },
  {
   "cell_type": "code",
   "execution_count": 44,
   "metadata": {
    "colab": {
     "base_uri": "https://localhost:8080/",
     "height": 33
    },
    "colab_type": "code",
    "executionInfo": {
     "elapsed": 5156,
     "status": "ok",
     "timestamp": 1577482003657,
     "user": {
      "displayName": "Pierre-Carl Michaud",
      "photoUrl": "https://lh3.googleusercontent.com/a-/AAuE7mAdgz-NrQSA9R7zmMIwPXQ4J9kyOWfiGgbt2_zLMA=s64",
      "userId": "08245724259323112556"
     },
     "user_tz": 300
    },
    "id": "lH56dF1dFBVc",
    "outputId": "12b79cd4-3d9f-4547-cce7-c26ef45e3821"
   },
   "outputs": [
    {
     "output_type": "execute_result",
     "data": {
      "text/plain": "{0.0: 0.0,\n 0.5050505050505051: 0.25507601265177027,\n 1.0101010101010102: 1.020304050607081,\n 1.5151515151515151: 2.295684113865932,\n 2.0202020202020203: 4.081216202428324,\n 2.5252525252525255: 6.3769003162942575,\n 3.0303030303030303: 9.182736455463727,\n 3.5353535353535355: 12.498724619936741,\n 4.040404040404041: 16.324864809713297,\n 4.545454545454546: 20.661157024793393,\n 5.050505050505051: 25.50760126517703,\n 5.555555555555556: 30.864197530864207,\n 6.0606060606060606: 36.73094582185491,\n 6.565656565656566: 43.10784613814917,\n 7.070707070707071: 49.994898479746965,\n 7.575757575757576: 57.39210284664831,\n 8.080808080808081: 65.29945923885319,\n 8.585858585858587: 73.7169676563616,\n 9.090909090909092: 82.64462809917357,\n 9.595959595959597: 92.08244056728907,\n 10.101010101010102: 102.03040506070812,\n 10.606060606060607: 112.4885215794307,\n 11.111111111111112: 123.45679012345683,\n 11.616161616161618: 134.93521069278648,\n 12.121212121212121: 146.92378328741964,\n 12.626262626262626: 159.4225079073564,\n 13.131313131313131: 172.43138455259668,\n 13.636363636363637: 185.95041322314052,\n 14.141414141414142: 199.97959391898786,\n 14.646464646464647: 214.51892664013877,\n 15.151515151515152: 229.56841138659323,\n 15.656565656565657: 245.12804815835122,\n 16.161616161616163: 261.19783695541275,\n 16.666666666666668: 277.7777777777778,\n 17.171717171717173: 294.8678706254464,\n 17.67676767676768: 312.46811549841857,\n 18.181818181818183: 330.5785123966943,\n 18.68686868686869: 349.19906132027353,\n 19.191919191919194: 368.3297622691563,\n 19.6969696969697: 387.9706152433426,\n 20.202020202020204: 408.1216202428325,\n 20.70707070707071: 428.7827772676259,\n 21.212121212121215: 449.9540863177228,\n 21.71717171717172: 471.63554739312326,\n 22.222222222222225: 493.8271604938273,\n 22.72727272727273: 516.5289256198348,\n 23.232323232323235: 539.7408427711459,\n 23.73737373737374: 563.4629119477606,\n 24.242424242424242: 587.6951331496786,\n 24.747474747474747: 612.4375063769003,\n 25.252525252525253: 637.6900316294256,\n 25.757575757575758: 663.4527089072544,\n 26.262626262626263: 689.7255382103867,\n 26.767676767676768: 716.5085195388226,\n 27.272727272727273: 743.8016528925621,\n 27.77777777777778: 771.604938271605,\n 28.282828282828284: 799.9183756759514,\n 28.78787878787879: 828.7419651056015,\n 29.292929292929294: 858.0757065605551,\n 29.7979797979798: 887.9196000408123,\n 30.303030303030305: 918.2736455463729,\n 30.80808080808081: 949.1378430772371,\n 31.313131313131315: 980.5121926334049,\n 31.81818181818182: 1012.3966942148761,\n 32.323232323232325: 1044.791347821651,\n 32.82828282828283: 1077.6961534537293,\n 33.333333333333336: 1111.1111111111113,\n 33.83838383838384: 1145.0362207937967,\n 34.343434343434346: 1179.4714825017857,\n 34.84848484848485: 1214.4168962350782,\n 35.35353535353536: 1249.8724619936743,\n 35.85858585858586: 1285.838179777574,\n 36.36363636363637: 1322.3140495867772,\n 36.86868686868687: 1359.3000714212837,\n 37.37373737373738: 1396.7962452810941,\n 37.87878787878788: 1434.8025711662078,\n 38.38383838383839: 1473.319049076625,\n 38.88888888888889: 1512.345679012346,\n 39.3939393939394: 1551.8824609733704,\n 39.8989898989899: 1591.9293949596984,\n 40.40404040404041: 1632.48648097133,\n 40.909090909090914: 1673.5537190082648,\n 41.41414141414142: 1715.1311090705035,\n 41.919191919191924: 1757.2186511580455,\n 42.42424242424243: 1799.8163452708911,\n 42.929292929292934: 1842.9241914090403,\n 43.43434343434344: 1886.542189572493,\n 43.939393939393945: 1930.6703397612494,\n 44.44444444444445: 1975.3086419753092,\n 44.949494949494955: 2020.4570962146724,\n 45.45454545454546: 2066.1157024793392,\n 45.959595959595966: 2112.2844607693096,\n 46.46464646464647: 2158.9633710845837,\n 46.969696969696976: 2206.1524334251612,\n 47.47474747474748: 2253.8516477910425,\n 47.979797979797986: 2302.061014182227,\n 48.484848484848484: 2350.780532598714,\n 48.98989898989899: 2400.010203040506,\n 49.494949494949495: 2449.750025507601,\n 50.0: 2500.0}"
     },
     "metadata": {},
     "execution_count": 44
    }
   ],
   "source": [
    "dict(zip(x,y))"
   ]
  },
  {
   "cell_type": "markdown",
   "metadata": {
    "colab_type": "text",
    "id": "IXESBot2FMdv"
   },
   "source": [
    "On peut utiliser les dictionnaires pour créer des correspondances. Par exemple, supposons que je veux avoir le nom de la personne avec le numéro 1. "
   ]
  },
  {
   "cell_type": "code",
   "execution_count": 46,
   "metadata": {
    "colab": {
     "base_uri": "https://localhost:8080/",
     "height": 33
    },
    "colab_type": "code",
    "executionInfo": {
     "elapsed": 5107,
     "status": "ok",
     "timestamp": 1577482003658,
     "user": {
      "displayName": "Pierre-Carl Michaud",
      "photoUrl": "https://lh3.googleusercontent.com/a-/AAuE7mAdgz-NrQSA9R7zmMIwPXQ4J9kyOWfiGgbt2_zLMA=s64",
      "userId": "08245724259323112556"
     },
     "user_tz": 300
    },
    "id": "ViDFfurqFXl5",
    "outputId": "0b070369-8eb6-4f42-e976-752fdc527925"
   },
   "outputs": [
    {
     "output_type": "error",
     "ename": "KeyError",
     "evalue": "1",
     "traceback": [
      "\u001b[0;31m---------------------------------------------------------------------------\u001b[0m",
      "\u001b[0;31mKeyError\u001b[0m                                  Traceback (most recent call last)",
      "\u001b[0;32m<ipython-input-46-0333fbb098b4>\u001b[0m in \u001b[0;36m<module>\u001b[0;34m\u001b[0m\n\u001b[1;32m      1\u001b[0m \u001b[0md\u001b[0m \u001b[0;34m=\u001b[0m \u001b[0mdict\u001b[0m\u001b[0;34m(\u001b[0m\u001b[0mzip\u001b[0m\u001b[0;34m(\u001b[0m\u001b[0mx\u001b[0m\u001b[0;34m,\u001b[0m\u001b[0my\u001b[0m\u001b[0;34m)\u001b[0m\u001b[0;34m)\u001b[0m\u001b[0;34m\u001b[0m\u001b[0;34m\u001b[0m\u001b[0m\n\u001b[0;32m----> 2\u001b[0;31m \u001b[0md\u001b[0m\u001b[0;34m[\u001b[0m\u001b[0;36m1\u001b[0m\u001b[0;34m]\u001b[0m\u001b[0;34m\u001b[0m\u001b[0;34m\u001b[0m\u001b[0m\n\u001b[0m",
      "\u001b[0;31mKeyError\u001b[0m: 1"
     ]
    }
   ],
   "source": [
    "d = dict(zip(x,y))\n",
    "d[1]"
   ]
  },
  {
   "cell_type": "markdown",
   "metadata": {
    "colab_type": "text",
    "id": "xUsaTIGD_-9A"
   },
   "source": [
    "Les listes sont très utiles pour ramasser des choses, etc. Cependant, elles ne sont pas si rapides pour les calculs et ne sont pas des vecteurs. Donc, les opérations compliquées ne sont pas façiles à faire... On utilise plutôt la librairie numpy pour ceci. "
   ]
  },
  {
   "cell_type": "markdown",
   "metadata": {
    "colab_type": "text",
    "id": "Ba9NdA9k_-9B"
   },
   "source": [
    "## Numpy"
   ]
  },
  {
   "cell_type": "markdown",
   "metadata": {
    "colab_type": "text",
    "id": "-8GARWKz_-9C"
   },
   "source": [
    "Numpy est une collection de plusieurs fonctions numériques rapides ainsi que de vecteurs et matrices qui sont appelées array. Pour ceux qui ont utilisé Matlab, c'est ce qu'il y a de plus près. D'ailleurs consultez ce site web pour ceux qui connaissent déjà [Matlab](https://cheatsheets.quantecon.org/). Pour importer une librairie, on utilise import. Par la suite toutes les fonctions de numpy sont numpy.fonction, etc. Pour ne pas avoir à taper numpy. toutes les fois, on choisi par convention np comme diminutif. "
   ]
  },
  {
   "cell_type": "code",
   "execution_count": 49,
   "metadata": {
    "colab": {},
    "colab_type": "code",
    "id": "nnDJGYnc_-9C"
   },
   "outputs": [],
   "source": [
    "import numpy as np"
   ]
  },
  {
   "cell_type": "code",
   "execution_count": 51,
   "metadata": {
    "colab": {
     "base_uri": "https://localhost:8080/",
     "height": 33
    },
    "colab_type": "code",
    "executionInfo": {
     "elapsed": 5061,
     "status": "ok",
     "timestamp": 1577482003659,
     "user": {
      "displayName": "Pierre-Carl Michaud",
      "photoUrl": "https://lh3.googleusercontent.com/a-/AAuE7mAdgz-NrQSA9R7zmMIwPXQ4J9kyOWfiGgbt2_zLMA=s64",
      "userId": "08245724259323112556"
     },
     "user_tz": 300
    },
    "id": "8fqQJnVs_-9F",
    "outputId": "a7125d4b-f8a8-4b09-cb21-d5be190bb891"
   },
   "outputs": [
    {
     "output_type": "execute_result",
     "data": {
      "text/plain": "5.0"
     },
     "metadata": {},
     "execution_count": 51
    }
   ],
   "source": [
    "np.sqrt(25)"
   ]
  },
  {
   "cell_type": "markdown",
   "metadata": {
    "colab_type": "text",
    "id": "ZgWl8voq_-9K"
   },
   "source": [
    "Il est important de comprendre pourquoi on indexe les fonctions par modules (np.). Supposons que nous créeons nous même une fonction sqrt mais qui fait autre chose. Si on fait sqrt(25.0), python ne saura pas si c'est la fonction qui vient de numpy ou bien notre fonction. Il est donc prudent d'importer les modules en utilisant le diminutif du module. "
   ]
  },
  {
   "cell_type": "markdown",
   "metadata": {
    "colab_type": "text",
    "id": "_XmT3CdaGJ24"
   },
   "source": [
    "Regardons maintenant les particularités de numpy. "
   ]
  },
  {
   "cell_type": "code",
   "execution_count": 53,
   "metadata": {
    "colab": {
     "base_uri": "https://localhost:8080/",
     "height": 33
    },
    "colab_type": "code",
    "executionInfo": {
     "elapsed": 4982,
     "status": "ok",
     "timestamp": 1577482003663,
     "user": {
      "displayName": "Pierre-Carl Michaud",
      "photoUrl": "https://lh3.googleusercontent.com/a-/AAuE7mAdgz-NrQSA9R7zmMIwPXQ4J9kyOWfiGgbt2_zLMA=s64",
      "userId": "08245724259323112556"
     },
     "user_tz": 300
    },
    "id": "qNa5R9Ok_-9M",
    "outputId": "62940d5e-475e-4074-eba2-68f43b151fb2"
   },
   "outputs": [
    {
     "output_type": "execute_result",
     "data": {
      "text/plain": "array([1, 4, 9])"
     },
     "metadata": {},
     "execution_count": 53
    }
   ],
   "source": [
    "x = np.array([1,2,3])\n",
    "y = x**2\n",
    "y"
   ]
  },
  {
   "cell_type": "code",
   "execution_count": 55,
   "metadata": {
    "colab": {
     "base_uri": "https://localhost:8080/",
     "height": 33
    },
    "colab_type": "code",
    "executionInfo": {
     "elapsed": 4950,
     "status": "ok",
     "timestamp": 1577482003665,
     "user": {
      "displayName": "Pierre-Carl Michaud",
      "photoUrl": "https://lh3.googleusercontent.com/a-/AAuE7mAdgz-NrQSA9R7zmMIwPXQ4J9kyOWfiGgbt2_zLMA=s64",
      "userId": "08245724259323112556"
     },
     "user_tz": 300
    },
    "id": "G_dROOiI_-9P",
    "outputId": "6ded45f2-d410-427f-a67d-307e44c06762"
   },
   "outputs": [
    {
     "output_type": "execute_result",
     "data": {
      "text/plain": "array([ 1,  8, 27])"
     },
     "metadata": {},
     "execution_count": 55
    }
   ],
   "source": [
    "z = np.multiply(x,y)\n",
    "z"
   ]
  },
  {
   "cell_type": "code",
   "execution_count": 57,
   "metadata": {
    "colab": {
     "base_uri": "https://localhost:8080/",
     "height": 33
    },
    "colab_type": "code",
    "executionInfo": {
     "elapsed": 4901,
     "status": "ok",
     "timestamp": 1577482003666,
     "user": {
      "displayName": "Pierre-Carl Michaud",
      "photoUrl": "https://lh3.googleusercontent.com/a-/AAuE7mAdgz-NrQSA9R7zmMIwPXQ4J9kyOWfiGgbt2_zLMA=s64",
      "userId": "08245724259323112556"
     },
     "user_tz": 300
    },
    "id": "GdsjbG_QGQar",
    "outputId": "ae99bfd2-5e7b-4517-f529-8fc686c59535"
   },
   "outputs": [
    {
     "output_type": "execute_result",
     "data": {
      "text/plain": "array([ 1,  8, 27])"
     },
     "metadata": {},
     "execution_count": 57
    }
   ],
   "source": [
    "z = np.array([i*j for i,j in zip(x,y)])\n",
    "z"
   ]
  },
  {
   "cell_type": "markdown",
   "metadata": {
    "colab_type": "text",
    "id": "QixYgptr_-9R"
   },
   "source": [
    "La fonction linspace est très utile pour créer des grilles. Supposons que je peux 10 points équi-distants sur la distance [0,1]. On peut le faire par :"
   ]
  },
  {
   "cell_type": "code",
   "execution_count": 59,
   "metadata": {
    "colab": {
     "base_uri": "https://localhost:8080/",
     "height": 50
    },
    "colab_type": "code",
    "executionInfo": {
     "elapsed": 4798,
     "status": "ok",
     "timestamp": 1577482003667,
     "user": {
      "displayName": "Pierre-Carl Michaud",
      "photoUrl": "https://lh3.googleusercontent.com/a-/AAuE7mAdgz-NrQSA9R7zmMIwPXQ4J9kyOWfiGgbt2_zLMA=s64",
      "userId": "08245724259323112556"
     },
     "user_tz": 300
    },
    "id": "xT8s-aW3_-9S",
    "outputId": "93cadb78-4852-463d-f32b-74320165c28c"
   },
   "outputs": [
    {
     "output_type": "execute_result",
     "data": {
      "text/plain": "array([0.        , 0.11111111, 0.22222222, 0.33333333, 0.44444444,\n       0.55555556, 0.66666667, 0.77777778, 0.88888889, 1.        ])"
     },
     "metadata": {},
     "execution_count": 59
    }
   ],
   "source": [
    "np.linspace(0,1,10)"
   ]
  },
  {
   "cell_type": "markdown",
   "metadata": {
    "colab_type": "text",
    "id": "-ATOnNoFHBhW"
   },
   "source": [
    "On peut vouloir savoir la valeur maximale dans un array (ou son indice): "
   ]
  },
  {
   "cell_type": "code",
   "execution_count": 61,
   "metadata": {
    "colab": {
     "base_uri": "https://localhost:8080/",
     "height": 33
    },
    "colab_type": "code",
    "executionInfo": {
     "elapsed": 4772,
     "status": "ok",
     "timestamp": 1577482003667,
     "user": {
      "displayName": "Pierre-Carl Michaud",
      "photoUrl": "https://lh3.googleusercontent.com/a-/AAuE7mAdgz-NrQSA9R7zmMIwPXQ4J9kyOWfiGgbt2_zLMA=s64",
      "userId": "08245724259323112556"
     },
     "user_tz": 300
    },
    "id": "FE5cVj0sHAIM",
    "outputId": "70fbaed4-5343-4512-c5e8-84b1c58a16d5"
   },
   "outputs": [
    {
     "output_type": "execute_result",
     "data": {
      "text/plain": "(100.0, 9)"
     },
     "metadata": {},
     "execution_count": 61
    }
   ],
   "source": [
    "np.max(x), np.argmax(x)"
   ]
  },
  {
   "cell_type": "markdown",
   "metadata": {
    "colab_type": "text",
    "id": "w8SB5WKu_-9b"
   },
   "source": [
    "## Pandas"
   ]
  },
  {
   "cell_type": "markdown",
   "metadata": {
    "colab_type": "text",
    "id": "qu0tO2jy_-9c"
   },
   "source": [
    "Pandas permet d'importer et manipuler des données. Il est très puissant et rapide. Regardons un exemple avec des une banque de données sur les élasticités prix de différents aliments. "
   ]
  },
  {
   "cell_type": "code",
   "execution_count": 63,
   "metadata": {
    "colab": {},
    "colab_type": "code",
    "id": "y7h6oy4x_-9d"
   },
   "outputs": [],
   "source": [
    "import pandas as pd"
   ]
  },
  {
   "cell_type": "code",
   "execution_count": 65,
   "metadata": {
    "colab": {
     "base_uri": "https://localhost:8080/",
     "height": 731
    },
    "colab_type": "code",
    "executionInfo": {
     "elapsed": 6357,
     "status": "ok",
     "timestamp": 1577482005314,
     "user": {
      "displayName": "Pierre-Carl Michaud",
      "photoUrl": "https://lh3.googleusercontent.com/a-/AAuE7mAdgz-NrQSA9R7zmMIwPXQ4J9kyOWfiGgbt2_zLMA=s64",
      "userId": "08245724259323112556"
     },
     "user_tz": 300
    },
    "id": "Q5ZIGKfiacFT",
    "outputId": "a905c3f2-05e8-460c-e922-364e4111022e"
   },
   "outputs": [
    {
     "output_type": "execute_result",
     "data": {
      "text/plain": "   GEOCOM_ID                                      FULL CITATION       AUTHOR  \\\n0        271  Liu, Kang E., and Wen S. Chern. [Food demand i...  Liu et. al.   \n1        271  Liu, Kang E., and Wen S. Chern. [Food demand i...  Liu et. al.   \n2        271  Liu, Kang E., and Wen S. Chern. [Food demand i...  Liu et. al.   \n3        271  Liu, Kang E., and Wen S. Chern. [Food demand i...  Liu et. al.   \n4        271  Liu, Kang E., and Wen S. Chern. [Food demand i...  Liu et. al.   \n\n   PUBLICATION DATE TYPE OF PUBLICATION GEOGRAPHY SOURCE OF DATA  \\\n0              2003           not avail     China      not avail   \n1              2003           not avail     China      not avail   \n2              2003           not avail     China      not avail   \n3              2003           not avail     China      not avail   \n4              2003           not avail     China      not avail   \n\n    TYPE OF DATA      LEVEL DATA PERIOD  ...  MODEL       DEMAND   PROPERTY  \\\n0  cross section  not avail        1998  ...  QAIDS  Marshallian  not avail   \n1  cross section  not avail        1998  ...  QAIDS  Marshallian  not avail   \n2  cross section  not avail        1998  ...  QAIDS  Marshallian  not avail   \n3  cross section  not avail        1998  ...  QAIDS  Marshallian  not avail   \n4  cross section  not avail        1998  ...  QAIDS  Marshallian  not avail   \n\n  Region Details MAJOR_COMMODITY  MINOR_COMMODITY ELASTICITY_INFO AMOUNT  \\\n0      not avail            Rice             Rice       own price -1.689   \n1      not avail            Rice            Flour     cross price  3.038   \n2      not avail            Rice     Grain coarse     cross price  0.721   \n3      not avail            Rice           Potato     cross price  1.251   \n4      not avail            Rice  Vegetable fresh     cross price -0.112   \n\n  SIGNIFICANCE SIGNIFICANCE LEVEL  \n0    not avail                NaN  \n1    not avail                NaN  \n2    not avail                NaN  \n3    not avail                NaN  \n4    not avail                NaN  \n\n[5 rows x 24 columns]",
      "text/html": "<div>\n<style scoped>\n    .dataframe tbody tr th:only-of-type {\n        vertical-align: middle;\n    }\n\n    .dataframe tbody tr th {\n        vertical-align: top;\n    }\n\n    .dataframe thead th {\n        text-align: right;\n    }\n</style>\n<table border=\"1\" class=\"dataframe\">\n  <thead>\n    <tr style=\"text-align: right;\">\n      <th></th>\n      <th>GEOCOM_ID</th>\n      <th>FULL CITATION</th>\n      <th>AUTHOR</th>\n      <th>PUBLICATION DATE</th>\n      <th>TYPE OF PUBLICATION</th>\n      <th>GEOGRAPHY</th>\n      <th>SOURCE OF DATA</th>\n      <th>TYPE OF DATA</th>\n      <th>LEVEL</th>\n      <th>DATA PERIOD</th>\n      <th>...</th>\n      <th>MODEL</th>\n      <th>DEMAND</th>\n      <th>PROPERTY</th>\n      <th>Region Details</th>\n      <th>MAJOR_COMMODITY</th>\n      <th>MINOR_COMMODITY</th>\n      <th>ELASTICITY_INFO</th>\n      <th>AMOUNT</th>\n      <th>SIGNIFICANCE</th>\n      <th>SIGNIFICANCE LEVEL</th>\n    </tr>\n  </thead>\n  <tbody>\n    <tr>\n      <th>0</th>\n      <td>271</td>\n      <td>Liu, Kang E., and Wen S. Chern. [Food demand i...</td>\n      <td>Liu et. al.</td>\n      <td>2003</td>\n      <td>not avail</td>\n      <td>China</td>\n      <td>not avail</td>\n      <td>cross section</td>\n      <td>not avail</td>\n      <td>1998</td>\n      <td>...</td>\n      <td>QAIDS</td>\n      <td>Marshallian</td>\n      <td>not avail</td>\n      <td>not avail</td>\n      <td>Rice</td>\n      <td>Rice</td>\n      <td>own price</td>\n      <td>-1.689</td>\n      <td>not avail</td>\n      <td>NaN</td>\n    </tr>\n    <tr>\n      <th>1</th>\n      <td>271</td>\n      <td>Liu, Kang E., and Wen S. Chern. [Food demand i...</td>\n      <td>Liu et. al.</td>\n      <td>2003</td>\n      <td>not avail</td>\n      <td>China</td>\n      <td>not avail</td>\n      <td>cross section</td>\n      <td>not avail</td>\n      <td>1998</td>\n      <td>...</td>\n      <td>QAIDS</td>\n      <td>Marshallian</td>\n      <td>not avail</td>\n      <td>not avail</td>\n      <td>Rice</td>\n      <td>Flour</td>\n      <td>cross price</td>\n      <td>3.038</td>\n      <td>not avail</td>\n      <td>NaN</td>\n    </tr>\n    <tr>\n      <th>2</th>\n      <td>271</td>\n      <td>Liu, Kang E., and Wen S. Chern. [Food demand i...</td>\n      <td>Liu et. al.</td>\n      <td>2003</td>\n      <td>not avail</td>\n      <td>China</td>\n      <td>not avail</td>\n      <td>cross section</td>\n      <td>not avail</td>\n      <td>1998</td>\n      <td>...</td>\n      <td>QAIDS</td>\n      <td>Marshallian</td>\n      <td>not avail</td>\n      <td>not avail</td>\n      <td>Rice</td>\n      <td>Grain coarse</td>\n      <td>cross price</td>\n      <td>0.721</td>\n      <td>not avail</td>\n      <td>NaN</td>\n    </tr>\n    <tr>\n      <th>3</th>\n      <td>271</td>\n      <td>Liu, Kang E., and Wen S. Chern. [Food demand i...</td>\n      <td>Liu et. al.</td>\n      <td>2003</td>\n      <td>not avail</td>\n      <td>China</td>\n      <td>not avail</td>\n      <td>cross section</td>\n      <td>not avail</td>\n      <td>1998</td>\n      <td>...</td>\n      <td>QAIDS</td>\n      <td>Marshallian</td>\n      <td>not avail</td>\n      <td>not avail</td>\n      <td>Rice</td>\n      <td>Potato</td>\n      <td>cross price</td>\n      <td>1.251</td>\n      <td>not avail</td>\n      <td>NaN</td>\n    </tr>\n    <tr>\n      <th>4</th>\n      <td>271</td>\n      <td>Liu, Kang E., and Wen S. Chern. [Food demand i...</td>\n      <td>Liu et. al.</td>\n      <td>2003</td>\n      <td>not avail</td>\n      <td>China</td>\n      <td>not avail</td>\n      <td>cross section</td>\n      <td>not avail</td>\n      <td>1998</td>\n      <td>...</td>\n      <td>QAIDS</td>\n      <td>Marshallian</td>\n      <td>not avail</td>\n      <td>not avail</td>\n      <td>Rice</td>\n      <td>Vegetable fresh</td>\n      <td>cross price</td>\n      <td>-0.112</td>\n      <td>not avail</td>\n      <td>NaN</td>\n    </tr>\n  </tbody>\n</table>\n<p>5 rows × 24 columns</p>\n</div>"
     },
     "metadata": {},
     "execution_count": 65
    }
   ],
   "source": [
    "link = 'https://www.ers.usda.gov/media/9359/demandelasdata092507_1_.xls'\n",
    "df = pd.read_excel(link)\n",
    "df.head()"
   ]
  },
  {
   "cell_type": "markdown",
   "metadata": {
    "colab_type": "text",
    "id": "51PwnCLKIPfu"
   },
   "source": [
    "La base contient les colonnes suivantes: "
   ]
  },
  {
   "cell_type": "code",
   "execution_count": 67,
   "metadata": {
    "colab": {
     "base_uri": "https://localhost:8080/",
     "height": 131
    },
    "colab_type": "code",
    "executionInfo": {
     "elapsed": 6335,
     "status": "ok",
     "timestamp": 1577482005316,
     "user": {
      "displayName": "Pierre-Carl Michaud",
      "photoUrl": "https://lh3.googleusercontent.com/a-/AAuE7mAdgz-NrQSA9R7zmMIwPXQ4J9kyOWfiGgbt2_zLMA=s64",
      "userId": "08245724259323112556"
     },
     "user_tz": 300
    },
    "id": "YO6lUY8VIS28",
    "outputId": "10a0c906-3a15-4730-9b0c-919070c2da4f"
   },
   "outputs": [
    {
     "output_type": "execute_result",
     "data": {
      "text/plain": "Index(['GEOCOM_ID', 'FULL CITATION', 'AUTHOR', 'PUBLICATION DATE',\n       'TYPE OF PUBLICATION', 'GEOGRAPHY', 'SOURCE OF DATA', 'TYPE OF DATA',\n       'LEVEL', 'DATA PERIOD', 'DATA COVERED', 'SOURCE OF RESULTS',\n       'TECHNICALITY', 'Study Details', 'MODEL', 'DEMAND', 'PROPERTY',\n       'Region Details', 'MAJOR_COMMODITY', 'MINOR_COMMODITY',\n       'ELASTICITY_INFO', 'AMOUNT', 'SIGNIFICANCE', 'SIGNIFICANCE LEVEL'],\n      dtype='object')"
     },
     "metadata": {},
     "execution_count": 67
    }
   ],
   "source": [
    "df.columns"
   ]
  },
  {
   "cell_type": "markdown",
   "metadata": {
    "colab_type": "text",
    "id": "xxx_su6zIZeI"
   },
   "source": [
    "Les élasticités sont dans la colonne AMOUNT. Chaque estimé provient d'une étude et plusieurs informations ont été relevés sur chaque estimé. On pourrait par exemple vouloir regarder les élasticités prix par produit. "
   ]
  },
  {
   "cell_type": "code",
   "execution_count": 69,
   "metadata": {
    "colab": {
     "base_uri": "https://localhost:8080/",
     "height": 212
    },
    "colab_type": "code",
    "executionInfo": {
     "elapsed": 6302,
     "status": "ok",
     "timestamp": 1577482005317,
     "user": {
      "displayName": "Pierre-Carl Michaud",
      "photoUrl": "https://lh3.googleusercontent.com/a-/AAuE7mAdgz-NrQSA9R7zmMIwPXQ4J9kyOWfiGgbt2_zLMA=s64",
      "userId": "08245724259323112556"
     },
     "user_tz": 300
    },
    "id": "wmtREnlMao5C",
    "outputId": "7396d9ad-ac53-4aaf-add9-b0ac7c1bc66e"
   },
   "outputs": [
    {
     "output_type": "execute_result",
     "data": {
      "text/plain": "Meat           139\nFish           137\nOil and fat    127\nFood other     123\nDairy          123\n              ... \nMineral          1\nFish fresh       1\nVitamin I        1\nMilk powder      1\nBean dried       1\nName: MAJOR_COMMODITY, Length: 274, dtype: int64"
     },
     "metadata": {},
     "execution_count": 69
    }
   ],
   "source": [
    "subset = df['ELASTICITY_INFO']=='own price'\n",
    "df = df.loc[subset,:]\n",
    "df['MAJOR_COMMODITY'].value_counts()"
   ]
  },
  {
   "cell_type": "markdown",
   "metadata": {
    "colab_type": "text",
    "id": "K7quFtLFJEEI"
   },
   "source": [
    "On voit qu'il y a 139 estimés de l'élasticité prix de la viande. Regardons leur distribution: "
   ]
  },
  {
   "cell_type": "code",
   "execution_count": 71,
   "metadata": {
    "colab": {
     "base_uri": "https://localhost:8080/",
     "height": 163
    },
    "colab_type": "code",
    "executionInfo": {
     "elapsed": 6262,
     "status": "ok",
     "timestamp": 1577482005318,
     "user": {
      "displayName": "Pierre-Carl Michaud",
      "photoUrl": "https://lh3.googleusercontent.com/a-/AAuE7mAdgz-NrQSA9R7zmMIwPXQ4J9kyOWfiGgbt2_zLMA=s64",
      "userId": "08245724259323112556"
     },
     "user_tz": 300
    },
    "id": "9VkEMCIgJMFK",
    "outputId": "4670d06f-0a4b-4315-9c3c-d249dc96c146"
   },
   "outputs": [
    {
     "output_type": "execute_result",
     "data": {
      "text/plain": "count    139.000000\nmean      -0.481927\nstd        0.177127\nmin       -1.091000\n25%       -0.607240\n50%       -0.524160\n75%       -0.367455\nmax        0.004000\nName: AMOUNT, dtype: float64"
     },
     "metadata": {},
     "execution_count": 71
    }
   ],
   "source": [
    "df.loc[df['MAJOR_COMMODITY']=='Meat','AMOUNT'].describe()"
   ]
  },
  {
   "cell_type": "markdown",
   "metadata": {
    "colab_type": "text",
    "id": "1JWIOK5XJpdo"
   },
   "source": [
    "L'elasticité moyenne est de -0.48. Regardons d'un seul coup les élasticités prix par produit"
   ]
  },
  {
   "cell_type": "code",
   "execution_count": 73,
   "metadata": {
    "colab": {},
    "colab_type": "code",
    "id": "VjdrLWkuJ3wb"
   },
   "outputs": [],
   "source": [
    "table = df['AMOUNT'].groupby(df['MAJOR_COMMODITY']).mean()"
   ]
  },
  {
   "cell_type": "code",
   "execution_count": 75,
   "metadata": {
    "colab": {
     "base_uri": "https://localhost:8080/",
     "height": 33
    },
    "colab_type": "code",
    "executionInfo": {
     "elapsed": 6195,
     "status": "ok",
     "timestamp": 1577482005321,
     "user": {
      "displayName": "Pierre-Carl Michaud",
      "photoUrl": "https://lh3.googleusercontent.com/a-/AAuE7mAdgz-NrQSA9R7zmMIwPXQ4J9kyOWfiGgbt2_zLMA=s64",
      "userId": "08245724259323112556"
     },
     "user_tz": 300
    },
    "id": "MFANJN7RKSzW",
    "outputId": "81e4c47b-7488-4f4a-ded9-595f4dd2524c"
   },
   "outputs": [
    {
     "output_type": "execute_result",
     "data": {
      "text/plain": "(-0.48192719424460434, -0.5518782926829267)"
     },
     "metadata": {},
     "execution_count": 75
    }
   ],
   "source": [
    "table['Meat'], table['Dairy']"
   ]
  },
  {
   "cell_type": "markdown",
   "metadata": {
    "colab_type": "text",
    "id": "56T_pqQeKlqR"
   },
   "source": [
    "Regardons comment ces élasticités varient entre le Canada et les États-Unis.  "
   ]
  },
  {
   "cell_type": "code",
   "execution_count": 77,
   "metadata": {
    "colab": {
     "base_uri": "https://localhost:8080/",
     "height": 622
    },
    "colab_type": "code",
    "executionInfo": {
     "elapsed": 6141,
     "status": "ok",
     "timestamp": 1577482005323,
     "user": {
      "displayName": "Pierre-Carl Michaud",
      "photoUrl": "https://lh3.googleusercontent.com/a-/AAuE7mAdgz-NrQSA9R7zmMIwPXQ4J9kyOWfiGgbt2_zLMA=s64",
      "userId": "08245724259323112556"
     },
     "user_tz": 300
    },
    "id": "7qEOWtCvKuoU",
    "outputId": "0518db97-0a0a-47f2-e86a-fc05b1cd9215"
   },
   "outputs": [
    {
     "output_type": "execute_result",
     "data": {
      "text/plain": "GEOGRAPHY             United States    Canada\nMAJOR_COMMODITY                              \nApple                     -0.358378 -0.091560\nApple juice               -0.150000 -0.349900\nBanana                    -0.587967 -0.166180\nBeverage and tobacco      -0.108380 -0.304200\nBread and cereal          -0.040450 -0.125320\nDairy                     -0.703321 -0.262240\nDairy product             -0.245800 -0.095000\nFish                      -0.287243 -0.270910\nFood other                -0.120482 -0.243750\nFruit                     -0.695125 -0.213000\nFruit and vegetable       -0.259930 -0.193910\nGrape                     -1.418917 -0.620250\nGrapefruit                -0.604025 -0.069680\nMeat                      -0.325400 -0.316755\nMelon                      0.010500 -0.720500\nOil and fat               -0.073445 -0.140420\nOrange                    -0.813300 -0.483300\nOrange juice              -1.391000 -0.044800\nVegetable                 -0.686133 -0.144000",
      "text/html": "<div>\n<style scoped>\n    .dataframe tbody tr th:only-of-type {\n        vertical-align: middle;\n    }\n\n    .dataframe tbody tr th {\n        vertical-align: top;\n    }\n\n    .dataframe thead th {\n        text-align: right;\n    }\n</style>\n<table border=\"1\" class=\"dataframe\">\n  <thead>\n    <tr style=\"text-align: right;\">\n      <th>GEOGRAPHY</th>\n      <th>United States</th>\n      <th>Canada</th>\n    </tr>\n    <tr>\n      <th>MAJOR_COMMODITY</th>\n      <th></th>\n      <th></th>\n    </tr>\n  </thead>\n  <tbody>\n    <tr>\n      <th>Apple</th>\n      <td>-0.358378</td>\n      <td>-0.091560</td>\n    </tr>\n    <tr>\n      <th>Apple juice</th>\n      <td>-0.150000</td>\n      <td>-0.349900</td>\n    </tr>\n    <tr>\n      <th>Banana</th>\n      <td>-0.587967</td>\n      <td>-0.166180</td>\n    </tr>\n    <tr>\n      <th>Beverage and tobacco</th>\n      <td>-0.108380</td>\n      <td>-0.304200</td>\n    </tr>\n    <tr>\n      <th>Bread and cereal</th>\n      <td>-0.040450</td>\n      <td>-0.125320</td>\n    </tr>\n    <tr>\n      <th>Dairy</th>\n      <td>-0.703321</td>\n      <td>-0.262240</td>\n    </tr>\n    <tr>\n      <th>Dairy product</th>\n      <td>-0.245800</td>\n      <td>-0.095000</td>\n    </tr>\n    <tr>\n      <th>Fish</th>\n      <td>-0.287243</td>\n      <td>-0.270910</td>\n    </tr>\n    <tr>\n      <th>Food other</th>\n      <td>-0.120482</td>\n      <td>-0.243750</td>\n    </tr>\n    <tr>\n      <th>Fruit</th>\n      <td>-0.695125</td>\n      <td>-0.213000</td>\n    </tr>\n    <tr>\n      <th>Fruit and vegetable</th>\n      <td>-0.259930</td>\n      <td>-0.193910</td>\n    </tr>\n    <tr>\n      <th>Grape</th>\n      <td>-1.418917</td>\n      <td>-0.620250</td>\n    </tr>\n    <tr>\n      <th>Grapefruit</th>\n      <td>-0.604025</td>\n      <td>-0.069680</td>\n    </tr>\n    <tr>\n      <th>Meat</th>\n      <td>-0.325400</td>\n      <td>-0.316755</td>\n    </tr>\n    <tr>\n      <th>Melon</th>\n      <td>0.010500</td>\n      <td>-0.720500</td>\n    </tr>\n    <tr>\n      <th>Oil and fat</th>\n      <td>-0.073445</td>\n      <td>-0.140420</td>\n    </tr>\n    <tr>\n      <th>Orange</th>\n      <td>-0.813300</td>\n      <td>-0.483300</td>\n    </tr>\n    <tr>\n      <th>Orange juice</th>\n      <td>-1.391000</td>\n      <td>-0.044800</td>\n    </tr>\n    <tr>\n      <th>Vegetable</th>\n      <td>-0.686133</td>\n      <td>-0.144000</td>\n    </tr>\n  </tbody>\n</table>\n</div>"
     },
     "metadata": {},
     "execution_count": 77
    }
   ],
   "source": [
    "table = df.groupby(['MAJOR_COMMODITY','GEOGRAPHY'])['AMOUNT'].mean().unstack()\n",
    "table = table.loc[:,['United States','Canada']].dropna()\n",
    "table"
   ]
  },
  {
   "cell_type": "markdown",
   "metadata": {
    "colab_type": "text",
    "id": "xp_UML2fL7VO"
   },
   "source": [
    "Ces informations peuvent être très utile pour une entreprise avec du pouvoir de marché ou pour des autorités publiques voulant prélever une taxe..."
   ]
  },
  {
   "cell_type": "markdown",
   "metadata": {
    "colab_type": "text",
    "id": "MDbWoT0M_-90"
   },
   "source": [
    "## Matplotlib et Pyplot"
   ]
  },
  {
   "cell_type": "markdown",
   "metadata": {
    "colab_type": "text",
    "id": "VYxuxwYk_-91"
   },
   "source": [
    "Matplotlib est une suite puissante pour faire des graphiques. Nous utiliserons un petit sous-ensemble des fonctions, qui est le module Pyplot de Matplotlib. On l'importe de la façon suivante: "
   ]
  },
  {
   "cell_type": "code",
   "execution_count": 79,
   "metadata": {
    "colab": {},
    "colab_type": "code",
    "id": "VtTQOemd_-91"
   },
   "outputs": [],
   "source": [
    "from matplotlib import pyplot as plt"
   ]
  },
  {
   "cell_type": "markdown",
   "metadata": {
    "colab_type": "text",
    "id": "jA8L1XjV_-95"
   },
   "source": [
    "Un graphique est une série de commande. Tant que la commande plt.show() n'est pas lancée, on peut rajouter des options. Par exemple, "
   ]
  },
  {
   "cell_type": "code",
   "execution_count": 81,
   "metadata": {
    "colab": {
     "base_uri": "https://localhost:8080/",
     "height": 278
    },
    "colab_type": "code",
    "executionInfo": {
     "elapsed": 6086,
     "status": "ok",
     "timestamp": 1577482005325,
     "user": {
      "displayName": "Pierre-Carl Michaud",
      "photoUrl": "https://lh3.googleusercontent.com/a-/AAuE7mAdgz-NrQSA9R7zmMIwPXQ4J9kyOWfiGgbt2_zLMA=s64",
      "userId": "08245724259323112556"
     },
     "user_tz": 300
    },
    "id": "mYRjsbLK_-96",
    "outputId": "4b6cccad-038b-451d-c1a3-c047c025d76f"
   },
   "outputs": [
    {
     "output_type": "display_data",
     "data": {
      "text/plain": "<Figure size 432x288 with 1 Axes>",
      "image/svg+xml": "<?xml version=\"1.0\" encoding=\"utf-8\" standalone=\"no\"?>\n<!DOCTYPE svg PUBLIC \"-//W3C//DTD SVG 1.1//EN\"\n  \"http://www.w3.org/Graphics/SVG/1.1/DTD/svg11.dtd\">\n<!-- Created with matplotlib (https://matplotlib.org/) -->\n<svg height=\"262.19625pt\" version=\"1.1\" viewBox=\"0 0 395.328125 262.19625\" width=\"395.328125pt\" xmlns=\"http://www.w3.org/2000/svg\" xmlns:xlink=\"http://www.w3.org/1999/xlink\">\n <defs>\n  <style type=\"text/css\">\n*{stroke-linecap:butt;stroke-linejoin:round;}\n  </style>\n </defs>\n <g id=\"figure_1\">\n  <g id=\"patch_1\">\n   <path d=\"M 0 262.19625 \nL 395.328125 262.19625 \nL 395.328125 0 \nL 0 0 \nz\n\" style=\"fill:none;\"/>\n  </g>\n  <g id=\"axes_1\">\n   <g id=\"patch_2\">\n    <path d=\"M 53.328125 224.64 \nL 388.128125 224.64 \nL 388.128125 7.2 \nL 53.328125 7.2 \nz\n\" style=\"fill:#ffffff;\"/>\n   </g>\n   <g id=\"matplotlib.axis_1\">\n    <g id=\"xtick_1\">\n     <g id=\"line2d_1\">\n      <defs>\n       <path d=\"M 0 0 \nL 0 3.5 \n\" id=\"mc72b6ca918\" style=\"stroke:#000000;stroke-width:0.8;\"/>\n      </defs>\n      <g>\n       <use style=\"stroke:#000000;stroke-width:0.8;\" x=\"68.546307\" xlink:href=\"#mc72b6ca918\" y=\"224.64\"/>\n      </g>\n     </g>\n     <g id=\"text_1\">\n      <!-- 0 -->\n      <defs>\n       <path d=\"M 31.78125 66.40625 \nQ 24.171875 66.40625 20.328125 58.90625 \nQ 16.5 51.421875 16.5 36.375 \nQ 16.5 21.390625 20.328125 13.890625 \nQ 24.171875 6.390625 31.78125 6.390625 \nQ 39.453125 6.390625 43.28125 13.890625 \nQ 47.125 21.390625 47.125 36.375 \nQ 47.125 51.421875 43.28125 58.90625 \nQ 39.453125 66.40625 31.78125 66.40625 \nz\nM 31.78125 74.21875 \nQ 44.046875 74.21875 50.515625 64.515625 \nQ 56.984375 54.828125 56.984375 36.375 \nQ 56.984375 17.96875 50.515625 8.265625 \nQ 44.046875 -1.421875 31.78125 -1.421875 \nQ 19.53125 -1.421875 13.0625 8.265625 \nQ 6.59375 17.96875 6.59375 36.375 \nQ 6.59375 54.828125 13.0625 64.515625 \nQ 19.53125 74.21875 31.78125 74.21875 \nz\n\" id=\"DejaVuSans-48\"/>\n      </defs>\n      <g transform=\"translate(65.365057 239.238437)scale(0.1 -0.1)\">\n       <use xlink:href=\"#DejaVuSans-48\"/>\n      </g>\n     </g>\n    </g>\n    <g id=\"xtick_2\">\n     <g id=\"line2d_2\">\n      <g>\n       <use style=\"stroke:#000000;stroke-width:0.8;\" x=\"129.419034\" xlink:href=\"#mc72b6ca918\" y=\"224.64\"/>\n      </g>\n     </g>\n     <g id=\"text_2\">\n      <!-- 10 -->\n      <defs>\n       <path d=\"M 12.40625 8.296875 \nL 28.515625 8.296875 \nL 28.515625 63.921875 \nL 10.984375 60.40625 \nL 10.984375 69.390625 \nL 28.421875 72.90625 \nL 38.28125 72.90625 \nL 38.28125 8.296875 \nL 54.390625 8.296875 \nL 54.390625 0 \nL 12.40625 0 \nz\n\" id=\"DejaVuSans-49\"/>\n      </defs>\n      <g transform=\"translate(123.056534 239.238437)scale(0.1 -0.1)\">\n       <use xlink:href=\"#DejaVuSans-49\"/>\n       <use x=\"63.623047\" xlink:href=\"#DejaVuSans-48\"/>\n      </g>\n     </g>\n    </g>\n    <g id=\"xtick_3\">\n     <g id=\"line2d_3\">\n      <g>\n       <use style=\"stroke:#000000;stroke-width:0.8;\" x=\"190.291761\" xlink:href=\"#mc72b6ca918\" y=\"224.64\"/>\n      </g>\n     </g>\n     <g id=\"text_3\">\n      <!-- 20 -->\n      <defs>\n       <path d=\"M 19.1875 8.296875 \nL 53.609375 8.296875 \nL 53.609375 0 \nL 7.328125 0 \nL 7.328125 8.296875 \nQ 12.9375 14.109375 22.625 23.890625 \nQ 32.328125 33.6875 34.8125 36.53125 \nQ 39.546875 41.84375 41.421875 45.53125 \nQ 43.3125 49.21875 43.3125 52.78125 \nQ 43.3125 58.59375 39.234375 62.25 \nQ 35.15625 65.921875 28.609375 65.921875 \nQ 23.96875 65.921875 18.8125 64.3125 \nQ 13.671875 62.703125 7.8125 59.421875 \nL 7.8125 69.390625 \nQ 13.765625 71.78125 18.9375 73 \nQ 24.125 74.21875 28.421875 74.21875 \nQ 39.75 74.21875 46.484375 68.546875 \nQ 53.21875 62.890625 53.21875 53.421875 \nQ 53.21875 48.921875 51.53125 44.890625 \nQ 49.859375 40.875 45.40625 35.40625 \nQ 44.1875 33.984375 37.640625 27.21875 \nQ 31.109375 20.453125 19.1875 8.296875 \nz\n\" id=\"DejaVuSans-50\"/>\n      </defs>\n      <g transform=\"translate(183.929261 239.238437)scale(0.1 -0.1)\">\n       <use xlink:href=\"#DejaVuSans-50\"/>\n       <use x=\"63.623047\" xlink:href=\"#DejaVuSans-48\"/>\n      </g>\n     </g>\n    </g>\n    <g id=\"xtick_4\">\n     <g id=\"line2d_4\">\n      <g>\n       <use style=\"stroke:#000000;stroke-width:0.8;\" x=\"251.164489\" xlink:href=\"#mc72b6ca918\" y=\"224.64\"/>\n      </g>\n     </g>\n     <g id=\"text_4\">\n      <!-- 30 -->\n      <defs>\n       <path d=\"M 40.578125 39.3125 \nQ 47.65625 37.796875 51.625 33 \nQ 55.609375 28.21875 55.609375 21.1875 \nQ 55.609375 10.40625 48.1875 4.484375 \nQ 40.765625 -1.421875 27.09375 -1.421875 \nQ 22.515625 -1.421875 17.65625 -0.515625 \nQ 12.796875 0.390625 7.625 2.203125 \nL 7.625 11.71875 \nQ 11.71875 9.328125 16.59375 8.109375 \nQ 21.484375 6.890625 26.8125 6.890625 \nQ 36.078125 6.890625 40.9375 10.546875 \nQ 45.796875 14.203125 45.796875 21.1875 \nQ 45.796875 27.640625 41.28125 31.265625 \nQ 36.765625 34.90625 28.71875 34.90625 \nL 20.21875 34.90625 \nL 20.21875 43.015625 \nL 29.109375 43.015625 \nQ 36.375 43.015625 40.234375 45.921875 \nQ 44.09375 48.828125 44.09375 54.296875 \nQ 44.09375 59.90625 40.109375 62.90625 \nQ 36.140625 65.921875 28.71875 65.921875 \nQ 24.65625 65.921875 20.015625 65.03125 \nQ 15.375 64.15625 9.8125 62.3125 \nL 9.8125 71.09375 \nQ 15.4375 72.65625 20.34375 73.4375 \nQ 25.25 74.21875 29.59375 74.21875 \nQ 40.828125 74.21875 47.359375 69.109375 \nQ 53.90625 64.015625 53.90625 55.328125 \nQ 53.90625 49.265625 50.4375 45.09375 \nQ 46.96875 40.921875 40.578125 39.3125 \nz\n\" id=\"DejaVuSans-51\"/>\n      </defs>\n      <g transform=\"translate(244.801989 239.238437)scale(0.1 -0.1)\">\n       <use xlink:href=\"#DejaVuSans-51\"/>\n       <use x=\"63.623047\" xlink:href=\"#DejaVuSans-48\"/>\n      </g>\n     </g>\n    </g>\n    <g id=\"xtick_5\">\n     <g id=\"line2d_5\">\n      <g>\n       <use style=\"stroke:#000000;stroke-width:0.8;\" x=\"312.037216\" xlink:href=\"#mc72b6ca918\" y=\"224.64\"/>\n      </g>\n     </g>\n     <g id=\"text_5\">\n      <!-- 40 -->\n      <defs>\n       <path d=\"M 37.796875 64.3125 \nL 12.890625 25.390625 \nL 37.796875 25.390625 \nz\nM 35.203125 72.90625 \nL 47.609375 72.90625 \nL 47.609375 25.390625 \nL 58.015625 25.390625 \nL 58.015625 17.1875 \nL 47.609375 17.1875 \nL 47.609375 0 \nL 37.796875 0 \nL 37.796875 17.1875 \nL 4.890625 17.1875 \nL 4.890625 26.703125 \nz\n\" id=\"DejaVuSans-52\"/>\n      </defs>\n      <g transform=\"translate(305.674716 239.238437)scale(0.1 -0.1)\">\n       <use xlink:href=\"#DejaVuSans-52\"/>\n       <use x=\"63.623047\" xlink:href=\"#DejaVuSans-48\"/>\n      </g>\n     </g>\n    </g>\n    <g id=\"xtick_6\">\n     <g id=\"line2d_6\">\n      <g>\n       <use style=\"stroke:#000000;stroke-width:0.8;\" x=\"372.909943\" xlink:href=\"#mc72b6ca918\" y=\"224.64\"/>\n      </g>\n     </g>\n     <g id=\"text_6\">\n      <!-- 50 -->\n      <defs>\n       <path d=\"M 10.796875 72.90625 \nL 49.515625 72.90625 \nL 49.515625 64.59375 \nL 19.828125 64.59375 \nL 19.828125 46.734375 \nQ 21.96875 47.46875 24.109375 47.828125 \nQ 26.265625 48.1875 28.421875 48.1875 \nQ 40.625 48.1875 47.75 41.5 \nQ 54.890625 34.8125 54.890625 23.390625 \nQ 54.890625 11.625 47.5625 5.09375 \nQ 40.234375 -1.421875 26.90625 -1.421875 \nQ 22.3125 -1.421875 17.546875 -0.640625 \nQ 12.796875 0.140625 7.71875 1.703125 \nL 7.71875 11.625 \nQ 12.109375 9.234375 16.796875 8.0625 \nQ 21.484375 6.890625 26.703125 6.890625 \nQ 35.15625 6.890625 40.078125 11.328125 \nQ 45.015625 15.765625 45.015625 23.390625 \nQ 45.015625 31 40.078125 35.4375 \nQ 35.15625 39.890625 26.703125 39.890625 \nQ 22.75 39.890625 18.8125 39.015625 \nQ 14.890625 38.140625 10.796875 36.28125 \nz\n\" id=\"DejaVuSans-53\"/>\n      </defs>\n      <g transform=\"translate(366.547443 239.238437)scale(0.1 -0.1)\">\n       <use xlink:href=\"#DejaVuSans-53\"/>\n       <use x=\"63.623047\" xlink:href=\"#DejaVuSans-48\"/>\n      </g>\n     </g>\n    </g>\n    <g id=\"text_7\">\n     <!-- x -->\n     <defs>\n      <path d=\"M 54.890625 54.6875 \nL 35.109375 28.078125 \nL 55.90625 0 \nL 45.3125 0 \nL 29.390625 21.484375 \nL 13.484375 0 \nL 2.875 0 \nL 24.125 28.609375 \nL 4.6875 54.6875 \nL 15.28125 54.6875 \nL 29.78125 35.203125 \nL 44.28125 54.6875 \nz\n\" id=\"DejaVuSans-120\"/>\n     </defs>\n     <g transform=\"translate(217.76875 252.916562)scale(0.1 -0.1)\">\n      <use xlink:href=\"#DejaVuSans-120\"/>\n     </g>\n    </g>\n   </g>\n   <g id=\"matplotlib.axis_2\">\n    <g id=\"ytick_1\">\n     <g id=\"line2d_7\">\n      <defs>\n       <path d=\"M 0 0 \nL -3.5 0 \n\" id=\"mc764b135c1\" style=\"stroke:#000000;stroke-width:0.8;\"/>\n      </defs>\n      <g>\n       <use style=\"stroke:#000000;stroke-width:0.8;\" x=\"53.328125\" xlink:href=\"#mc764b135c1\" y=\"214.756364\"/>\n      </g>\n     </g>\n     <g id=\"text_8\">\n      <!-- 0 -->\n      <g transform=\"translate(39.965625 218.555582)scale(0.1 -0.1)\">\n       <use xlink:href=\"#DejaVuSans-48\"/>\n      </g>\n     </g>\n    </g>\n    <g id=\"ytick_2\">\n     <g id=\"line2d_8\">\n      <g>\n       <use style=\"stroke:#000000;stroke-width:0.8;\" x=\"53.328125\" xlink:href=\"#mc764b135c1\" y=\"175.221818\"/>\n      </g>\n     </g>\n     <g id=\"text_9\">\n      <!-- 500 -->\n      <g transform=\"translate(27.240625 179.021037)scale(0.1 -0.1)\">\n       <use xlink:href=\"#DejaVuSans-53\"/>\n       <use x=\"63.623047\" xlink:href=\"#DejaVuSans-48\"/>\n       <use x=\"127.246094\" xlink:href=\"#DejaVuSans-48\"/>\n      </g>\n     </g>\n    </g>\n    <g id=\"ytick_3\">\n     <g id=\"line2d_9\">\n      <g>\n       <use style=\"stroke:#000000;stroke-width:0.8;\" x=\"53.328125\" xlink:href=\"#mc764b135c1\" y=\"135.687273\"/>\n      </g>\n     </g>\n     <g id=\"text_10\">\n      <!-- 1000 -->\n      <g transform=\"translate(20.878125 139.486491)scale(0.1 -0.1)\">\n       <use xlink:href=\"#DejaVuSans-49\"/>\n       <use x=\"63.623047\" xlink:href=\"#DejaVuSans-48\"/>\n       <use x=\"127.246094\" xlink:href=\"#DejaVuSans-48\"/>\n       <use x=\"190.869141\" xlink:href=\"#DejaVuSans-48\"/>\n      </g>\n     </g>\n    </g>\n    <g id=\"ytick_4\">\n     <g id=\"line2d_10\">\n      <g>\n       <use style=\"stroke:#000000;stroke-width:0.8;\" x=\"53.328125\" xlink:href=\"#mc764b135c1\" y=\"96.152727\"/>\n      </g>\n     </g>\n     <g id=\"text_11\">\n      <!-- 1500 -->\n      <g transform=\"translate(20.878125 99.951946)scale(0.1 -0.1)\">\n       <use xlink:href=\"#DejaVuSans-49\"/>\n       <use x=\"63.623047\" xlink:href=\"#DejaVuSans-53\"/>\n       <use x=\"127.246094\" xlink:href=\"#DejaVuSans-48\"/>\n       <use x=\"190.869141\" xlink:href=\"#DejaVuSans-48\"/>\n      </g>\n     </g>\n    </g>\n    <g id=\"ytick_5\">\n     <g id=\"line2d_11\">\n      <g>\n       <use style=\"stroke:#000000;stroke-width:0.8;\" x=\"53.328125\" xlink:href=\"#mc764b135c1\" y=\"56.618182\"/>\n      </g>\n     </g>\n     <g id=\"text_12\">\n      <!-- 2000 -->\n      <g transform=\"translate(20.878125 60.417401)scale(0.1 -0.1)\">\n       <use xlink:href=\"#DejaVuSans-50\"/>\n       <use x=\"63.623047\" xlink:href=\"#DejaVuSans-48\"/>\n       <use x=\"127.246094\" xlink:href=\"#DejaVuSans-48\"/>\n       <use x=\"190.869141\" xlink:href=\"#DejaVuSans-48\"/>\n      </g>\n     </g>\n    </g>\n    <g id=\"ytick_6\">\n     <g id=\"line2d_12\">\n      <g>\n       <use style=\"stroke:#000000;stroke-width:0.8;\" x=\"53.328125\" xlink:href=\"#mc764b135c1\" y=\"17.083636\"/>\n      </g>\n     </g>\n     <g id=\"text_13\">\n      <!-- 2500 -->\n      <g transform=\"translate(20.878125 20.882855)scale(0.1 -0.1)\">\n       <use xlink:href=\"#DejaVuSans-50\"/>\n       <use x=\"63.623047\" xlink:href=\"#DejaVuSans-53\"/>\n       <use x=\"127.246094\" xlink:href=\"#DejaVuSans-48\"/>\n       <use x=\"190.869141\" xlink:href=\"#DejaVuSans-48\"/>\n      </g>\n     </g>\n    </g>\n    <g id=\"text_14\">\n     <!-- y -->\n     <defs>\n      <path d=\"M 32.171875 -5.078125 \nQ 28.375 -14.84375 24.75 -17.8125 \nQ 21.140625 -20.796875 15.09375 -20.796875 \nL 7.90625 -20.796875 \nL 7.90625 -13.28125 \nL 13.1875 -13.28125 \nQ 16.890625 -13.28125 18.9375 -11.515625 \nQ 21 -9.765625 23.484375 -3.21875 \nL 25.09375 0.875 \nL 2.984375 54.6875 \nL 12.5 54.6875 \nL 29.59375 11.921875 \nL 46.6875 54.6875 \nL 56.203125 54.6875 \nz\n\" id=\"DejaVuSans-121\"/>\n     </defs>\n     <g transform=\"translate(14.798438 118.879375)rotate(-90)scale(0.1 -0.1)\">\n      <use xlink:href=\"#DejaVuSans-121\"/>\n     </g>\n    </g>\n   </g>\n   <g id=\"line2d_13\">\n    <path clip-path=\"url(#p4342655670)\" d=\"M 68.546307 214.756364 \nL 71.620687 214.736195 \nL 74.695067 214.675689 \nL 77.769447 214.574846 \nL 80.843827 214.433666 \nL 83.918208 214.252148 \nL 86.992588 214.030293 \nL 90.066968 213.768101 \nL 93.141348 213.465571 \nL 96.215728 213.122705 \nL 99.290108 212.739501 \nL 102.364489 212.31596 \nL 105.438869 211.852081 \nL 108.513249 211.347865 \nL 111.587629 210.803312 \nL 114.662009 210.218422 \nL 117.736389 209.593195 \nL 120.81077 208.92763 \nL 123.88515 208.221728 \nL 126.95953 207.475489 \nL 130.03391 206.688912 \nL 133.10829 205.861998 \nL 136.18267 204.994747 \nL 139.257051 204.087159 \nL 142.331431 203.139234 \nL 145.405811 202.150971 \nL 148.480191 201.122371 \nL 151.554571 200.053434 \nL 154.628951 198.944159 \nL 157.703332 197.794547 \nL 160.777712 196.604598 \nL 163.852092 195.374312 \nL 166.926472 194.103688 \nL 170.000852 192.792727 \nL 173.075232 191.441429 \nL 176.149613 190.049794 \nL 179.223993 188.617821 \nL 182.298373 187.145511 \nL 185.372753 185.632864 \nL 188.447133 184.07988 \nL 191.521513 182.486558 \nL 194.595894 180.852899 \nL 197.670274 179.178903 \nL 200.744654 177.46457 \nL 203.819034 175.709899 \nL 206.893414 173.914891 \nL 209.967794 172.079546 \nL 213.042175 170.203863 \nL 216.116555 168.287844 \nL 219.190935 166.331487 \nL 222.265315 164.334793 \nL 225.339695 162.297761 \nL 228.414075 160.220392 \nL 231.488456 158.102686 \nL 234.562836 155.944643 \nL 237.637216 153.746263 \nL 240.711596 151.507545 \nL 243.785976 149.22849 \nL 246.860356 146.909098 \nL 249.934737 144.549368 \nL 253.009117 142.149301 \nL 256.083497 139.708897 \nL 259.157877 137.228156 \nL 262.232257 134.707077 \nL 265.306637 132.145662 \nL 268.381018 129.543909 \nL 271.455398 126.901818 \nL 274.529778 124.219391 \nL 277.604158 121.496626 \nL 280.678538 118.733524 \nL 283.752918 115.930084 \nL 286.827299 113.086308 \nL 289.901679 110.202194 \nL 292.976059 107.277743 \nL 296.050439 104.312954 \nL 299.124819 101.307829 \nL 302.199199 98.262366 \nL 305.27358 95.176566 \nL 308.34796 92.050428 \nL 311.42234 88.883954 \nL 314.49672 85.677142 \nL 317.5711 82.429992 \nL 320.64548 79.142506 \nL 323.719861 75.814682 \nL 326.794241 72.446521 \nL 329.868621 69.038023 \nL 332.943001 65.589188 \nL 336.017381 62.100015 \nL 339.091761 58.570505 \nL 342.166142 55.000658 \nL 345.240522 51.390473 \nL 348.314902 47.739952 \nL 351.389282 44.049093 \nL 354.463662 40.317896 \nL 357.538042 36.546363 \nL 360.612423 32.734492 \nL 363.686803 28.882284 \nL 366.761183 24.989739 \nL 369.835563 21.056856 \nL 372.909943 17.083636 \n\" style=\"fill:none;stroke:#1f77b4;stroke-linecap:square;stroke-width:1.5;\"/>\n   </g>\n   <g id=\"patch_3\">\n    <path d=\"M 53.328125 224.64 \nL 53.328125 7.2 \n\" style=\"fill:none;stroke:#000000;stroke-linecap:square;stroke-linejoin:miter;stroke-width:0.8;\"/>\n   </g>\n   <g id=\"patch_4\">\n    <path d=\"M 388.128125 224.64 \nL 388.128125 7.2 \n\" style=\"fill:none;stroke:#000000;stroke-linecap:square;stroke-linejoin:miter;stroke-width:0.8;\"/>\n   </g>\n   <g id=\"patch_5\">\n    <path d=\"M 53.328125 224.64 \nL 388.128125 224.64 \n\" style=\"fill:none;stroke:#000000;stroke-linecap:square;stroke-linejoin:miter;stroke-width:0.8;\"/>\n   </g>\n   <g id=\"patch_6\">\n    <path d=\"M 53.328125 7.2 \nL 388.128125 7.2 \n\" style=\"fill:none;stroke:#000000;stroke-linecap:square;stroke-linejoin:miter;stroke-width:0.8;\"/>\n   </g>\n  </g>\n </g>\n <defs>\n  <clipPath id=\"p4342655670\">\n   <rect height=\"217.44\" width=\"334.8\" x=\"53.328125\" y=\"7.2\"/>\n  </clipPath>\n </defs>\n</svg>\n",
      "image/png": "[encoded data removed]"
     },
     "metadata": {
      "needs_background": "light"
     }
    }
   ],
   "source": [
    "x = np.linspace(0,50,100)\n",
    "y = x**2\n",
    "plt.figure()\n",
    "plt.plot(x,y)\n",
    "plt.xlabel('x')\n",
    "plt.ylabel('y')\n",
    "plt.show()"
   ]
  },
  {
   "cell_type": "markdown",
   "metadata": {
    "colab_type": "text",
    "id": "aoX9riKa_-98"
   },
   "source": [
    "On peut mettre plusieurs lignes. Parmi les graphiques utiles, il y a scatter, plot (ligne) et hist (histogram). Ce site [web](https://matplotlib.org/3.1.1/tutorials/introductory/sample_plots.html) vous donne toute une liste de graphiques. "
   ]
  },
  {
   "cell_type": "code",
   "execution_count": 83,
   "metadata": {
    "colab": {
     "base_uri": "https://localhost:8080/",
     "height": 382
    },
    "colab_type": "code",
    "executionInfo": {
     "elapsed": 6327,
     "status": "ok",
     "timestamp": 1577482005618,
     "user": {
      "displayName": "Pierre-Carl Michaud",
      "photoUrl": "https://lh3.googleusercontent.com/a-/AAuE7mAdgz-NrQSA9R7zmMIwPXQ4J9kyOWfiGgbt2_zLMA=s64",
      "userId": "08245724259323112556"
     },
     "user_tz": 300
    },
    "id": "db3ziut3MqGd",
    "outputId": "752a8d25-17e2-423a-bede-a7cb8fedc319"
   },
   "outputs": [
    {
     "output_type": "display_data",
     "data": {
      "text/plain": "<Figure size 432x288 with 1 Axes>",
      "image/svg+xml": "<?xml version=\"1.0\" encoding=\"utf-8\" standalone=\"no\"?>\n<!DOCTYPE svg PUBLIC \"-//W3C//DTD SVG 1.1//EN\"\n  \"http://www.w3.org/Graphics/SVG/1.1/DTD/svg11.dtd\">\n<!-- Created with matplotlib (https://matplotlib.org/) -->\n<svg height=\"366.58625pt\" version=\"1.1\" viewBox=\"0 0 385.78125 366.58625\" width=\"385.78125pt\" xmlns=\"http://www.w3.org/2000/svg\" xmlns:xlink=\"http://www.w3.org/1999/xlink\">\n <defs>\n  <style type=\"text/css\">\n*{stroke-linecap:butt;stroke-linejoin:round;}\n  </style>\n </defs>\n <g id=\"figure_1\">\n  <g id=\"patch_1\">\n   <path d=\"M 0 366.58625 \nL 385.78125 366.58625 \nL 385.78125 0 \nL 0 0 \nz\n\" style=\"fill:none;\"/>\n  </g>\n  <g id=\"axes_1\">\n   <g id=\"patch_2\">\n    <path d=\"M 43.78125 239.758125 \nL 378.58125 239.758125 \nL 378.58125 22.318125 \nL 43.78125 22.318125 \nz\n\" style=\"fill:#ffffff;\"/>\n   </g>\n   <g id=\"patch_3\">\n    <path clip-path=\"url(#p3cbc8c2535)\" d=\"M 58.999432 239.758125 \nL 71.951076 239.758125 \nL 71.951076 213.442 \nL 58.999432 213.442 \nz\n\" style=\"fill:#1f77b4;\"/>\n   </g>\n   <g id=\"patch_4\">\n    <path clip-path=\"url(#p3cbc8c2535)\" d=\"M 75.188987 239.758125 \nL 88.140631 239.758125 \nL 88.140631 139.190059 \nL 75.188987 139.190059 \nz\n\" style=\"fill:#1f77b4;\"/>\n   </g>\n   <g id=\"patch_5\">\n    <path clip-path=\"url(#p3cbc8c2535)\" d=\"M 91.378542 239.758125 \nL 104.330186 239.758125 \nL 104.330186 191.994761 \nL 91.378542 191.994761 \nz\n\" style=\"fill:#1f77b4;\"/>\n   </g>\n   <g id=\"patch_6\">\n    <path clip-path=\"url(#p3cbc8c2535)\" d=\"M 107.568097 239.758125 \nL 120.519741 239.758125 \nL 120.519741 152.325128 \nL 107.568097 152.325128 \nz\n\" style=\"fill:#1f77b4;\"/>\n   </g>\n   <g id=\"patch_7\">\n    <path clip-path=\"url(#p3cbc8c2535)\" d=\"M 123.757652 239.758125 \nL 136.709296 239.758125 \nL 136.709296 203.738719 \nL 123.757652 203.738719 \nz\n\" style=\"fill:#1f77b4;\"/>\n   </g>\n   <g id=\"patch_8\">\n    <path clip-path=\"url(#p3cbc8c2535)\" d=\"M 139.947207 239.758125 \nL 152.898852 239.758125 \nL 152.898852 164.385248 \nL 139.947207 164.385248 \nz\n\" style=\"fill:#1f77b4;\"/>\n   </g>\n   <g id=\"patch_9\">\n    <path clip-path=\"url(#p3cbc8c2535)\" d=\"M 156.136763 239.758125 \nL 169.088407 239.758125 \nL 169.088407 212.453277 \nL 156.136763 212.453277 \nz\n\" style=\"fill:#1f77b4;\"/>\n   </g>\n   <g id=\"patch_10\">\n    <path clip-path=\"url(#p3cbc8c2535)\" d=\"M 172.326318 239.758125 \nL 185.277962 239.758125 \nL 185.277962 161.893322 \nL 172.326318 161.893322 \nz\n\" style=\"fill:#1f77b4;\"/>\n   </g>\n   <g id=\"patch_11\">\n    <path clip-path=\"url(#p3cbc8c2535)\" d=\"M 188.515873 239.758125 \nL 201.467517 239.758125 \nL 201.467517 169.699634 \nL 188.515873 169.699634 \nz\n\" style=\"fill:#1f77b4;\"/>\n   </g>\n   <g id=\"patch_12\">\n    <path clip-path=\"url(#p3cbc8c2535)\" d=\"M 204.705428 239.758125 \nL 217.657072 239.758125 \nL 217.657072 178.537782 \nL 204.705428 178.537782 \nz\n\" style=\"fill:#1f77b4;\"/>\n   </g>\n   <g id=\"patch_13\">\n    <path clip-path=\"url(#p3cbc8c2535)\" d=\"M 220.894983 239.758125 \nL 233.846627 239.758125 \nL 233.846627 184.024619 \nL 220.894983 184.024619 \nz\n\" style=\"fill:#1f77b4;\"/>\n   </g>\n   <g id=\"patch_14\">\n    <path clip-path=\"url(#p3cbc8c2535)\" d=\"M 237.084538 239.758125 \nL 250.036182 239.758125 \nL 250.036182 61.486211 \nL 237.084538 61.486211 \nz\n\" style=\"fill:#1f77b4;\"/>\n   </g>\n   <g id=\"patch_15\">\n    <path clip-path=\"url(#p3cbc8c2535)\" d=\"M 253.274093 239.758125 \nL 266.225737 239.758125 \nL 266.225737 219.730738 \nL 253.274093 219.730738 \nz\n\" style=\"fill:#1f77b4;\"/>\n   </g>\n   <g id=\"patch_16\">\n    <path clip-path=\"url(#p3cbc8c2535)\" d=\"M 269.463648 239.758125 \nL 282.415293 239.758125 \nL 282.415293 148.716577 \nL 269.463648 148.716577 \nz\n\" style=\"fill:#1f77b4;\"/>\n   </g>\n   <g id=\"patch_17\">\n    <path clip-path=\"url(#p3cbc8c2535)\" d=\"M 285.653204 239.758125 \nL 298.604848 239.758125 \nL 298.604848 32.672411 \nL 285.653204 32.672411 \nz\n\" style=\"fill:#1f77b4;\"/>\n   </g>\n   <g id=\"patch_18\">\n    <path clip-path=\"url(#p3cbc8c2535)\" d=\"M 301.842759 239.758125 \nL 314.794403 239.758125 \nL 314.794403 199.398686 \nL 301.842759 199.398686 \nz\n\" style=\"fill:#1f77b4;\"/>\n   </g>\n   <g id=\"patch_19\">\n    <path clip-path=\"url(#p3cbc8c2535)\" d=\"M 318.032314 239.758125 \nL 330.983958 239.758125 \nL 330.983958 100.848304 \nL 318.032314 100.848304 \nz\n\" style=\"fill:#1f77b4;\"/>\n   </g>\n   <g id=\"patch_20\">\n    <path clip-path=\"url(#p3cbc8c2535)\" d=\"M 334.221869 239.758125 \nL 347.173513 239.758125 \nL 347.173513 226.881734 \nL 334.221869 226.881734 \nz\n\" style=\"fill:#1f77b4;\"/>\n   </g>\n   <g id=\"patch_21\">\n    <path clip-path=\"url(#p3cbc8c2535)\" d=\"M 350.411424 239.758125 \nL 363.363068 239.758125 \nL 363.363068 198.369724 \nL 350.411424 198.369724 \nz\n\" style=\"fill:#1f77b4;\"/>\n   </g>\n   <g id=\"matplotlib.axis_1\">\n    <g id=\"xtick_1\">\n     <g id=\"line2d_1\">\n      <defs>\n       <path d=\"M 0 0 \nL 0 3.5 \n\" id=\"m9640e36071\" style=\"stroke:#000000;stroke-width:0.8;\"/>\n      </defs>\n      <g>\n       <use style=\"stroke:#000000;stroke-width:0.8;\" x=\"65.475254\" xlink:href=\"#m9640e36071\" y=\"239.758125\"/>\n      </g>\n     </g>\n     <g id=\"text_1\">\n      <!-- Apple -->\n      <defs>\n       <path d=\"M 34.1875 63.1875 \nL 20.796875 26.90625 \nL 47.609375 26.90625 \nz\nM 28.609375 72.90625 \nL 39.796875 72.90625 \nL 67.578125 0 \nL 57.328125 0 \nL 50.6875 18.703125 \nL 17.828125 18.703125 \nL 11.1875 0 \nL 0.78125 0 \nz\n\" id=\"DejaVuSans-65\"/>\n       <path d=\"M 18.109375 8.203125 \nL 18.109375 -20.796875 \nL 9.078125 -20.796875 \nL 9.078125 54.6875 \nL 18.109375 54.6875 \nL 18.109375 46.390625 \nQ 20.953125 51.265625 25.265625 53.625 \nQ 29.59375 56 35.59375 56 \nQ 45.5625 56 51.78125 48.09375 \nQ 58.015625 40.1875 58.015625 27.296875 \nQ 58.015625 14.40625 51.78125 6.484375 \nQ 45.5625 -1.421875 35.59375 -1.421875 \nQ 29.59375 -1.421875 25.265625 0.953125 \nQ 20.953125 3.328125 18.109375 8.203125 \nz\nM 48.6875 27.296875 \nQ 48.6875 37.203125 44.609375 42.84375 \nQ 40.53125 48.484375 33.40625 48.484375 \nQ 26.265625 48.484375 22.1875 42.84375 \nQ 18.109375 37.203125 18.109375 27.296875 \nQ 18.109375 17.390625 22.1875 11.75 \nQ 26.265625 6.109375 33.40625 6.109375 \nQ 40.53125 6.109375 44.609375 11.75 \nQ 48.6875 17.390625 48.6875 27.296875 \nz\n\" id=\"DejaVuSans-112\"/>\n       <path d=\"M 9.421875 75.984375 \nL 18.40625 75.984375 \nL 18.40625 0 \nL 9.421875 0 \nz\n\" id=\"DejaVuSans-108\"/>\n       <path d=\"M 56.203125 29.59375 \nL 56.203125 25.203125 \nL 14.890625 25.203125 \nQ 15.484375 15.921875 20.484375 11.0625 \nQ 25.484375 6.203125 34.421875 6.203125 \nQ 39.59375 6.203125 44.453125 7.46875 \nQ 49.3125 8.734375 54.109375 11.28125 \nL 54.109375 2.78125 \nQ 49.265625 0.734375 44.1875 -0.34375 \nQ 39.109375 -1.421875 33.890625 -1.421875 \nQ 20.796875 -1.421875 13.15625 6.1875 \nQ 5.515625 13.8125 5.515625 26.8125 \nQ 5.515625 40.234375 12.765625 48.109375 \nQ 20.015625 56 32.328125 56 \nQ 43.359375 56 49.78125 48.890625 \nQ 56.203125 41.796875 56.203125 29.59375 \nz\nM 47.21875 32.234375 \nQ 47.125 39.59375 43.09375 43.984375 \nQ 39.0625 48.390625 32.421875 48.390625 \nQ 24.90625 48.390625 20.390625 44.140625 \nQ 15.875 39.890625 15.1875 32.171875 \nz\n\" id=\"DejaVuSans-101\"/>\n      </defs>\n      <g transform=\"translate(68.234629 275.226875)rotate(-90)scale(0.1 -0.1)\">\n       <use xlink:href=\"#DejaVuSans-65\"/>\n       <use x=\"68.408203\" xlink:href=\"#DejaVuSans-112\"/>\n       <use x=\"131.884766\" xlink:href=\"#DejaVuSans-112\"/>\n       <use x=\"195.361328\" xlink:href=\"#DejaVuSans-108\"/>\n       <use x=\"223.144531\" xlink:href=\"#DejaVuSans-101\"/>\n      </g>\n     </g>\n    </g>\n    <g id=\"xtick_2\">\n     <g id=\"line2d_2\">\n      <g>\n       <use style=\"stroke:#000000;stroke-width:0.8;\" x=\"81.664809\" xlink:href=\"#m9640e36071\" y=\"239.758125\"/>\n      </g>\n     </g>\n     <g id=\"text_2\">\n      <!-- Apple juice -->\n      <defs>\n       <path id=\"DejaVuSans-32\"/>\n       <path d=\"M 9.421875 54.6875 \nL 18.40625 54.6875 \nL 18.40625 -0.984375 \nQ 18.40625 -11.421875 14.421875 -16.109375 \nQ 10.453125 -20.796875 1.609375 -20.796875 \nL -1.8125 -20.796875 \nL -1.8125 -13.1875 \nL 0.59375 -13.1875 \nQ 5.71875 -13.1875 7.5625 -10.8125 \nQ 9.421875 -8.453125 9.421875 -0.984375 \nz\nM 9.421875 75.984375 \nL 18.40625 75.984375 \nL 18.40625 64.59375 \nL 9.421875 64.59375 \nz\n\" id=\"DejaVuSans-106\"/>\n       <path d=\"M 8.5 21.578125 \nL 8.5 54.6875 \nL 17.484375 54.6875 \nL 17.484375 21.921875 \nQ 17.484375 14.15625 20.5 10.265625 \nQ 23.53125 6.390625 29.59375 6.390625 \nQ 36.859375 6.390625 41.078125 11.03125 \nQ 45.3125 15.671875 45.3125 23.6875 \nL 45.3125 54.6875 \nL 54.296875 54.6875 \nL 54.296875 0 \nL 45.3125 0 \nL 45.3125 8.40625 \nQ 42.046875 3.421875 37.71875 1 \nQ 33.40625 -1.421875 27.6875 -1.421875 \nQ 18.265625 -1.421875 13.375 4.4375 \nQ 8.5 10.296875 8.5 21.578125 \nz\nM 31.109375 56 \nz\n\" id=\"DejaVuSans-117\"/>\n       <path d=\"M 9.421875 54.6875 \nL 18.40625 54.6875 \nL 18.40625 0 \nL 9.421875 0 \nz\nM 9.421875 75.984375 \nL 18.40625 75.984375 \nL 18.40625 64.59375 \nL 9.421875 64.59375 \nz\n\" id=\"DejaVuSans-105\"/>\n       <path d=\"M 48.78125 52.59375 \nL 48.78125 44.1875 \nQ 44.96875 46.296875 41.140625 47.34375 \nQ 37.3125 48.390625 33.40625 48.390625 \nQ 24.65625 48.390625 19.8125 42.84375 \nQ 14.984375 37.3125 14.984375 27.296875 \nQ 14.984375 17.28125 19.8125 11.734375 \nQ 24.65625 6.203125 33.40625 6.203125 \nQ 37.3125 6.203125 41.140625 7.25 \nQ 44.96875 8.296875 48.78125 10.40625 \nL 48.78125 2.09375 \nQ 45.015625 0.34375 40.984375 -0.53125 \nQ 36.96875 -1.421875 32.421875 -1.421875 \nQ 20.0625 -1.421875 12.78125 6.34375 \nQ 5.515625 14.109375 5.515625 27.296875 \nQ 5.515625 40.671875 12.859375 48.328125 \nQ 20.21875 56 33.015625 56 \nQ 37.15625 56 41.109375 55.140625 \nQ 45.0625 54.296875 48.78125 52.59375 \nz\n\" id=\"DejaVuSans-99\"/>\n      </defs>\n      <g transform=\"translate(84.424184 301.950313)rotate(-90)scale(0.1 -0.1)\">\n       <use xlink:href=\"#DejaVuSans-65\"/>\n       <use x=\"68.408203\" xlink:href=\"#DejaVuSans-112\"/>\n       <use x=\"131.884766\" xlink:href=\"#DejaVuSans-112\"/>\n       <use x=\"195.361328\" xlink:href=\"#DejaVuSans-108\"/>\n       <use x=\"223.144531\" xlink:href=\"#DejaVuSans-101\"/>\n       <use x=\"284.667969\" xlink:href=\"#DejaVuSans-32\"/>\n       <use x=\"316.455078\" xlink:href=\"#DejaVuSans-106\"/>\n       <use x=\"344.238281\" xlink:href=\"#DejaVuSans-117\"/>\n       <use x=\"407.617188\" xlink:href=\"#DejaVuSans-105\"/>\n       <use x=\"435.400391\" xlink:href=\"#DejaVuSans-99\"/>\n       <use x=\"490.380859\" xlink:href=\"#DejaVuSans-101\"/>\n      </g>\n     </g>\n    </g>\n    <g id=\"xtick_3\">\n     <g id=\"line2d_3\">\n      <g>\n       <use style=\"stroke:#000000;stroke-width:0.8;\" x=\"97.854364\" xlink:href=\"#m9640e36071\" y=\"239.758125\"/>\n      </g>\n     </g>\n     <g id=\"text_3\">\n      <!-- Banana -->\n      <defs>\n       <path d=\"M 19.671875 34.8125 \nL 19.671875 8.109375 \nL 35.5 8.109375 \nQ 43.453125 8.109375 47.28125 11.40625 \nQ 51.125 14.703125 51.125 21.484375 \nQ 51.125 28.328125 47.28125 31.5625 \nQ 43.453125 34.8125 35.5 34.8125 \nz\nM 19.671875 64.796875 \nL 19.671875 42.828125 \nL 34.28125 42.828125 \nQ 41.5 42.828125 45.03125 45.53125 \nQ 48.578125 48.25 48.578125 53.8125 \nQ 48.578125 59.328125 45.03125 62.0625 \nQ 41.5 64.796875 34.28125 64.796875 \nz\nM 9.8125 72.90625 \nL 35.015625 72.90625 \nQ 46.296875 72.90625 52.390625 68.21875 \nQ 58.5 63.53125 58.5 54.890625 \nQ 58.5 48.1875 55.375 44.234375 \nQ 52.25 40.28125 46.1875 39.3125 \nQ 53.46875 37.75 57.5 32.78125 \nQ 61.53125 27.828125 61.53125 20.40625 \nQ 61.53125 10.640625 54.890625 5.3125 \nQ 48.25 0 35.984375 0 \nL 9.8125 0 \nz\n\" id=\"DejaVuSans-66\"/>\n       <path d=\"M 34.28125 27.484375 \nQ 23.390625 27.484375 19.1875 25 \nQ 14.984375 22.515625 14.984375 16.5 \nQ 14.984375 11.71875 18.140625 8.90625 \nQ 21.296875 6.109375 26.703125 6.109375 \nQ 34.1875 6.109375 38.703125 11.40625 \nQ 43.21875 16.703125 43.21875 25.484375 \nL 43.21875 27.484375 \nz\nM 52.203125 31.203125 \nL 52.203125 0 \nL 43.21875 0 \nL 43.21875 8.296875 \nQ 40.140625 3.328125 35.546875 0.953125 \nQ 30.953125 -1.421875 24.3125 -1.421875 \nQ 15.921875 -1.421875 10.953125 3.296875 \nQ 6 8.015625 6 15.921875 \nQ 6 25.140625 12.171875 29.828125 \nQ 18.359375 34.515625 30.609375 34.515625 \nL 43.21875 34.515625 \nL 43.21875 35.40625 \nQ 43.21875 41.609375 39.140625 45 \nQ 35.0625 48.390625 27.6875 48.390625 \nQ 23 48.390625 18.546875 47.265625 \nQ 14.109375 46.140625 10.015625 43.890625 \nL 10.015625 52.203125 \nQ 14.9375 54.109375 19.578125 55.046875 \nQ 24.21875 56 28.609375 56 \nQ 40.484375 56 46.34375 49.84375 \nQ 52.203125 43.703125 52.203125 31.203125 \nz\n\" id=\"DejaVuSans-97\"/>\n       <path d=\"M 54.890625 33.015625 \nL 54.890625 0 \nL 45.90625 0 \nL 45.90625 32.71875 \nQ 45.90625 40.484375 42.875 44.328125 \nQ 39.84375 48.1875 33.796875 48.1875 \nQ 26.515625 48.1875 22.3125 43.546875 \nQ 18.109375 38.921875 18.109375 30.90625 \nL 18.109375 0 \nL 9.078125 0 \nL 9.078125 54.6875 \nL 18.109375 54.6875 \nL 18.109375 46.1875 \nQ 21.34375 51.125 25.703125 53.5625 \nQ 30.078125 56 35.796875 56 \nQ 45.21875 56 50.046875 50.171875 \nQ 54.890625 44.34375 54.890625 33.015625 \nz\n\" id=\"DejaVuSans-110\"/>\n      </defs>\n      <g transform=\"translate(100.613739 284.678438)rotate(-90)scale(0.1 -0.1)\">\n       <use xlink:href=\"#DejaVuSans-66\"/>\n       <use x=\"68.603516\" xlink:href=\"#DejaVuSans-97\"/>\n       <use x=\"129.882812\" xlink:href=\"#DejaVuSans-110\"/>\n       <use x=\"193.261719\" xlink:href=\"#DejaVuSans-97\"/>\n       <use x=\"254.541016\" xlink:href=\"#DejaVuSans-110\"/>\n       <use x=\"317.919922\" xlink:href=\"#DejaVuSans-97\"/>\n      </g>\n     </g>\n    </g>\n    <g id=\"xtick_4\">\n     <g id=\"line2d_4\">\n      <g>\n       <use style=\"stroke:#000000;stroke-width:0.8;\" x=\"114.043919\" xlink:href=\"#m9640e36071\" y=\"239.758125\"/>\n      </g>\n     </g>\n     <g id=\"text_4\">\n      <!-- Beverage and tobacco -->\n      <defs>\n       <path d=\"M 2.984375 54.6875 \nL 12.5 54.6875 \nL 29.59375 8.796875 \nL 46.6875 54.6875 \nL 56.203125 54.6875 \nL 35.6875 0 \nL 23.484375 0 \nz\n\" id=\"DejaVuSans-118\"/>\n       <path d=\"M 41.109375 46.296875 \nQ 39.59375 47.171875 37.8125 47.578125 \nQ 36.03125 48 33.890625 48 \nQ 26.265625 48 22.1875 43.046875 \nQ 18.109375 38.09375 18.109375 28.8125 \nL 18.109375 0 \nL 9.078125 0 \nL 9.078125 54.6875 \nL 18.109375 54.6875 \nL 18.109375 46.1875 \nQ 20.953125 51.171875 25.484375 53.578125 \nQ 30.03125 56 36.53125 56 \nQ 37.453125 56 38.578125 55.875 \nQ 39.703125 55.765625 41.0625 55.515625 \nz\n\" id=\"DejaVuSans-114\"/>\n       <path d=\"M 45.40625 27.984375 \nQ 45.40625 37.75 41.375 43.109375 \nQ 37.359375 48.484375 30.078125 48.484375 \nQ 22.859375 48.484375 18.828125 43.109375 \nQ 14.796875 37.75 14.796875 27.984375 \nQ 14.796875 18.265625 18.828125 12.890625 \nQ 22.859375 7.515625 30.078125 7.515625 \nQ 37.359375 7.515625 41.375 12.890625 \nQ 45.40625 18.265625 45.40625 27.984375 \nz\nM 54.390625 6.78125 \nQ 54.390625 -7.171875 48.1875 -13.984375 \nQ 42 -20.796875 29.203125 -20.796875 \nQ 24.46875 -20.796875 20.265625 -20.09375 \nQ 16.0625 -19.390625 12.109375 -17.921875 \nL 12.109375 -9.1875 \nQ 16.0625 -11.328125 19.921875 -12.34375 \nQ 23.78125 -13.375 27.78125 -13.375 \nQ 36.625 -13.375 41.015625 -8.765625 \nQ 45.40625 -4.15625 45.40625 5.171875 \nL 45.40625 9.625 \nQ 42.625 4.78125 38.28125 2.390625 \nQ 33.9375 0 27.875 0 \nQ 17.828125 0 11.671875 7.65625 \nQ 5.515625 15.328125 5.515625 27.984375 \nQ 5.515625 40.671875 11.671875 48.328125 \nQ 17.828125 56 27.875 56 \nQ 33.9375 56 38.28125 53.609375 \nQ 42.625 51.21875 45.40625 46.390625 \nL 45.40625 54.6875 \nL 54.390625 54.6875 \nz\n\" id=\"DejaVuSans-103\"/>\n       <path d=\"M 45.40625 46.390625 \nL 45.40625 75.984375 \nL 54.390625 75.984375 \nL 54.390625 0 \nL 45.40625 0 \nL 45.40625 8.203125 \nQ 42.578125 3.328125 38.25 0.953125 \nQ 33.9375 -1.421875 27.875 -1.421875 \nQ 17.96875 -1.421875 11.734375 6.484375 \nQ 5.515625 14.40625 5.515625 27.296875 \nQ 5.515625 40.1875 11.734375 48.09375 \nQ 17.96875 56 27.875 56 \nQ 33.9375 56 38.25 53.625 \nQ 42.578125 51.265625 45.40625 46.390625 \nz\nM 14.796875 27.296875 \nQ 14.796875 17.390625 18.875 11.75 \nQ 22.953125 6.109375 30.078125 6.109375 \nQ 37.203125 6.109375 41.296875 11.75 \nQ 45.40625 17.390625 45.40625 27.296875 \nQ 45.40625 37.203125 41.296875 42.84375 \nQ 37.203125 48.484375 30.078125 48.484375 \nQ 22.953125 48.484375 18.875 42.84375 \nQ 14.796875 37.203125 14.796875 27.296875 \nz\n\" id=\"DejaVuSans-100\"/>\n       <path d=\"M 18.3125 70.21875 \nL 18.3125 54.6875 \nL 36.8125 54.6875 \nL 36.8125 47.703125 \nL 18.3125 47.703125 \nL 18.3125 18.015625 \nQ 18.3125 11.328125 20.140625 9.421875 \nQ 21.96875 7.515625 27.59375 7.515625 \nL 36.8125 7.515625 \nL 36.8125 0 \nL 27.59375 0 \nQ 17.1875 0 13.234375 3.875 \nQ 9.28125 7.765625 9.28125 18.015625 \nL 9.28125 47.703125 \nL 2.6875 47.703125 \nL 2.6875 54.6875 \nL 9.28125 54.6875 \nL 9.28125 70.21875 \nz\n\" id=\"DejaVuSans-116\"/>\n       <path d=\"M 30.609375 48.390625 \nQ 23.390625 48.390625 19.1875 42.75 \nQ 14.984375 37.109375 14.984375 27.296875 \nQ 14.984375 17.484375 19.15625 11.84375 \nQ 23.34375 6.203125 30.609375 6.203125 \nQ 37.796875 6.203125 41.984375 11.859375 \nQ 46.1875 17.53125 46.1875 27.296875 \nQ 46.1875 37.015625 41.984375 42.703125 \nQ 37.796875 48.390625 30.609375 48.390625 \nz\nM 30.609375 56 \nQ 42.328125 56 49.015625 48.375 \nQ 55.71875 40.765625 55.71875 27.296875 \nQ 55.71875 13.875 49.015625 6.21875 \nQ 42.328125 -1.421875 30.609375 -1.421875 \nQ 18.84375 -1.421875 12.171875 6.21875 \nQ 5.515625 13.875 5.515625 27.296875 \nQ 5.515625 40.765625 12.171875 48.375 \nQ 18.84375 56 30.609375 56 \nz\n\" id=\"DejaVuSans-111\"/>\n       <path d=\"M 48.6875 27.296875 \nQ 48.6875 37.203125 44.609375 42.84375 \nQ 40.53125 48.484375 33.40625 48.484375 \nQ 26.265625 48.484375 22.1875 42.84375 \nQ 18.109375 37.203125 18.109375 27.296875 \nQ 18.109375 17.390625 22.1875 11.75 \nQ 26.265625 6.109375 33.40625 6.109375 \nQ 40.53125 6.109375 44.609375 11.75 \nQ 48.6875 17.390625 48.6875 27.296875 \nz\nM 18.109375 46.390625 \nQ 20.953125 51.265625 25.265625 53.625 \nQ 29.59375 56 35.59375 56 \nQ 45.5625 56 51.78125 48.09375 \nQ 58.015625 40.1875 58.015625 27.296875 \nQ 58.015625 14.40625 51.78125 6.484375 \nQ 45.5625 -1.421875 35.59375 -1.421875 \nQ 29.59375 -1.421875 25.265625 0.953125 \nQ 20.953125 3.328125 18.109375 8.203125 \nL 18.109375 0 \nL 9.078125 0 \nL 9.078125 75.984375 \nL 18.109375 75.984375 \nz\n\" id=\"DejaVuSans-98\"/>\n      </defs>\n      <g transform=\"translate(116.803294 359.38625)rotate(-90)scale(0.1 -0.1)\">\n       <use xlink:href=\"#DejaVuSans-66\"/>\n       <use x=\"68.603516\" xlink:href=\"#DejaVuSans-101\"/>\n       <use x=\"130.126953\" xlink:href=\"#DejaVuSans-118\"/>\n       <use x=\"189.306641\" xlink:href=\"#DejaVuSans-101\"/>\n       <use x=\"250.830078\" xlink:href=\"#DejaVuSans-114\"/>\n       <use x=\"291.943359\" xlink:href=\"#DejaVuSans-97\"/>\n       <use x=\"353.222656\" xlink:href=\"#DejaVuSans-103\"/>\n       <use x=\"416.699219\" xlink:href=\"#DejaVuSans-101\"/>\n       <use x=\"478.222656\" xlink:href=\"#DejaVuSans-32\"/>\n       <use x=\"510.009766\" xlink:href=\"#DejaVuSans-97\"/>\n       <use x=\"571.289062\" xlink:href=\"#DejaVuSans-110\"/>\n       <use x=\"634.667969\" xlink:href=\"#DejaVuSans-100\"/>\n       <use x=\"698.144531\" xlink:href=\"#DejaVuSans-32\"/>\n       <use x=\"729.931641\" xlink:href=\"#DejaVuSans-116\"/>\n       <use x=\"769.140625\" xlink:href=\"#DejaVuSans-111\"/>\n       <use x=\"830.322266\" xlink:href=\"#DejaVuSans-98\"/>\n       <use x=\"893.798828\" xlink:href=\"#DejaVuSans-97\"/>\n       <use x=\"955.078125\" xlink:href=\"#DejaVuSans-99\"/>\n       <use x=\"1010.058594\" xlink:href=\"#DejaVuSans-99\"/>\n       <use x=\"1065.039062\" xlink:href=\"#DejaVuSans-111\"/>\n      </g>\n     </g>\n    </g>\n    <g id=\"xtick_5\">\n     <g id=\"line2d_5\">\n      <g>\n       <use style=\"stroke:#000000;stroke-width:0.8;\" x=\"130.233474\" xlink:href=\"#m9640e36071\" y=\"239.758125\"/>\n      </g>\n     </g>\n     <g id=\"text_5\">\n      <!-- Bread and cereal -->\n      <g transform=\"translate(132.992849 332.345625)rotate(-90)scale(0.1 -0.1)\">\n       <use xlink:href=\"#DejaVuSans-66\"/>\n       <use x=\"68.603516\" xlink:href=\"#DejaVuSans-114\"/>\n       <use x=\"109.685547\" xlink:href=\"#DejaVuSans-101\"/>\n       <use x=\"171.208984\" xlink:href=\"#DejaVuSans-97\"/>\n       <use x=\"232.488281\" xlink:href=\"#DejaVuSans-100\"/>\n       <use x=\"295.964844\" xlink:href=\"#DejaVuSans-32\"/>\n       <use x=\"327.751953\" xlink:href=\"#DejaVuSans-97\"/>\n       <use x=\"389.03125\" xlink:href=\"#DejaVuSans-110\"/>\n       <use x=\"452.410156\" xlink:href=\"#DejaVuSans-100\"/>\n       <use x=\"515.886719\" xlink:href=\"#DejaVuSans-32\"/>\n       <use x=\"547.673828\" xlink:href=\"#DejaVuSans-99\"/>\n       <use x=\"602.654297\" xlink:href=\"#DejaVuSans-101\"/>\n       <use x=\"664.177734\" xlink:href=\"#DejaVuSans-114\"/>\n       <use x=\"705.259766\" xlink:href=\"#DejaVuSans-101\"/>\n       <use x=\"766.783203\" xlink:href=\"#DejaVuSans-97\"/>\n       <use x=\"828.0625\" xlink:href=\"#DejaVuSans-108\"/>\n      </g>\n     </g>\n    </g>\n    <g id=\"xtick_6\">\n     <g id=\"line2d_6\">\n      <g>\n       <use style=\"stroke:#000000;stroke-width:0.8;\" x=\"146.423029\" xlink:href=\"#m9640e36071\" y=\"239.758125\"/>\n      </g>\n     </g>\n     <g id=\"text_6\">\n      <!-- Dairy -->\n      <defs>\n       <path d=\"M 19.671875 64.796875 \nL 19.671875 8.109375 \nL 31.59375 8.109375 \nQ 46.6875 8.109375 53.6875 14.9375 \nQ 60.6875 21.78125 60.6875 36.53125 \nQ 60.6875 51.171875 53.6875 57.984375 \nQ 46.6875 64.796875 31.59375 64.796875 \nz\nM 9.8125 72.90625 \nL 30.078125 72.90625 \nQ 51.265625 72.90625 61.171875 64.09375 \nQ 71.09375 55.28125 71.09375 36.53125 \nQ 71.09375 17.671875 61.125 8.828125 \nQ 51.171875 0 30.078125 0 \nL 9.8125 0 \nz\n\" id=\"DejaVuSans-68\"/>\n       <path d=\"M 32.171875 -5.078125 \nQ 28.375 -14.84375 24.75 -17.8125 \nQ 21.140625 -20.796875 15.09375 -20.796875 \nL 7.90625 -20.796875 \nL 7.90625 -13.28125 \nL 13.1875 -13.28125 \nQ 16.890625 -13.28125 18.9375 -11.515625 \nQ 21 -9.765625 23.484375 -3.21875 \nL 25.09375 0.875 \nL 2.984375 54.6875 \nL 12.5 54.6875 \nL 29.59375 11.921875 \nL 46.6875 54.6875 \nL 56.203125 54.6875 \nz\n\" id=\"DejaVuSans-121\"/>\n      </defs>\n      <g transform=\"translate(149.182404 273.394063)rotate(-90)scale(0.1 -0.1)\">\n       <use xlink:href=\"#DejaVuSans-68\"/>\n       <use x=\"77.001953\" xlink:href=\"#DejaVuSans-97\"/>\n       <use x=\"138.28125\" xlink:href=\"#DejaVuSans-105\"/>\n       <use x=\"166.064453\" xlink:href=\"#DejaVuSans-114\"/>\n       <use x=\"207.177734\" xlink:href=\"#DejaVuSans-121\"/>\n      </g>\n     </g>\n    </g>\n    <g id=\"xtick_7\">\n     <g id=\"line2d_7\">\n      <g>\n       <use style=\"stroke:#000000;stroke-width:0.8;\" x=\"162.612585\" xlink:href=\"#m9640e36071\" y=\"239.758125\"/>\n      </g>\n     </g>\n     <g id=\"text_7\">\n      <!-- Dairy product -->\n      <g transform=\"translate(165.37196 315.251875)rotate(-90)scale(0.1 -0.1)\">\n       <use xlink:href=\"#DejaVuSans-68\"/>\n       <use x=\"77.001953\" xlink:href=\"#DejaVuSans-97\"/>\n       <use x=\"138.28125\" xlink:href=\"#DejaVuSans-105\"/>\n       <use x=\"166.064453\" xlink:href=\"#DejaVuSans-114\"/>\n       <use x=\"207.177734\" xlink:href=\"#DejaVuSans-121\"/>\n       <use x=\"266.357422\" xlink:href=\"#DejaVuSans-32\"/>\n       <use x=\"298.144531\" xlink:href=\"#DejaVuSans-112\"/>\n       <use x=\"361.621094\" xlink:href=\"#DejaVuSans-114\"/>\n       <use x=\"402.703125\" xlink:href=\"#DejaVuSans-111\"/>\n       <use x=\"463.884766\" xlink:href=\"#DejaVuSans-100\"/>\n       <use x=\"527.361328\" xlink:href=\"#DejaVuSans-117\"/>\n       <use x=\"590.740234\" xlink:href=\"#DejaVuSans-99\"/>\n       <use x=\"645.720703\" xlink:href=\"#DejaVuSans-116\"/>\n      </g>\n     </g>\n    </g>\n    <g id=\"xtick_8\">\n     <g id=\"line2d_8\">\n      <g>\n       <use style=\"stroke:#000000;stroke-width:0.8;\" x=\"178.80214\" xlink:href=\"#m9640e36071\" y=\"239.758125\"/>\n      </g>\n     </g>\n     <g id=\"text_8\">\n      <!-- Fish -->\n      <defs>\n       <path d=\"M 9.8125 72.90625 \nL 51.703125 72.90625 \nL 51.703125 64.59375 \nL 19.671875 64.59375 \nL 19.671875 43.109375 \nL 48.578125 43.109375 \nL 48.578125 34.8125 \nL 19.671875 34.8125 \nL 19.671875 0 \nL 9.8125 0 \nz\n\" id=\"DejaVuSans-70\"/>\n       <path d=\"M 44.28125 53.078125 \nL 44.28125 44.578125 \nQ 40.484375 46.53125 36.375 47.5 \nQ 32.28125 48.484375 27.875 48.484375 \nQ 21.1875 48.484375 17.84375 46.4375 \nQ 14.5 44.390625 14.5 40.28125 \nQ 14.5 37.15625 16.890625 35.375 \nQ 19.28125 33.59375 26.515625 31.984375 \nL 29.59375 31.296875 \nQ 39.15625 29.25 43.1875 25.515625 \nQ 47.21875 21.78125 47.21875 15.09375 \nQ 47.21875 7.46875 41.1875 3.015625 \nQ 35.15625 -1.421875 24.609375 -1.421875 \nQ 20.21875 -1.421875 15.453125 -0.5625 \nQ 10.6875 0.296875 5.421875 2 \nL 5.421875 11.28125 \nQ 10.40625 8.6875 15.234375 7.390625 \nQ 20.0625 6.109375 24.8125 6.109375 \nQ 31.15625 6.109375 34.5625 8.28125 \nQ 37.984375 10.453125 37.984375 14.40625 \nQ 37.984375 18.0625 35.515625 20.015625 \nQ 33.0625 21.96875 24.703125 23.78125 \nL 21.578125 24.515625 \nQ 13.234375 26.265625 9.515625 29.90625 \nQ 5.8125 33.546875 5.8125 39.890625 \nQ 5.8125 47.609375 11.28125 51.796875 \nQ 16.75 56 26.8125 56 \nQ 31.78125 56 36.171875 55.265625 \nQ 40.578125 54.546875 44.28125 53.078125 \nz\n\" id=\"DejaVuSans-115\"/>\n       <path d=\"M 54.890625 33.015625 \nL 54.890625 0 \nL 45.90625 0 \nL 45.90625 32.71875 \nQ 45.90625 40.484375 42.875 44.328125 \nQ 39.84375 48.1875 33.796875 48.1875 \nQ 26.515625 48.1875 22.3125 43.546875 \nQ 18.109375 38.921875 18.109375 30.90625 \nL 18.109375 0 \nL 9.078125 0 \nL 9.078125 75.984375 \nL 18.109375 75.984375 \nL 18.109375 46.1875 \nQ 21.34375 51.125 25.703125 53.5625 \nQ 30.078125 56 35.796875 56 \nQ 45.21875 56 50.046875 50.171875 \nQ 54.890625 44.34375 54.890625 33.015625 \nz\n\" id=\"DejaVuSans-104\"/>\n      </defs>\n      <g transform=\"translate(181.561515 266.82375)rotate(-90)scale(0.1 -0.1)\">\n       <use xlink:href=\"#DejaVuSans-70\"/>\n       <use x=\"57.410156\" xlink:href=\"#DejaVuSans-105\"/>\n       <use x=\"85.193359\" xlink:href=\"#DejaVuSans-115\"/>\n       <use x=\"137.292969\" xlink:href=\"#DejaVuSans-104\"/>\n      </g>\n     </g>\n    </g>\n    <g id=\"xtick_9\">\n     <g id=\"line2d_9\">\n      <g>\n       <use style=\"stroke:#000000;stroke-width:0.8;\" x=\"194.991695\" xlink:href=\"#m9640e36071\" y=\"239.758125\"/>\n      </g>\n     </g>\n     <g id=\"text_9\">\n      <!-- Food other -->\n      <g transform=\"translate(197.75107 300.909688)rotate(-90)scale(0.1 -0.1)\">\n       <use xlink:href=\"#DejaVuSans-70\"/>\n       <use x=\"57.472656\" xlink:href=\"#DejaVuSans-111\"/>\n       <use x=\"118.654297\" xlink:href=\"#DejaVuSans-111\"/>\n       <use x=\"179.835938\" xlink:href=\"#DejaVuSans-100\"/>\n       <use x=\"243.3125\" xlink:href=\"#DejaVuSans-32\"/>\n       <use x=\"275.099609\" xlink:href=\"#DejaVuSans-111\"/>\n       <use x=\"336.28125\" xlink:href=\"#DejaVuSans-116\"/>\n       <use x=\"375.490234\" xlink:href=\"#DejaVuSans-104\"/>\n       <use x=\"438.869141\" xlink:href=\"#DejaVuSans-101\"/>\n       <use x=\"500.392578\" xlink:href=\"#DejaVuSans-114\"/>\n      </g>\n     </g>\n    </g>\n    <g id=\"xtick_10\">\n     <g id=\"line2d_10\">\n      <g>\n       <use style=\"stroke:#000000;stroke-width:0.8;\" x=\"211.18125\" xlink:href=\"#m9640e36071\" y=\"239.758125\"/>\n      </g>\n     </g>\n     <g id=\"text_10\">\n      <!-- Fruit -->\n      <g transform=\"translate(213.940625 269.645625)rotate(-90)scale(0.1 -0.1)\">\n       <use xlink:href=\"#DejaVuSans-70\"/>\n       <use x=\"57.410156\" xlink:href=\"#DejaVuSans-114\"/>\n       <use x=\"98.523438\" xlink:href=\"#DejaVuSans-117\"/>\n       <use x=\"161.902344\" xlink:href=\"#DejaVuSans-105\"/>\n       <use x=\"189.685547\" xlink:href=\"#DejaVuSans-116\"/>\n      </g>\n     </g>\n    </g>\n    <g id=\"xtick_11\">\n     <g id=\"line2d_11\">\n      <g>\n       <use style=\"stroke:#000000;stroke-width:0.8;\" x=\"227.370805\" xlink:href=\"#m9640e36071\" y=\"239.758125\"/>\n      </g>\n     </g>\n     <g id=\"text_11\">\n      <!-- Fruit and vegetable -->\n      <g transform=\"translate(230.13018 344.7175)rotate(-90)scale(0.1 -0.1)\">\n       <use xlink:href=\"#DejaVuSans-70\"/>\n       <use x=\"57.410156\" xlink:href=\"#DejaVuSans-114\"/>\n       <use x=\"98.523438\" xlink:href=\"#DejaVuSans-117\"/>\n       <use x=\"161.902344\" xlink:href=\"#DejaVuSans-105\"/>\n       <use x=\"189.685547\" xlink:href=\"#DejaVuSans-116\"/>\n       <use x=\"228.894531\" xlink:href=\"#DejaVuSans-32\"/>\n       <use x=\"260.681641\" xlink:href=\"#DejaVuSans-97\"/>\n       <use x=\"321.960938\" xlink:href=\"#DejaVuSans-110\"/>\n       <use x=\"385.339844\" xlink:href=\"#DejaVuSans-100\"/>\n       <use x=\"448.816406\" xlink:href=\"#DejaVuSans-32\"/>\n       <use x=\"480.603516\" xlink:href=\"#DejaVuSans-118\"/>\n       <use x=\"539.783203\" xlink:href=\"#DejaVuSans-101\"/>\n       <use x=\"601.306641\" xlink:href=\"#DejaVuSans-103\"/>\n       <use x=\"664.783203\" xlink:href=\"#DejaVuSans-101\"/>\n       <use x=\"726.306641\" xlink:href=\"#DejaVuSans-116\"/>\n       <use x=\"765.515625\" xlink:href=\"#DejaVuSans-97\"/>\n       <use x=\"826.794922\" xlink:href=\"#DejaVuSans-98\"/>\n       <use x=\"890.271484\" xlink:href=\"#DejaVuSans-108\"/>\n       <use x=\"918.054688\" xlink:href=\"#DejaVuSans-101\"/>\n      </g>\n     </g>\n    </g>\n    <g id=\"xtick_12\">\n     <g id=\"line2d_12\">\n      <g>\n       <use style=\"stroke:#000000;stroke-width:0.8;\" x=\"243.56036\" xlink:href=\"#m9640e36071\" y=\"239.758125\"/>\n      </g>\n     </g>\n     <g id=\"text_12\">\n      <!-- Grape -->\n      <defs>\n       <path d=\"M 59.515625 10.40625 \nL 59.515625 29.984375 \nL 43.40625 29.984375 \nL 43.40625 38.09375 \nL 69.28125 38.09375 \nL 69.28125 6.78125 \nQ 63.578125 2.734375 56.6875 0.65625 \nQ 49.8125 -1.421875 42 -1.421875 \nQ 24.90625 -1.421875 15.25 8.5625 \nQ 5.609375 18.5625 5.609375 36.375 \nQ 5.609375 54.25 15.25 64.234375 \nQ 24.90625 74.21875 42 74.21875 \nQ 49.125 74.21875 55.546875 72.453125 \nQ 61.96875 70.703125 67.390625 67.28125 \nL 67.390625 56.78125 \nQ 61.921875 61.421875 55.765625 63.765625 \nQ 49.609375 66.109375 42.828125 66.109375 \nQ 29.4375 66.109375 22.71875 58.640625 \nQ 16.015625 51.171875 16.015625 36.375 \nQ 16.015625 21.625 22.71875 14.15625 \nQ 29.4375 6.6875 42.828125 6.6875 \nQ 48.046875 6.6875 52.140625 7.59375 \nQ 56.25 8.5 59.515625 10.40625 \nz\n\" id=\"DejaVuSans-71\"/>\n      </defs>\n      <g transform=\"translate(246.319735 277.247188)rotate(-90)scale(0.1 -0.1)\">\n       <use xlink:href=\"#DejaVuSans-71\"/>\n       <use x=\"77.490234\" xlink:href=\"#DejaVuSans-114\"/>\n       <use x=\"118.603516\" xlink:href=\"#DejaVuSans-97\"/>\n       <use x=\"179.882812\" xlink:href=\"#DejaVuSans-112\"/>\n       <use x=\"243.359375\" xlink:href=\"#DejaVuSans-101\"/>\n      </g>\n     </g>\n    </g>\n    <g id=\"xtick_13\">\n     <g id=\"line2d_13\">\n      <g>\n       <use style=\"stroke:#000000;stroke-width:0.8;\" x=\"259.749915\" xlink:href=\"#m9640e36071\" y=\"239.758125\"/>\n      </g>\n     </g>\n     <g id=\"text_13\">\n      <!-- Grapefruit -->\n      <defs>\n       <path d=\"M 37.109375 75.984375 \nL 37.109375 68.5 \nL 28.515625 68.5 \nQ 23.6875 68.5 21.796875 66.546875 \nQ 19.921875 64.59375 19.921875 59.515625 \nL 19.921875 54.6875 \nL 34.71875 54.6875 \nL 34.71875 47.703125 \nL 19.921875 47.703125 \nL 19.921875 0 \nL 10.890625 0 \nL 10.890625 47.703125 \nL 2.296875 47.703125 \nL 2.296875 54.6875 \nL 10.890625 54.6875 \nL 10.890625 58.5 \nQ 10.890625 67.625 15.140625 71.796875 \nQ 19.390625 75.984375 28.609375 75.984375 \nz\n\" id=\"DejaVuSans-102\"/>\n      </defs>\n      <g transform=\"translate(262.50929 297.914375)rotate(-90)scale(0.1 -0.1)\">\n       <use xlink:href=\"#DejaVuSans-71\"/>\n       <use x=\"77.490234\" xlink:href=\"#DejaVuSans-114\"/>\n       <use x=\"118.603516\" xlink:href=\"#DejaVuSans-97\"/>\n       <use x=\"179.882812\" xlink:href=\"#DejaVuSans-112\"/>\n       <use x=\"243.359375\" xlink:href=\"#DejaVuSans-101\"/>\n       <use x=\"304.882812\" xlink:href=\"#DejaVuSans-102\"/>\n       <use x=\"340.087891\" xlink:href=\"#DejaVuSans-114\"/>\n       <use x=\"381.201172\" xlink:href=\"#DejaVuSans-117\"/>\n       <use x=\"444.580078\" xlink:href=\"#DejaVuSans-105\"/>\n       <use x=\"472.363281\" xlink:href=\"#DejaVuSans-116\"/>\n      </g>\n     </g>\n    </g>\n    <g id=\"xtick_14\">\n     <g id=\"line2d_14\">\n      <g>\n       <use style=\"stroke:#000000;stroke-width:0.8;\" x=\"275.939471\" xlink:href=\"#m9640e36071\" y=\"239.758125\"/>\n      </g>\n     </g>\n     <g id=\"text_14\">\n      <!-- Meat -->\n      <defs>\n       <path d=\"M 9.8125 72.90625 \nL 24.515625 72.90625 \nL 43.109375 23.296875 \nL 61.8125 72.90625 \nL 76.515625 72.90625 \nL 76.515625 0 \nL 66.890625 0 \nL 66.890625 64.015625 \nL 48.09375 14.015625 \nL 38.1875 14.015625 \nL 19.390625 64.015625 \nL 19.390625 0 \nL 9.8125 0 \nz\n\" id=\"DejaVuSans-77\"/>\n      </defs>\n      <g transform=\"translate(278.698846 271.587813)rotate(-90)scale(0.1 -0.1)\">\n       <use xlink:href=\"#DejaVuSans-77\"/>\n       <use x=\"86.279297\" xlink:href=\"#DejaVuSans-101\"/>\n       <use x=\"147.802734\" xlink:href=\"#DejaVuSans-97\"/>\n       <use x=\"209.082031\" xlink:href=\"#DejaVuSans-116\"/>\n      </g>\n     </g>\n    </g>\n    <g id=\"xtick_15\">\n     <g id=\"line2d_15\">\n      <g>\n       <use style=\"stroke:#000000;stroke-width:0.8;\" x=\"292.129026\" xlink:href=\"#m9640e36071\" y=\"239.758125\"/>\n      </g>\n     </g>\n     <g id=\"text_15\">\n      <!-- Melon -->\n      <g transform=\"translate(294.888401 276.77375)rotate(-90)scale(0.1 -0.1)\">\n       <use xlink:href=\"#DejaVuSans-77\"/>\n       <use x=\"86.279297\" xlink:href=\"#DejaVuSans-101\"/>\n       <use x=\"147.802734\" xlink:href=\"#DejaVuSans-108\"/>\n       <use x=\"175.585938\" xlink:href=\"#DejaVuSans-111\"/>\n       <use x=\"236.767578\" xlink:href=\"#DejaVuSans-110\"/>\n      </g>\n     </g>\n    </g>\n    <g id=\"xtick_16\">\n     <g id=\"line2d_16\">\n      <g>\n       <use style=\"stroke:#000000;stroke-width:0.8;\" x=\"308.318581\" xlink:href=\"#m9640e36071\" y=\"239.758125\"/>\n      </g>\n     </g>\n     <g id=\"text_16\">\n      <!-- Oil and fat -->\n      <defs>\n       <path d=\"M 39.40625 66.21875 \nQ 28.65625 66.21875 22.328125 58.203125 \nQ 16.015625 50.203125 16.015625 36.375 \nQ 16.015625 22.609375 22.328125 14.59375 \nQ 28.65625 6.59375 39.40625 6.59375 \nQ 50.140625 6.59375 56.421875 14.59375 \nQ 62.703125 22.609375 62.703125 36.375 \nQ 62.703125 50.203125 56.421875 58.203125 \nQ 50.140625 66.21875 39.40625 66.21875 \nz\nM 39.40625 74.21875 \nQ 54.734375 74.21875 63.90625 63.9375 \nQ 73.09375 53.65625 73.09375 36.375 \nQ 73.09375 19.140625 63.90625 8.859375 \nQ 54.734375 -1.421875 39.40625 -1.421875 \nQ 24.03125 -1.421875 14.8125 8.828125 \nQ 5.609375 19.09375 5.609375 36.375 \nQ 5.609375 53.65625 14.8125 63.9375 \nQ 24.03125 74.21875 39.40625 74.21875 \nz\n\" id=\"DejaVuSans-79\"/>\n      </defs>\n      <g transform=\"translate(311.077956 298.925313)rotate(-90)scale(0.1 -0.1)\">\n       <use xlink:href=\"#DejaVuSans-79\"/>\n       <use x=\"78.710938\" xlink:href=\"#DejaVuSans-105\"/>\n       <use x=\"106.494141\" xlink:href=\"#DejaVuSans-108\"/>\n       <use x=\"134.277344\" xlink:href=\"#DejaVuSans-32\"/>\n       <use x=\"166.064453\" xlink:href=\"#DejaVuSans-97\"/>\n       <use x=\"227.34375\" xlink:href=\"#DejaVuSans-110\"/>\n       <use x=\"290.722656\" xlink:href=\"#DejaVuSans-100\"/>\n       <use x=\"354.199219\" xlink:href=\"#DejaVuSans-32\"/>\n       <use x=\"385.986328\" xlink:href=\"#DejaVuSans-102\"/>\n       <use x=\"421.191406\" xlink:href=\"#DejaVuSans-97\"/>\n       <use x=\"482.470703\" xlink:href=\"#DejaVuSans-116\"/>\n      </g>\n     </g>\n    </g>\n    <g id=\"xtick_17\">\n     <g id=\"line2d_17\">\n      <g>\n       <use style=\"stroke:#000000;stroke-width:0.8;\" x=\"324.508136\" xlink:href=\"#m9640e36071\" y=\"239.758125\"/>\n      </g>\n     </g>\n     <g id=\"text_17\">\n      <!-- Orange -->\n      <g transform=\"translate(327.267511 283.708125)rotate(-90)scale(0.1 -0.1)\">\n       <use xlink:href=\"#DejaVuSans-79\"/>\n       <use x=\"78.710938\" xlink:href=\"#DejaVuSans-114\"/>\n       <use x=\"119.824219\" xlink:href=\"#DejaVuSans-97\"/>\n       <use x=\"181.103516\" xlink:href=\"#DejaVuSans-110\"/>\n       <use x=\"244.482422\" xlink:href=\"#DejaVuSans-103\"/>\n       <use x=\"307.958984\" xlink:href=\"#DejaVuSans-101\"/>\n      </g>\n     </g>\n    </g>\n    <g id=\"xtick_18\">\n     <g id=\"line2d_18\">\n      <g>\n       <use style=\"stroke:#000000;stroke-width:0.8;\" x=\"340.697691\" xlink:href=\"#m9640e36071\" y=\"239.758125\"/>\n      </g>\n     </g>\n     <g id=\"text_18\">\n      <!-- Orange juice -->\n      <g transform=\"translate(343.457066 310.431563)rotate(-90)scale(0.1 -0.1)\">\n       <use xlink:href=\"#DejaVuSans-79\"/>\n       <use x=\"78.710938\" xlink:href=\"#DejaVuSans-114\"/>\n       <use x=\"119.824219\" xlink:href=\"#DejaVuSans-97\"/>\n       <use x=\"181.103516\" xlink:href=\"#DejaVuSans-110\"/>\n       <use x=\"244.482422\" xlink:href=\"#DejaVuSans-103\"/>\n       <use x=\"307.958984\" xlink:href=\"#DejaVuSans-101\"/>\n       <use x=\"369.482422\" xlink:href=\"#DejaVuSans-32\"/>\n       <use x=\"401.269531\" xlink:href=\"#DejaVuSans-106\"/>\n       <use x=\"429.052734\" xlink:href=\"#DejaVuSans-117\"/>\n       <use x=\"492.431641\" xlink:href=\"#DejaVuSans-105\"/>\n       <use x=\"520.214844\" xlink:href=\"#DejaVuSans-99\"/>\n       <use x=\"575.195312\" xlink:href=\"#DejaVuSans-101\"/>\n      </g>\n     </g>\n    </g>\n    <g id=\"xtick_19\">\n     <g id=\"line2d_19\">\n      <g>\n       <use style=\"stroke:#000000;stroke-width:0.8;\" x=\"356.887246\" xlink:href=\"#m9640e36071\" y=\"239.758125\"/>\n      </g>\n     </g>\n     <g id=\"text_19\">\n      <!-- Vegetable -->\n      <defs>\n       <path d=\"M 28.609375 0 \nL 0.78125 72.90625 \nL 11.078125 72.90625 \nL 34.1875 11.53125 \nL 57.328125 72.90625 \nL 67.578125 72.90625 \nL 39.796875 0 \nz\n\" id=\"DejaVuSans-86\"/>\n      </defs>\n      <g transform=\"translate(359.646621 297.570625)rotate(-90)scale(0.1 -0.1)\">\n       <use xlink:href=\"#DejaVuSans-86\"/>\n       <use x=\"68.298828\" xlink:href=\"#DejaVuSans-101\"/>\n       <use x=\"129.822266\" xlink:href=\"#DejaVuSans-103\"/>\n       <use x=\"193.298828\" xlink:href=\"#DejaVuSans-101\"/>\n       <use x=\"254.822266\" xlink:href=\"#DejaVuSans-116\"/>\n       <use x=\"294.03125\" xlink:href=\"#DejaVuSans-97\"/>\n       <use x=\"355.310547\" xlink:href=\"#DejaVuSans-98\"/>\n       <use x=\"418.787109\" xlink:href=\"#DejaVuSans-108\"/>\n       <use x=\"446.570312\" xlink:href=\"#DejaVuSans-101\"/>\n      </g>\n     </g>\n    </g>\n   </g>\n   <g id=\"matplotlib.axis_2\">\n    <g id=\"ytick_1\">\n     <g id=\"line2d_20\">\n      <defs>\n       <path d=\"M 0 0 \nL -3.5 0 \n\" id=\"m04c7e85844\" style=\"stroke:#000000;stroke-width:0.8;\"/>\n      </defs>\n      <g>\n       <use style=\"stroke:#000000;stroke-width:0.8;\" x=\"43.78125\" xlink:href=\"#m04c7e85844\" y=\"239.758125\"/>\n      </g>\n     </g>\n     <g id=\"text_20\">\n      <!-- 0.0 -->\n      <defs>\n       <path d=\"M 31.78125 66.40625 \nQ 24.171875 66.40625 20.328125 58.90625 \nQ 16.5 51.421875 16.5 36.375 \nQ 16.5 21.390625 20.328125 13.890625 \nQ 24.171875 6.390625 31.78125 6.390625 \nQ 39.453125 6.390625 43.28125 13.890625 \nQ 47.125 21.390625 47.125 36.375 \nQ 47.125 51.421875 43.28125 58.90625 \nQ 39.453125 66.40625 31.78125 66.40625 \nz\nM 31.78125 74.21875 \nQ 44.046875 74.21875 50.515625 64.515625 \nQ 56.984375 54.828125 56.984375 36.375 \nQ 56.984375 17.96875 50.515625 8.265625 \nQ 44.046875 -1.421875 31.78125 -1.421875 \nQ 19.53125 -1.421875 13.0625 8.265625 \nQ 6.59375 17.96875 6.59375 36.375 \nQ 6.59375 54.828125 13.0625 64.515625 \nQ 19.53125 74.21875 31.78125 74.21875 \nz\n\" id=\"DejaVuSans-48\"/>\n       <path d=\"M 10.6875 12.40625 \nL 21 12.40625 \nL 21 0 \nL 10.6875 0 \nz\n\" id=\"DejaVuSans-46\"/>\n      </defs>\n      <g transform=\"translate(20.878125 243.557344)scale(0.1 -0.1)\">\n       <use xlink:href=\"#DejaVuSans-48\"/>\n       <use x=\"63.623047\" xlink:href=\"#DejaVuSans-46\"/>\n       <use x=\"95.410156\" xlink:href=\"#DejaVuSans-48\"/>\n      </g>\n     </g>\n    </g>\n    <g id=\"ytick_2\">\n     <g id=\"line2d_21\">\n      <g>\n       <use style=\"stroke:#000000;stroke-width:0.8;\" x=\"43.78125\" xlink:href=\"#m04c7e85844\" y=\"211.01618\"/>\n      </g>\n     </g>\n     <g id=\"text_21\">\n      <!-- 0.1 -->\n      <defs>\n       <path d=\"M 12.40625 8.296875 \nL 28.515625 8.296875 \nL 28.515625 63.921875 \nL 10.984375 60.40625 \nL 10.984375 69.390625 \nL 28.421875 72.90625 \nL 38.28125 72.90625 \nL 38.28125 8.296875 \nL 54.390625 8.296875 \nL 54.390625 0 \nL 12.40625 0 \nz\n\" id=\"DejaVuSans-49\"/>\n      </defs>\n      <g transform=\"translate(20.878125 214.815399)scale(0.1 -0.1)\">\n       <use xlink:href=\"#DejaVuSans-48\"/>\n       <use x=\"63.623047\" xlink:href=\"#DejaVuSans-46\"/>\n       <use x=\"95.410156\" xlink:href=\"#DejaVuSans-49\"/>\n      </g>\n     </g>\n    </g>\n    <g id=\"ytick_3\">\n     <g id=\"line2d_22\">\n      <g>\n       <use style=\"stroke:#000000;stroke-width:0.8;\" x=\"43.78125\" xlink:href=\"#m04c7e85844\" y=\"182.274235\"/>\n      </g>\n     </g>\n     <g id=\"text_22\">\n      <!-- 0.2 -->\n      <defs>\n       <path d=\"M 19.1875 8.296875 \nL 53.609375 8.296875 \nL 53.609375 0 \nL 7.328125 0 \nL 7.328125 8.296875 \nQ 12.9375 14.109375 22.625 23.890625 \nQ 32.328125 33.6875 34.8125 36.53125 \nQ 39.546875 41.84375 41.421875 45.53125 \nQ 43.3125 49.21875 43.3125 52.78125 \nQ 43.3125 58.59375 39.234375 62.25 \nQ 35.15625 65.921875 28.609375 65.921875 \nQ 23.96875 65.921875 18.8125 64.3125 \nQ 13.671875 62.703125 7.8125 59.421875 \nL 7.8125 69.390625 \nQ 13.765625 71.78125 18.9375 73 \nQ 24.125 74.21875 28.421875 74.21875 \nQ 39.75 74.21875 46.484375 68.546875 \nQ 53.21875 62.890625 53.21875 53.421875 \nQ 53.21875 48.921875 51.53125 44.890625 \nQ 49.859375 40.875 45.40625 35.40625 \nQ 44.1875 33.984375 37.640625 27.21875 \nQ 31.109375 20.453125 19.1875 8.296875 \nz\n\" id=\"DejaVuSans-50\"/>\n      </defs>\n      <g transform=\"translate(20.878125 186.073454)scale(0.1 -0.1)\">\n       <use xlink:href=\"#DejaVuSans-48\"/>\n       <use x=\"63.623047\" xlink:href=\"#DejaVuSans-46\"/>\n       <use x=\"95.410156\" xlink:href=\"#DejaVuSans-50\"/>\n      </g>\n     </g>\n    </g>\n    <g id=\"ytick_4\">\n     <g id=\"line2d_23\">\n      <g>\n       <use style=\"stroke:#000000;stroke-width:0.8;\" x=\"43.78125\" xlink:href=\"#m04c7e85844\" y=\"153.53229\"/>\n      </g>\n     </g>\n     <g id=\"text_23\">\n      <!-- 0.3 -->\n      <defs>\n       <path d=\"M 40.578125 39.3125 \nQ 47.65625 37.796875 51.625 33 \nQ 55.609375 28.21875 55.609375 21.1875 \nQ 55.609375 10.40625 48.1875 4.484375 \nQ 40.765625 -1.421875 27.09375 -1.421875 \nQ 22.515625 -1.421875 17.65625 -0.515625 \nQ 12.796875 0.390625 7.625 2.203125 \nL 7.625 11.71875 \nQ 11.71875 9.328125 16.59375 8.109375 \nQ 21.484375 6.890625 26.8125 6.890625 \nQ 36.078125 6.890625 40.9375 10.546875 \nQ 45.796875 14.203125 45.796875 21.1875 \nQ 45.796875 27.640625 41.28125 31.265625 \nQ 36.765625 34.90625 28.71875 34.90625 \nL 20.21875 34.90625 \nL 20.21875 43.015625 \nL 29.109375 43.015625 \nQ 36.375 43.015625 40.234375 45.921875 \nQ 44.09375 48.828125 44.09375 54.296875 \nQ 44.09375 59.90625 40.109375 62.90625 \nQ 36.140625 65.921875 28.71875 65.921875 \nQ 24.65625 65.921875 20.015625 65.03125 \nQ 15.375 64.15625 9.8125 62.3125 \nL 9.8125 71.09375 \nQ 15.4375 72.65625 20.34375 73.4375 \nQ 25.25 74.21875 29.59375 74.21875 \nQ 40.828125 74.21875 47.359375 69.109375 \nQ 53.90625 64.015625 53.90625 55.328125 \nQ 53.90625 49.265625 50.4375 45.09375 \nQ 46.96875 40.921875 40.578125 39.3125 \nz\n\" id=\"DejaVuSans-51\"/>\n      </defs>\n      <g transform=\"translate(20.878125 157.331509)scale(0.1 -0.1)\">\n       <use xlink:href=\"#DejaVuSans-48\"/>\n       <use x=\"63.623047\" xlink:href=\"#DejaVuSans-46\"/>\n       <use x=\"95.410156\" xlink:href=\"#DejaVuSans-51\"/>\n      </g>\n     </g>\n    </g>\n    <g id=\"ytick_5\">\n     <g id=\"line2d_24\">\n      <g>\n       <use style=\"stroke:#000000;stroke-width:0.8;\" x=\"43.78125\" xlink:href=\"#m04c7e85844\" y=\"124.790345\"/>\n      </g>\n     </g>\n     <g id=\"text_24\">\n      <!-- 0.4 -->\n      <defs>\n       <path d=\"M 37.796875 64.3125 \nL 12.890625 25.390625 \nL 37.796875 25.390625 \nz\nM 35.203125 72.90625 \nL 47.609375 72.90625 \nL 47.609375 25.390625 \nL 58.015625 25.390625 \nL 58.015625 17.1875 \nL 47.609375 17.1875 \nL 47.609375 0 \nL 37.796875 0 \nL 37.796875 17.1875 \nL 4.890625 17.1875 \nL 4.890625 26.703125 \nz\n\" id=\"DejaVuSans-52\"/>\n      </defs>\n      <g transform=\"translate(20.878125 128.589563)scale(0.1 -0.1)\">\n       <use xlink:href=\"#DejaVuSans-48\"/>\n       <use x=\"63.623047\" xlink:href=\"#DejaVuSans-46\"/>\n       <use x=\"95.410156\" xlink:href=\"#DejaVuSans-52\"/>\n      </g>\n     </g>\n    </g>\n    <g id=\"ytick_6\">\n     <g id=\"line2d_25\">\n      <g>\n       <use style=\"stroke:#000000;stroke-width:0.8;\" x=\"43.78125\" xlink:href=\"#m04c7e85844\" y=\"96.0484\"/>\n      </g>\n     </g>\n     <g id=\"text_25\">\n      <!-- 0.5 -->\n      <defs>\n       <path d=\"M 10.796875 72.90625 \nL 49.515625 72.90625 \nL 49.515625 64.59375 \nL 19.828125 64.59375 \nL 19.828125 46.734375 \nQ 21.96875 47.46875 24.109375 47.828125 \nQ 26.265625 48.1875 28.421875 48.1875 \nQ 40.625 48.1875 47.75 41.5 \nQ 54.890625 34.8125 54.890625 23.390625 \nQ 54.890625 11.625 47.5625 5.09375 \nQ 40.234375 -1.421875 26.90625 -1.421875 \nQ 22.3125 -1.421875 17.546875 -0.640625 \nQ 12.796875 0.140625 7.71875 1.703125 \nL 7.71875 11.625 \nQ 12.109375 9.234375 16.796875 8.0625 \nQ 21.484375 6.890625 26.703125 6.890625 \nQ 35.15625 6.890625 40.078125 11.328125 \nQ 45.015625 15.765625 45.015625 23.390625 \nQ 45.015625 31 40.078125 35.4375 \nQ 35.15625 39.890625 26.703125 39.890625 \nQ 22.75 39.890625 18.8125 39.015625 \nQ 14.890625 38.140625 10.796875 36.28125 \nz\n\" id=\"DejaVuSans-53\"/>\n      </defs>\n      <g transform=\"translate(20.878125 99.847618)scale(0.1 -0.1)\">\n       <use xlink:href=\"#DejaVuSans-48\"/>\n       <use x=\"63.623047\" xlink:href=\"#DejaVuSans-46\"/>\n       <use x=\"95.410156\" xlink:href=\"#DejaVuSans-53\"/>\n      </g>\n     </g>\n    </g>\n    <g id=\"ytick_7\">\n     <g id=\"line2d_26\">\n      <g>\n       <use style=\"stroke:#000000;stroke-width:0.8;\" x=\"43.78125\" xlink:href=\"#m04c7e85844\" y=\"67.306455\"/>\n      </g>\n     </g>\n     <g id=\"text_26\">\n      <!-- 0.6 -->\n      <defs>\n       <path d=\"M 33.015625 40.375 \nQ 26.375 40.375 22.484375 35.828125 \nQ 18.609375 31.296875 18.609375 23.390625 \nQ 18.609375 15.53125 22.484375 10.953125 \nQ 26.375 6.390625 33.015625 6.390625 \nQ 39.65625 6.390625 43.53125 10.953125 \nQ 47.40625 15.53125 47.40625 23.390625 \nQ 47.40625 31.296875 43.53125 35.828125 \nQ 39.65625 40.375 33.015625 40.375 \nz\nM 52.59375 71.296875 \nL 52.59375 62.3125 \nQ 48.875 64.0625 45.09375 64.984375 \nQ 41.3125 65.921875 37.59375 65.921875 \nQ 27.828125 65.921875 22.671875 59.328125 \nQ 17.53125 52.734375 16.796875 39.40625 \nQ 19.671875 43.65625 24.015625 45.921875 \nQ 28.375 48.1875 33.59375 48.1875 \nQ 44.578125 48.1875 50.953125 41.515625 \nQ 57.328125 34.859375 57.328125 23.390625 \nQ 57.328125 12.15625 50.6875 5.359375 \nQ 44.046875 -1.421875 33.015625 -1.421875 \nQ 20.359375 -1.421875 13.671875 8.265625 \nQ 6.984375 17.96875 6.984375 36.375 \nQ 6.984375 53.65625 15.1875 63.9375 \nQ 23.390625 74.21875 37.203125 74.21875 \nQ 40.921875 74.21875 44.703125 73.484375 \nQ 48.484375 72.75 52.59375 71.296875 \nz\n\" id=\"DejaVuSans-54\"/>\n      </defs>\n      <g transform=\"translate(20.878125 71.105673)scale(0.1 -0.1)\">\n       <use xlink:href=\"#DejaVuSans-48\"/>\n       <use x=\"63.623047\" xlink:href=\"#DejaVuSans-46\"/>\n       <use x=\"95.410156\" xlink:href=\"#DejaVuSans-54\"/>\n      </g>\n     </g>\n    </g>\n    <g id=\"ytick_8\">\n     <g id=\"line2d_27\">\n      <g>\n       <use style=\"stroke:#000000;stroke-width:0.8;\" x=\"43.78125\" xlink:href=\"#m04c7e85844\" y=\"38.564509\"/>\n      </g>\n     </g>\n     <g id=\"text_27\">\n      <!-- 0.7 -->\n      <defs>\n       <path d=\"M 8.203125 72.90625 \nL 55.078125 72.90625 \nL 55.078125 68.703125 \nL 28.609375 0 \nL 18.3125 0 \nL 43.21875 64.59375 \nL 8.203125 64.59375 \nz\n\" id=\"DejaVuSans-55\"/>\n      </defs>\n      <g transform=\"translate(20.878125 42.363728)scale(0.1 -0.1)\">\n       <use xlink:href=\"#DejaVuSans-48\"/>\n       <use x=\"63.623047\" xlink:href=\"#DejaVuSans-46\"/>\n       <use x=\"95.410156\" xlink:href=\"#DejaVuSans-55\"/>\n      </g>\n     </g>\n    </g>\n    <g id=\"text_28\">\n     <!-- price elasticity (absolute value) -->\n     <defs>\n      <path d=\"M 31 75.875 \nQ 24.46875 64.65625 21.28125 53.65625 \nQ 18.109375 42.671875 18.109375 31.390625 \nQ 18.109375 20.125 21.3125 9.0625 \nQ 24.515625 -2 31 -13.1875 \nL 23.1875 -13.1875 \nQ 15.875 -1.703125 12.234375 9.375 \nQ 8.59375 20.453125 8.59375 31.390625 \nQ 8.59375 42.28125 12.203125 53.3125 \nQ 15.828125 64.359375 23.1875 75.875 \nz\n\" id=\"DejaVuSans-40\"/>\n      <path d=\"M 8.015625 75.875 \nL 15.828125 75.875 \nQ 23.140625 64.359375 26.78125 53.3125 \nQ 30.421875 42.28125 30.421875 31.390625 \nQ 30.421875 20.453125 26.78125 9.375 \nQ 23.140625 -1.703125 15.828125 -13.1875 \nL 8.015625 -13.1875 \nQ 14.5 -2 17.703125 9.0625 \nQ 20.90625 20.125 20.90625 31.390625 \nQ 20.90625 42.671875 17.703125 53.65625 \nQ 14.5 64.65625 8.015625 75.875 \nz\n\" id=\"DejaVuSans-41\"/>\n     </defs>\n     <g transform=\"translate(14.798438 209.8475)rotate(-90)scale(0.1 -0.1)\">\n      <use xlink:href=\"#DejaVuSans-112\"/>\n      <use x=\"63.476562\" xlink:href=\"#DejaVuSans-114\"/>\n      <use x=\"104.589844\" xlink:href=\"#DejaVuSans-105\"/>\n      <use x=\"132.373047\" xlink:href=\"#DejaVuSans-99\"/>\n      <use x=\"187.353516\" xlink:href=\"#DejaVuSans-101\"/>\n      <use x=\"248.876953\" xlink:href=\"#DejaVuSans-32\"/>\n      <use x=\"280.664062\" xlink:href=\"#DejaVuSans-101\"/>\n      <use x=\"342.1875\" xlink:href=\"#DejaVuSans-108\"/>\n      <use x=\"369.970703\" xlink:href=\"#DejaVuSans-97\"/>\n      <use x=\"431.25\" xlink:href=\"#DejaVuSans-115\"/>\n      <use x=\"483.349609\" xlink:href=\"#DejaVuSans-116\"/>\n      <use x=\"522.558594\" xlink:href=\"#DejaVuSans-105\"/>\n      <use x=\"550.341797\" xlink:href=\"#DejaVuSans-99\"/>\n      <use x=\"605.322266\" xlink:href=\"#DejaVuSans-105\"/>\n      <use x=\"633.105469\" xlink:href=\"#DejaVuSans-116\"/>\n      <use x=\"672.314453\" xlink:href=\"#DejaVuSans-121\"/>\n      <use x=\"731.494141\" xlink:href=\"#DejaVuSans-32\"/>\n      <use x=\"763.28125\" xlink:href=\"#DejaVuSans-40\"/>\n      <use x=\"802.294922\" xlink:href=\"#DejaVuSans-97\"/>\n      <use x=\"863.574219\" xlink:href=\"#DejaVuSans-98\"/>\n      <use x=\"927.050781\" xlink:href=\"#DejaVuSans-115\"/>\n      <use x=\"979.150391\" xlink:href=\"#DejaVuSans-111\"/>\n      <use x=\"1040.332031\" xlink:href=\"#DejaVuSans-108\"/>\n      <use x=\"1068.115234\" xlink:href=\"#DejaVuSans-117\"/>\n      <use x=\"1131.494141\" xlink:href=\"#DejaVuSans-116\"/>\n      <use x=\"1170.703125\" xlink:href=\"#DejaVuSans-101\"/>\n      <use x=\"1232.226562\" xlink:href=\"#DejaVuSans-32\"/>\n      <use x=\"1264.013672\" xlink:href=\"#DejaVuSans-118\"/>\n      <use x=\"1323.193359\" xlink:href=\"#DejaVuSans-97\"/>\n      <use x=\"1384.472656\" xlink:href=\"#DejaVuSans-108\"/>\n      <use x=\"1412.255859\" xlink:href=\"#DejaVuSans-117\"/>\n      <use x=\"1475.634766\" xlink:href=\"#DejaVuSans-101\"/>\n      <use x=\"1537.158203\" xlink:href=\"#DejaVuSans-41\"/>\n     </g>\n    </g>\n   </g>\n   <g id=\"patch_22\">\n    <path d=\"M 43.78125 239.758125 \nL 43.78125 22.318125 \n\" style=\"fill:none;stroke:#000000;stroke-linecap:square;stroke-linejoin:miter;stroke-width:0.8;\"/>\n   </g>\n   <g id=\"patch_23\">\n    <path d=\"M 378.58125 239.758125 \nL 378.58125 22.318125 \n\" style=\"fill:none;stroke:#000000;stroke-linecap:square;stroke-linejoin:miter;stroke-width:0.8;\"/>\n   </g>\n   <g id=\"patch_24\">\n    <path d=\"M 43.78125 239.758125 \nL 378.58125 239.758125 \n\" style=\"fill:none;stroke:#000000;stroke-linecap:square;stroke-linejoin:miter;stroke-width:0.8;\"/>\n   </g>\n   <g id=\"patch_25\">\n    <path d=\"M 43.78125 22.318125 \nL 378.58125 22.318125 \n\" style=\"fill:none;stroke:#000000;stroke-linecap:square;stroke-linejoin:miter;stroke-width:0.8;\"/>\n   </g>\n   <g id=\"text_29\">\n    <!-- Canada -->\n    <defs>\n     <path d=\"M 64.40625 67.28125 \nL 64.40625 56.890625 \nQ 59.421875 61.53125 53.78125 63.8125 \nQ 48.140625 66.109375 41.796875 66.109375 \nQ 29.296875 66.109375 22.65625 58.46875 \nQ 16.015625 50.828125 16.015625 36.375 \nQ 16.015625 21.96875 22.65625 14.328125 \nQ 29.296875 6.6875 41.796875 6.6875 \nQ 48.140625 6.6875 53.78125 8.984375 \nQ 59.421875 11.28125 64.40625 15.921875 \nL 64.40625 5.609375 \nQ 59.234375 2.09375 53.4375 0.328125 \nQ 47.65625 -1.421875 41.21875 -1.421875 \nQ 24.65625 -1.421875 15.125 8.703125 \nQ 5.609375 18.84375 5.609375 36.375 \nQ 5.609375 53.953125 15.125 64.078125 \nQ 24.65625 74.21875 41.21875 74.21875 \nQ 47.75 74.21875 53.53125 72.484375 \nQ 59.328125 70.75 64.40625 67.28125 \nz\n\" id=\"DejaVuSans-67\"/>\n    </defs>\n    <g transform=\"translate(188.349375 16.318125)scale(0.12 -0.12)\">\n     <use xlink:href=\"#DejaVuSans-67\"/>\n     <use x=\"69.824219\" xlink:href=\"#DejaVuSans-97\"/>\n     <use x=\"131.103516\" xlink:href=\"#DejaVuSans-110\"/>\n     <use x=\"194.482422\" xlink:href=\"#DejaVuSans-97\"/>\n     <use x=\"255.761719\" xlink:href=\"#DejaVuSans-100\"/>\n     <use x=\"319.238281\" xlink:href=\"#DejaVuSans-97\"/>\n    </g>\n   </g>\n  </g>\n </g>\n <defs>\n  <clipPath id=\"p3cbc8c2535\">\n   <rect height=\"217.44\" width=\"334.8\" x=\"43.78125\" y=\"22.318125\"/>\n  </clipPath>\n </defs>\n</svg>\n",
      "image/png": "[encoded data removed]"
     },
     "metadata": {
      "needs_background": "light"
     }
    }
   ],
   "source": [
    "plt.figure()\n",
    "plt.bar(table.index,-table['Canada'])\n",
    "plt.xticks(rotation='vertical')\n",
    "plt.title('Canada')\n",
    "plt.ylabel('price elasticity (absolute value)')\n",
    "plt.show()"
   ]
  },
  {
   "cell_type": "markdown",
   "metadata": {
    "colab_type": "text",
    "id": "8Hbd_X_6_-98"
   },
   "source": [
    "## Scipy"
   ]
  },
  {
   "cell_type": "markdown",
   "metadata": {
    "colab_type": "text",
    "id": "RnjdIsZQ_-99"
   },
   "source": [
    "Scipy, comme son nom l'indique permet d'utiliser des librairies de fonctions scientifiques. Trois groupes en particulier sont d'intérêt: les fonctions statistiques (stats), les fonctions d'optimisation (optimize) et les fonctions d'interpolation (interpolate). "
   ]
  },
  {
   "cell_type": "code",
   "execution_count": 85,
   "metadata": {
    "colab": {},
    "colab_type": "code",
    "id": "3luv2E02_-99"
   },
   "outputs": [],
   "source": [
    "from scipy.stats import norm"
   ]
  },
  {
   "cell_type": "markdown",
   "metadata": {
    "colab_type": "text",
    "id": "B5wsXd8d_--F"
   },
   "source": [
    "Parmi les fonctions statistiques les plus utiles, on retrouve les distributions statistiques. Par exemple, la normal est (norm). Norm est en fait un module, il contient plein de fonctions."
   ]
  },
  {
   "cell_type": "markdown",
   "metadata": {
    "colab_type": "text",
    "id": "HsqRIshZ_--H"
   },
   "source": [
    "En particulier, on pourrait vouloir utiliser la fonction de répartion  (cdf) de la loi normal (0,1) ainsi que sa densité (pdf), et l'inverse de la CDF (ppf). Ainsi, on va faire: \n"
   ]
  },
  {
   "cell_type": "code",
   "execution_count": 87,
   "metadata": {
    "colab": {
     "base_uri": "https://localhost:8080/",
     "height": 33
    },
    "colab_type": "code",
    "executionInfo": {
     "elapsed": 6504,
     "status": "ok",
     "timestamp": 1577482005883,
     "user": {
      "displayName": "Pierre-Carl Michaud",
      "photoUrl": "https://lh3.googleusercontent.com/a-/AAuE7mAdgz-NrQSA9R7zmMIwPXQ4J9kyOWfiGgbt2_zLMA=s64",
      "userId": "08245724259323112556"
     },
     "user_tz": 300
    },
    "id": "IN61YJz9_--K",
    "outputId": "7c1cb3a8-76b1-4c3f-bb1d-d434b0ea96d1"
   },
   "outputs": [
    {
     "output_type": "execute_result",
     "data": {
      "text/plain": "0.5"
     },
     "metadata": {},
     "execution_count": 87
    }
   ],
   "source": [
    "norm(0,1).cdf(0)"
   ]
  },
  {
   "cell_type": "code",
   "execution_count": 89,
   "metadata": {
    "colab": {
     "base_uri": "https://localhost:8080/",
     "height": 33
    },
    "colab_type": "code",
    "executionInfo": {
     "elapsed": 6436,
     "status": "ok",
     "timestamp": 1577482005884,
     "user": {
      "displayName": "Pierre-Carl Michaud",
      "photoUrl": "https://lh3.googleusercontent.com/a-/AAuE7mAdgz-NrQSA9R7zmMIwPXQ4J9kyOWfiGgbt2_zLMA=s64",
      "userId": "08245724259323112556"
     },
     "user_tz": 300
    },
    "id": "Ptxccfuc_--N",
    "outputId": "4ae72f38-692f-4cc5-9475-175f30a1641d"
   },
   "outputs": [
    {
     "output_type": "execute_result",
     "data": {
      "text/plain": "0.3989422804014327"
     },
     "metadata": {},
     "execution_count": 89
    }
   ],
   "source": [
    "norm(0,1).pdf(0)"
   ]
  },
  {
   "cell_type": "code",
   "execution_count": 91,
   "metadata": {
    "colab": {
     "base_uri": "https://localhost:8080/",
     "height": 33
    },
    "colab_type": "code",
    "executionInfo": {
     "elapsed": 6396,
     "status": "ok",
     "timestamp": 1577482005885,
     "user": {
      "displayName": "Pierre-Carl Michaud",
      "photoUrl": "https://lh3.googleusercontent.com/a-/AAuE7mAdgz-NrQSA9R7zmMIwPXQ4J9kyOWfiGgbt2_zLMA=s64",
      "userId": "08245724259323112556"
     },
     "user_tz": 300
    },
    "id": "LKzLzJ1f_--R",
    "outputId": "97446446-5d86-420b-991d-a80a2b081f80"
   },
   "outputs": [
    {
     "output_type": "execute_result",
     "data": {
      "text/plain": "0.0"
     },
     "metadata": {},
     "execution_count": 91
    }
   ],
   "source": [
    "norm(0,1).ppf(0.5)"
   ]
  },
  {
   "cell_type": "markdown",
   "metadata": {
    "colab_type": "text",
    "id": "a-EjLe_Y_--T"
   },
   "source": [
    "On peut aussi faire des tirages aléatoires de cette loi: "
   ]
  },
  {
   "cell_type": "code",
   "execution_count": 93,
   "metadata": {
    "colab": {
     "base_uri": "https://localhost:8080/",
     "height": 33
    },
    "colab_type": "code",
    "executionInfo": {
     "elapsed": 6349,
     "status": "ok",
     "timestamp": 1577482005886,
     "user": {
      "displayName": "Pierre-Carl Michaud",
      "photoUrl": "https://lh3.googleusercontent.com/a-/AAuE7mAdgz-NrQSA9R7zmMIwPXQ4J9kyOWfiGgbt2_zLMA=s64",
      "userId": "08245724259323112556"
     },
     "user_tz": 300
    },
    "id": "ZGVSeFKh_--U",
    "outputId": "4fb258f0-2dec-471e-c902-0a5243a1f2be"
   },
   "outputs": [
    {
     "output_type": "execute_result",
     "data": {
      "text/plain": "(-0.07365961526338279, 0.9910611508041619)"
     },
     "metadata": {},
     "execution_count": 93
    }
   ],
   "source": [
    "n = norm(0,1).rvs(size=1000)\n",
    "(np.mean(n),np.std(n))"
   ]
  },
  {
   "cell_type": "code",
   "execution_count": 95,
   "metadata": {
    "colab": {
     "base_uri": "https://localhost:8080/",
     "height": 265
    },
    "colab_type": "code",
    "executionInfo": {
     "elapsed": 6673,
     "status": "ok",
     "timestamp": 1577482006246,
     "user": {
      "displayName": "Pierre-Carl Michaud",
      "photoUrl": "https://lh3.googleusercontent.com/a-/AAuE7mAdgz-NrQSA9R7zmMIwPXQ4J9kyOWfiGgbt2_zLMA=s64",
      "userId": "08245724259323112556"
     },
     "user_tz": 300
    },
    "id": "FMQcW-0Z_--X",
    "outputId": "0b0f5e64-d563-4c16-cf47-5a5d1077075c"
   },
   "outputs": [
    {
     "output_type": "display_data",
     "data": {
      "text/plain": "<Figure size 432x288 with 1 Axes>",
      "image/svg+xml": "<?xml version=\"1.0\" encoding=\"utf-8\" standalone=\"no\"?>\n<!DOCTYPE svg PUBLIC \"-//W3C//DTD SVG 1.1//EN\"\n  \"http://www.w3.org/Graphics/SVG/1.1/DTD/svg11.dtd\">\n<!-- Created with matplotlib (https://matplotlib.org/) -->\n<svg height=\"248.518125pt\" version=\"1.1\" viewBox=\"0 0 368.925 248.518125\" width=\"368.925pt\" xmlns=\"http://www.w3.org/2000/svg\" xmlns:xlink=\"http://www.w3.org/1999/xlink\">\n <defs>\n  <style type=\"text/css\">\n*{stroke-linecap:butt;stroke-linejoin:round;}\n  </style>\n </defs>\n <g id=\"figure_1\">\n  <g id=\"patch_1\">\n   <path d=\"M -0 248.518125 \nL 368.925 248.518125 \nL 368.925 0 \nL -0 0 \nz\n\" style=\"fill:none;\"/>\n  </g>\n  <g id=\"axes_1\">\n   <g id=\"patch_2\">\n    <path d=\"M 26.925 224.64 \nL 361.725 224.64 \nL 361.725 7.2 \nL 26.925 7.2 \nz\n\" style=\"fill:#ffffff;\"/>\n   </g>\n   <g id=\"patch_3\">\n    <path clip-path=\"url(#pba51bd8570)\" d=\"M 42.143182 224.64 \nL 45.186818 224.64 \nL 45.186818 218.549244 \nL 42.143182 218.549244 \nz\n\" style=\"fill:#1f77b4;\"/>\n   </g>\n   <g id=\"patch_4\">\n    <path clip-path=\"url(#pba51bd8570)\" d=\"M 45.186818 224.64 \nL 48.230455 224.64 \nL 48.230455 218.549244 \nL 45.186818 218.549244 \nz\n\" style=\"fill:#1f77b4;\"/>\n   </g>\n   <g id=\"patch_5\">\n    <path clip-path=\"url(#pba51bd8570)\" d=\"M 48.230455 224.64 \nL 51.274091 224.64 \nL 51.274091 224.64 \nL 48.230455 224.64 \nz\n\" style=\"fill:#1f77b4;\"/>\n   </g>\n   <g id=\"patch_6\">\n    <path clip-path=\"url(#pba51bd8570)\" d=\"M 51.274091 224.64 \nL 54.317727 224.64 \nL 54.317727 224.64 \nL 51.274091 224.64 \nz\n\" style=\"fill:#1f77b4;\"/>\n   </g>\n   <g id=\"patch_7\">\n    <path clip-path=\"url(#pba51bd8570)\" d=\"M 54.317727 224.64 \nL 57.361364 224.64 \nL 57.361364 224.64 \nL 54.317727 224.64 \nz\n\" style=\"fill:#1f77b4;\"/>\n   </g>\n   <g id=\"patch_8\">\n    <path clip-path=\"url(#pba51bd8570)\" d=\"M 57.361364 224.64 \nL 60.405 224.64 \nL 60.405 218.549244 \nL 57.361364 218.549244 \nz\n\" style=\"fill:#1f77b4;\"/>\n   </g>\n   <g id=\"patch_9\">\n    <path clip-path=\"url(#pba51bd8570)\" d=\"M 60.405 224.64 \nL 63.448636 224.64 \nL 63.448636 224.64 \nL 60.405 224.64 \nz\n\" style=\"fill:#1f77b4;\"/>\n   </g>\n   <g id=\"patch_10\">\n    <path clip-path=\"url(#pba51bd8570)\" d=\"M 63.448636 224.64 \nL 66.492273 224.64 \nL 66.492273 212.458487 \nL 63.448636 212.458487 \nz\n\" style=\"fill:#1f77b4;\"/>\n   </g>\n   <g id=\"patch_11\">\n    <path clip-path=\"url(#pba51bd8570)\" d=\"M 66.492273 224.64 \nL 69.535909 224.64 \nL 69.535909 218.549244 \nL 66.492273 218.549244 \nz\n\" style=\"fill:#1f77b4;\"/>\n   </g>\n   <g id=\"patch_12\">\n    <path clip-path=\"url(#pba51bd8570)\" d=\"M 69.535909 224.64 \nL 72.579545 224.64 \nL 72.579545 224.64 \nL 69.535909 224.64 \nz\n\" style=\"fill:#1f77b4;\"/>\n   </g>\n   <g id=\"patch_13\">\n    <path clip-path=\"url(#pba51bd8570)\" d=\"M 72.579545 224.64 \nL 75.623182 224.64 \nL 75.623182 218.549244 \nL 72.579545 218.549244 \nz\n\" style=\"fill:#1f77b4;\"/>\n   </g>\n   <g id=\"patch_14\">\n    <path clip-path=\"url(#pba51bd8570)\" d=\"M 75.623182 224.64 \nL 78.666818 224.64 \nL 78.666818 218.549244 \nL 75.623182 218.549244 \nz\n\" style=\"fill:#1f77b4;\"/>\n   </g>\n   <g id=\"patch_15\">\n    <path clip-path=\"url(#pba51bd8570)\" d=\"M 78.666818 224.64 \nL 81.710455 224.64 \nL 81.710455 212.458487 \nL 78.666818 212.458487 \nz\n\" style=\"fill:#1f77b4;\"/>\n   </g>\n   <g id=\"patch_16\">\n    <path clip-path=\"url(#pba51bd8570)\" d=\"M 81.710455 224.64 \nL 84.754091 224.64 \nL 84.754091 224.64 \nL 81.710455 224.64 \nz\n\" style=\"fill:#1f77b4;\"/>\n   </g>\n   <g id=\"patch_17\">\n    <path clip-path=\"url(#pba51bd8570)\" d=\"M 84.754091 224.64 \nL 87.797727 224.64 \nL 87.797727 224.64 \nL 84.754091 224.64 \nz\n\" style=\"fill:#1f77b4;\"/>\n   </g>\n   <g id=\"patch_18\">\n    <path clip-path=\"url(#pba51bd8570)\" d=\"M 87.797727 224.64 \nL 90.841364 224.64 \nL 90.841364 224.64 \nL 87.797727 224.64 \nz\n\" style=\"fill:#1f77b4;\"/>\n   </g>\n   <g id=\"patch_19\">\n    <path clip-path=\"url(#pba51bd8570)\" d=\"M 90.841364 224.64 \nL 93.885 224.64 \nL 93.885 224.64 \nL 90.841364 224.64 \nz\n\" style=\"fill:#1f77b4;\"/>\n   </g>\n   <g id=\"patch_20\">\n    <path clip-path=\"url(#pba51bd8570)\" d=\"M 93.885 224.64 \nL 96.928636 224.64 \nL 96.928636 212.458487 \nL 93.885 212.458487 \nz\n\" style=\"fill:#1f77b4;\"/>\n   </g>\n   <g id=\"patch_21\">\n    <path clip-path=\"url(#pba51bd8570)\" d=\"M 96.928636 224.64 \nL 99.972273 224.64 \nL 99.972273 218.549244 \nL 96.928636 218.549244 \nz\n\" style=\"fill:#1f77b4;\"/>\n   </g>\n   <g id=\"patch_22\">\n    <path clip-path=\"url(#pba51bd8570)\" d=\"M 99.972273 224.64 \nL 103.015909 224.64 \nL 103.015909 200.276975 \nL 99.972273 200.276975 \nz\n\" style=\"fill:#1f77b4;\"/>\n   </g>\n   <g id=\"patch_23\">\n    <path clip-path=\"url(#pba51bd8570)\" d=\"M 103.015909 224.64 \nL 106.059545 224.64 \nL 106.059545 194.186218 \nL 103.015909 194.186218 \nz\n\" style=\"fill:#1f77b4;\"/>\n   </g>\n   <g id=\"patch_24\">\n    <path clip-path=\"url(#pba51bd8570)\" d=\"M 106.059545 224.64 \nL 109.103182 224.64 \nL 109.103182 218.549244 \nL 106.059545 218.549244 \nz\n\" style=\"fill:#1f77b4;\"/>\n   </g>\n   <g id=\"patch_25\">\n    <path clip-path=\"url(#pba51bd8570)\" d=\"M 109.103182 224.64 \nL 112.146818 224.64 \nL 112.146818 206.367731 \nL 109.103182 206.367731 \nz\n\" style=\"fill:#1f77b4;\"/>\n   </g>\n   <g id=\"patch_26\">\n    <path clip-path=\"url(#pba51bd8570)\" d=\"M 112.146818 224.64 \nL 115.190455 224.64 \nL 115.190455 188.095462 \nL 112.146818 188.095462 \nz\n\" style=\"fill:#1f77b4;\"/>\n   </g>\n   <g id=\"patch_27\">\n    <path clip-path=\"url(#pba51bd8570)\" d=\"M 115.190455 224.64 \nL 118.234091 224.64 \nL 118.234091 224.64 \nL 115.190455 224.64 \nz\n\" style=\"fill:#1f77b4;\"/>\n   </g>\n   <g id=\"patch_28\">\n    <path clip-path=\"url(#pba51bd8570)\" d=\"M 118.234091 224.64 \nL 121.277727 224.64 \nL 121.277727 200.276975 \nL 118.234091 200.276975 \nz\n\" style=\"fill:#1f77b4;\"/>\n   </g>\n   <g id=\"patch_29\">\n    <path clip-path=\"url(#pba51bd8570)\" d=\"M 121.277727 224.64 \nL 124.321364 224.64 \nL 124.321364 212.458487 \nL 121.277727 212.458487 \nz\n\" style=\"fill:#1f77b4;\"/>\n   </g>\n   <g id=\"patch_30\">\n    <path clip-path=\"url(#pba51bd8570)\" d=\"M 124.321364 224.64 \nL 127.365 224.64 \nL 127.365 188.095462 \nL 124.321364 188.095462 \nz\n\" style=\"fill:#1f77b4;\"/>\n   </g>\n   <g id=\"patch_31\">\n    <path clip-path=\"url(#pba51bd8570)\" d=\"M 127.365 224.64 \nL 130.408636 224.64 \nL 130.408636 182.004706 \nL 127.365 182.004706 \nz\n\" style=\"fill:#1f77b4;\"/>\n   </g>\n   <g id=\"patch_32\">\n    <path clip-path=\"url(#pba51bd8570)\" d=\"M 130.408636 224.64 \nL 133.452273 224.64 \nL 133.452273 194.186218 \nL 130.408636 194.186218 \nz\n\" style=\"fill:#1f77b4;\"/>\n   </g>\n   <g id=\"patch_33\">\n    <path clip-path=\"url(#pba51bd8570)\" d=\"M 133.452273 224.64 \nL 136.495909 224.64 \nL 136.495909 163.732437 \nL 133.452273 163.732437 \nz\n\" style=\"fill:#1f77b4;\"/>\n   </g>\n   <g id=\"patch_34\">\n    <path clip-path=\"url(#pba51bd8570)\" d=\"M 136.495909 224.64 \nL 139.539545 224.64 \nL 139.539545 169.823193 \nL 136.495909 169.823193 \nz\n\" style=\"fill:#1f77b4;\"/>\n   </g>\n   <g id=\"patch_35\">\n    <path clip-path=\"url(#pba51bd8570)\" d=\"M 139.539545 224.64 \nL 142.583182 224.64 \nL 142.583182 169.823193 \nL 139.539545 169.823193 \nz\n\" style=\"fill:#1f77b4;\"/>\n   </g>\n   <g id=\"patch_36\">\n    <path clip-path=\"url(#pba51bd8570)\" d=\"M 142.583182 224.64 \nL 145.626818 224.64 \nL 145.626818 157.641681 \nL 142.583182 157.641681 \nz\n\" style=\"fill:#1f77b4;\"/>\n   </g>\n   <g id=\"patch_37\">\n    <path clip-path=\"url(#pba51bd8570)\" d=\"M 145.626818 224.64 \nL 148.670455 224.64 \nL 148.670455 157.641681 \nL 145.626818 157.641681 \nz\n\" style=\"fill:#1f77b4;\"/>\n   </g>\n   <g id=\"patch_38\">\n    <path clip-path=\"url(#pba51bd8570)\" d=\"M 148.670455 224.64 \nL 151.714091 224.64 \nL 151.714091 133.278655 \nL 148.670455 133.278655 \nz\n\" style=\"fill:#1f77b4;\"/>\n   </g>\n   <g id=\"patch_39\">\n    <path clip-path=\"url(#pba51bd8570)\" d=\"M 151.714091 224.64 \nL 154.757727 224.64 \nL 154.757727 133.278655 \nL 151.714091 133.278655 \nz\n\" style=\"fill:#1f77b4;\"/>\n   </g>\n   <g id=\"patch_40\">\n    <path clip-path=\"url(#pba51bd8570)\" d=\"M 154.757727 224.64 \nL 157.801364 224.64 \nL 157.801364 163.732437 \nL 154.757727 163.732437 \nz\n\" style=\"fill:#1f77b4;\"/>\n   </g>\n   <g id=\"patch_41\">\n    <path clip-path=\"url(#pba51bd8570)\" d=\"M 157.801364 224.64 \nL 160.845 224.64 \nL 160.845 72.371092 \nL 157.801364 72.371092 \nz\n\" style=\"fill:#1f77b4;\"/>\n   </g>\n   <g id=\"patch_42\">\n    <path clip-path=\"url(#pba51bd8570)\" d=\"M 160.845 224.64 \nL 163.888636 224.64 \nL 163.888636 145.460168 \nL 160.845 145.460168 \nz\n\" style=\"fill:#1f77b4;\"/>\n   </g>\n   <g id=\"patch_43\">\n    <path clip-path=\"url(#pba51bd8570)\" d=\"M 163.888636 224.64 \nL 166.932273 224.64 \nL 166.932273 151.550924 \nL 163.888636 151.550924 \nz\n\" style=\"fill:#1f77b4;\"/>\n   </g>\n   <g id=\"patch_44\">\n    <path clip-path=\"url(#pba51bd8570)\" d=\"M 166.932273 224.64 \nL 169.975909 224.64 \nL 169.975909 78.461849 \nL 166.932273 78.461849 \nz\n\" style=\"fill:#1f77b4;\"/>\n   </g>\n   <g id=\"patch_45\">\n    <path clip-path=\"url(#pba51bd8570)\" d=\"M 169.975909 224.64 \nL 173.019545 224.64 \nL 173.019545 84.552605 \nL 169.975909 84.552605 \nz\n\" style=\"fill:#1f77b4;\"/>\n   </g>\n   <g id=\"patch_46\">\n    <path clip-path=\"url(#pba51bd8570)\" d=\"M 173.019545 224.64 \nL 176.063182 224.64 \nL 176.063182 115.006387 \nL 173.019545 115.006387 \nz\n\" style=\"fill:#1f77b4;\"/>\n   </g>\n   <g id=\"patch_47\">\n    <path clip-path=\"url(#pba51bd8570)\" d=\"M 176.063182 224.64 \nL 179.106818 224.64 \nL 179.106818 29.735798 \nL 176.063182 29.735798 \nz\n\" style=\"fill:#1f77b4;\"/>\n   </g>\n   <g id=\"patch_48\">\n    <path clip-path=\"url(#pba51bd8570)\" d=\"M 179.106818 224.64 \nL 182.150455 224.64 \nL 182.150455 108.91563 \nL 179.106818 108.91563 \nz\n\" style=\"fill:#1f77b4;\"/>\n   </g>\n   <g id=\"patch_49\">\n    <path clip-path=\"url(#pba51bd8570)\" d=\"M 182.150455 224.64 \nL 185.194091 224.64 \nL 185.194091 60.18958 \nL 182.150455 60.18958 \nz\n\" style=\"fill:#1f77b4;\"/>\n   </g>\n   <g id=\"patch_50\">\n    <path clip-path=\"url(#pba51bd8570)\" d=\"M 185.194091 224.64 \nL 188.237727 224.64 \nL 188.237727 41.917311 \nL 185.194091 41.917311 \nz\n\" style=\"fill:#1f77b4;\"/>\n   </g>\n   <g id=\"patch_51\">\n    <path clip-path=\"url(#pba51bd8570)\" d=\"M 188.237727 224.64 \nL 191.281364 224.64 \nL 191.281364 41.917311 \nL 188.237727 41.917311 \nz\n\" style=\"fill:#1f77b4;\"/>\n   </g>\n   <g id=\"patch_52\">\n    <path clip-path=\"url(#pba51bd8570)\" d=\"M 191.281364 224.64 \nL 194.325 224.64 \nL 194.325 84.552605 \nL 191.281364 84.552605 \nz\n\" style=\"fill:#1f77b4;\"/>\n   </g>\n   <g id=\"patch_53\">\n    <path clip-path=\"url(#pba51bd8570)\" d=\"M 194.325 224.64 \nL 197.368636 224.64 \nL 197.368636 23.645042 \nL 194.325 23.645042 \nz\n\" style=\"fill:#1f77b4;\"/>\n   </g>\n   <g id=\"patch_54\">\n    <path clip-path=\"url(#pba51bd8570)\" d=\"M 197.368636 224.64 \nL 200.412273 224.64 \nL 200.412273 78.461849 \nL 197.368636 78.461849 \nz\n\" style=\"fill:#1f77b4;\"/>\n   </g>\n   <g id=\"patch_55\">\n    <path clip-path=\"url(#pba51bd8570)\" d=\"M 200.412273 224.64 \nL 203.455909 224.64 \nL 203.455909 84.552605 \nL 200.412273 84.552605 \nz\n\" style=\"fill:#1f77b4;\"/>\n   </g>\n   <g id=\"patch_56\">\n    <path clip-path=\"url(#pba51bd8570)\" d=\"M 203.455909 224.64 \nL 206.499545 224.64 \nL 206.499545 66.280336 \nL 203.455909 66.280336 \nz\n\" style=\"fill:#1f77b4;\"/>\n   </g>\n   <g id=\"patch_57\">\n    <path clip-path=\"url(#pba51bd8570)\" d=\"M 206.499545 224.64 \nL 209.543182 224.64 \nL 209.543182 60.18958 \nL 206.499545 60.18958 \nz\n\" style=\"fill:#1f77b4;\"/>\n   </g>\n   <g id=\"patch_58\">\n    <path clip-path=\"url(#pba51bd8570)\" d=\"M 209.543182 224.64 \nL 212.586818 224.64 \nL 212.586818 17.554286 \nL 209.543182 17.554286 \nz\n\" style=\"fill:#1f77b4;\"/>\n   </g>\n   <g id=\"patch_59\">\n    <path clip-path=\"url(#pba51bd8570)\" d=\"M 212.586818 224.64 \nL 215.630455 224.64 \nL 215.630455 78.461849 \nL 212.586818 78.461849 \nz\n\" style=\"fill:#1f77b4;\"/>\n   </g>\n   <g id=\"patch_60\">\n    <path clip-path=\"url(#pba51bd8570)\" d=\"M 215.630455 224.64 \nL 218.674091 224.64 \nL 218.674091 66.280336 \nL 215.630455 66.280336 \nz\n\" style=\"fill:#1f77b4;\"/>\n   </g>\n   <g id=\"patch_61\">\n    <path clip-path=\"url(#pba51bd8570)\" d=\"M 218.674091 224.64 \nL 221.717727 224.64 \nL 221.717727 115.006387 \nL 218.674091 115.006387 \nz\n\" style=\"fill:#1f77b4;\"/>\n   </g>\n   <g id=\"patch_62\">\n    <path clip-path=\"url(#pba51bd8570)\" d=\"M 221.717727 224.64 \nL 224.761364 224.64 \nL 224.761364 66.280336 \nL 221.717727 66.280336 \nz\n\" style=\"fill:#1f77b4;\"/>\n   </g>\n   <g id=\"patch_63\">\n    <path clip-path=\"url(#pba51bd8570)\" d=\"M 224.761364 224.64 \nL 227.805 224.64 \nL 227.805 102.824874 \nL 224.761364 102.824874 \nz\n\" style=\"fill:#1f77b4;\"/>\n   </g>\n   <g id=\"patch_64\">\n    <path clip-path=\"url(#pba51bd8570)\" d=\"M 227.805 224.64 \nL 230.848636 224.64 \nL 230.848636 35.826555 \nL 227.805 35.826555 \nz\n\" style=\"fill:#1f77b4;\"/>\n   </g>\n   <g id=\"patch_65\">\n    <path clip-path=\"url(#pba51bd8570)\" d=\"M 230.848636 224.64 \nL 233.892273 224.64 \nL 233.892273 72.371092 \nL 230.848636 72.371092 \nz\n\" style=\"fill:#1f77b4;\"/>\n   </g>\n   <g id=\"patch_66\">\n    <path clip-path=\"url(#pba51bd8570)\" d=\"M 233.892273 224.64 \nL 236.935909 224.64 \nL 236.935909 127.187899 \nL 233.892273 127.187899 \nz\n\" style=\"fill:#1f77b4;\"/>\n   </g>\n   <g id=\"patch_67\">\n    <path clip-path=\"url(#pba51bd8570)\" d=\"M 236.935909 224.64 \nL 239.979545 224.64 \nL 239.979545 115.006387 \nL 236.935909 115.006387 \nz\n\" style=\"fill:#1f77b4;\"/>\n   </g>\n   <g id=\"patch_68\">\n    <path clip-path=\"url(#pba51bd8570)\" d=\"M 239.979545 224.64 \nL 243.023182 224.64 \nL 243.023182 108.91563 \nL 239.979545 108.91563 \nz\n\" style=\"fill:#1f77b4;\"/>\n   </g>\n   <g id=\"patch_69\">\n    <path clip-path=\"url(#pba51bd8570)\" d=\"M 243.023182 224.64 \nL 246.066818 224.64 \nL 246.066818 115.006387 \nL 243.023182 115.006387 \nz\n\" style=\"fill:#1f77b4;\"/>\n   </g>\n   <g id=\"patch_70\">\n    <path clip-path=\"url(#pba51bd8570)\" d=\"M 246.066818 224.64 \nL 249.110455 224.64 \nL 249.110455 151.550924 \nL 246.066818 151.550924 \nz\n\" style=\"fill:#1f77b4;\"/>\n   </g>\n   <g id=\"patch_71\">\n    <path clip-path=\"url(#pba51bd8570)\" d=\"M 249.110455 224.64 \nL 252.154091 224.64 \nL 252.154091 133.278655 \nL 249.110455 133.278655 \nz\n\" style=\"fill:#1f77b4;\"/>\n   </g>\n   <g id=\"patch_72\">\n    <path clip-path=\"url(#pba51bd8570)\" d=\"M 252.154091 224.64 \nL 255.197727 224.64 \nL 255.197727 163.732437 \nL 252.154091 163.732437 \nz\n\" style=\"fill:#1f77b4;\"/>\n   </g>\n   <g id=\"patch_73\">\n    <path clip-path=\"url(#pba51bd8570)\" d=\"M 255.197727 224.64 \nL 258.241364 224.64 \nL 258.241364 133.278655 \nL 255.197727 133.278655 \nz\n\" style=\"fill:#1f77b4;\"/>\n   </g>\n   <g id=\"patch_74\">\n    <path clip-path=\"url(#pba51bd8570)\" d=\"M 258.241364 224.64 \nL 261.285 224.64 \nL 261.285 151.550924 \nL 258.241364 151.550924 \nz\n\" style=\"fill:#1f77b4;\"/>\n   </g>\n   <g id=\"patch_75\">\n    <path clip-path=\"url(#pba51bd8570)\" d=\"M 261.285 224.64 \nL 264.328636 224.64 \nL 264.328636 145.460168 \nL 261.285 145.460168 \nz\n\" style=\"fill:#1f77b4;\"/>\n   </g>\n   <g id=\"patch_76\">\n    <path clip-path=\"url(#pba51bd8570)\" d=\"M 264.328636 224.64 \nL 267.372273 224.64 \nL 267.372273 157.641681 \nL 264.328636 157.641681 \nz\n\" style=\"fill:#1f77b4;\"/>\n   </g>\n   <g id=\"patch_77\">\n    <path clip-path=\"url(#pba51bd8570)\" d=\"M 267.372273 224.64 \nL 270.415909 224.64 \nL 270.415909 157.641681 \nL 267.372273 157.641681 \nz\n\" style=\"fill:#1f77b4;\"/>\n   </g>\n   <g id=\"patch_78\">\n    <path clip-path=\"url(#pba51bd8570)\" d=\"M 270.415909 224.64 \nL 273.459545 224.64 \nL 273.459545 169.823193 \nL 270.415909 169.823193 \nz\n\" style=\"fill:#1f77b4;\"/>\n   </g>\n   <g id=\"patch_79\">\n    <path clip-path=\"url(#pba51bd8570)\" d=\"M 273.459545 224.64 \nL 276.503182 224.64 \nL 276.503182 194.186218 \nL 273.459545 194.186218 \nz\n\" style=\"fill:#1f77b4;\"/>\n   </g>\n   <g id=\"patch_80\">\n    <path clip-path=\"url(#pba51bd8570)\" d=\"M 276.503182 224.64 \nL 279.546818 224.64 \nL 279.546818 188.095462 \nL 276.503182 188.095462 \nz\n\" style=\"fill:#1f77b4;\"/>\n   </g>\n   <g id=\"patch_81\">\n    <path clip-path=\"url(#pba51bd8570)\" d=\"M 279.546818 224.64 \nL 282.590455 224.64 \nL 282.590455 188.095462 \nL 279.546818 188.095462 \nz\n\" style=\"fill:#1f77b4;\"/>\n   </g>\n   <g id=\"patch_82\">\n    <path clip-path=\"url(#pba51bd8570)\" d=\"M 282.590455 224.64 \nL 285.634091 224.64 \nL 285.634091 175.91395 \nL 282.590455 175.91395 \nz\n\" style=\"fill:#1f77b4;\"/>\n   </g>\n   <g id=\"patch_83\">\n    <path clip-path=\"url(#pba51bd8570)\" d=\"M 285.634091 224.64 \nL 288.677727 224.64 \nL 288.677727 212.458487 \nL 285.634091 212.458487 \nz\n\" style=\"fill:#1f77b4;\"/>\n   </g>\n   <g id=\"patch_84\">\n    <path clip-path=\"url(#pba51bd8570)\" d=\"M 288.677727 224.64 \nL 291.721364 224.64 \nL 291.721364 200.276975 \nL 288.677727 200.276975 \nz\n\" style=\"fill:#1f77b4;\"/>\n   </g>\n   <g id=\"patch_85\">\n    <path clip-path=\"url(#pba51bd8570)\" d=\"M 291.721364 224.64 \nL 294.765 224.64 \nL 294.765 188.095462 \nL 291.721364 188.095462 \nz\n\" style=\"fill:#1f77b4;\"/>\n   </g>\n   <g id=\"patch_86\">\n    <path clip-path=\"url(#pba51bd8570)\" d=\"M 294.765 224.64 \nL 297.808636 224.64 \nL 297.808636 212.458487 \nL 294.765 212.458487 \nz\n\" style=\"fill:#1f77b4;\"/>\n   </g>\n   <g id=\"patch_87\">\n    <path clip-path=\"url(#pba51bd8570)\" d=\"M 297.808636 224.64 \nL 300.852273 224.64 \nL 300.852273 200.276975 \nL 297.808636 200.276975 \nz\n\" style=\"fill:#1f77b4;\"/>\n   </g>\n   <g id=\"patch_88\">\n    <path clip-path=\"url(#pba51bd8570)\" d=\"M 300.852273 224.64 \nL 303.895909 224.64 \nL 303.895909 200.276975 \nL 300.852273 200.276975 \nz\n\" style=\"fill:#1f77b4;\"/>\n   </g>\n   <g id=\"patch_89\">\n    <path clip-path=\"url(#pba51bd8570)\" d=\"M 303.895909 224.64 \nL 306.939545 224.64 \nL 306.939545 218.549244 \nL 303.895909 218.549244 \nz\n\" style=\"fill:#1f77b4;\"/>\n   </g>\n   <g id=\"patch_90\">\n    <path clip-path=\"url(#pba51bd8570)\" d=\"M 306.939545 224.64 \nL 309.983182 224.64 \nL 309.983182 200.276975 \nL 306.939545 200.276975 \nz\n\" style=\"fill:#1f77b4;\"/>\n   </g>\n   <g id=\"patch_91\">\n    <path clip-path=\"url(#pba51bd8570)\" d=\"M 309.983182 224.64 \nL 313.026818 224.64 \nL 313.026818 218.549244 \nL 309.983182 218.549244 \nz\n\" style=\"fill:#1f77b4;\"/>\n   </g>\n   <g id=\"patch_92\">\n    <path clip-path=\"url(#pba51bd8570)\" d=\"M 313.026818 224.64 \nL 316.070455 224.64 \nL 316.070455 218.549244 \nL 313.026818 218.549244 \nz\n\" style=\"fill:#1f77b4;\"/>\n   </g>\n   <g id=\"patch_93\">\n    <path clip-path=\"url(#pba51bd8570)\" d=\"M 316.070455 224.64 \nL 319.114091 224.64 \nL 319.114091 224.64 \nL 316.070455 224.64 \nz\n\" style=\"fill:#1f77b4;\"/>\n   </g>\n   <g id=\"patch_94\">\n    <path clip-path=\"url(#pba51bd8570)\" d=\"M 319.114091 224.64 \nL 322.157727 224.64 \nL 322.157727 224.64 \nL 319.114091 224.64 \nz\n\" style=\"fill:#1f77b4;\"/>\n   </g>\n   <g id=\"patch_95\">\n    <path clip-path=\"url(#pba51bd8570)\" d=\"M 322.157727 224.64 \nL 325.201364 224.64 \nL 325.201364 206.367731 \nL 322.157727 206.367731 \nz\n\" style=\"fill:#1f77b4;\"/>\n   </g>\n   <g id=\"patch_96\">\n    <path clip-path=\"url(#pba51bd8570)\" d=\"M 325.201364 224.64 \nL 328.245 224.64 \nL 328.245 212.458487 \nL 325.201364 212.458487 \nz\n\" style=\"fill:#1f77b4;\"/>\n   </g>\n   <g id=\"patch_97\">\n    <path clip-path=\"url(#pba51bd8570)\" d=\"M 328.245 224.64 \nL 331.288636 224.64 \nL 331.288636 224.64 \nL 328.245 224.64 \nz\n\" style=\"fill:#1f77b4;\"/>\n   </g>\n   <g id=\"patch_98\">\n    <path clip-path=\"url(#pba51bd8570)\" d=\"M 331.288636 224.64 \nL 334.332273 224.64 \nL 334.332273 224.64 \nL 331.288636 224.64 \nz\n\" style=\"fill:#1f77b4;\"/>\n   </g>\n   <g id=\"patch_99\">\n    <path clip-path=\"url(#pba51bd8570)\" d=\"M 334.332273 224.64 \nL 337.375909 224.64 \nL 337.375909 218.549244 \nL 334.332273 218.549244 \nz\n\" style=\"fill:#1f77b4;\"/>\n   </g>\n   <g id=\"patch_100\">\n    <path clip-path=\"url(#pba51bd8570)\" d=\"M 337.375909 224.64 \nL 340.419545 224.64 \nL 340.419545 224.64 \nL 337.375909 224.64 \nz\n\" style=\"fill:#1f77b4;\"/>\n   </g>\n   <g id=\"patch_101\">\n    <path clip-path=\"url(#pba51bd8570)\" d=\"M 340.419545 224.64 \nL 343.463182 224.64 \nL 343.463182 218.549244 \nL 340.419545 218.549244 \nz\n\" style=\"fill:#1f77b4;\"/>\n   </g>\n   <g id=\"patch_102\">\n    <path clip-path=\"url(#pba51bd8570)\" d=\"M 343.463182 224.64 \nL 346.506818 224.64 \nL 346.506818 218.549244 \nL 343.463182 218.549244 \nz\n\" style=\"fill:#1f77b4;\"/>\n   </g>\n   <g id=\"matplotlib.axis_1\">\n    <g id=\"xtick_1\">\n     <g id=\"line2d_1\">\n      <defs>\n       <path d=\"M 0 0 \nL 0 3.5 \n\" id=\"m3aa904284d\" style=\"stroke:#000000;stroke-width:0.8;\"/>\n      </defs>\n      <g>\n       <use style=\"stroke:#000000;stroke-width:0.8;\" x=\"67.970512\" xlink:href=\"#m3aa904284d\" y=\"224.64\"/>\n      </g>\n     </g>\n     <g id=\"text_1\">\n      <!-- −3 -->\n      <defs>\n       <path d=\"M 10.59375 35.5 \nL 73.1875 35.5 \nL 73.1875 27.203125 \nL 10.59375 27.203125 \nz\n\" id=\"DejaVuSans-8722\"/>\n       <path d=\"M 40.578125 39.3125 \nQ 47.65625 37.796875 51.625 33 \nQ 55.609375 28.21875 55.609375 21.1875 \nQ 55.609375 10.40625 48.1875 4.484375 \nQ 40.765625 -1.421875 27.09375 -1.421875 \nQ 22.515625 -1.421875 17.65625 -0.515625 \nQ 12.796875 0.390625 7.625 2.203125 \nL 7.625 11.71875 \nQ 11.71875 9.328125 16.59375 8.109375 \nQ 21.484375 6.890625 26.8125 6.890625 \nQ 36.078125 6.890625 40.9375 10.546875 \nQ 45.796875 14.203125 45.796875 21.1875 \nQ 45.796875 27.640625 41.28125 31.265625 \nQ 36.765625 34.90625 28.71875 34.90625 \nL 20.21875 34.90625 \nL 20.21875 43.015625 \nL 29.109375 43.015625 \nQ 36.375 43.015625 40.234375 45.921875 \nQ 44.09375 48.828125 44.09375 54.296875 \nQ 44.09375 59.90625 40.109375 62.90625 \nQ 36.140625 65.921875 28.71875 65.921875 \nQ 24.65625 65.921875 20.015625 65.03125 \nQ 15.375 64.15625 9.8125 62.3125 \nL 9.8125 71.09375 \nQ 15.4375 72.65625 20.34375 73.4375 \nQ 25.25 74.21875 29.59375 74.21875 \nQ 40.828125 74.21875 47.359375 69.109375 \nQ 53.90625 64.015625 53.90625 55.328125 \nQ 53.90625 49.265625 50.4375 45.09375 \nQ 46.96875 40.921875 40.578125 39.3125 \nz\n\" id=\"DejaVuSans-51\"/>\n      </defs>\n      <g transform=\"translate(60.599418 239.238437)scale(0.1 -0.1)\">\n       <use xlink:href=\"#DejaVuSans-8722\"/>\n       <use x=\"83.789062\" xlink:href=\"#DejaVuSans-51\"/>\n      </g>\n     </g>\n    </g>\n    <g id=\"xtick_2\">\n     <g id=\"line2d_2\">\n      <g>\n       <use style=\"stroke:#000000;stroke-width:0.8;\" x=\"114.315709\" xlink:href=\"#m3aa904284d\" y=\"224.64\"/>\n      </g>\n     </g>\n     <g id=\"text_2\">\n      <!-- −2 -->\n      <defs>\n       <path d=\"M 19.1875 8.296875 \nL 53.609375 8.296875 \nL 53.609375 0 \nL 7.328125 0 \nL 7.328125 8.296875 \nQ 12.9375 14.109375 22.625 23.890625 \nQ 32.328125 33.6875 34.8125 36.53125 \nQ 39.546875 41.84375 41.421875 45.53125 \nQ 43.3125 49.21875 43.3125 52.78125 \nQ 43.3125 58.59375 39.234375 62.25 \nQ 35.15625 65.921875 28.609375 65.921875 \nQ 23.96875 65.921875 18.8125 64.3125 \nQ 13.671875 62.703125 7.8125 59.421875 \nL 7.8125 69.390625 \nQ 13.765625 71.78125 18.9375 73 \nQ 24.125 74.21875 28.421875 74.21875 \nQ 39.75 74.21875 46.484375 68.546875 \nQ 53.21875 62.890625 53.21875 53.421875 \nQ 53.21875 48.921875 51.53125 44.890625 \nQ 49.859375 40.875 45.40625 35.40625 \nQ 44.1875 33.984375 37.640625 27.21875 \nQ 31.109375 20.453125 19.1875 8.296875 \nz\n\" id=\"DejaVuSans-50\"/>\n      </defs>\n      <g transform=\"translate(106.944615 239.238437)scale(0.1 -0.1)\">\n       <use xlink:href=\"#DejaVuSans-8722\"/>\n       <use x=\"83.789062\" xlink:href=\"#DejaVuSans-50\"/>\n      </g>\n     </g>\n    </g>\n    <g id=\"xtick_3\">\n     <g id=\"line2d_3\">\n      <g>\n       <use style=\"stroke:#000000;stroke-width:0.8;\" x=\"160.660906\" xlink:href=\"#m3aa904284d\" y=\"224.64\"/>\n      </g>\n     </g>\n     <g id=\"text_3\">\n      <!-- −1 -->\n      <defs>\n       <path d=\"M 12.40625 8.296875 \nL 28.515625 8.296875 \nL 28.515625 63.921875 \nL 10.984375 60.40625 \nL 10.984375 69.390625 \nL 28.421875 72.90625 \nL 38.28125 72.90625 \nL 38.28125 8.296875 \nL 54.390625 8.296875 \nL 54.390625 0 \nL 12.40625 0 \nz\n\" id=\"DejaVuSans-49\"/>\n      </defs>\n      <g transform=\"translate(153.289812 239.238437)scale(0.1 -0.1)\">\n       <use xlink:href=\"#DejaVuSans-8722\"/>\n       <use x=\"83.789062\" xlink:href=\"#DejaVuSans-49\"/>\n      </g>\n     </g>\n    </g>\n    <g id=\"xtick_4\">\n     <g id=\"line2d_4\">\n      <g>\n       <use style=\"stroke:#000000;stroke-width:0.8;\" x=\"207.006103\" xlink:href=\"#m3aa904284d\" y=\"224.64\"/>\n      </g>\n     </g>\n     <g id=\"text_4\">\n      <!-- 0 -->\n      <defs>\n       <path d=\"M 31.78125 66.40625 \nQ 24.171875 66.40625 20.328125 58.90625 \nQ 16.5 51.421875 16.5 36.375 \nQ 16.5 21.390625 20.328125 13.890625 \nQ 24.171875 6.390625 31.78125 6.390625 \nQ 39.453125 6.390625 43.28125 13.890625 \nQ 47.125 21.390625 47.125 36.375 \nQ 47.125 51.421875 43.28125 58.90625 \nQ 39.453125 66.40625 31.78125 66.40625 \nz\nM 31.78125 74.21875 \nQ 44.046875 74.21875 50.515625 64.515625 \nQ 56.984375 54.828125 56.984375 36.375 \nQ 56.984375 17.96875 50.515625 8.265625 \nQ 44.046875 -1.421875 31.78125 -1.421875 \nQ 19.53125 -1.421875 13.0625 8.265625 \nQ 6.59375 17.96875 6.59375 36.375 \nQ 6.59375 54.828125 13.0625 64.515625 \nQ 19.53125 74.21875 31.78125 74.21875 \nz\n\" id=\"DejaVuSans-48\"/>\n      </defs>\n      <g transform=\"translate(203.824853 239.238437)scale(0.1 -0.1)\">\n       <use xlink:href=\"#DejaVuSans-48\"/>\n      </g>\n     </g>\n    </g>\n    <g id=\"xtick_5\">\n     <g id=\"line2d_5\">\n      <g>\n       <use style=\"stroke:#000000;stroke-width:0.8;\" x=\"253.351301\" xlink:href=\"#m3aa904284d\" y=\"224.64\"/>\n      </g>\n     </g>\n     <g id=\"text_5\">\n      <!-- 1 -->\n      <g transform=\"translate(250.170051 239.238437)scale(0.1 -0.1)\">\n       <use xlink:href=\"#DejaVuSans-49\"/>\n      </g>\n     </g>\n    </g>\n    <g id=\"xtick_6\">\n     <g id=\"line2d_6\">\n      <g>\n       <use style=\"stroke:#000000;stroke-width:0.8;\" x=\"299.696498\" xlink:href=\"#m3aa904284d\" y=\"224.64\"/>\n      </g>\n     </g>\n     <g id=\"text_6\">\n      <!-- 2 -->\n      <g transform=\"translate(296.515248 239.238437)scale(0.1 -0.1)\">\n       <use xlink:href=\"#DejaVuSans-50\"/>\n      </g>\n     </g>\n    </g>\n    <g id=\"xtick_7\">\n     <g id=\"line2d_7\">\n      <g>\n       <use style=\"stroke:#000000;stroke-width:0.8;\" x=\"346.041695\" xlink:href=\"#m3aa904284d\" y=\"224.64\"/>\n      </g>\n     </g>\n     <g id=\"text_7\">\n      <!-- 3 -->\n      <g transform=\"translate(342.860445 239.238437)scale(0.1 -0.1)\">\n       <use xlink:href=\"#DejaVuSans-51\"/>\n      </g>\n     </g>\n    </g>\n   </g>\n   <g id=\"matplotlib.axis_2\">\n    <g id=\"ytick_1\">\n     <g id=\"line2d_8\">\n      <defs>\n       <path d=\"M 0 0 \nL -3.5 0 \n\" id=\"me380ca7ad3\" style=\"stroke:#000000;stroke-width:0.8;\"/>\n      </defs>\n      <g>\n       <use style=\"stroke:#000000;stroke-width:0.8;\" x=\"26.925\" xlink:href=\"#me380ca7ad3\" y=\"224.64\"/>\n      </g>\n     </g>\n     <g id=\"text_8\">\n      <!-- 0 -->\n      <g transform=\"translate(13.5625 228.439219)scale(0.1 -0.1)\">\n       <use xlink:href=\"#DejaVuSans-48\"/>\n      </g>\n     </g>\n    </g>\n    <g id=\"ytick_2\">\n     <g id=\"line2d_9\">\n      <g>\n       <use style=\"stroke:#000000;stroke-width:0.8;\" x=\"26.925\" xlink:href=\"#me380ca7ad3\" y=\"194.186218\"/>\n      </g>\n     </g>\n     <g id=\"text_9\">\n      <!-- 5 -->\n      <defs>\n       <path d=\"M 10.796875 72.90625 \nL 49.515625 72.90625 \nL 49.515625 64.59375 \nL 19.828125 64.59375 \nL 19.828125 46.734375 \nQ 21.96875 47.46875 24.109375 47.828125 \nQ 26.265625 48.1875 28.421875 48.1875 \nQ 40.625 48.1875 47.75 41.5 \nQ 54.890625 34.8125 54.890625 23.390625 \nQ 54.890625 11.625 47.5625 5.09375 \nQ 40.234375 -1.421875 26.90625 -1.421875 \nQ 22.3125 -1.421875 17.546875 -0.640625 \nQ 12.796875 0.140625 7.71875 1.703125 \nL 7.71875 11.625 \nQ 12.109375 9.234375 16.796875 8.0625 \nQ 21.484375 6.890625 26.703125 6.890625 \nQ 35.15625 6.890625 40.078125 11.328125 \nQ 45.015625 15.765625 45.015625 23.390625 \nQ 45.015625 31 40.078125 35.4375 \nQ 35.15625 39.890625 26.703125 39.890625 \nQ 22.75 39.890625 18.8125 39.015625 \nQ 14.890625 38.140625 10.796875 36.28125 \nz\n\" id=\"DejaVuSans-53\"/>\n      </defs>\n      <g transform=\"translate(13.5625 197.985437)scale(0.1 -0.1)\">\n       <use xlink:href=\"#DejaVuSans-53\"/>\n      </g>\n     </g>\n    </g>\n    <g id=\"ytick_3\">\n     <g id=\"line2d_10\">\n      <g>\n       <use style=\"stroke:#000000;stroke-width:0.8;\" x=\"26.925\" xlink:href=\"#me380ca7ad3\" y=\"163.732437\"/>\n      </g>\n     </g>\n     <g id=\"text_10\">\n      <!-- 10 -->\n      <g transform=\"translate(7.2 167.531656)scale(0.1 -0.1)\">\n       <use xlink:href=\"#DejaVuSans-49\"/>\n       <use x=\"63.623047\" xlink:href=\"#DejaVuSans-48\"/>\n      </g>\n     </g>\n    </g>\n    <g id=\"ytick_4\">\n     <g id=\"line2d_11\">\n      <g>\n       <use style=\"stroke:#000000;stroke-width:0.8;\" x=\"26.925\" xlink:href=\"#me380ca7ad3\" y=\"133.278655\"/>\n      </g>\n     </g>\n     <g id=\"text_11\">\n      <!-- 15 -->\n      <g transform=\"translate(7.2 137.077874)scale(0.1 -0.1)\">\n       <use xlink:href=\"#DejaVuSans-49\"/>\n       <use x=\"63.623047\" xlink:href=\"#DejaVuSans-53\"/>\n      </g>\n     </g>\n    </g>\n    <g id=\"ytick_5\">\n     <g id=\"line2d_12\">\n      <g>\n       <use style=\"stroke:#000000;stroke-width:0.8;\" x=\"26.925\" xlink:href=\"#me380ca7ad3\" y=\"102.824874\"/>\n      </g>\n     </g>\n     <g id=\"text_12\">\n      <!-- 20 -->\n      <g transform=\"translate(7.2 106.624093)scale(0.1 -0.1)\">\n       <use xlink:href=\"#DejaVuSans-50\"/>\n       <use x=\"63.623047\" xlink:href=\"#DejaVuSans-48\"/>\n      </g>\n     </g>\n    </g>\n    <g id=\"ytick_6\">\n     <g id=\"line2d_13\">\n      <g>\n       <use style=\"stroke:#000000;stroke-width:0.8;\" x=\"26.925\" xlink:href=\"#me380ca7ad3\" y=\"72.371092\"/>\n      </g>\n     </g>\n     <g id=\"text_13\">\n      <!-- 25 -->\n      <g transform=\"translate(7.2 76.170311)scale(0.1 -0.1)\">\n       <use xlink:href=\"#DejaVuSans-50\"/>\n       <use x=\"63.623047\" xlink:href=\"#DejaVuSans-53\"/>\n      </g>\n     </g>\n    </g>\n    <g id=\"ytick_7\">\n     <g id=\"line2d_14\">\n      <g>\n       <use style=\"stroke:#000000;stroke-width:0.8;\" x=\"26.925\" xlink:href=\"#me380ca7ad3\" y=\"41.917311\"/>\n      </g>\n     </g>\n     <g id=\"text_14\">\n      <!-- 30 -->\n      <g transform=\"translate(7.2 45.71653)scale(0.1 -0.1)\">\n       <use xlink:href=\"#DejaVuSans-51\"/>\n       <use x=\"63.623047\" xlink:href=\"#DejaVuSans-48\"/>\n      </g>\n     </g>\n    </g>\n    <g id=\"ytick_8\">\n     <g id=\"line2d_15\">\n      <g>\n       <use style=\"stroke:#000000;stroke-width:0.8;\" x=\"26.925\" xlink:href=\"#me380ca7ad3\" y=\"11.463529\"/>\n      </g>\n     </g>\n     <g id=\"text_15\">\n      <!-- 35 -->\n      <g transform=\"translate(7.2 15.262748)scale(0.1 -0.1)\">\n       <use xlink:href=\"#DejaVuSans-51\"/>\n       <use x=\"63.623047\" xlink:href=\"#DejaVuSans-53\"/>\n      </g>\n     </g>\n    </g>\n   </g>\n   <g id=\"patch_103\">\n    <path d=\"M 26.925 224.64 \nL 26.925 7.2 \n\" style=\"fill:none;stroke:#000000;stroke-linecap:square;stroke-linejoin:miter;stroke-width:0.8;\"/>\n   </g>\n   <g id=\"patch_104\">\n    <path d=\"M 361.725 224.64 \nL 361.725 7.2 \n\" style=\"fill:none;stroke:#000000;stroke-linecap:square;stroke-linejoin:miter;stroke-width:0.8;\"/>\n   </g>\n   <g id=\"patch_105\">\n    <path d=\"M 26.925 224.64 \nL 361.725 224.64 \n\" style=\"fill:none;stroke:#000000;stroke-linecap:square;stroke-linejoin:miter;stroke-width:0.8;\"/>\n   </g>\n   <g id=\"patch_106\">\n    <path d=\"M 26.925 7.2 \nL 361.725 7.2 \n\" style=\"fill:none;stroke:#000000;stroke-linecap:square;stroke-linejoin:miter;stroke-width:0.8;\"/>\n   </g>\n  </g>\n </g>\n <defs>\n  <clipPath id=\"pba51bd8570\">\n   <rect height=\"217.44\" width=\"334.8\" x=\"26.925\" y=\"7.2\"/>\n  </clipPath>\n </defs>\n</svg>\n",
      "image/png": "[encoded data removed]"
     },
     "metadata": {
      "needs_background": "light"
     }
    }
   ],
   "source": [
    "plt.figure()\n",
    "plt.hist(n,bins=100)\n",
    "plt.show()"
   ]
  },
  {
   "cell_type": "markdown",
   "metadata": {
    "colab_type": "text",
    "id": "oyLHym4B_--Z"
   },
   "source": [
    "Finalement, un petit truc: au lieu de garder norm(0,1) et ses fonctions, nous pourrions utiliser des alias pour les fonctions"
   ]
  },
  {
   "cell_type": "code",
   "execution_count": 96,
   "metadata": {
    "colab": {},
    "colab_type": "code",
    "id": "r_iVY6P1_--b"
   },
   "outputs": [],
   "source": [
    "Phi = norm(0,1).cdf\n",
    "phi = norm(0,1).pdf \n",
    "InvPhi = norm(0,1).ppf"
   ]
  },
  {
   "cell_type": "markdown",
   "metadata": {
    "colab_type": "text",
    "id": "7TPuZDim_--d"
   },
   "source": [
    "On peut vérifier que ca donne les mêmes réponses qu'ici bas. "
   ]
  },
  {
   "cell_type": "code",
   "execution_count": 97,
   "metadata": {
    "colab": {
     "base_uri": "https://localhost:8080/",
     "height": 33
    },
    "colab_type": "code",
    "executionInfo": {
     "elapsed": 6615,
     "status": "ok",
     "timestamp": 1577482006248,
     "user": {
      "displayName": "Pierre-Carl Michaud",
      "photoUrl": "https://lh3.googleusercontent.com/a-/AAuE7mAdgz-NrQSA9R7zmMIwPXQ4J9kyOWfiGgbt2_zLMA=s64",
      "userId": "08245724259323112556"
     },
     "user_tz": 300
    },
    "id": "urNDRDCr_--d",
    "outputId": "96aab0cb-8748-4e61-c087-86daccc16cc3"
   },
   "outputs": [
    {
     "output_type": "execute_result",
     "data": {
      "text/plain": "(0.5, 0.3989422804014327, 0.0)"
     },
     "metadata": {},
     "execution_count": 97
    }
   ],
   "source": [
    "Phi(0),phi(0),InvPhi(0.5)"
   ]
  },
  {
   "cell_type": "markdown",
   "metadata": {
    "colab_type": "text",
    "id": "EQXGM3WP_--h"
   },
   "source": [
    "Le module optimize nous permet d'appeler toute sorte de fonctions d'optimisation. Nous les utiliserons plus tard. Pour le moment, suffit de voir comment on importe: "
   ]
  },
  {
   "cell_type": "code",
   "execution_count": 98,
   "metadata": {
    "colab": {},
    "colab_type": "code",
    "id": "OwWVbXDm_--h"
   },
   "outputs": [],
   "source": [
    "from scipy import optimize as op"
   ]
  },
  {
   "cell_type": "markdown",
   "metadata": {
    "colab_type": "text",
    "id": "1iuG_Jou_--j"
   },
   "source": [
    "Nous utiliserons en particuler les fonctions minimize_scalar et bisec. "
   ]
  },
  {
   "cell_type": "markdown",
   "metadata": {
    "colab_type": "text",
    "id": "_jO_ZMi-_--j"
   },
   "source": [
    "Finalement, un module utile est interpolate. Par exemple, supposons que j'ai des points de la fonction $y=f(x)=\\sqrt(x)$"
   ]
  },
  {
   "cell_type": "code",
   "execution_count": 99,
   "metadata": {
    "colab": {},
    "colab_type": "code",
    "id": "j2ZVRV2v_--k"
   },
   "outputs": [],
   "source": [
    "x = np.linspace(0,100,10)\n",
    "y = [np.sqrt(i) for i in x]"
   ]
  },
  {
   "cell_type": "code",
   "execution_count": 100,
   "metadata": {
    "colab": {
     "base_uri": "https://localhost:8080/",
     "height": 281
    },
    "colab_type": "code",
    "executionInfo": {
     "elapsed": 6552,
     "status": "ok",
     "timestamp": 1577482006251,
     "user": {
      "displayName": "Pierre-Carl Michaud",
      "photoUrl": "https://lh3.googleusercontent.com/a-/AAuE7mAdgz-NrQSA9R7zmMIwPXQ4J9kyOWfiGgbt2_zLMA=s64",
      "userId": "08245724259323112556"
     },
     "user_tz": 300
    },
    "id": "UeIiRAin_--m",
    "outputId": "aee134fc-1c59-419c-8f18-4477a96d6a37"
   },
   "outputs": [
    {
     "output_type": "execute_result",
     "data": {
      "text/plain": "<matplotlib.collections.PathCollection at 0x11ab41d30>"
     },
     "metadata": {},
     "execution_count": 100
    },
    {
     "output_type": "display_data",
     "data": {
      "text/plain": "<Figure size 432x288 with 1 Axes>",
      "image/svg+xml": "<?xml version=\"1.0\" encoding=\"utf-8\" standalone=\"no\"?>\n<!DOCTYPE svg PUBLIC \"-//W3C//DTD SVG 1.1//EN\"\n  \"http://www.w3.org/Graphics/SVG/1.1/DTD/svg11.dtd\">\n<!-- Created with matplotlib (https://matplotlib.org/) -->\n<svg height=\"248.518125pt\" version=\"1.1\" viewBox=\"0 0 368.925 248.518125\" width=\"368.925pt\" xmlns=\"http://www.w3.org/2000/svg\" xmlns:xlink=\"http://www.w3.org/1999/xlink\">\n <defs>\n  <style type=\"text/css\">\n*{stroke-linecap:butt;stroke-linejoin:round;}\n  </style>\n </defs>\n <g id=\"figure_1\">\n  <g id=\"patch_1\">\n   <path d=\"M -0 248.518125 \nL 368.925 248.518125 \nL 368.925 0 \nL -0 0 \nz\n\" style=\"fill:none;\"/>\n  </g>\n  <g id=\"axes_1\">\n   <g id=\"patch_2\">\n    <path d=\"M 26.925 224.64 \nL 361.725 224.64 \nL 361.725 7.2 \nL 26.925 7.2 \nz\n\" style=\"fill:#ffffff;\"/>\n   </g>\n   <g id=\"PathCollection_1\">\n    <defs>\n     <path d=\"M 0 3 \nC 0.795609 3 1.55874 2.683901 2.12132 2.12132 \nC 2.683901 1.55874 3 0.795609 3 0 \nC 3 -0.795609 2.683901 -1.55874 2.12132 -2.12132 \nC 1.55874 -2.683901 0.795609 -3 0 -3 \nC -0.795609 -3 -1.55874 -2.683901 -2.12132 -2.12132 \nC -2.683901 -1.55874 -3 -0.795609 -3 0 \nC -3 0.795609 -2.683901 1.55874 -2.12132 2.12132 \nC -1.55874 2.683901 -0.795609 3 0 3 \nz\n\" id=\"mf7204b3296\" style=\"stroke:#1f77b4;\"/>\n    </defs>\n    <g clip-path=\"url(#p7ddb6d7ccb)\">\n     <use style=\"fill:#1f77b4;stroke:#1f77b4;\" x=\"42.17045\" xlink:href=\"#mf7204b3296\" y=\"214.484387\"/>\n     <use style=\"fill:#1f77b4;stroke:#1f77b4;\" x=\"75.982572\" xlink:href=\"#mf7204b3296\" y=\"148.774796\"/>\n     <use style=\"fill:#1f77b4;stroke:#1f77b4;\" x=\"109.794694\" xlink:href=\"#mf7204b3296\" y=\"121.556992\"/>\n     <use style=\"fill:#1f77b4;stroke:#1f77b4;\" x=\"143.606817\" xlink:href=\"#mf7204b3296\" y=\"100.672036\"/>\n     <use style=\"fill:#1f77b4;stroke:#1f77b4;\" x=\"177.418939\" xlink:href=\"#mf7204b3296\" y=\"83.065204\"/>\n     <use style=\"fill:#1f77b4;stroke:#1f77b4;\" x=\"211.231061\" xlink:href=\"#mf7204b3296\" y=\"67.553274\"/>\n     <use style=\"fill:#1f77b4;stroke:#1f77b4;\" x=\"245.043183\" xlink:href=\"#mf7204b3296\" y=\"53.529417\"/>\n     <use style=\"fill:#1f77b4;stroke:#1f77b4;\" x=\"278.855306\" xlink:href=\"#mf7204b3296\" y=\"40.63315\"/>\n     <use style=\"fill:#1f77b4;stroke:#1f77b4;\" x=\"312.667428\" xlink:href=\"#mf7204b3296\" y=\"28.629597\"/>\n     <use style=\"fill:#1f77b4;stroke:#1f77b4;\" x=\"346.47955\" xlink:href=\"#mf7204b3296\" y=\"17.355613\"/>\n    </g>\n   </g>\n   <g id=\"matplotlib.axis_1\">\n    <g id=\"xtick_1\">\n     <g id=\"line2d_1\">\n      <defs>\n       <path d=\"M 0 0 \nL 0 3.5 \n\" id=\"mb7a96df1a2\" style=\"stroke:#000000;stroke-width:0.8;\"/>\n      </defs>\n      <g>\n       <use style=\"stroke:#000000;stroke-width:0.8;\" x=\"42.17045\" xlink:href=\"#mb7a96df1a2\" y=\"224.64\"/>\n      </g>\n     </g>\n     <g id=\"text_1\">\n      <!-- 0 -->\n      <defs>\n       <path d=\"M 31.78125 66.40625 \nQ 24.171875 66.40625 20.328125 58.90625 \nQ 16.5 51.421875 16.5 36.375 \nQ 16.5 21.390625 20.328125 13.890625 \nQ 24.171875 6.390625 31.78125 6.390625 \nQ 39.453125 6.390625 43.28125 13.890625 \nQ 47.125 21.390625 47.125 36.375 \nQ 47.125 51.421875 43.28125 58.90625 \nQ 39.453125 66.40625 31.78125 66.40625 \nz\nM 31.78125 74.21875 \nQ 44.046875 74.21875 50.515625 64.515625 \nQ 56.984375 54.828125 56.984375 36.375 \nQ 56.984375 17.96875 50.515625 8.265625 \nQ 44.046875 -1.421875 31.78125 -1.421875 \nQ 19.53125 -1.421875 13.0625 8.265625 \nQ 6.59375 17.96875 6.59375 36.375 \nQ 6.59375 54.828125 13.0625 64.515625 \nQ 19.53125 74.21875 31.78125 74.21875 \nz\n\" id=\"DejaVuSans-48\"/>\n      </defs>\n      <g transform=\"translate(38.9892 239.238437)scale(0.1 -0.1)\">\n       <use xlink:href=\"#DejaVuSans-48\"/>\n      </g>\n     </g>\n    </g>\n    <g id=\"xtick_2\">\n     <g id=\"line2d_2\">\n      <g>\n       <use style=\"stroke:#000000;stroke-width:0.8;\" x=\"103.03227\" xlink:href=\"#mb7a96df1a2\" y=\"224.64\"/>\n      </g>\n     </g>\n     <g id=\"text_2\">\n      <!-- 20 -->\n      <defs>\n       <path d=\"M 19.1875 8.296875 \nL 53.609375 8.296875 \nL 53.609375 0 \nL 7.328125 0 \nL 7.328125 8.296875 \nQ 12.9375 14.109375 22.625 23.890625 \nQ 32.328125 33.6875 34.8125 36.53125 \nQ 39.546875 41.84375 41.421875 45.53125 \nQ 43.3125 49.21875 43.3125 52.78125 \nQ 43.3125 58.59375 39.234375 62.25 \nQ 35.15625 65.921875 28.609375 65.921875 \nQ 23.96875 65.921875 18.8125 64.3125 \nQ 13.671875 62.703125 7.8125 59.421875 \nL 7.8125 69.390625 \nQ 13.765625 71.78125 18.9375 73 \nQ 24.125 74.21875 28.421875 74.21875 \nQ 39.75 74.21875 46.484375 68.546875 \nQ 53.21875 62.890625 53.21875 53.421875 \nQ 53.21875 48.921875 51.53125 44.890625 \nQ 49.859375 40.875 45.40625 35.40625 \nQ 44.1875 33.984375 37.640625 27.21875 \nQ 31.109375 20.453125 19.1875 8.296875 \nz\n\" id=\"DejaVuSans-50\"/>\n      </defs>\n      <g transform=\"translate(96.66977 239.238437)scale(0.1 -0.1)\">\n       <use xlink:href=\"#DejaVuSans-50\"/>\n       <use x=\"63.623047\" xlink:href=\"#DejaVuSans-48\"/>\n      </g>\n     </g>\n    </g>\n    <g id=\"xtick_3\">\n     <g id=\"line2d_3\">\n      <g>\n       <use style=\"stroke:#000000;stroke-width:0.8;\" x=\"163.89409\" xlink:href=\"#mb7a96df1a2\" y=\"224.64\"/>\n      </g>\n     </g>\n     <g id=\"text_3\">\n      <!-- 40 -->\n      <defs>\n       <path d=\"M 37.796875 64.3125 \nL 12.890625 25.390625 \nL 37.796875 25.390625 \nz\nM 35.203125 72.90625 \nL 47.609375 72.90625 \nL 47.609375 25.390625 \nL 58.015625 25.390625 \nL 58.015625 17.1875 \nL 47.609375 17.1875 \nL 47.609375 0 \nL 37.796875 0 \nL 37.796875 17.1875 \nL 4.890625 17.1875 \nL 4.890625 26.703125 \nz\n\" id=\"DejaVuSans-52\"/>\n      </defs>\n      <g transform=\"translate(157.53159 239.238437)scale(0.1 -0.1)\">\n       <use xlink:href=\"#DejaVuSans-52\"/>\n       <use x=\"63.623047\" xlink:href=\"#DejaVuSans-48\"/>\n      </g>\n     </g>\n    </g>\n    <g id=\"xtick_4\">\n     <g id=\"line2d_4\">\n      <g>\n       <use style=\"stroke:#000000;stroke-width:0.8;\" x=\"224.75591\" xlink:href=\"#mb7a96df1a2\" y=\"224.64\"/>\n      </g>\n     </g>\n     <g id=\"text_4\">\n      <!-- 60 -->\n      <defs>\n       <path d=\"M 33.015625 40.375 \nQ 26.375 40.375 22.484375 35.828125 \nQ 18.609375 31.296875 18.609375 23.390625 \nQ 18.609375 15.53125 22.484375 10.953125 \nQ 26.375 6.390625 33.015625 6.390625 \nQ 39.65625 6.390625 43.53125 10.953125 \nQ 47.40625 15.53125 47.40625 23.390625 \nQ 47.40625 31.296875 43.53125 35.828125 \nQ 39.65625 40.375 33.015625 40.375 \nz\nM 52.59375 71.296875 \nL 52.59375 62.3125 \nQ 48.875 64.0625 45.09375 64.984375 \nQ 41.3125 65.921875 37.59375 65.921875 \nQ 27.828125 65.921875 22.671875 59.328125 \nQ 17.53125 52.734375 16.796875 39.40625 \nQ 19.671875 43.65625 24.015625 45.921875 \nQ 28.375 48.1875 33.59375 48.1875 \nQ 44.578125 48.1875 50.953125 41.515625 \nQ 57.328125 34.859375 57.328125 23.390625 \nQ 57.328125 12.15625 50.6875 5.359375 \nQ 44.046875 -1.421875 33.015625 -1.421875 \nQ 20.359375 -1.421875 13.671875 8.265625 \nQ 6.984375 17.96875 6.984375 36.375 \nQ 6.984375 53.65625 15.1875 63.9375 \nQ 23.390625 74.21875 37.203125 74.21875 \nQ 40.921875 74.21875 44.703125 73.484375 \nQ 48.484375 72.75 52.59375 71.296875 \nz\n\" id=\"DejaVuSans-54\"/>\n      </defs>\n      <g transform=\"translate(218.39341 239.238437)scale(0.1 -0.1)\">\n       <use xlink:href=\"#DejaVuSans-54\"/>\n       <use x=\"63.623047\" xlink:href=\"#DejaVuSans-48\"/>\n      </g>\n     </g>\n    </g>\n    <g id=\"xtick_5\">\n     <g id=\"line2d_5\">\n      <g>\n       <use style=\"stroke:#000000;stroke-width:0.8;\" x=\"285.61773\" xlink:href=\"#mb7a96df1a2\" y=\"224.64\"/>\n      </g>\n     </g>\n     <g id=\"text_5\">\n      <!-- 80 -->\n      <defs>\n       <path d=\"M 31.78125 34.625 \nQ 24.75 34.625 20.71875 30.859375 \nQ 16.703125 27.09375 16.703125 20.515625 \nQ 16.703125 13.921875 20.71875 10.15625 \nQ 24.75 6.390625 31.78125 6.390625 \nQ 38.8125 6.390625 42.859375 10.171875 \nQ 46.921875 13.96875 46.921875 20.515625 \nQ 46.921875 27.09375 42.890625 30.859375 \nQ 38.875 34.625 31.78125 34.625 \nz\nM 21.921875 38.8125 \nQ 15.578125 40.375 12.03125 44.71875 \nQ 8.5 49.078125 8.5 55.328125 \nQ 8.5 64.0625 14.71875 69.140625 \nQ 20.953125 74.21875 31.78125 74.21875 \nQ 42.671875 74.21875 48.875 69.140625 \nQ 55.078125 64.0625 55.078125 55.328125 \nQ 55.078125 49.078125 51.53125 44.71875 \nQ 48 40.375 41.703125 38.8125 \nQ 48.828125 37.15625 52.796875 32.3125 \nQ 56.78125 27.484375 56.78125 20.515625 \nQ 56.78125 9.90625 50.3125 4.234375 \nQ 43.84375 -1.421875 31.78125 -1.421875 \nQ 19.734375 -1.421875 13.25 4.234375 \nQ 6.78125 9.90625 6.78125 20.515625 \nQ 6.78125 27.484375 10.78125 32.3125 \nQ 14.796875 37.15625 21.921875 38.8125 \nz\nM 18.3125 54.390625 \nQ 18.3125 48.734375 21.84375 45.5625 \nQ 25.390625 42.390625 31.78125 42.390625 \nQ 38.140625 42.390625 41.71875 45.5625 \nQ 45.3125 48.734375 45.3125 54.390625 \nQ 45.3125 60.0625 41.71875 63.234375 \nQ 38.140625 66.40625 31.78125 66.40625 \nQ 25.390625 66.40625 21.84375 63.234375 \nQ 18.3125 60.0625 18.3125 54.390625 \nz\n\" id=\"DejaVuSans-56\"/>\n      </defs>\n      <g transform=\"translate(279.25523 239.238437)scale(0.1 -0.1)\">\n       <use xlink:href=\"#DejaVuSans-56\"/>\n       <use x=\"63.623047\" xlink:href=\"#DejaVuSans-48\"/>\n      </g>\n     </g>\n    </g>\n    <g id=\"xtick_6\">\n     <g id=\"line2d_6\">\n      <g>\n       <use style=\"stroke:#000000;stroke-width:0.8;\" x=\"346.47955\" xlink:href=\"#mb7a96df1a2\" y=\"224.64\"/>\n      </g>\n     </g>\n     <g id=\"text_6\">\n      <!-- 100 -->\n      <defs>\n       <path d=\"M 12.40625 8.296875 \nL 28.515625 8.296875 \nL 28.515625 63.921875 \nL 10.984375 60.40625 \nL 10.984375 69.390625 \nL 28.421875 72.90625 \nL 38.28125 72.90625 \nL 38.28125 8.296875 \nL 54.390625 8.296875 \nL 54.390625 0 \nL 12.40625 0 \nz\n\" id=\"DejaVuSans-49\"/>\n      </defs>\n      <g transform=\"translate(336.9358 239.238437)scale(0.1 -0.1)\">\n       <use xlink:href=\"#DejaVuSans-49\"/>\n       <use x=\"63.623047\" xlink:href=\"#DejaVuSans-48\"/>\n       <use x=\"127.246094\" xlink:href=\"#DejaVuSans-48\"/>\n      </g>\n     </g>\n    </g>\n   </g>\n   <g id=\"matplotlib.axis_2\">\n    <g id=\"ytick_1\">\n     <g id=\"line2d_7\">\n      <defs>\n       <path d=\"M 0 0 \nL -3.5 0 \n\" id=\"m729f777d44\" style=\"stroke:#000000;stroke-width:0.8;\"/>\n      </defs>\n      <g>\n       <use style=\"stroke:#000000;stroke-width:0.8;\" x=\"26.925\" xlink:href=\"#m729f777d44\" y=\"214.484387\"/>\n      </g>\n     </g>\n     <g id=\"text_7\">\n      <!-- 0 -->\n      <g transform=\"translate(13.5625 218.283606)scale(0.1 -0.1)\">\n       <use xlink:href=\"#DejaVuSans-48\"/>\n      </g>\n     </g>\n    </g>\n    <g id=\"ytick_2\">\n     <g id=\"line2d_8\">\n      <g>\n       <use style=\"stroke:#000000;stroke-width:0.8;\" x=\"26.925\" xlink:href=\"#m729f777d44\" y=\"175.058632\"/>\n      </g>\n     </g>\n     <g id=\"text_8\">\n      <!-- 2 -->\n      <g transform=\"translate(13.5625 178.857851)scale(0.1 -0.1)\">\n       <use xlink:href=\"#DejaVuSans-50\"/>\n      </g>\n     </g>\n    </g>\n    <g id=\"ytick_3\">\n     <g id=\"line2d_9\">\n      <g>\n       <use style=\"stroke:#000000;stroke-width:0.8;\" x=\"26.925\" xlink:href=\"#m729f777d44\" y=\"135.632877\"/>\n      </g>\n     </g>\n     <g id=\"text_9\">\n      <!-- 4 -->\n      <g transform=\"translate(13.5625 139.432096)scale(0.1 -0.1)\">\n       <use xlink:href=\"#DejaVuSans-52\"/>\n      </g>\n     </g>\n    </g>\n    <g id=\"ytick_4\">\n     <g id=\"line2d_10\">\n      <g>\n       <use style=\"stroke:#000000;stroke-width:0.8;\" x=\"26.925\" xlink:href=\"#m729f777d44\" y=\"96.207123\"/>\n      </g>\n     </g>\n     <g id=\"text_10\">\n      <!-- 6 -->\n      <g transform=\"translate(13.5625 100.006341)scale(0.1 -0.1)\">\n       <use xlink:href=\"#DejaVuSans-54\"/>\n      </g>\n     </g>\n    </g>\n    <g id=\"ytick_5\">\n     <g id=\"line2d_11\">\n      <g>\n       <use style=\"stroke:#000000;stroke-width:0.8;\" x=\"26.925\" xlink:href=\"#m729f777d44\" y=\"56.781368\"/>\n      </g>\n     </g>\n     <g id=\"text_11\">\n      <!-- 8 -->\n      <g transform=\"translate(13.5625 60.580587)scale(0.1 -0.1)\">\n       <use xlink:href=\"#DejaVuSans-56\"/>\n      </g>\n     </g>\n    </g>\n    <g id=\"ytick_6\">\n     <g id=\"line2d_12\">\n      <g>\n       <use style=\"stroke:#000000;stroke-width:0.8;\" x=\"26.925\" xlink:href=\"#m729f777d44\" y=\"17.355613\"/>\n      </g>\n     </g>\n     <g id=\"text_12\">\n      <!-- 10 -->\n      <g transform=\"translate(7.2 21.154832)scale(0.1 -0.1)\">\n       <use xlink:href=\"#DejaVuSans-49\"/>\n       <use x=\"63.623047\" xlink:href=\"#DejaVuSans-48\"/>\n      </g>\n     </g>\n    </g>\n   </g>\n   <g id=\"patch_3\">\n    <path d=\"M 26.925 224.64 \nL 26.925 7.2 \n\" style=\"fill:none;stroke:#000000;stroke-linecap:square;stroke-linejoin:miter;stroke-width:0.8;\"/>\n   </g>\n   <g id=\"patch_4\">\n    <path d=\"M 361.725 224.64 \nL 361.725 7.2 \n\" style=\"fill:none;stroke:#000000;stroke-linecap:square;stroke-linejoin:miter;stroke-width:0.8;\"/>\n   </g>\n   <g id=\"patch_5\">\n    <path d=\"M 26.925 224.64 \nL 361.725 224.64 \n\" style=\"fill:none;stroke:#000000;stroke-linecap:square;stroke-linejoin:miter;stroke-width:0.8;\"/>\n   </g>\n   <g id=\"patch_6\">\n    <path d=\"M 26.925 7.2 \nL 361.725 7.2 \n\" style=\"fill:none;stroke:#000000;stroke-linecap:square;stroke-linejoin:miter;stroke-width:0.8;\"/>\n   </g>\n  </g>\n </g>\n <defs>\n  <clipPath id=\"p7ddb6d7ccb\">\n   <rect height=\"217.44\" width=\"334.8\" x=\"26.925\" y=\"7.2\"/>\n  </clipPath>\n </defs>\n</svg>\n",
      "image/png": "[encoded data removed]"
     },
     "metadata": {
      "needs_background": "light"
     }
    }
   ],
   "source": [
    "plt.figure()\n",
    "plt.scatter(x,y)"
   ]
  },
  {
   "cell_type": "markdown",
   "metadata": {
    "colab_type": "text",
    "id": "K4BYuw4A_--o"
   },
   "source": [
    "Supposons maintenant que nous oublions que nous connaissons la fonction. Par exemple, il y a des situations ou on a des données, mais on aimerait avoir la fonction à une valeur autre que les points dans les données. Si ces points sont dans le range couvert par les données, on dit qu'on veut interpoler. "
   ]
  },
  {
   "cell_type": "code",
   "execution_count": 101,
   "metadata": {
    "colab": {},
    "colab_type": "code",
    "id": "W2IafRbu_--o"
   },
   "outputs": [],
   "source": [
    "from scipy import interpolate as it"
   ]
  },
  {
   "cell_type": "markdown",
   "metadata": {
    "colab_type": "text",
    "id": "3L9kKVhY_--q"
   },
   "source": [
    "Créons une interpolation linéaire:"
   ]
  },
  {
   "cell_type": "code",
   "execution_count": 102,
   "metadata": {
    "colab": {},
    "colab_type": "code",
    "id": "5ntRdxu3_--q"
   },
   "outputs": [],
   "source": [
    "f = it.interp1d(x,y,kind='linear')"
   ]
  },
  {
   "cell_type": "markdown",
   "metadata": {
    "colab_type": "text",
    "id": "7uYkFUOx_--s"
   },
   "source": [
    "Créons des nouveaux points"
   ]
  },
  {
   "cell_type": "code",
   "execution_count": 103,
   "metadata": {
    "colab": {},
    "colab_type": "code",
    "id": "CJpEzdwz_--t"
   },
   "outputs": [],
   "source": [
    "xi = np.linspace(0,100,50)"
   ]
  },
  {
   "cell_type": "markdown",
   "metadata": {
    "colab_type": "text",
    "id": "d5sct0H6_--v"
   },
   "source": [
    "On peut alors trouver les y interpolés en appliquant f: "
   ]
  },
  {
   "cell_type": "code",
   "execution_count": 104,
   "metadata": {
    "colab": {},
    "colab_type": "code",
    "id": "xkSA2sqs_--v"
   },
   "outputs": [],
   "source": [
    "yi = f(xi)"
   ]
  },
  {
   "cell_type": "markdown",
   "metadata": {
    "colab_type": "text",
    "id": "JL1nlKQM_--x"
   },
   "source": [
    "On pourrait faire une autre interpolation, plus précise, par exemple cubique: "
   ]
  },
  {
   "cell_type": "code",
   "execution_count": 105,
   "metadata": {
    "colab": {},
    "colab_type": "code",
    "id": "7Yr9jszc_--x"
   },
   "outputs": [],
   "source": [
    "f2 = it.interp1d(x,y,kind='cubic')"
   ]
  },
  {
   "cell_type": "code",
   "execution_count": 106,
   "metadata": {
    "colab": {
     "base_uri": "https://localhost:8080/",
     "height": 265
    },
    "colab_type": "code",
    "executionInfo": {
     "elapsed": 6841,
     "status": "ok",
     "timestamp": 1577482006625,
     "user": {
      "displayName": "Pierre-Carl Michaud",
      "photoUrl": "https://lh3.googleusercontent.com/a-/AAuE7mAdgz-NrQSA9R7zmMIwPXQ4J9kyOWfiGgbt2_zLMA=s64",
      "userId": "08245724259323112556"
     },
     "user_tz": 300
    },
    "id": "M-ehEMOB_--3",
    "outputId": "ef801953-d9ea-4884-a9a3-059ab8a7f448"
   },
   "outputs": [
    {
     "output_type": "display_data",
     "data": {
      "text/plain": "<Figure size 432x288 with 1 Axes>",
      "image/svg+xml": "<?xml version=\"1.0\" encoding=\"utf-8\" standalone=\"no\"?>\n<!DOCTYPE svg PUBLIC \"-//W3C//DTD SVG 1.1//EN\"\n  \"http://www.w3.org/Graphics/SVG/1.1/DTD/svg11.dtd\">\n<!-- Created with matplotlib (https://matplotlib.org/) -->\n<svg height=\"248.518125pt\" version=\"1.1\" viewBox=\"0 0 368.925 248.518125\" width=\"368.925pt\" xmlns=\"http://www.w3.org/2000/svg\" xmlns:xlink=\"http://www.w3.org/1999/xlink\">\n <defs>\n  <style type=\"text/css\">\n*{stroke-linecap:butt;stroke-linejoin:round;}\n  </style>\n </defs>\n <g id=\"figure_1\">\n  <g id=\"patch_1\">\n   <path d=\"M -0 248.518125 \nL 368.925 248.518125 \nL 368.925 0 \nL -0 0 \nz\n\" style=\"fill:none;\"/>\n  </g>\n  <g id=\"axes_1\">\n   <g id=\"patch_2\">\n    <path d=\"M 26.925 224.64 \nL 361.725 224.64 \nL 361.725 7.2 \nL 26.925 7.2 \nz\n\" style=\"fill:#ffffff;\"/>\n   </g>\n   <g id=\"PathCollection_1\">\n    <defs>\n     <path d=\"M 0 3 \nC 0.795609 3 1.55874 2.683901 2.12132 2.12132 \nC 2.683901 1.55874 3 0.795609 3 0 \nC 3 -0.795609 2.683901 -1.55874 2.12132 -2.12132 \nC 1.55874 -2.683901 0.795609 -3 0 -3 \nC -0.795609 -3 -1.55874 -2.683901 -2.12132 -2.12132 \nC -2.683901 -1.55874 -3 -0.795609 -3 0 \nC -3 0.795609 -2.683901 1.55874 -2.12132 2.12132 \nC -1.55874 2.683901 -0.795609 3 0 3 \nz\n\" id=\"m50cb2ed427\" style=\"stroke:#1f77b4;\"/>\n    </defs>\n    <g clip-path=\"url(#p6225b406cc)\">\n     <use style=\"fill:#1f77b4;stroke:#1f77b4;\" x=\"42.17045\" xlink:href=\"#m50cb2ed427\" y=\"214.484387\"/>\n     <use style=\"fill:#1f77b4;stroke:#1f77b4;\" x=\"75.982572\" xlink:href=\"#m50cb2ed427\" y=\"148.774796\"/>\n     <use style=\"fill:#1f77b4;stroke:#1f77b4;\" x=\"109.794694\" xlink:href=\"#m50cb2ed427\" y=\"121.556992\"/>\n     <use style=\"fill:#1f77b4;stroke:#1f77b4;\" x=\"143.606817\" xlink:href=\"#m50cb2ed427\" y=\"100.672036\"/>\n     <use style=\"fill:#1f77b4;stroke:#1f77b4;\" x=\"177.418939\" xlink:href=\"#m50cb2ed427\" y=\"83.065204\"/>\n     <use style=\"fill:#1f77b4;stroke:#1f77b4;\" x=\"211.231061\" xlink:href=\"#m50cb2ed427\" y=\"67.553274\"/>\n     <use style=\"fill:#1f77b4;stroke:#1f77b4;\" x=\"245.043183\" xlink:href=\"#m50cb2ed427\" y=\"53.529417\"/>\n     <use style=\"fill:#1f77b4;stroke:#1f77b4;\" x=\"278.855306\" xlink:href=\"#m50cb2ed427\" y=\"40.63315\"/>\n     <use style=\"fill:#1f77b4;stroke:#1f77b4;\" x=\"312.667428\" xlink:href=\"#m50cb2ed427\" y=\"28.629597\"/>\n     <use style=\"fill:#1f77b4;stroke:#1f77b4;\" x=\"346.47955\" xlink:href=\"#m50cb2ed427\" y=\"17.355613\"/>\n    </g>\n   </g>\n   <g id=\"matplotlib.axis_1\">\n    <g id=\"xtick_1\">\n     <g id=\"line2d_1\">\n      <defs>\n       <path d=\"M 0 0 \nL 0 3.5 \n\" id=\"m6cd28708b8\" style=\"stroke:#000000;stroke-width:0.8;\"/>\n      </defs>\n      <g>\n       <use style=\"stroke:#000000;stroke-width:0.8;\" x=\"42.17045\" xlink:href=\"#m6cd28708b8\" y=\"224.64\"/>\n      </g>\n     </g>\n     <g id=\"text_1\">\n      <!-- 0 -->\n      <defs>\n       <path d=\"M 31.78125 66.40625 \nQ 24.171875 66.40625 20.328125 58.90625 \nQ 16.5 51.421875 16.5 36.375 \nQ 16.5 21.390625 20.328125 13.890625 \nQ 24.171875 6.390625 31.78125 6.390625 \nQ 39.453125 6.390625 43.28125 13.890625 \nQ 47.125 21.390625 47.125 36.375 \nQ 47.125 51.421875 43.28125 58.90625 \nQ 39.453125 66.40625 31.78125 66.40625 \nz\nM 31.78125 74.21875 \nQ 44.046875 74.21875 50.515625 64.515625 \nQ 56.984375 54.828125 56.984375 36.375 \nQ 56.984375 17.96875 50.515625 8.265625 \nQ 44.046875 -1.421875 31.78125 -1.421875 \nQ 19.53125 -1.421875 13.0625 8.265625 \nQ 6.59375 17.96875 6.59375 36.375 \nQ 6.59375 54.828125 13.0625 64.515625 \nQ 19.53125 74.21875 31.78125 74.21875 \nz\n\" id=\"DejaVuSans-48\"/>\n      </defs>\n      <g transform=\"translate(38.9892 239.238437)scale(0.1 -0.1)\">\n       <use xlink:href=\"#DejaVuSans-48\"/>\n      </g>\n     </g>\n    </g>\n    <g id=\"xtick_2\">\n     <g id=\"line2d_2\">\n      <g>\n       <use style=\"stroke:#000000;stroke-width:0.8;\" x=\"103.03227\" xlink:href=\"#m6cd28708b8\" y=\"224.64\"/>\n      </g>\n     </g>\n     <g id=\"text_2\">\n      <!-- 20 -->\n      <defs>\n       <path d=\"M 19.1875 8.296875 \nL 53.609375 8.296875 \nL 53.609375 0 \nL 7.328125 0 \nL 7.328125 8.296875 \nQ 12.9375 14.109375 22.625 23.890625 \nQ 32.328125 33.6875 34.8125 36.53125 \nQ 39.546875 41.84375 41.421875 45.53125 \nQ 43.3125 49.21875 43.3125 52.78125 \nQ 43.3125 58.59375 39.234375 62.25 \nQ 35.15625 65.921875 28.609375 65.921875 \nQ 23.96875 65.921875 18.8125 64.3125 \nQ 13.671875 62.703125 7.8125 59.421875 \nL 7.8125 69.390625 \nQ 13.765625 71.78125 18.9375 73 \nQ 24.125 74.21875 28.421875 74.21875 \nQ 39.75 74.21875 46.484375 68.546875 \nQ 53.21875 62.890625 53.21875 53.421875 \nQ 53.21875 48.921875 51.53125 44.890625 \nQ 49.859375 40.875 45.40625 35.40625 \nQ 44.1875 33.984375 37.640625 27.21875 \nQ 31.109375 20.453125 19.1875 8.296875 \nz\n\" id=\"DejaVuSans-50\"/>\n      </defs>\n      <g transform=\"translate(96.66977 239.238437)scale(0.1 -0.1)\">\n       <use xlink:href=\"#DejaVuSans-50\"/>\n       <use x=\"63.623047\" xlink:href=\"#DejaVuSans-48\"/>\n      </g>\n     </g>\n    </g>\n    <g id=\"xtick_3\">\n     <g id=\"line2d_3\">\n      <g>\n       <use style=\"stroke:#000000;stroke-width:0.8;\" x=\"163.89409\" xlink:href=\"#m6cd28708b8\" y=\"224.64\"/>\n      </g>\n     </g>\n     <g id=\"text_3\">\n      <!-- 40 -->\n      <defs>\n       <path d=\"M 37.796875 64.3125 \nL 12.890625 25.390625 \nL 37.796875 25.390625 \nz\nM 35.203125 72.90625 \nL 47.609375 72.90625 \nL 47.609375 25.390625 \nL 58.015625 25.390625 \nL 58.015625 17.1875 \nL 47.609375 17.1875 \nL 47.609375 0 \nL 37.796875 0 \nL 37.796875 17.1875 \nL 4.890625 17.1875 \nL 4.890625 26.703125 \nz\n\" id=\"DejaVuSans-52\"/>\n      </defs>\n      <g transform=\"translate(157.53159 239.238437)scale(0.1 -0.1)\">\n       <use xlink:href=\"#DejaVuSans-52\"/>\n       <use x=\"63.623047\" xlink:href=\"#DejaVuSans-48\"/>\n      </g>\n     </g>\n    </g>\n    <g id=\"xtick_4\">\n     <g id=\"line2d_4\">\n      <g>\n       <use style=\"stroke:#000000;stroke-width:0.8;\" x=\"224.75591\" xlink:href=\"#m6cd28708b8\" y=\"224.64\"/>\n      </g>\n     </g>\n     <g id=\"text_4\">\n      <!-- 60 -->\n      <defs>\n       <path d=\"M 33.015625 40.375 \nQ 26.375 40.375 22.484375 35.828125 \nQ 18.609375 31.296875 18.609375 23.390625 \nQ 18.609375 15.53125 22.484375 10.953125 \nQ 26.375 6.390625 33.015625 6.390625 \nQ 39.65625 6.390625 43.53125 10.953125 \nQ 47.40625 15.53125 47.40625 23.390625 \nQ 47.40625 31.296875 43.53125 35.828125 \nQ 39.65625 40.375 33.015625 40.375 \nz\nM 52.59375 71.296875 \nL 52.59375 62.3125 \nQ 48.875 64.0625 45.09375 64.984375 \nQ 41.3125 65.921875 37.59375 65.921875 \nQ 27.828125 65.921875 22.671875 59.328125 \nQ 17.53125 52.734375 16.796875 39.40625 \nQ 19.671875 43.65625 24.015625 45.921875 \nQ 28.375 48.1875 33.59375 48.1875 \nQ 44.578125 48.1875 50.953125 41.515625 \nQ 57.328125 34.859375 57.328125 23.390625 \nQ 57.328125 12.15625 50.6875 5.359375 \nQ 44.046875 -1.421875 33.015625 -1.421875 \nQ 20.359375 -1.421875 13.671875 8.265625 \nQ 6.984375 17.96875 6.984375 36.375 \nQ 6.984375 53.65625 15.1875 63.9375 \nQ 23.390625 74.21875 37.203125 74.21875 \nQ 40.921875 74.21875 44.703125 73.484375 \nQ 48.484375 72.75 52.59375 71.296875 \nz\n\" id=\"DejaVuSans-54\"/>\n      </defs>\n      <g transform=\"translate(218.39341 239.238437)scale(0.1 -0.1)\">\n       <use xlink:href=\"#DejaVuSans-54\"/>\n       <use x=\"63.623047\" xlink:href=\"#DejaVuSans-48\"/>\n      </g>\n     </g>\n    </g>\n    <g id=\"xtick_5\">\n     <g id=\"line2d_5\">\n      <g>\n       <use style=\"stroke:#000000;stroke-width:0.8;\" x=\"285.61773\" xlink:href=\"#m6cd28708b8\" y=\"224.64\"/>\n      </g>\n     </g>\n     <g id=\"text_5\">\n      <!-- 80 -->\n      <defs>\n       <path d=\"M 31.78125 34.625 \nQ 24.75 34.625 20.71875 30.859375 \nQ 16.703125 27.09375 16.703125 20.515625 \nQ 16.703125 13.921875 20.71875 10.15625 \nQ 24.75 6.390625 31.78125 6.390625 \nQ 38.8125 6.390625 42.859375 10.171875 \nQ 46.921875 13.96875 46.921875 20.515625 \nQ 46.921875 27.09375 42.890625 30.859375 \nQ 38.875 34.625 31.78125 34.625 \nz\nM 21.921875 38.8125 \nQ 15.578125 40.375 12.03125 44.71875 \nQ 8.5 49.078125 8.5 55.328125 \nQ 8.5 64.0625 14.71875 69.140625 \nQ 20.953125 74.21875 31.78125 74.21875 \nQ 42.671875 74.21875 48.875 69.140625 \nQ 55.078125 64.0625 55.078125 55.328125 \nQ 55.078125 49.078125 51.53125 44.71875 \nQ 48 40.375 41.703125 38.8125 \nQ 48.828125 37.15625 52.796875 32.3125 \nQ 56.78125 27.484375 56.78125 20.515625 \nQ 56.78125 9.90625 50.3125 4.234375 \nQ 43.84375 -1.421875 31.78125 -1.421875 \nQ 19.734375 -1.421875 13.25 4.234375 \nQ 6.78125 9.90625 6.78125 20.515625 \nQ 6.78125 27.484375 10.78125 32.3125 \nQ 14.796875 37.15625 21.921875 38.8125 \nz\nM 18.3125 54.390625 \nQ 18.3125 48.734375 21.84375 45.5625 \nQ 25.390625 42.390625 31.78125 42.390625 \nQ 38.140625 42.390625 41.71875 45.5625 \nQ 45.3125 48.734375 45.3125 54.390625 \nQ 45.3125 60.0625 41.71875 63.234375 \nQ 38.140625 66.40625 31.78125 66.40625 \nQ 25.390625 66.40625 21.84375 63.234375 \nQ 18.3125 60.0625 18.3125 54.390625 \nz\n\" id=\"DejaVuSans-56\"/>\n      </defs>\n      <g transform=\"translate(279.25523 239.238437)scale(0.1 -0.1)\">\n       <use xlink:href=\"#DejaVuSans-56\"/>\n       <use x=\"63.623047\" xlink:href=\"#DejaVuSans-48\"/>\n      </g>\n     </g>\n    </g>\n    <g id=\"xtick_6\">\n     <g id=\"line2d_6\">\n      <g>\n       <use style=\"stroke:#000000;stroke-width:0.8;\" x=\"346.47955\" xlink:href=\"#m6cd28708b8\" y=\"224.64\"/>\n      </g>\n     </g>\n     <g id=\"text_6\">\n      <!-- 100 -->\n      <defs>\n       <path d=\"M 12.40625 8.296875 \nL 28.515625 8.296875 \nL 28.515625 63.921875 \nL 10.984375 60.40625 \nL 10.984375 69.390625 \nL 28.421875 72.90625 \nL 38.28125 72.90625 \nL 38.28125 8.296875 \nL 54.390625 8.296875 \nL 54.390625 0 \nL 12.40625 0 \nz\n\" id=\"DejaVuSans-49\"/>\n      </defs>\n      <g transform=\"translate(336.9358 239.238437)scale(0.1 -0.1)\">\n       <use xlink:href=\"#DejaVuSans-49\"/>\n       <use x=\"63.623047\" xlink:href=\"#DejaVuSans-48\"/>\n       <use x=\"127.246094\" xlink:href=\"#DejaVuSans-48\"/>\n      </g>\n     </g>\n    </g>\n   </g>\n   <g id=\"matplotlib.axis_2\">\n    <g id=\"ytick_1\">\n     <g id=\"line2d_7\">\n      <defs>\n       <path d=\"M 0 0 \nL -3.5 0 \n\" id=\"m7df70ae96e\" style=\"stroke:#000000;stroke-width:0.8;\"/>\n      </defs>\n      <g>\n       <use style=\"stroke:#000000;stroke-width:0.8;\" x=\"26.925\" xlink:href=\"#m7df70ae96e\" y=\"214.484387\"/>\n      </g>\n     </g>\n     <g id=\"text_7\">\n      <!-- 0 -->\n      <g transform=\"translate(13.5625 218.283606)scale(0.1 -0.1)\">\n       <use xlink:href=\"#DejaVuSans-48\"/>\n      </g>\n     </g>\n    </g>\n    <g id=\"ytick_2\">\n     <g id=\"line2d_8\">\n      <g>\n       <use style=\"stroke:#000000;stroke-width:0.8;\" x=\"26.925\" xlink:href=\"#m7df70ae96e\" y=\"175.058632\"/>\n      </g>\n     </g>\n     <g id=\"text_8\">\n      <!-- 2 -->\n      <g transform=\"translate(13.5625 178.857851)scale(0.1 -0.1)\">\n       <use xlink:href=\"#DejaVuSans-50\"/>\n      </g>\n     </g>\n    </g>\n    <g id=\"ytick_3\">\n     <g id=\"line2d_9\">\n      <g>\n       <use style=\"stroke:#000000;stroke-width:0.8;\" x=\"26.925\" xlink:href=\"#m7df70ae96e\" y=\"135.632877\"/>\n      </g>\n     </g>\n     <g id=\"text_9\">\n      <!-- 4 -->\n      <g transform=\"translate(13.5625 139.432096)scale(0.1 -0.1)\">\n       <use xlink:href=\"#DejaVuSans-52\"/>\n      </g>\n     </g>\n    </g>\n    <g id=\"ytick_4\">\n     <g id=\"line2d_10\">\n      <g>\n       <use style=\"stroke:#000000;stroke-width:0.8;\" x=\"26.925\" xlink:href=\"#m7df70ae96e\" y=\"96.207123\"/>\n      </g>\n     </g>\n     <g id=\"text_10\">\n      <!-- 6 -->\n      <g transform=\"translate(13.5625 100.006341)scale(0.1 -0.1)\">\n       <use xlink:href=\"#DejaVuSans-54\"/>\n      </g>\n     </g>\n    </g>\n    <g id=\"ytick_5\">\n     <g id=\"line2d_11\">\n      <g>\n       <use style=\"stroke:#000000;stroke-width:0.8;\" x=\"26.925\" xlink:href=\"#m7df70ae96e\" y=\"56.781368\"/>\n      </g>\n     </g>\n     <g id=\"text_11\">\n      <!-- 8 -->\n      <g transform=\"translate(13.5625 60.580587)scale(0.1 -0.1)\">\n       <use xlink:href=\"#DejaVuSans-56\"/>\n      </g>\n     </g>\n    </g>\n    <g id=\"ytick_6\">\n     <g id=\"line2d_12\">\n      <g>\n       <use style=\"stroke:#000000;stroke-width:0.8;\" x=\"26.925\" xlink:href=\"#m7df70ae96e\" y=\"17.355613\"/>\n      </g>\n     </g>\n     <g id=\"text_12\">\n      <!-- 10 -->\n      <g transform=\"translate(7.2 21.154832)scale(0.1 -0.1)\">\n       <use xlink:href=\"#DejaVuSans-49\"/>\n       <use x=\"63.623047\" xlink:href=\"#DejaVuSans-48\"/>\n      </g>\n     </g>\n    </g>\n   </g>\n   <g id=\"line2d_13\">\n    <path clip-path=\"url(#p6225b406cc)\" d=\"M 42.17045 214.484387 \nL 48.380839 202.415278 \nL 54.591229 190.34617 \nL 60.801619 178.277061 \nL 67.012009 166.207952 \nL 73.222399 154.138844 \nL 79.432789 145.997469 \nL 85.643178 140.99828 \nL 91.853568 135.999092 \nL 98.063958 130.999903 \nL 104.274348 126.000715 \nL 110.484738 121.130768 \nL 116.695127 117.294756 \nL 122.905517 113.458744 \nL 129.115907 109.622731 \nL 135.326297 105.786719 \nL 141.536687 101.950707 \nL 147.747076 98.516098 \nL 153.957466 95.28219 \nL 160.167856 92.048282 \nL 166.378246 88.814374 \nL 172.588636 85.580466 \nL 178.799025 82.432064 \nL 185.009415 79.582934 \nL 191.219805 76.733804 \nL 197.430195 73.884674 \nL 203.640585 71.035544 \nL 209.850975 68.186414 \nL 216.061364 65.549866 \nL 222.271754 62.974055 \nL 228.482144 60.398245 \nL 234.692534 57.822435 \nL 240.902924 55.246624 \nL 247.113313 52.73985 \nL 253.323703 50.371148 \nL 259.534093 48.002445 \nL 265.744483 45.633743 \nL 271.954873 43.265041 \nL 278.165262 40.896339 \nL 284.375652 38.673386 \nL 290.586042 36.468652 \nL 296.796432 34.263917 \nL 303.006822 32.059183 \nL 309.217211 29.854449 \nL 315.427601 27.709271 \nL 321.637991 25.63854 \nL 327.848381 23.567808 \nL 334.058771 21.497076 \nL 340.269161 19.426345 \nL 346.47955 17.355613 \n\" style=\"fill:none;stroke:#1f77b4;stroke-linecap:square;stroke-width:1.5;\"/>\n   </g>\n   <g id=\"line2d_14\">\n    <path clip-path=\"url(#p6225b406cc)\" d=\"M 42.17045 214.484387 \nL 48.380839 197.721607 \nL 54.591229 183.354366 \nL 60.801619 171.135844 \nL 67.012009 160.819218 \nL 73.222399 152.157669 \nL 79.432789 144.904375 \nL 85.643178 138.812514 \nL 91.853568 133.635267 \nL 98.063958 129.125811 \nL 104.274348 125.037326 \nL 110.484738 121.123056 \nL 116.695127 117.201213 \nL 122.905517 113.276888 \nL 129.115907 109.388567 \nL 135.326297 105.57474 \nL 141.536687 101.873893 \nL 147.747076 98.321592 \nL 153.957466 94.919423 \nL 160.167856 91.647052 \nL 166.378246 88.48378 \nL 172.588636 85.408907 \nL 178.799025 82.401773 \nL 185.009415 79.447957 \nL 191.219805 76.546133 \nL 197.430195 73.696621 \nL 203.640585 70.89974 \nL 209.850975 68.155813 \nL 216.061364 65.464886 \nL 222.271754 62.824853 \nL 228.482144 60.232576 \nL 234.692534 57.684914 \nL 240.902924 55.178723 \nL 247.113313 52.710874 \nL 253.323703 50.278972 \nL 259.534093 47.881768 \nL 265.744483 45.518111 \nL 271.954873 43.186849 \nL 278.165262 40.886829 \nL 284.375652 38.61692 \nL 290.586042 36.376101 \nL 296.796432 34.163389 \nL 303.006822 31.977801 \nL 309.217211 29.818355 \nL 315.427601 27.684067 \nL 321.637991 25.573956 \nL 327.848381 23.487037 \nL 334.058771 21.422329 \nL 340.269161 19.378849 \nL 346.47955 17.355613 \n\" style=\"fill:none;stroke:#ff7f0e;stroke-linecap:square;stroke-width:1.5;\"/>\n   </g>\n   <g id=\"patch_3\">\n    <path d=\"M 26.925 224.64 \nL 26.925 7.2 \n\" style=\"fill:none;stroke:#000000;stroke-linecap:square;stroke-linejoin:miter;stroke-width:0.8;\"/>\n   </g>\n   <g id=\"patch_4\">\n    <path d=\"M 361.725 224.64 \nL 361.725 7.2 \n\" style=\"fill:none;stroke:#000000;stroke-linecap:square;stroke-linejoin:miter;stroke-width:0.8;\"/>\n   </g>\n   <g id=\"patch_5\">\n    <path d=\"M 26.925 224.64 \nL 361.725 224.64 \n\" style=\"fill:none;stroke:#000000;stroke-linecap:square;stroke-linejoin:miter;stroke-width:0.8;\"/>\n   </g>\n   <g id=\"patch_6\">\n    <path d=\"M 26.925 7.2 \nL 361.725 7.2 \n\" style=\"fill:none;stroke:#000000;stroke-linecap:square;stroke-linejoin:miter;stroke-width:0.8;\"/>\n   </g>\n  </g>\n </g>\n <defs>\n  <clipPath id=\"p6225b406cc\">\n   <rect height=\"217.44\" width=\"334.8\" x=\"26.925\" y=\"7.2\"/>\n  </clipPath>\n </defs>\n</svg>\n",
      "image/png": "[encoded data removed]"
     },
     "metadata": {
      "needs_background": "light"
     }
    }
   ],
   "source": [
    "plt.figure()\n",
    "plt.scatter(x,y,label='data')\n",
    "plt.plot(xi,yi,label='linéaire')\n",
    "plt.plot(xi,f2(xi),label='cubique')\n",
    "plt.show()"
   ]
  },
  {
   "cell_type": "markdown",
   "metadata": {
    "colab_type": "text",
    "id": "zIgbfoNn_--4"
   },
   "source": [
    "## Fonctions"
   ]
  },
  {
   "cell_type": "markdown",
   "metadata": {
    "colab_type": "text",
    "id": "ieGF6nOo_--5"
   },
   "source": [
    "Il sera souvent utile de créer nos propres fonctions. Python permet de le faire à l'aide de la directive def:"
   ]
  },
  {
   "cell_type": "code",
   "execution_count": 107,
   "metadata": {
    "colab": {},
    "colab_type": "code",
    "id": "rIwMtUb2_--5"
   },
   "outputs": [],
   "source": [
    "def myfunc(x):\n",
    "    return x**2"
   ]
  },
  {
   "cell_type": "code",
   "execution_count": 108,
   "metadata": {
    "colab": {
     "base_uri": "https://localhost:8080/",
     "height": 33
    },
    "colab_type": "code",
    "executionInfo": {
     "elapsed": 6759,
     "status": "ok",
     "timestamp": 1577482006627,
     "user": {
      "displayName": "Pierre-Carl Michaud",
      "photoUrl": "https://lh3.googleusercontent.com/a-/AAuE7mAdgz-NrQSA9R7zmMIwPXQ4J9kyOWfiGgbt2_zLMA=s64",
      "userId": "08245724259323112556"
     },
     "user_tz": 300
    },
    "id": "uu7PNki5_--7",
    "outputId": "08ce6587-71a6-4792-a6e7-06651b038f92"
   },
   "outputs": [
    {
     "output_type": "execute_result",
     "data": {
      "text/plain": "[0, 1, 4, 9, 16, 25, 36, 49, 64, 81]"
     },
     "metadata": {},
     "execution_count": 108
    }
   ],
   "source": [
    "y = [myfunc(i) for i in range(10)]\n",
    "y"
   ]
  },
  {
   "cell_type": "markdown",
   "metadata": {
    "colab_type": "text",
    "id": "8Q-1MDTD_--9"
   },
   "source": [
    "Un des éléments auquel il faut faire attention sont les déclarations de variables dans la fonction. Par exemple, supposons qu'un paramètre est alpha"
   ]
  },
  {
   "cell_type": "code",
   "execution_count": 109,
   "metadata": {
    "colab": {},
    "colab_type": "code",
    "id": "zTctQDgh_--9"
   },
   "outputs": [],
   "source": [
    "alpha = 2"
   ]
  },
  {
   "cell_type": "markdown",
   "metadata": {
    "colab_type": "text",
    "id": "x4Pf8_P6_---"
   },
   "source": [
    "Et nous construisons une fonction: "
   ]
  },
  {
   "cell_type": "code",
   "execution_count": 110,
   "metadata": {
    "colab": {},
    "colab_type": "code",
    "id": "QbBDaHVZ_--_"
   },
   "outputs": [],
   "source": [
    "def myfunc(x):\n",
    "    return x**alpha"
   ]
  },
  {
   "cell_type": "markdown",
   "metadata": {
    "colab_type": "text",
    "id": "DMSAgKWc_-_C"
   },
   "source": [
    "alpha n'est pas défini dans la fonction, ni dans ses arguments. Si c'est le cas, python ira chercher la valeur dans le programme (considère comme variable globale). "
   ]
  },
  {
   "cell_type": "code",
   "execution_count": 111,
   "metadata": {
    "colab": {
     "base_uri": "https://localhost:8080/",
     "height": 33
    },
    "colab_type": "code",
    "executionInfo": {
     "elapsed": 6678,
     "status": "ok",
     "timestamp": 1577482006630,
     "user": {
      "displayName": "Pierre-Carl Michaud",
      "photoUrl": "https://lh3.googleusercontent.com/a-/AAuE7mAdgz-NrQSA9R7zmMIwPXQ4J9kyOWfiGgbt2_zLMA=s64",
      "userId": "08245724259323112556"
     },
     "user_tz": 300
    },
    "id": "pGCm74Cn_-_D",
    "outputId": "8574f22a-ef54-4ba6-d83b-d3976b442681"
   },
   "outputs": [
    {
     "output_type": "execute_result",
     "data": {
      "text/plain": "25"
     },
     "metadata": {},
     "execution_count": 111
    }
   ],
   "source": [
    "myfunc(5)"
   ]
  },
  {
   "cell_type": "markdown",
   "metadata": {
    "colab_type": "text",
    "id": "KhND9Fje_-_G"
   },
   "source": [
    "Supposons maintenant que nous faisons "
   ]
  },
  {
   "cell_type": "code",
   "execution_count": 112,
   "metadata": {
    "colab": {},
    "colab_type": "code",
    "id": "bxvGYgOZ_-_G"
   },
   "outputs": [],
   "source": [
    "def myfunc(x):\n",
    "    alpha = 3\n",
    "    return x**alpha"
   ]
  },
  {
   "cell_type": "code",
   "execution_count": 113,
   "metadata": {
    "colab": {
     "base_uri": "https://localhost:8080/",
     "height": 33
    },
    "colab_type": "code",
    "executionInfo": {
     "elapsed": 6942,
     "status": "ok",
     "timestamp": 1577482006952,
     "user": {
      "displayName": "Pierre-Carl Michaud",
      "photoUrl": "https://lh3.googleusercontent.com/a-/AAuE7mAdgz-NrQSA9R7zmMIwPXQ4J9kyOWfiGgbt2_zLMA=s64",
      "userId": "08245724259323112556"
     },
     "user_tz": 300
    },
    "id": "uBHLAe2d_-_I",
    "outputId": "ca2e0c32-cfae-476f-e8d8-c70d44ca16be"
   },
   "outputs": [
    {
     "output_type": "execute_result",
     "data": {
      "text/plain": "8"
     },
     "metadata": {},
     "execution_count": 113
    }
   ],
   "source": [
    "myfunc(2)"
   ]
  },
  {
   "cell_type": "code",
   "execution_count": 114,
   "metadata": {
    "colab": {
     "base_uri": "https://localhost:8080/",
     "height": 33
    },
    "colab_type": "code",
    "executionInfo": {
     "elapsed": 6902,
     "status": "ok",
     "timestamp": 1577482006955,
     "user": {
      "displayName": "Pierre-Carl Michaud",
      "photoUrl": "https://lh3.googleusercontent.com/a-/AAuE7mAdgz-NrQSA9R7zmMIwPXQ4J9kyOWfiGgbt2_zLMA=s64",
      "userId": "08245724259323112556"
     },
     "user_tz": 300
    },
    "id": "WYkT6G6o_-_J",
    "outputId": "0a497013-d38b-451c-c9de-05aa0e21fec1"
   },
   "outputs": [
    {
     "output_type": "execute_result",
     "data": {
      "text/plain": "2"
     },
     "metadata": {},
     "execution_count": 114
    }
   ],
   "source": [
    "alpha"
   ]
  },
  {
   "cell_type": "markdown",
   "metadata": {
    "colab_type": "text",
    "id": "5aBzpfP2_-_L"
   },
   "source": [
    "Si nous changeons la valeur à l'intérieur de la fonction, python ne va pas chercher une valeur globale. Il utilisera la variable locale. Donc, il faut faire attention! En générale, on évite les variables globales: \n"
   ]
  },
  {
   "cell_type": "code",
   "execution_count": 115,
   "metadata": {
    "colab": {},
    "colab_type": "code",
    "id": "_pVJsbJj_-_M"
   },
   "outputs": [],
   "source": [
    "def myfunc(x,alpha):\n",
    "    return x**alpha"
   ]
  },
  {
   "cell_type": "code",
   "execution_count": 116,
   "metadata": {
    "colab": {
     "base_uri": "https://localhost:8080/",
     "height": 33
    },
    "colab_type": "code",
    "executionInfo": {
     "elapsed": 6855,
     "status": "ok",
     "timestamp": 1577482006957,
     "user": {
      "displayName": "Pierre-Carl Michaud",
      "photoUrl": "https://lh3.googleusercontent.com/a-/AAuE7mAdgz-NrQSA9R7zmMIwPXQ4J9kyOWfiGgbt2_zLMA=s64",
      "userId": "08245724259323112556"
     },
     "user_tz": 300
    },
    "id": "JjkYLv9Q_-_O",
    "outputId": "1e3c3ebe-dacb-44cb-b682-5e480859f2eb"
   },
   "outputs": [
    {
     "output_type": "execute_result",
     "data": {
      "text/plain": "(4, 8)"
     },
     "metadata": {},
     "execution_count": 116
    }
   ],
   "source": [
    "myfunc(2,2), myfunc(2,3)"
   ]
  },
  {
   "cell_type": "markdown",
   "metadata": {
    "colab_type": "text",
    "id": "0J-GJAVuO1Dy"
   },
   "source": [
    "# Épilogue\n",
    "\n",
    "Ce notebook permet d'introduire le langage est les commandes de bases. Mais ce n'est pas une introduction exhaustive. Je vous recommande fortement le site de [quantecon.org](https://quantecon.org/) maintenu par Thomas Sargent, prix nobel d'économie, et son équipe. Dans les prochains cours, nous appliquerons sur python la théorie du consommateur, du producteur ainsi que l'équilibre général."
   ]
  }
 ],
 "metadata": {
  "accelerator": "GPU",
  "colab": {
   "collapsed_sections": [],
   "name": "Intro.ipynb",
   "provenance": [],
   "toc_visible": true
  },
  "kernelspec": {
   "display_name": "Python 3",
   "language": "python",
   "name": "python3"
  },
  "language_info": {
   "codemirror_mode": {
    "name": "ipython",
    "version": 3
   },
   "file_extension": ".py",
   "mimetype": "text/x-python",
   "name": "python",
   "nbconvert_exporter": "python",
   "pygments_lexer": "ipython3",
   "version": "3.7.7"
  },
  "varInspector": {
   "cols": {
    "lenName": 16,
    "lenType": 16,
    "lenVar": 40
   },
   "kernels_config": {
    "python": {
     "delete_cmd_postfix": "",
     "delete_cmd_prefix": "del ",
     "library": "var_list.py",
     "varRefreshCmd": "print(var_dic_list())"
    },
    "r": {
     "delete_cmd_postfix": ") ",
     "delete_cmd_prefix": "rm(",
     "library": "var_list.r",
     "varRefreshCmd": "cat(var_dic_list()) "
    }
   },
   "types_to_exclude": [
    "module",
    "function",
    "builtin_function_or_method",
    "instance",
    "_Feature"
   ],
   "window_display": false
  }
 },
 "nbformat": 4,
 "nbformat_minor": 1
}