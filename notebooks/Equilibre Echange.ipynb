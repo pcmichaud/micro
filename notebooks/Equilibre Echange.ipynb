{
 "cells": [
  {
   "cell_type": "markdown",
   "metadata": {},
   "source": [
    "# Les théorèmes du bien-être à l'oeuvre"
   ]
  },
  {
   "cell_type": "code",
   "execution_count": 1,
   "metadata": {},
   "outputs": [],
   "source": [
    "import numpy as np\n",
    "from matplotlib import pyplot as plt\n",
    "from scipy.optimize import bisect"
   ]
  },
  {
   "cell_type": "markdown",
   "metadata": {},
   "source": [
    "## Préférences"
   ]
  },
  {
   "cell_type": "markdown",
   "metadata": {},
   "source": [
    "Les deux consommateurs ont des préférences:\n",
    "$$ U_i(X_i,Y_i) = \\log X_i + \\alpha \\log Y_i $$\n",
    "\n",
    "\n"
   ]
  },
  {
   "cell_type": "markdown",
   "metadata": {},
   "source": [
    "On peut définir les fonctions d'utilité et de taux marginal de substitution."
   ]
  },
  {
   "cell_type": "code",
   "execution_count": 2,
   "metadata": {},
   "outputs": [],
   "source": [
    "def u(x,y,alpha):\n",
    "    if x>0.0 and y>0.0 :\n",
    "        return np.log(x) + alpha*np.log(y)\n",
    "    else :\n",
    "        return -10e3\n",
    "def tms(x,y,alpha):\n",
    "    if x>0.0:\n",
    "        return (1.0/alpha)*(y/x)\n",
    "    else :\n",
    "        return 10e3\n"
   ]
  },
  {
   "cell_type": "code",
   "execution_count": 3,
   "metadata": {},
   "outputs": [],
   "source": [
    "alphas = [0.5,2.0]"
   ]
  },
  {
   "cell_type": "markdown",
   "metadata": {},
   "source": [
    "Ils ont des dotations des deux biens $(X^e_i,Y^e_i)$ qu'on représente dans une matrice (ligne = consommateur, colonne = biens)"
   ]
  },
  {
   "cell_type": "code",
   "execution_count": 4,
   "metadata": {},
   "outputs": [
    {
     "data": {
      "text/plain": [
       "array([[20., 20.],\n",
       "       [20., 20.]])"
      ]
     },
     "execution_count": 4,
     "metadata": {},
     "output_type": "execute_result"
    }
   ],
   "source": [
    "edot = np.zeros((2,2))\n",
    "edot[0,0] = 20\n",
    "edot[1,1] = 20\n",
    "edot[0,1] = 20 \n",
    "edot[1,0] = 20 \n",
    "edot"
   ]
  },
  {
   "cell_type": "markdown",
   "metadata": {},
   "source": [
    "Pour trouver les allocations optimales, nous allons utiliser certains modules d'optimisation. "
   ]
  },
  {
   "cell_type": "code",
   "execution_count": 5,
   "metadata": {},
   "outputs": [],
   "source": [
    "from scipy.optimize import broyden2\n",
    "from functools import partial"
   ]
  },
  {
   "cell_type": "markdown",
   "metadata": {},
   "source": [
    "L'allocation optimale est définie par les conditions de premier ordre du lagragien. On peut les résumer à deux équations pour le choix de $x_1,y_1$. "
   ]
  },
  {
   "cell_type": "code",
   "execution_count": 6,
   "metadata": {},
   "outputs": [],
   "source": [
    "def echange(z,u2,xe,ye):\n",
    "    x1,y1= z\n",
    "    y2 = ye - y1 \n",
    "    x2 = xe - x1 \n",
    "    tms1 = tms(x1,y1,alphas[0])\n",
    "    tms2 = tms(x2,y2,alphas[1])\n",
    "    eqs = []\n",
    "    eqs.append(tms1 - tms2)\n",
    "    u2p = u(x2,y2,alphas[1]) \n",
    "    eqs.append(u2-u2p)\n",
    "    return np.array(eqs)"
   ]
  },
  {
   "cell_type": "code",
   "execution_count": 11,
   "metadata": {},
   "outputs": [
    {
     "data": {
      "text/plain": [
       "8.987196820661973"
      ]
     },
     "execution_count": 11,
     "metadata": {},
     "output_type": "execute_result"
    }
   ],
   "source": [
    "xe = np.sum(edot[:,0])\n",
    "ye = np.sum(edot[:,1])\n",
    "u2bar  = u(edot[1,0],edot[1,1],alphas[1])\n",
    "u2bar"
   ]
  },
  {
   "cell_type": "code",
   "execution_count": 14,
   "metadata": {},
   "outputs": [
    {
     "data": {
      "text/plain": [
       "4.4935984103309865"
      ]
     },
     "execution_count": 14,
     "metadata": {},
     "output_type": "execute_result"
    }
   ],
   "source": [
    "u1bar  = u(edot[0,0],edot[0,1],alphas[0])\n",
    "u1bar"
   ]
  },
  {
   "cell_type": "code",
   "execution_count": 17,
   "metadata": {},
   "outputs": [
    {
     "data": {
      "text/plain": [
       "array([ 2.7967033 , -0.05164323])"
      ]
     },
     "execution_count": 17,
     "metadata": {},
     "output_type": "execute_result"
    }
   ],
   "source": [
    "echange([0.35*xe,0.55*ye],u2bar,xe,ye)"
   ]
  },
  {
   "cell_type": "markdown",
   "metadata": {},
   "source": [
    "On peut maintenant trouver une allocation optimale au sens de Pareto. "
   ]
  },
  {
   "cell_type": "code",
   "execution_count": 18,
   "metadata": {},
   "outputs": [],
   "source": [
    "xe = np.sum(edot[:,0])\n",
    "ye = np.sum(edot[:,1])\n",
    "u2 = u(edot[1,0],edot[1,1],alphas[1])\n",
    "z = np.array([xe*0.5,ye*0.5])\n",
    "u2 = u(xe-z[0],ye-z[1],alphas[1])\n",
    "f = partial(echange,u2=u2,xe=xe,ye=ye)\n"
   ]
  },
  {
   "cell_type": "code",
   "execution_count": 19,
   "metadata": {},
   "outputs": [
    {
     "data": {
      "text/plain": [
       "array([ 2.7967033 , -0.05164323])"
      ]
     },
     "execution_count": 19,
     "metadata": {},
     "output_type": "execute_result"
    }
   ],
   "source": [
    "f([0.35*xe,0.55*ye])"
   ]
  },
  {
   "cell_type": "code",
   "execution_count": 20,
   "metadata": {},
   "outputs": [
    {
     "data": {
      "text/plain": [
       "[27.741730362847584, 14.45355879418289, 12.258269637152416, 25.54644120581711]"
      ]
     },
     "execution_count": 20,
     "metadata": {},
     "output_type": "execute_result"
    }
   ],
   "source": [
    "x1opt,y1opt = broyden2(f,xin=z,f_tol=1e-14)\n",
    "x2opt = xe - x1opt \n",
    "y2opt = ye - y1opt\n",
    "zopt = [x1opt,y1opt,x2opt,y2opt]\n",
    "zopt"
   ]
  },
  {
   "cell_type": "code",
   "execution_count": 21,
   "metadata": {},
   "outputs": [
    {
     "data": {
      "text/plain": [
       "array([6.66133815e-16, 3.55271368e-15])"
      ]
     },
     "execution_count": 21,
     "metadata": {},
     "output_type": "execute_result"
    }
   ],
   "source": [
    "f(zopt[:2])"
   ]
  },
  {
   "cell_type": "markdown",
   "metadata": {},
   "source": [
    "On peut encapsuler cette procédure dans une fonction. "
   ]
  },
  {
   "cell_type": "code",
   "execution_count": 22,
   "metadata": {},
   "outputs": [],
   "source": [
    "def pareto(xe,ye,u2):\n",
    "    z = np.array([xe*0.5,ye*0.5])\n",
    "    f = partial(echange,u2=u2,xe=xe,ye=ye)\n",
    "    x1opt,y1opt = broyden2(f,xin=z,f_tol=1e-14)\n",
    "    x2opt = xe - x1opt \n",
    "    y2opt = ye - y1opt\n",
    "    return [x1opt,y1opt,x2opt,y2opt]"
   ]
  },
  {
   "cell_type": "markdown",
   "metadata": {},
   "source": [
    "On peut créer une procédure pour identifier le noyau et les allocations optimales. Enfin, on fera un graphique. "
   ]
  },
  {
   "cell_type": "code",
   "execution_count": 23,
   "metadata": {},
   "outputs": [],
   "source": [
    "def plot(edot):\n",
    "    xe = np.sum(edot[:,0])\n",
    "    ye = np.sum(edot[:,1])\n",
    "    u2min = u(edot[1,0],edot[1,1],alphas[1])\n",
    "    u2max = u(xe,ye,alphas[1])\n",
    "    nq = 100\n",
    "    u2s = np.linspace(u2min,u2max,nq)\n",
    "    co = []\n",
    "    u1 = u(edot[0,0],edot[0,1],alphas[0])\n",
    "    for i,u2 in enumerate(u2s): \n",
    "        try: \n",
    "            opt = pareto(xe,ye,u2)\n",
    "            uopt1 = u(opt[0],opt[1],alphas[0])\n",
    "            uopt2 = u(opt[2],opt[3],alphas[1])\n",
    "            if uopt1 >= u1 and uopt2>=u2min:\n",
    "                co.append(opt[:2])\n",
    "        except:\n",
    "            continue\n",
    "    # utility levels with endownments\n",
    "    co = np.array(co)\n",
    "    u1 = u(edot[0,0],edot[0,1],alphas[0])\n",
    "    u2 = u(edot[1,0],edot[1,1],alphas[1])\n",
    "    # indifference curve for 1\n",
    "    x1 = np.linspace(edot[0,0],edot[0,0]*2.5,10)\n",
    "    y1 = np.exp((1/alphas[0])*(u1 - np.log(x1)))\n",
    "    # indifference curve for 2\n",
    "    x2 = np.linspace(edot[1,0],edot[1,0]*0.25,10)\n",
    "    y2 = np.exp((1/alphas[1])*(u2 - np.log(x2)))\n",
    "    plt.xlabel('$x_1$')\n",
    "    plt.ylabel('$y_1$')\n",
    "    plt.plot(edot[0,0],edot[0,1],'bo',label='dotation') # against 1st x, 1st y\n",
    "    plt.plot(x1,y1,label='indif 1') # against 1st x, 1st y\n",
    "    plt.plot(co[:,0],co[:,1],label='contrat') # against 1st x, 1st y\n",
    "    plt.axis([0,xe,0,ye])\n",
    "    plt.twinx()\n",
    "    plt.ylabel('$y_2$')\n",
    "    plt.axis([0,xe,0,xe])\n",
    "    plt.twiny()\n",
    "    plt.xlabel('$x_2$')\n",
    "    plt.plot(x2,y2,color='r',label='indif 2') # against 1st x, 1st y\n",
    "    plt.axis([xe,0,ye,0])\n",
    "    plt.show()\n",
    "    return \n"
   ]
  },
  {
   "cell_type": "code",
   "execution_count": 24,
   "metadata": {},
   "outputs": [
    {
     "name": "stderr",
     "output_type": "stream",
     "text": [
      "/Users/pmichaud/anaconda3/lib/python3.7/site-packages/scipy/optimize/nonlin.py:1040: RuntimeWarning: invalid value encountered in true_divide\n",
      "  d = v / df_norm**2\n"
     ]
    },
    {
     "data": {
      "image/png": "[encoded data removed]",
      "text/plain": [
       "<Figure size 432x288 with 3 Axes>"
      ]
     },
     "metadata": {
      "needs_background": "light"
     },
     "output_type": "display_data"
    }
   ],
   "source": [
    "plot(edot)"
   ]
  },
  {
   "cell_type": "markdown",
   "metadata": {},
   "source": [
    "# Équilibre de marché "
   ]
  },
  {
   "cell_type": "markdown",
   "metadata": {},
   "source": [
    "Les deux TMS sont égaux au ratio des prix dans un équilibre de marché (1er théorème du bien-être). Puisque "
   ]
  },
  {
   "cell_type": "code",
   "execution_count": 25,
   "metadata": {},
   "outputs": [
    {
     "data": {
      "text/plain": [
       "(1.0420084547818587, 1.042008454781858)"
      ]
     },
     "execution_count": 25,
     "metadata": {},
     "output_type": "execute_result"
    }
   ],
   "source": [
    "tms(zopt[0],zopt[1],alphas[0]), tms(zopt[2],zopt[3],alphas[1])"
   ]
  },
  {
   "cell_type": "markdown",
   "metadata": {},
   "source": [
    "Le rapport de prix $p=\n",
    "\\frac{p_Y}{p_X}$ est donc donné par: "
   ]
  },
  {
   "cell_type": "code",
   "execution_count": 64,
   "metadata": {},
   "outputs": [
    {
     "data": {
      "text/plain": [
       "0.9596851113932151"
      ]
     },
     "execution_count": 64,
     "metadata": {},
     "output_type": "execute_result"
    }
   ],
   "source": [
    "p = 1/tms(zopt[0],zopt[1],alphas[0])\n",
    "p"
   ]
  },
  {
   "cell_type": "markdown",
   "metadata": {},
   "source": [
    "La contrainte budgétaire du consommateur 1 est donné par: \n",
    "\n",
    "$$ x_1 + p y_1 = x^e_1 + p y^e_1 $$\n",
    "\n",
    "et donc \n",
    "\n",
    "$$ y^e_1 = \\frac{x_1 + p y_1 - x^e_1}{p}  $$\n"
   ]
  },
  {
   "cell_type": "markdown",
   "metadata": {},
   "source": [
    "À l'allocation optimale calculée, la dépense est de "
   ]
  },
  {
   "cell_type": "code",
   "execution_count": 65,
   "metadata": {},
   "outputs": [
    {
     "data": {
      "text/plain": [
       "41.61259554427137"
      ]
     },
     "execution_count": 65,
     "metadata": {},
     "output_type": "execute_result"
    }
   ],
   "source": [
    "dep = zopt[0] + zopt[1]*p\n",
    "dep"
   ]
  },
  {
   "cell_type": "markdown",
   "metadata": {},
   "source": [
    "Est-ce qu'on peut atteindre cet équilibre de marché avec la dotation actuelle?"
   ]
  },
  {
   "cell_type": "code",
   "execution_count": 71,
   "metadata": {},
   "outputs": [
    {
     "data": {
      "text/plain": [
       "False"
      ]
     },
     "execution_count": 71,
     "metadata": {},
     "output_type": "execute_result"
    }
   ],
   "source": [
    "edot[0,1] ==(dep - edot[0,0])/p"
   ]
  },
  {
   "cell_type": "markdown",
   "metadata": {},
   "source": [
    "Il faut trouver un transfer pour le faire (2e théorème du bien-être). Gardons mettons $x^e_1$ à 5"
   ]
  },
  {
   "cell_type": "code",
   "execution_count": 72,
   "metadata": {},
   "outputs": [
    {
     "data": {
      "text/plain": [
       "22.520507286911496"
      ]
     },
     "execution_count": 72,
     "metadata": {},
     "output_type": "execute_result"
    }
   ],
   "source": [
    "ye1_new = (dep - edot[0,0])/p\n",
    "ye1_new"
   ]
  },
  {
   "cell_type": "markdown",
   "metadata": {},
   "source": [
    "On doit donc faire un transfer de $y^e$"
   ]
  },
  {
   "cell_type": "code",
   "execution_count": 73,
   "metadata": {},
   "outputs": [
    {
     "data": {
      "text/plain": [
       "2.5205072869114957"
      ]
     },
     "execution_count": 73,
     "metadata": {},
     "output_type": "execute_result"
    }
   ],
   "source": [
    "ty = ye1_new - edot[0,1] \n",
    "ty"
   ]
  },
  {
   "cell_type": "code",
   "execution_count": 74,
   "metadata": {},
   "outputs": [
    {
     "data": {
      "text/plain": [
       "array([[20.        , 22.52050729],\n",
       "       [20.        , 17.47949271]])"
      ]
     },
     "execution_count": 74,
     "metadata": {},
     "output_type": "execute_result"
    }
   ],
   "source": [
    "edot_n = edot.copy()\n",
    "edot_n[0,1] = edot_n[0,1]+ty\n",
    "edot_n[1,1] = edot_n[1,1]-ty\n",
    "edot_n\n"
   ]
  },
  {
   "cell_type": "markdown",
   "metadata": {},
   "source": [
    "Avec cette dotation, on obtient un équilibre de marché qui donne l'allocation trouvée. On peut vérifier les demandes à ce prix et ces dotations"
   ]
  },
  {
   "cell_type": "code",
   "execution_count": 79,
   "metadata": {},
   "outputs": [
    {
     "data": {
      "text/plain": [
       "array([27.74173036, 14.45355879, 12.25826964, 25.54644121])"
      ]
     },
     "execution_count": 79,
     "metadata": {},
     "output_type": "execute_result"
    }
   ],
   "source": [
    "eopt = np.zeros(4)\n",
    "eopt[0] = (1/(1+alphas[0]))*(edot_n[0,0] + p*edot_n[0,1])\n",
    "eopt[1] = (alphas[0]/(1+alphas[0]))*(edot_n[0,0] + p*edot_n[0,1])/p\n",
    "eopt[2] = (1/(1+alphas[1]))*(edot_n[1,0] + p*edot_n[1,1])\n",
    "eopt[3] = (alphas[1]/(1+alphas[1]))*(edot_n[1,0] + p*edot_n[1,1])/p\n",
    "eopt\n"
   ]
  },
  {
   "cell_type": "markdown",
   "metadata": {},
   "source": [
    "Alors que l'allocation optimale était: "
   ]
  },
  {
   "cell_type": "code",
   "execution_count": 82,
   "metadata": {},
   "outputs": [
    {
     "data": {
      "text/plain": [
       "[27.741730362847584, 14.45355879418289, 12.258269637152416, 25.54644120581711]"
      ]
     },
     "execution_count": 82,
     "metadata": {},
     "output_type": "execute_result"
    }
   ],
   "source": [
    "zopt"
   ]
  }
 ],
 "metadata": {
  "kernelspec": {
   "display_name": "Python 3",
   "language": "python",
   "name": "python3"
  },
  "language_info": {
   "codemirror_mode": {
    "name": "ipython",
    "version": 3
   },
   "file_extension": ".py",
   "mimetype": "text/x-python",
   "name": "python",
   "nbconvert_exporter": "python",
   "pygments_lexer": "ipython3",
   "version": "3.7.3"
  }
 },
 "nbformat": 4,
 "nbformat_minor": 2
}
