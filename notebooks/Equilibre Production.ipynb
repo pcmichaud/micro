{
 "cells": [
  {
   "cell_type": "markdown",
   "metadata": {},
   "source": [
    "# Exemple Solution Equilibre General"
   ]
  },
  {
   "cell_type": "code",
   "execution_count": 1,
   "metadata": {
    "ExecuteTime": {
     "end_time": "2019-11-17T22:54:32.572472Z",
     "start_time": "2019-11-17T22:54:31.658756Z"
    }
   },
   "outputs": [],
   "source": [
    "import numpy as np\n",
    "from matplotlib import pyplot as plt\n",
    "from scipy.optimize import bisect"
   ]
  },
  {
   "cell_type": "markdown",
   "metadata": {},
   "source": [
    "## Preferences"
   ]
  },
  {
   "cell_type": "markdown",
   "metadata": {},
   "source": [
    "Les deux consommateurs ont des preferences:\n",
    "$$ U_i(X_i,Y_i) = \\log X_i + \\alpha \\log Y_i $$\n",
    "Les demandes sont :\n",
    "$$X_{i,d} = \\frac{1}{1+\\alpha} I_i$$\n",
    "$$Y_{i,d} = \\frac{\\alpha}{1+\\alpha} \\frac{I_i}{p}$$\n",
    "ou le revenu est $$X_{i} + p Y_{i} + \\rho_i \\Pi$$\n"
   ]
  },
  {
   "cell_type": "code",
   "execution_count": 2,
   "metadata": {
    "ExecuteTime": {
     "end_time": "2019-11-17T22:54:32.592500Z",
     "start_time": "2019-11-17T22:54:32.585966Z"
    }
   },
   "outputs": [],
   "source": [
    "alpha = 2\n",
    "rho = [0.0,1.0]\n",
    "xe  = [2.0,0.0]\n",
    "ye  = [0.0,0.0]\n",
    "def u(x,y,alpha):\n",
    "    return np.log(x) + alpha*np.log(y)\n",
    "def fxd(p,income,alpha):\n",
    "    return (1.0/(1.0+alpha))*income\n",
    "def fyd(p,income,alpha):\n",
    "    return (alpha/(1.0+alpha))*income/p\n",
    "def finc(xe,ye,p,rho,profit):\n",
    "    return xe + p*ye + rho*profit"
   ]
  },
  {
   "cell_type": "code",
   "execution_count": 3,
   "metadata": {
    "ExecuteTime": {
     "end_time": "2019-11-17T22:54:50.003539Z",
     "start_time": "2019-11-17T22:54:49.997601Z"
    }
   },
   "outputs": [
    {
     "data": {
      "text/plain": [
       "100.0"
      ]
     },
     "execution_count": 3,
     "metadata": {},
     "output_type": "execute_result"
    }
   ],
   "source": [
    "finc(0.0,0.0,0.0,1.0,100.0)"
   ]
  },
  {
   "cell_type": "markdown",
   "metadata": {},
   "source": [
    "## Firme"
   ]
  },
  {
   "cell_type": "markdown",
   "metadata": {},
   "source": [
    "La firme a une fonction de production:\n",
    "$$ Y = F(X) = \\log(1+X) $$\n",
    "Si elle maximise ses profits etant donne un prix $p$ on obtient la demande de l'input\n",
    "$$X_{f,d} = p - 1 $$\n",
    "et donc l'offre de $Y_{f,s} = \\log p$. "
   ]
  },
  {
   "cell_type": "code",
   "execution_count": 5,
   "metadata": {
    "ExecuteTime": {
     "end_time": "2019-11-17T22:55:10.216984Z",
     "start_time": "2019-11-17T22:55:10.213742Z"
    }
   },
   "outputs": [],
   "source": [
    "def fxf(p):\n",
    "    return p-1.0\n",
    "def fyf(p):\n",
    "    return np.log(p)"
   ]
  },
  {
   "cell_type": "markdown",
   "metadata": {},
   "source": [
    "Ses profits sont:\n",
    "    $$ \\Pi = p\\log p - p + 1 $$ "
   ]
  },
  {
   "cell_type": "code",
   "execution_count": 6,
   "metadata": {
    "ExecuteTime": {
     "end_time": "2019-11-17T22:55:11.153704Z",
     "start_time": "2019-11-17T22:55:11.150626Z"
    }
   },
   "outputs": [],
   "source": [
    "def fprofit(p):\n",
    "    return p*np.log(p) - p + 1.0"
   ]
  },
  {
   "cell_type": "code",
   "execution_count": 8,
   "metadata": {
    "ExecuteTime": {
     "end_time": "2019-11-17T22:55:29.274915Z",
     "start_time": "2019-11-17T22:55:29.270429Z"
    }
   },
   "outputs": [
    {
     "data": {
      "text/plain": [
       "0.48053981680644076"
      ]
     },
     "execution_count": 8,
     "metadata": {},
     "output_type": "execute_result"
    }
   ],
   "source": [
    "fprofit(2.13)"
   ]
  },
  {
   "cell_type": "markdown",
   "metadata": {},
   "source": [
    "## Prix"
   ]
  },
  {
   "cell_type": "markdown",
   "metadata": {},
   "source": [
    "le prix d'equilibre est donne par:"
   ]
  },
  {
   "cell_type": "code",
   "execution_count": 5,
   "metadata": {},
   "outputs": [],
   "source": [
    "def xequilibre(p,alpha,rho,xe,ye):\n",
    "    # entreprise\n",
    "    xf = fxf(p)\n",
    "    yf = fyf(p)\n",
    "    profit = fprofit(p)\n",
    "    # consommateur\n",
    "    xd = [0.0,0.0]\n",
    "    for i in range(2):\n",
    "        income = finc(xe[i],ye[i],p,rho[i],profit)\n",
    "        xd[i] = fxd(p,income,alpha)\n",
    "    # demande pour X\n",
    "    excess = np.sum(xd) + xf - np.sum(xe)\n",
    "    return excess\n"
   ]
  },
  {
   "cell_type": "markdown",
   "metadata": {},
   "source": [
    "On peut regarder que la demande excedentaire en fonction du prix"
   ]
  },
  {
   "cell_type": "code",
   "execution_count": 6,
   "metadata": {},
   "outputs": [],
   "source": [
    "prix = np.linspace(0.1,10.0,100)\n",
    "mx = [xequilibre(p,alpha,rho,xe,ye) for p in prix]"
   ]
  },
  {
   "cell_type": "code",
   "execution_count": 7,
   "metadata": {},
   "outputs": [
    {
     "data": {
      "image/png": "[encoded data removed]",
      "text/plain": [
       "<Figure size 432x288 with 1 Axes>"
      ]
     },
     "metadata": {
      "needs_background": "light"
     },
     "output_type": "display_data"
    }
   ],
   "source": [
    "plt.figure()\n",
    "plt.plot(prix,mx,label='xd - xe')\n",
    "plt.plot(prix,np.zeros(len(prix)))\n",
    "plt.xlabel('prix')\n",
    "plt.ylabel('demande excedentaire x')\n",
    "plt.show()"
   ]
  },
  {
   "cell_type": "code",
   "execution_count": 8,
   "metadata": {},
   "outputs": [
    {
     "name": "stdout",
     "output_type": "stream",
     "text": [
      "0.1 -2.0100861697664683\n",
      "0.2 -1.9739625274956067\n",
      "0.30000000000000004 -1.9203972804325935\n",
      "0.4 -1.855505430916554\n",
      "0.5 -1.782191196759991\n",
      "0.6 -1.7021651247531984\n",
      "0.7000000000000001 -1.6165574869190376\n",
      "0.8 -1.5261716136837893\n",
      "0.9 -1.431608154697348\n",
      "1.0 -1.3333333333333335\n",
      "1.1 -1.2317196007384141\n",
      "1.2000000000000002 -1.1270713772824181\n",
      "1.3000000000000003 -1.0196421520640868\n",
      "1.4000000000000001 -0.9096462895767672\n",
      "1.5000000000000002 -0.7972674459459177\n",
      "1.6 -0.6826647310689409\n",
      "1.7000000000000002 -0.5659773243981032\n",
      "1.8000000000000003 -0.4473280010587284\n",
      "1.9000000000000001 -0.3268258720908166\n",
      "2.0 -0.20456854629336974\n",
      "2.1 -0.0806438586894358\n",
      "2.2 0.04486873093379806\n",
      "2.3000000000000003 0.17189699425024685\n",
      "2.4000000000000004 0.30037498988312006\n",
      "2.5000000000000004 0.43024227656179637\n",
      "2.6 0.5614432523571118\n",
      "2.7 0.6939265957092551\n",
      "2.8000000000000003 0.8276447893690815\n",
      "2.9000000000000004 0.9625537124260144\n",
      "3.0000000000000004 1.09861228866811\n",
      "3.1 1.2357821818741375\n",
      "3.2 1.3740275304593927\n",
      "3.3000000000000003 1.5133147153196784\n",
      "3.4000000000000004 1.653612155838398\n",
      "3.5000000000000004 1.7948901299112632\n",
      "3.6 1.9371206145544768\n",
      "3.7 2.080277144235221\n",
      "3.8000000000000003 2.224334684527631\n",
      "3.9000000000000004 2.3692695190762816\n",
      "4.0 2.515059148159854\n",
      "4.1 2.6616821974040246\n",
      "4.2 2.809118335405052\n",
      "4.3 2.95734819920264\n",
      "4.3999999999999995 3.106353326688849\n",
      "4.5 3.256116095164411\n",
      "4.6 3.4066196653590746\n",
      "4.7 3.5578479303217536\n",
      "4.8 3.709785468662152\n",
      "4.9 3.862417501690416\n",
      "5.0 4.015729854056834\n",
      "5.1 4.169708917541476\n",
      "5.2 4.324341617684794\n",
      "5.3 4.4796153829859335\n",
      "5.4 4.635518116426412\n",
      "5.5 4.79203816910378\n",
      "5.6 4.949164315783392\n",
      "5.7 5.106885732196959\n",
      "5.8 5.265191973934589\n",
      "5.9 5.424072956792958\n",
      "6.0 5.58351893845611\n",
      "6.1 5.743520501397839\n",
      "6.2 5.904068536905495\n",
      "6.3 6.065154230134722\n",
      "6.4 6.226769046113336\n",
      "6.5 6.3889047166201145\n",
      "6.6 6.551553227871235\n",
      "6.7 6.714706808953123\n",
      "6.8 6.878357920946005\n",
      "6.9 7.042499246687392\n",
      "7.0 7.2071236811290635\n",
      "7.1 7.372224322245204\n",
      "7.2 7.537794462452823\n",
      "7.3 7.703827580508907\n",
      "7.4 7.87031733385164\n",
      "7.5 8.037257551355662\n",
      "7.6 8.204642226473789\n",
      "7.7 8.372465510739739\n",
      "7.8 8.54072170760842\n",
      "7.9 8.709405266612169\n",
      "8.0 8.878510777812895\n",
      "8.1 9.048032966531661\n",
      "8.2 9.217966688338567\n",
      "8.3 9.388306924287061\n",
      "8.4 9.55904877637795\n",
      "8.5 9.730187463239435\n",
      "8.6 9.901718316010456\n",
      "8.7 10.073636774415558\n",
      "8.8 10.245938383020206\n",
      "8.9 10.418618787656346\n",
      "9.0 10.591673732008658\n",
      "9.1 10.765099054352508\n",
      "9.2 10.938890684435314\n",
      "9.3 11.113044640493552\n",
      "9.4 11.287557026398002\n",
      "9.5 11.46242402892057\n",
      "9.6 11.63764191511613\n",
      "9.700000000000001 11.813207029813526\n",
      "9.8 11.989115793209987\n",
      "9.9 12.165364698563796\n",
      "10.0 12.341950309980152\n"
     ]
    },
    {
     "data": {
      "text/plain": [
       "[None,\n",
       " None,\n",
       " None,\n",
       " None,\n",
       " None,\n",
       " None,\n",
       " None,\n",
       " None,\n",
       " None,\n",
       " None,\n",
       " None,\n",
       " None,\n",
       " None,\n",
       " None,\n",
       " None,\n",
       " None,\n",
       " None,\n",
       " None,\n",
       " None,\n",
       " None,\n",
       " None,\n",
       " None,\n",
       " None,\n",
       " None,\n",
       " None,\n",
       " None,\n",
       " None,\n",
       " None,\n",
       " None,\n",
       " None,\n",
       " None,\n",
       " None,\n",
       " None,\n",
       " None,\n",
       " None,\n",
       " None,\n",
       " None,\n",
       " None,\n",
       " None,\n",
       " None,\n",
       " None,\n",
       " None,\n",
       " None,\n",
       " None,\n",
       " None,\n",
       " None,\n",
       " None,\n",
       " None,\n",
       " None,\n",
       " None,\n",
       " None,\n",
       " None,\n",
       " None,\n",
       " None,\n",
       " None,\n",
       " None,\n",
       " None,\n",
       " None,\n",
       " None,\n",
       " None,\n",
       " None,\n",
       " None,\n",
       " None,\n",
       " None,\n",
       " None,\n",
       " None,\n",
       " None,\n",
       " None,\n",
       " None,\n",
       " None,\n",
       " None,\n",
       " None,\n",
       " None,\n",
       " None,\n",
       " None,\n",
       " None,\n",
       " None,\n",
       " None,\n",
       " None,\n",
       " None,\n",
       " None,\n",
       " None,\n",
       " None,\n",
       " None,\n",
       " None,\n",
       " None,\n",
       " None,\n",
       " None,\n",
       " None,\n",
       " None,\n",
       " None,\n",
       " None,\n",
       " None,\n",
       " None,\n",
       " None,\n",
       " None,\n",
       " None,\n",
       " None,\n",
       " None,\n",
       " None]"
      ]
     },
     "execution_count": 8,
     "metadata": {},
     "output_type": "execute_result"
    }
   ],
   "source": [
    "[print(p,m) for p,m in zip(prix,mx)]"
   ]
  },
  {
   "cell_type": "markdown",
   "metadata": {},
   "source": [
    "On peut utiliser un optimisateur numerique pour trouver le prix"
   ]
  },
  {
   "cell_type": "code",
   "execution_count": 9,
   "metadata": {},
   "outputs": [
    {
     "data": {
      "text/plain": [
       "2.1643929182195403"
      ]
     },
     "execution_count": 9,
     "metadata": {},
     "output_type": "execute_result"
    }
   ],
   "source": [
    "pstar = bisect(xequilibre, 0.01, 10.0, args=(alpha,rho,xe,ye)) \n",
    "pstar"
   ]
  },
  {
   "cell_type": "markdown",
   "metadata": {},
   "source": [
    "Et retrouver les demandes, etc. "
   ]
  },
  {
   "cell_type": "code",
   "execution_count": 10,
   "metadata": {},
   "outputs": [
    {
     "name": "stdout",
     "output_type": "stream",
     "text": [
      "entreprise (xf,yf,profit) =  1.1643929182195403 0.7721399148440825 0.5068212453436307\n",
      "consommateur 1 (income,xd,yd,u) =  2.0 0.6666666666666666 0.6160310921873426 -1.3743807928927678\n",
      "consommateur 1 (income,xd,yd,u) =  0.5068212453436307 0.16894041511454355 0.15610882265639298 -5.492613067111362\n"
     ]
    }
   ],
   "source": [
    "xf = fxf(pstar)\n",
    "yf = fyf(pstar)\n",
    "profit = fprofit(pstar)\n",
    "print('entreprise (xf,yf,profit) = ',xf,yf,profit)\n",
    "xd = [0.0,0.0]\n",
    "yd = [0.0,0.0]\n",
    "for i in range(2):\n",
    "    income = finc(xe[i],ye[i],pstar,rho[i],profit)\n",
    "    xd[i] = fxd(pstar,income,alpha)\n",
    "    yd[i] = fyd(pstar,income,alpha)\n",
    "    fyd(pstar,income,alpha)\n",
    "    print('consommateur 1 (income,xd,yd,u) = ',income,xd[i],yd[i],u(xd[i],yd[i],alpha))\n"
   ]
  },
  {
   "cell_type": "markdown",
   "metadata": {},
   "source": [
    "## Experience"
   ]
  },
  {
   "cell_type": "markdown",
   "metadata": {},
   "source": [
    "Qu'arrive-t-il au prix si on change $\\alpha$?"
   ]
  },
  {
   "cell_type": "code",
   "execution_count": 11,
   "metadata": {},
   "outputs": [],
   "source": [
    "alphas = np.linspace(0.5,3.0,100)\n",
    "pstars = [bisect(xequilibre, 0.01, 10.0, args=(alpha,rho,xe,ye)) for alpha in alphas]"
   ]
  },
  {
   "cell_type": "code",
   "execution_count": 12,
   "metadata": {},
   "outputs": [
    {
     "data": {
      "image/png": "[encoded data removed]",
      "text/plain": [
       "<Figure size 432x288 with 1 Axes>"
      ]
     },
     "metadata": {
      "needs_background": "light"
     },
     "output_type": "display_data"
    }
   ],
   "source": [
    "plt.figure()\n",
    "plt.plot(alphas,pstars)\n",
    "plt.xlabel('$\\\\alpha$')\n",
    "plt.ylabel('prix equilibre')\n",
    "plt.show()"
   ]
  },
  {
   "cell_type": "markdown",
   "metadata": {},
   "source": [
    "Et si on change $\\rho$?"
   ]
  },
  {
   "cell_type": "code",
   "execution_count": 13,
   "metadata": {},
   "outputs": [],
   "source": [
    "rhos = np.linspace(0.1,0.9,100)\n",
    "pstars = [bisect(xequilibre, 0.01, 10.0, args=(alpha,[rho,1.0-rho],xe,ye)) for rho in rhos]"
   ]
  },
  {
   "cell_type": "code",
   "execution_count": 14,
   "metadata": {},
   "outputs": [
    {
     "data": {
      "image/png": "[encoded data removed]",
      "text/plain": [
       "<Figure size 432x288 with 1 Axes>"
      ]
     },
     "metadata": {
      "needs_background": "light"
     },
     "output_type": "display_data"
    }
   ],
   "source": [
    "plt.figure()\n",
    "plt.plot(alphas,pstars)\n",
    "plt.xlabel('$\\\\rho$')\n",
    "plt.ylabel('prix equilibre')\n",
    "plt.show()"
   ]
  },
  {
   "cell_type": "markdown",
   "metadata": {},
   "source": [
    "## Epilogue"
   ]
  },
  {
   "cell_type": "markdown",
   "metadata": {},
   "source": [
    "* Peut etre facilement etendu a plusieurs consommateurs et firmes\n",
    "* Peut avoir des preferences differentes, etc. \n",
    "* introduire le risque"
   ]
  }
 ],
 "metadata": {
  "kernelspec": {
   "display_name": "Python 3",
   "language": "python",
   "name": "python3"
  },
  "language_info": {
   "codemirror_mode": {
    "name": "ipython",
    "version": 3
   },
   "file_extension": ".py",
   "mimetype": "text/x-python",
   "name": "python",
   "nbconvert_exporter": "python",
   "pygments_lexer": "ipython3",
   "version": "3.6.7"
  },
  "latex_envs": {
   "LaTeX_envs_menu_present": true,
   "autoclose": false,
   "autocomplete": true,
   "bibliofile": "biblio.bib",
   "cite_by": "apalike",
   "current_citInitial": 1,
   "eqLabelWithNumbers": true,
   "eqNumInitial": 1,
   "hotkeys": {
    "equation": "Ctrl-E",
    "itemize": "Ctrl-I"
   },
   "labels_anchors": false,
   "latex_user_defs": false,
   "report_style_numbering": false,
   "user_envs_cfg": false
  },
  "varInspector": {
   "cols": {
    "lenName": 16,
    "lenType": 16,
    "lenVar": 40
   },
   "kernels_config": {
    "python": {
     "delete_cmd_postfix": "",
     "delete_cmd_prefix": "del ",
     "library": "var_list.py",
     "varRefreshCmd": "print(var_dic_list())"
    },
    "r": {
     "delete_cmd_postfix": ") ",
     "delete_cmd_prefix": "rm(",
     "library": "var_list.r",
     "varRefreshCmd": "cat(var_dic_list()) "
    }
   },
   "types_to_exclude": [
    "module",
    "function",
    "builtin_function_or_method",
    "instance",
    "_Feature"
   ],
   "window_display": false
  }
 },
 "nbformat": 4,
 "nbformat_minor": 2
}
