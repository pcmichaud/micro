{
 "cells": [
  {
   "cell_type": "markdown",
   "metadata": {},
   "source": [
    "# Questions"
   ]
  },
  {
   "cell_type": "markdown",
   "metadata": {
    "indent": "0"
   },
   "source": [
    "## 1. Latex\n",
    "\n",
    "Écrivez l'équation y = log(x) + a log(z) en markdown, en utilisant la notation latex, dans la cellule  qui suit"
   ]
  },
  {
   "cell_type": "markdown",
   "metadata": {},
   "source": [
    "$$ y = \\log x + a \\log z $$"
   ]
  },
  {
   "cell_type": "markdown",
   "metadata": {},
   "source": [
    "## 2. Dérivée partielle \n",
    "\n",
    "Quel est la dérivée partielle de cette fonction par rapport à $z$? Écrire la dérivée dans une cellule markdown (solution analytique) et ensuite faire le calcul avec sympy (solution symbolique). "
   ]
  },
  {
   "cell_type": "markdown",
   "metadata": {},
   "source": [
    "$$ f'_z = \\frac{a}{z} $$"
   ]
  },
  {
   "cell_type": "code",
   "execution_count": 12,
   "metadata": {},
   "outputs": [
    {
     "data": {
      "text/latex": [
       "$\\displaystyle \\frac{a}{z}$"
      ],
      "text/plain": [
       "a/z"
      ]
     },
     "execution_count": 12,
     "metadata": {},
     "output_type": "execute_result"
    }
   ],
   "source": [
    "import sympy as sp\n",
    "x,z,a = sp.symbols('x z a')\n",
    "f = sp.log(x) + a*sp.log(z)\n",
    "sp.diff(f,z)"
   ]
  },
  {
   "cell_type": "markdown",
   "metadata": {
    "indent": "0"
   },
   "source": [
    "## 3. Homogénéité\n",
    "\n",
    "Trouvez le degré d'homogénéité de la fonction, \n",
    "\n",
    "$$ f(x,z) = x z^{a}$$\n",
    "\n",
    "Écrire votre réponse en markdown latex. \n"
   ]
  },
  {
   "cell_type": "markdown",
   "metadata": {
    "indent": "0"
   },
   "source": [
    "$$ f(\\lambda x, \\lambda z) = (\\lambda x) (\\lambda z)^{a} = \\lambda^{1+a} x z^{a} = \\lambda^{1+a} f(x,z)$$\n",
    "\n",
    "donc la fonction est homogène de degré $1+a$. "
   ]
  },
  {
   "cell_type": "markdown",
   "metadata": {},
   "source": [
    "## 4. Lagrangien\n",
    "\n",
    "Trouvez la solution analytique pour $x$ et $y$ qui maximise $f = (x+2)(y+1)$ sous la contrainte, $4x + 10y \\leq 62$."
   ]
  },
  {
   "cell_type": "markdown",
   "metadata": {
    "indent": "0"
   },
   "source": [
    "On a le problème: \n",
    "\n",
    "$$\\max_{x,y,\\lambda} L(x,y,\\lambda) = (x+2)(y+1) - \\lambda (4x + 10y - 62)$$\n",
    "\n",
    "Les CPO sont: \n",
    "\n",
    "1. $ y + 1 - 4\\lambda = 0 $\n",
    "2. $ x + 2 - 10\\lambda = 0 $\n",
    "3. $4x + 10y - 62 = 0$\n",
    "\n",
    "On divise 1 par 2 pour obtenir: \n",
    "\n",
    "4. $\\frac{y+1}{x+2} = \\frac{2}{5}$ et donc $y = \\frac{2x-1}{5}$\n",
    "\n",
    "On remplace dans 3. pour obtenir $ 4 x + 10 \\frac{2x-1}{5} = 62$ et donc $x^*=8$. On peut substituer $x^*=8$ dans 4. pour obtenir, $y^*=3$. \n",
    "\n",
    "\n"
   ]
  },
  {
   "cell_type": "markdown",
   "metadata": {
    "indent": "0"
   },
   "source": [
    "## 5. Graphiques \n",
    "\n",
    "Tracez sur un même graphique la fonction\n",
    "\n",
    "\n",
    "$$f(x) = \\frac{x^{1-\\sigma}}{1-\\sigma}$$\n",
    "\n",
    "pour les valeurs de $\\sigma = (0.25,0.5,0.75)$ quand $x \\in [1,100]$. Assurez-vous que les axes sont bien identifiés. "
   ]
  },
  {
   "cell_type": "code",
   "execution_count": 16,
   "metadata": {},
   "outputs": [
    {
     "data": {
      "image/png": "[encoded data removed]",
      "text/plain": [
       "<Figure size 432x288 with 1 Axes>"
      ]
     },
     "metadata": {
      "needs_background": "light"
     },
     "output_type": "display_data"
    }
   ],
   "source": [
    "import numpy as np\n",
    "from matplotlib import pyplot as plt\n",
    "sigmas = [0.25,0.5,0.75]\n",
    "def f(x,sigma):\n",
    "    return (x**(1-sigma))/(1-sigma)\n",
    "xs = np.linspace(1,100,100)\n",
    "plt.figure()\n",
    "for sigma in sigmas:\n",
    "    plt.plot(xs,[f(x,sigma) for x in xs],label='$\\sigma=$'+str(np.round(sigma,2)))\n",
    "plt.xlabel('x')\n",
    "plt.ylabel('f')\n",
    "plt.legend()\n",
    "plt.show()"
   ]
  },
  {
   "cell_type": "code",
   "execution_count": null,
   "metadata": {},
   "outputs": [],
   "source": []
  }
 ],
 "metadata": {
  "kernelspec": {
   "display_name": "Python 3",
   "language": "python",
   "name": "python3"
  },
  "language_info": {
   "codemirror_mode": {
    "name": "ipython",
    "version": 3
   },
   "file_extension": ".py",
   "mimetype": "text/x-python",
   "name": "python",
   "nbconvert_exporter": "python",
   "pygments_lexer": "ipython3",
   "version": "3.8.3"
  }
 },
 "nbformat": 4,
 "nbformat_minor": 4
}
