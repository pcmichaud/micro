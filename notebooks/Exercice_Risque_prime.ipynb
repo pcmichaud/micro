{
  "nbformat": 4,
  "nbformat_minor": 0,
  "metadata": {
    "colab": {
      "name": "Exercice-Risque-prime.ipynb",
      "provenance": [],
      "collapsed_sections": []
    },
    "kernelspec": {
      "name": "python3",
      "display_name": "Python 3"
    }
  },
  "cells": [
    {
      "cell_type": "markdown",
      "metadata": {
        "id": "aZ5-0Qmz5OMg"
      },
      "source": [
        "Erika a des préférences données par $u(X) = \\ln X$. Elle a un billet de lotterie qu'elle veut vendre. Il y a 75\\% de chance qu'elle gagne 100 dollars et 25\\% de chance qu'elle perdre 100 dollars. Sa richesse actuelle est de 500 dollars. Quel est le prix minimum pour lequel elle est prête à vendre le billet?  "
      ]
    },
    {
      "cell_type": "code",
      "metadata": {
        "id": "iF3zagii5390"
      },
      "source": [
        ""
      ],
      "execution_count": null,
      "outputs": []
    }
  ]
}