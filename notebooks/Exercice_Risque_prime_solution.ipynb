{
  "nbformat": 4,
  "nbformat_minor": 0,
  "metadata": {
    "colab": {
      "name": "Exercice-Risque-prime-solution.ipynb",
      "provenance": [],
      "collapsed_sections": []
    },
    "kernelspec": {
      "name": "python3",
      "display_name": "Python 3"
    }
  },
  "cells": [
    {
      "cell_type": "markdown",
      "metadata": {
        "id": "aZ5-0Qmz5OMg"
      },
      "source": [
        "Erika a des préférences données par $u(X) = \\ln X$. Elle a un billet de lotterie qu'elle veut vendre. Il y a 75\\% de chance qu'elle gagne 100 dollars et 25\\% de chance qu'elle perdre 100 dollars. Sa richesse actuelle est de 500 dollars. Quel est le prix minimum pour lequel elle est prête à vendre le billet?  "
      ]
    },
    {
      "cell_type": "code",
      "metadata": {
        "id": "O5J3zm9k6cGm"
      },
      "source": [
        "import numpy as np "
      ],
      "execution_count": 1,
      "outputs": []
    },
    {
      "cell_type": "code",
      "metadata": {
        "id": "iF3zagii5390"
      },
      "source": [
        "def u(x):\n",
        "  return x**0.5"
      ],
      "execution_count": 11,
      "outputs": []
    },
    {
      "cell_type": "code",
      "metadata": {
        "id": "mutDjbFy6Fp9"
      },
      "source": [
        "p = 0.75\n",
        "L = [100,-100]\n",
        "x0 = 500"
      ],
      "execution_count": 12,
      "outputs": []
    },
    {
      "cell_type": "code",
      "metadata": {
        "id": "TugA8QdC8SFS",
        "outputId": "03194af3-b79c-4349-db4a-9c6fecaddfa5",
        "colab": {
          "base_uri": "https://localhost:8080/",
          "height": 35
        }
      },
      "source": [
        "z = p*L[0] + (1-p)*L[1]\n",
        "z"
      ],
      "execution_count": 13,
      "outputs": [
        {
          "output_type": "execute_result",
          "data": {
            "text/plain": [
              "50.0"
            ]
          },
          "metadata": {
            "tags": []
          },
          "execution_count": 13
        }
      ]
    },
    {
      "cell_type": "code",
      "metadata": {
        "id": "tN5S0AjT6NoK"
      },
      "source": [
        "def eu(p,L,x0):\n",
        "  return p*u(x0 + L[0]) + (1-p)*u(x0+L[1])"
      ],
      "execution_count": 14,
      "outputs": []
    },
    {
      "cell_type": "code",
      "metadata": {
        "id": "qFQasyAt6Ykc",
        "outputId": "5d43dc60-d7c9-4a75-e6db-4c01d6b3c52a",
        "colab": {
          "base_uri": "https://localhost:8080/",
          "height": 35
        }
      },
      "source": [
        "eu_lot = eu(p,L,x0)\n",
        "eu_lot"
      ],
      "execution_count": 15,
      "outputs": [
        {
          "output_type": "execute_result",
          "data": {
            "text/plain": [
              "23.371173070873837"
            ]
          },
          "metadata": {
            "tags": []
          },
          "execution_count": 15
        }
      ]
    },
    {
      "cell_type": "code",
      "metadata": {
        "id": "TuFZQLXX6bB8"
      },
      "source": [
        "def slack(prix,p,L,x0):\n",
        "  return u(x0+prix) - eu(p,L,x0)"
      ],
      "execution_count": 16,
      "outputs": []
    },
    {
      "cell_type": "code",
      "metadata": {
        "id": "462ebiZ46t8P"
      },
      "source": [
        "from scipy.optimize import bisect"
      ],
      "execution_count": 17,
      "outputs": []
    },
    {
      "cell_type": "code",
      "metadata": {
        "id": "gKknaEQX6wrG",
        "outputId": "a7f9a97f-02dc-4cf0-d89c-c5c3d84ddf4b",
        "colab": {
          "base_uri": "https://localhost:8080/",
          "height": 35
        }
      },
      "source": [
        "bisect(slack,0.0,0.5*x0,args=(p,L,x0))"
      ],
      "execution_count": 18,
      "outputs": [
        {
          "output_type": "execute_result",
          "data": {
            "text/plain": [
              "46.211730708739296"
            ]
          },
          "metadata": {
            "tags": []
          },
          "execution_count": 18
        }
      ]
    },
    {
      "cell_type": "code",
      "metadata": {
        "id": "k2oF5Ie5vQ0C"
      },
      "source": [
        "def solution(p,L,x0):\n",
        "  prix = bisect(slack,0.0,0.5*x0,args=(p,L,x0))\n",
        "  return prix "
      ],
      "execution_count": 19,
      "outputs": []
    },
    {
      "cell_type": "code",
      "metadata": {
        "id": "CKDke1tbvefs"
      },
      "source": [
        "prices = [solution(p,L,x0) for p in np.linspace(0.75,0.9,100)]"
      ],
      "execution_count": 23,
      "outputs": []
    },
    {
      "cell_type": "code",
      "metadata": {
        "id": "vQUGaJVWvygl",
        "outputId": "da580e1b-a4f9-47ef-8f32-6bbafc7bc470",
        "colab": {
          "base_uri": "https://localhost:8080/",
          "height": 282
        }
      },
      "source": [
        "from matplotlib import pyplot as plt \n",
        "plt.plot(np.linspace(0.75,0.9,100),prices)"
      ],
      "execution_count": 25,
      "outputs": [
        {
          "output_type": "execute_result",
          "data": {
            "text/plain": [
              "[<matplotlib.lines.Line2D at 0x7f7edad61630>]"
            ]
          },
          "metadata": {
            "tags": []
          },
          "execution_count": 25
        },
        {
          "output_type": "display_data",
          "data": {
            "image/png": "[encoded data removed]",
            "text/plain": [
              "<Figure size 432x288 with 1 Axes>"
            ]
          },
          "metadata": {
            "tags": [],
            "needs_background": "light"
          }
        }
      ]
    },
    {
      "cell_type": "code",
      "metadata": {
        "id": "_aSdjpcC63fw",
        "outputId": "d1817bc7-7607-4a1a-b55e-c9a0854d89b5",
        "colab": {
          "base_uri": "https://localhost:8080/",
          "height": 35
        }
      },
      "source": [
        "np.exp(6.2955633781891045) - 500 "
      ],
      "execution_count": 10,
      "outputs": [
        {
          "output_type": "execute_result",
          "data": {
            "text/plain": [
              "42.1612021659065"
            ]
          },
          "metadata": {
            "tags": []
          },
          "execution_count": 10
        }
      ]
    },
    {
      "cell_type": "markdown",
      "metadata": {
        "id": "msut1S3n67y-"
      },
      "source": [
        "À la main, \n",
        "\n",
        "On a $u(x) = \\log x$. L'utilité espérée est de :\n",
        "\n",
        "$$ Eu = 0.75  \\log 600 + 0.25  \\log 400  = 6.295$$\n",
        "\n",
        "On pose ensuite: \n",
        "\n",
        "$$\\log (500 + \\pi) = 6.2955633781891045 $$\n",
        "\n",
        "et donc \n",
        "\n",
        "$$ \\pi = \\exp(6.2955633781891045)-500 = 42.161 $$ "
      ]
    }
  ]
}