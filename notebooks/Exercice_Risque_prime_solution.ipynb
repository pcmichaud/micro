{
  "nbformat": 4,
  "nbformat_minor": 0,
  "metadata": {
    "colab": {
      "name": "Exercice-Risque-prime-solution.ipynb",
      "provenance": [],
      "collapsed_sections": []
    },
    "kernelspec": {
      "name": "python3",
      "display_name": "Python 3"
    }
  },
  "cells": [
    {
      "cell_type": "markdown",
      "metadata": {
        "id": "aZ5-0Qmz5OMg"
      },
      "source": [
        "Erika a des préférences données par $u(X) = \\ln X$. Elle a un billet de lotterie qu'elle veut vendre. Il y a 75\\% de chance qu'elle gagne 100 dollars et 25\\% de chance qu'elle perdre 100 dollars. Sa richesse actuelle est de 500 dollars. Quel est le prix minimum pour lequel elle est prête à vendre le billet?  "
      ]
    },
    {
      "cell_type": "code",
      "metadata": {
        "id": "O5J3zm9k6cGm"
      },
      "source": [
        "import numpy as np "
      ],
      "execution_count": 5,
      "outputs": []
    },
    {
      "cell_type": "code",
      "metadata": {
        "id": "iF3zagii5390"
      },
      "source": [
        "def u(x):\n",
        "  return np.log(x)"
      ],
      "execution_count": 6,
      "outputs": []
    },
    {
      "cell_type": "code",
      "metadata": {
        "id": "mutDjbFy6Fp9"
      },
      "source": [
        "p = 0.75\n",
        "L = [100,-100]\n",
        "x0 = 500"
      ],
      "execution_count": 7,
      "outputs": []
    },
    {
      "cell_type": "code",
      "metadata": {
        "id": "TugA8QdC8SFS",
        "outputId": "e23c5587-0bff-4d02-8feb-482aef60f71d",
        "colab": {
          "base_uri": "https://localhost:8080/",
          "height": 33
        }
      },
      "source": [
        "z = p*L[0] + (1-p)*L[1]\n",
        "z"
      ],
      "execution_count": 18,
      "outputs": [
        {
          "output_type": "execute_result",
          "data": {
            "text/plain": [
              "50.0"
            ]
          },
          "metadata": {
            "tags": []
          },
          "execution_count": 18
        }
      ]
    },
    {
      "cell_type": "code",
      "metadata": {
        "id": "tN5S0AjT6NoK"
      },
      "source": [
        "def eu(p,L,x0):\n",
        "  return p*u(x0 + L[0]) + (1-p)*u(x0+L[1])"
      ],
      "execution_count": 8,
      "outputs": []
    },
    {
      "cell_type": "code",
      "metadata": {
        "id": "qFQasyAt6Ykc",
        "outputId": "174ac01e-3cb8-4bec-a538-35622a69e6ea",
        "colab": {
          "base_uri": "https://localhost:8080/",
          "height": 33
        }
      },
      "source": [
        "eu_lot = eu(p,L,x0)\n",
        "eu_lot"
      ],
      "execution_count": 14,
      "outputs": [
        {
          "output_type": "execute_result",
          "data": {
            "text/plain": [
              "6.2955633781891045"
            ]
          },
          "metadata": {
            "tags": []
          },
          "execution_count": 14
        }
      ]
    },
    {
      "cell_type": "code",
      "metadata": {
        "id": "TuFZQLXX6bB8"
      },
      "source": [
        "def slack(prix,p,L,x0):\n",
        "  return u(x0+prix) - eu(p,L,x0)"
      ],
      "execution_count": 11,
      "outputs": []
    },
    {
      "cell_type": "code",
      "metadata": {
        "id": "462ebiZ46t8P"
      },
      "source": [
        "from scipy.optimize import bisect"
      ],
      "execution_count": 12,
      "outputs": []
    },
    {
      "cell_type": "code",
      "metadata": {
        "id": "gKknaEQX6wrG",
        "outputId": "9936bb7f-df39-4796-a69e-d50afc732a93",
        "colab": {
          "base_uri": "https://localhost:8080/",
          "height": 33
        }
      },
      "source": [
        "bisect(slack,0.0,0.5*x0,args=(p,L,x0))"
      ],
      "execution_count": 13,
      "outputs": [
        {
          "output_type": "execute_result",
          "data": {
            "text/plain": [
              "42.161202165905465"
            ]
          },
          "metadata": {
            "tags": []
          },
          "execution_count": 13
        }
      ]
    },
    {
      "cell_type": "code",
      "metadata": {
        "id": "_aSdjpcC63fw",
        "outputId": "76fee930-d509-4d35-b223-9602245574f8",
        "colab": {
          "base_uri": "https://localhost:8080/",
          "height": 33
        }
      },
      "source": [
        "500 - np.exp(6.2955633781891045)"
      ],
      "execution_count": 17,
      "outputs": [
        {
          "output_type": "execute_result",
          "data": {
            "text/plain": [
              "-42.1612021659065"
            ]
          },
          "metadata": {
            "tags": []
          },
          "execution_count": 17
        }
      ]
    },
    {
      "cell_type": "markdown",
      "metadata": {
        "id": "msut1S3n67y-"
      },
      "source": [
        "À la main, \n",
        "\n",
        "On a $u(x) = \\log x$. L'utilité espérée est de :\n",
        "\n",
        "$$ Eu = 0.75  \\log 600 + 0.25  \\log 400  = 6.295$$\n",
        "\n",
        "On pose ensuite: \n",
        "\n",
        "$$\\log (500 + \\pi) = 6.2955633781891045 $$\n",
        "\n",
        "et donc \n",
        "\n",
        "$$ \\pi = \\exp(6.2955633781891045)-500 = 42.161 $$ "
      ]
    }
  ]
}