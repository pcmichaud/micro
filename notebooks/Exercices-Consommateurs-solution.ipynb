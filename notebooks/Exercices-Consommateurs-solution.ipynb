{
 "cells": [
  {
   "cell_type": "markdown",
   "metadata": {},
   "source": [
    "# Les fonctions d'utilités et les transformations"
   ]
  },
  {
   "cell_type": "markdown",
   "metadata": {
    "indent": "0"
   },
   "source": [
    "\n",
    "Est-ce que les fonctions d'utilités suivantes représentent les mêmes préférences que $v$: \n",
    "\n",
    "\n",
    "* $u = 2v - 13$\n",
    "* $u = \\log v$\n",
    "* $u = \\frac{1}{v}$\n"
   ]
  },
  {
   "cell_type": "markdown",
   "metadata": {},
   "source": [
    "On doit montrer que la fonction $f(\\cdot)$ qui transforme $v$ en $u$ est croissante...\n",
    "\n",
    "* $\\frac{du}{dv} = 2 > 0$, donc oui. \n",
    "* $\\frac{du}{dv} = 1/v > 0$, donc oui\n",
    "* $\\frac{du}{dv} = -\\frac{1}{v^2} < 0$, donc non. "
   ]
  },
  {
   "cell_type": "markdown",
   "metadata": {},
   "source": [
    "# Les fonctions de demande"
   ]
  },
  {
   "cell_type": "markdown",
   "metadata": {},
   "source": [
    "\n",
    "Si la contrainte est  $p_x x + p_y y \\le I$, quelles sont les fonctions de demande pour:\n",
    "\n",
    "* $u = \\alpha \\log x + \\beta \\log y$\n",
    "* $u = \\alpha \\log x + y$\n",
    "* $u = \\min(\\alpha x,\\beta y)$"
   ]
  },
  {
   "cell_type": "markdown",
   "metadata": {
    "indent": "0"
   },
   "source": [
    "On utilisera pour chacun des problèmes les conditions d'optimalité: \n",
    "\n",
    "\n",
    "\n",
    "$$ \\frac{u_x}{u_y} = \\frac{p_x}{p_y}  \\\\ p_x x + p_y y - I = 0$$\n"
   ]
  },
  {
   "cell_type": "markdown",
   "metadata": {},
   "source": [
    "Pour $u = \\alpha \\log x + \\beta \\log y$, on a : \n",
    "\n",
    "$$ \\frac{\\alpha}{\\beta}\\frac{y}{x} = \\frac{p_x}{p_y} $$\n",
    "\n",
    "ce qui donne \n",
    "\n",
    "$$ y = \\frac{\\beta}{\\alpha}\\frac{p_x}{p_y}x $$\n",
    "\n",
    "En remplacant dans $p_x x + p_y y - I = 0$, on a\n",
    "\n",
    "$$ x^* = \\frac{\\alpha}{\\alpha + \\beta} \\frac{I}{p_x} $$\n",
    "\n",
    "et \n",
    "\n",
    "$$ y^* = \\frac{\\beta}{\\alpha + \\beta} \\frac{I}{p_y} $$\n",
    "\n"
   ]
  },
  {
   "cell_type": "markdown",
   "metadata": {
    "indent": "-20"
   },
   "source": [
    "Pour $u = \\alpha \\log x + y$, on a \n",
    "\n",
    "$$ \\frac{\\alpha}{x} = \\frac{p_x}{p_y} $$\n",
    "\n",
    "et donc, \n",
    "\n",
    "$$ x^* = \\alpha \\frac{p_y}{p_x} $$\n",
    "\n",
    "et en remplacant dans la contrainte: \n",
    "\n",
    "$$ p_x \\alpha \\frac{p_y}{p_x} + p_y y = I $$\n",
    "\n",
    "et donc \n",
    "\n",
    "$$ y^*  = \\frac{1}{1+\\alpha}\\frac{I}{p_y} $$ "
   ]
  },
  {
   "cell_type": "markdown",
   "metadata": {
    "indent": "-20"
   },
   "source": [
    "Pour $u = \\min(\\alpha x, \\beta y)$, notons d'abord que fonction n'a pas des dérivées continues (à cause du min). On a qu'un optimum peut seulement se trouver à : \n",
    "\n",
    "$$ \\alpha x = \\beta y $$\n",
    "\n",
    "(si on augmente $y$ ou $x$ de cette égalité, la dépense augmente sans que l'utilité augmente). \n",
    "\n",
    "Donc, \n",
    "\n",
    "$$ x = \\frac{\\beta}{\\alpha} y $$\n",
    "\n",
    "En remplacant dans la contrainte, on a : \n",
    "\n",
    "$$ p_x \\frac{\\beta}{\\alpha} y + p_y y = I $$\n",
    "\n",
    "et donc \n",
    "\n",
    "$$ y^*  = \\frac{I}{p_y + p_x\\frac{\\beta}{\\alpha}} $$\n",
    "\n",
    "et $$ x^* =  \\frac{I}{p_y\\frac{\\alpha}{\\beta} + p_x} $$"
   ]
  },
  {
   "cell_type": "markdown",
   "metadata": {},
   "source": [
    "# Les conditions d'optimalité\n",
    "\n"
   ]
  },
  {
   "cell_type": "markdown",
   "metadata": {
    "indent": "0"
   },
   "source": [
    "Anne aime la pêche sur la glace. Pendant l'année, elle met de côté un certain montant pour acheter des boîtes de vers pour attirer les poissons. Deux types de vers sont disponibles: ceux de taille normale (dénoté $x_1$ et vendu en boîte) et les vers jumbo (dénoté $x_2$ et aussi vendu en boite). Ses préférences sont représentées par la fonction d'utilité:\n",
    "\n",
    "$$u(x_1,x_2)= 4 \\log \\left( x_1^\\frac{1}{3}x_2^\\frac{1}{4}\\right)$$ \n",
    "\n"
   ]
  },
  {
   "cell_type": "markdown",
   "metadata": {},
   "source": [
    "Trouvez une transformation de cette fonction qui donne les mêmes préférences mais qui est plus simple..."
   ]
  },
  {
   "cell_type": "markdown",
   "metadata": {},
   "source": [
    "$$ v(x_1,x_2) = \\exp(u/4) = x_1^\\frac{1}{3}x_2^\\frac{1}{4} $$"
   ]
  },
  {
   "cell_type": "markdown",
   "metadata": {},
   "source": [
    " Quelle est l'utilité marginale de Anne pour une boîte additionelle de vers normaux?"
   ]
  },
  {
   "cell_type": "markdown",
   "metadata": {},
   "source": [
    "$$ \\frac{dv}{dx_1} = \\frac{1}{3}x_1^{-\\frac{2}{3}} x_2^{\\frac{1}{4}} $$"
   ]
  },
  {
   "cell_type": "markdown",
   "metadata": {},
   "source": [
    "Quel est le taux marginal de substitution des vers normaux en terme de vers jumbo?"
   ]
  },
  {
   "cell_type": "markdown",
   "metadata": {},
   "source": [
    "$$ TMS = -\\frac{v'_1}{v'_2} = -\\frac{4}{3}\\frac{x_2}{x_1} $$"
   ]
  },
  {
   "cell_type": "markdown",
   "metadata": {
    "indent": "0"
   },
   "source": [
    "Supposons que Anne a 100 dollars pour ces deux biens et que les prix d'une boîte normale et jumbo sont respectivement de 5 et 10 dollars. Si Anne a 5 boîtes de chaque type de vers, est-elle à un optimum? Sinon, comment devrait-elle changer sa répartition?\n"
   ]
  },
  {
   "cell_type": "markdown",
   "metadata": {},
   "source": [
    "À l'optimum, \n",
    "\n",
    "$$ |TMS| = \\frac{4}{3}\\frac{x_2}{x_1} = \\frac{p_1}{p_2} $$\n",
    "\n",
    "et donc à $(x_1,x_2) = (5,5)$ et $(p_1,p_2) = (5,10)$: \n",
    "\n",
    "$$ \\frac{4}{3}\\frac{5}{5} > \\frac{5}{10} $$\n",
    "\n",
    "La valeur des vers normaux est plus élevé que le coût d'opportunité. Elle échanger des vers jumbo contre davantage de vers normaux. "
   ]
  }
 ],
 "metadata": {
  "kernelspec": {
   "display_name": "Python 3",
   "language": "python",
   "name": "python3"
  },
  "language_info": {
   "codemirror_mode": {
    "name": "ipython",
    "version": 3
   },
   "file_extension": ".py",
   "mimetype": "text/x-python",
   "name": "python",
   "nbconvert_exporter": "python",
   "pygments_lexer": "ipython3",
   "version": "3.8.3"
  }
 },
 "nbformat": 4,
 "nbformat_minor": 4
}
