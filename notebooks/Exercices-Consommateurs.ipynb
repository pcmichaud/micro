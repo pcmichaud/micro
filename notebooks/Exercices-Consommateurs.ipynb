{
 "cells": [
  {
   "cell_type": "markdown",
   "metadata": {},
   "source": [
    "# Les fonctions d'utilités et les transformations"
   ]
  },
  {
   "cell_type": "markdown",
   "metadata": {
    "indent": "0"
   },
   "source": [
    "\n",
    "Est-ce que les fonctions d'utilités suivantes représentent les mêmes préférences que $v$: \n",
    "\n",
    "\n",
    "* $u = 2v - 13$\n",
    "* $u = \\log v$\n",
    "* $u = \\frac{1}{v}$\n"
   ]
  },
  {
   "cell_type": "code",
   "execution_count": null,
   "metadata": {},
   "outputs": [],
   "source": []
  },
  {
   "cell_type": "markdown",
   "metadata": {},
   "source": [
    "# Les fonctions de demande"
   ]
  },
  {
   "cell_type": "markdown",
   "metadata": {},
   "source": [
    "\n",
    "Si la contrainte est  $p_x x + p_y y \\le I$, quelles sont les fonctions de demande pour:\n",
    "\n",
    "* $u = \\alpha \\log x + \\beta \\log y$\n",
    "* $u = \\alpha \\log x + y$\n",
    "* $u = \\min(\\alpha x,\\beta y)$"
   ]
  },
  {
   "cell_type": "code",
   "execution_count": null,
   "metadata": {},
   "outputs": [],
   "source": []
  },
  {
   "cell_type": "markdown",
   "metadata": {},
   "source": [
    "# Les conditions d'optimalité\n",
    "\n"
   ]
  },
  {
   "cell_type": "markdown",
   "metadata": {
    "indent": "0"
   },
   "source": [
    "Anne aime la pêche sur la glace. Pendant l'année, elle met de côté un certain montant pour acheter des boîtes de vers pour attirer les poissons. Deux types de vers sont disponibles: ceux de taille normale (dénoté $x_1$ et vendu en boîte) et les vers jumbo (dénoté $x_2$ et aussi vendu en boite). Ses préférences sont représentées par la fonction d'utilité:\n",
    "\n",
    "$$U(x_1,x_2)= 4 \\log \\left( x_1^\\frac{1}{3}x_2^\\frac{1}{4}\\right)$$ \n",
    "\n"
   ]
  },
  {
   "cell_type": "markdown",
   "metadata": {},
   "source": [
    "Trouvez une transformation de cette fonction qui donne les mêmes préférences mais qui est plus simple..."
   ]
  },
  {
   "cell_type": "code",
   "execution_count": null,
   "metadata": {},
   "outputs": [],
   "source": []
  },
  {
   "cell_type": "markdown",
   "metadata": {},
   "source": [
    " Quelle est l'utilité marginale de Anne pour une boîte additionelle de vers normaux?"
   ]
  },
  {
   "cell_type": "code",
   "execution_count": null,
   "metadata": {},
   "outputs": [],
   "source": []
  },
  {
   "cell_type": "markdown",
   "metadata": {},
   "source": [
    "Quel est le taux marginal de substitution des vers normaux en terme de vers jumbo?"
   ]
  },
  {
   "cell_type": "code",
   "execution_count": null,
   "metadata": {},
   "outputs": [],
   "source": []
  },
  {
   "cell_type": "markdown",
   "metadata": {
    "indent": "0"
   },
   "source": [
    "Supposons que Anne a 100 dollars pour ces deux biens et que les prix d'une boîte normale et jumbo sont respectivement de 5 et 10 dollars. Si Anne a 5 boîtes de chaque type de vers, est-elle à un optimum? Sinon, comment devrait-elle changer sa répartition?\n"
   ]
  },
  {
   "cell_type": "code",
   "execution_count": null,
   "metadata": {},
   "outputs": [],
   "source": []
  },
  {
   "cell_type": "markdown",
   "metadata": {},
   "source": [
    "Quelles sont les fonctions de demande de Anne pour les vers normaux et jumbo?"
   ]
  },
  {
   "cell_type": "code",
   "execution_count": null,
   "metadata": {},
   "outputs": [],
   "source": []
  },
  {
   "cell_type": "markdown",
   "metadata": {},
   "source": [
    "Quelle est la fonction d'utilité indirecte de Anne?"
   ]
  },
  {
   "cell_type": "code",
   "execution_count": null,
   "metadata": {},
   "outputs": [],
   "source": []
  }
 ],
 "metadata": {
  "kernelspec": {
   "display_name": "Python 3",
   "language": "python",
   "name": "python3"
  },
  "language_info": {
   "codemirror_mode": {
    "name": "ipython",
    "version": 3
   },
   "file_extension": ".py",
   "mimetype": "text/x-python",
   "name": "python",
   "nbconvert_exporter": "python",
   "pygments_lexer": "ipython3",
   "version": "3.8.3"
  }
 },
 "nbformat": 4,
 "nbformat_minor": 4
}
