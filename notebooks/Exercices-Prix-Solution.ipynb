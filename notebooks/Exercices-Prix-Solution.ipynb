{
 "cells": [
  {
   "cell_type": "markdown",
   "metadata": {},
   "source": [
    "# Exercice Effets prix"
   ]
  },
  {
   "cell_type": "markdown",
   "metadata": {
    "indent": "-20"
   },
   "source": [
    "Marc alloue son budget récréatif pour l'hiver  à deux activités: des visites au cinéma ($x_1$) et les massages ($x_2$). Il a un revenu $I$ pour ces activités. Ses préférences sont données par: \n",
    "\n",
    "$$ u(x_1,x_2) = \\frac{1}{2}\\left(x_1^{\\frac{2}{9}} x_2^{\\frac{1}{9}}\\right)^{3} $$"
   ]
  },
  {
   "cell_type": "markdown",
   "metadata": {},
   "source": [
    "1. Quelles sont les fonctions de demande classique si $p_1$ et $p_2$ sont les prix d\"une visite au cinéma et d'un massage respectivement?"
   ]
  },
  {
   "cell_type": "markdown",
   "metadata": {},
   "source": [
    "On a que \n",
    "\n",
    "$$ v(x_1,x_2) = 2 u(x_1,x_2) = x_1^{\\frac{2}{3}} x_2^{\\frac{1}{3}} $$\n",
    "\n",
    "représente les mêmes préférences. Donc, par le lagrangien, \n",
    "\n",
    "$$ x_1^* = \\frac{2}{3}\\frac{I}{p_1}, x_2^* = \\frac{1}{3}\\frac{I}{p_2} $$"
   ]
  },
  {
   "cell_type": "code",
   "execution_count": 38,
   "metadata": {},
   "outputs": [],
   "source": [
    "def d_x1(alpha,p1,p2,I):\n",
    "    return alpha * I / p1\n",
    "def d_x2(alpha,p1,p2,I):\n",
    "    return alpha * I / p2"
   ]
  },
  {
   "cell_type": "markdown",
   "metadata": {
    "indent": "0"
   },
   "source": [
    "2. Si les séances au cinéma et au centre de massage coûtent respectivement 12 et 30, et que son budget est de 500, combien de séances prendra-t-il?"
   ]
  },
  {
   "cell_type": "code",
   "execution_count": 39,
   "metadata": {
    "indent": "0"
   },
   "outputs": [
    {
     "data": {
      "text/plain": [
       "(27.777777777777775, 5.555555555555555)"
      ]
     },
     "execution_count": 39,
     "metadata": {},
     "output_type": "execute_result"
    }
   ],
   "source": [
    "b_x1 = d_x1(2/3,12,30,500)\n",
    "b_x2 = d_x2(1/3,12,30,500)\n",
    "b_x1,b_x2"
   ]
  },
  {
   "cell_type": "markdown",
   "metadata": {},
   "source": [
    "3. Marc reçoit un bonus de 250. Comment changera-t-il le nombre de séances demandées?"
   ]
  },
  {
   "cell_type": "code",
   "execution_count": 40,
   "metadata": {
    "indent": "0"
   },
   "outputs": [
    {
     "data": {
      "text/plain": [
       "(41.666666666666664, 8.333333333333334)"
      ]
     },
     "execution_count": 40,
     "metadata": {},
     "output_type": "execute_result"
    }
   ],
   "source": [
    "r_x1 = d_x1(2/3,12,30,750)\n",
    "r_x2 = d_x2(1/3,12,30,750)\n",
    "r_x1,r_x2"
   ]
  },
  {
   "cell_type": "markdown",
   "metadata": {},
   "source": [
    "4. Le propriétaire du cinéma diminue le prix de 12 à 8 afin d'attirer davantage de clientèle et espérer augmenter ses revenus. Le budget de Marc est toujours de 500. Combien de séances Marc demande-t-il alors? "
   ]
  },
  {
   "cell_type": "code",
   "execution_count": 41,
   "metadata": {
    "indent": "0"
   },
   "outputs": [
    {
     "data": {
      "text/plain": [
       "(41.666666666666664, 5.555555555555555)"
      ]
     },
     "execution_count": 41,
     "metadata": {},
     "output_type": "execute_result"
    }
   ],
   "source": [
    "n_x1 = d_x1(2/3,8,30,500)\n",
    "n_x2 = d_x2(1/3,8,30,500)\n",
    "n_x1,n_x2"
   ]
  },
  {
   "cell_type": "markdown",
   "metadata": {},
   "source": [
    "5. Calculer l'effet substitution, revenu et prix total de ce changement de prix"
   ]
  },
  {
   "cell_type": "markdown",
   "metadata": {},
   "source": [
    "Effet total est de "
   ]
  },
  {
   "cell_type": "code",
   "execution_count": 42,
   "metadata": {},
   "outputs": [
    {
     "data": {
      "text/plain": [
       "13.88888888888889"
      ]
     },
     "execution_count": 42,
     "metadata": {},
     "output_type": "execute_result"
    }
   ],
   "source": [
    "total = n_x1 - b_x1\n",
    "total"
   ]
  },
  {
   "cell_type": "markdown",
   "metadata": {},
   "source": [
    "Pour trouver l'effet substitution, on a besoin d'abord du niveau d'utilité avant le changement de prix"
   ]
  },
  {
   "cell_type": "code",
   "execution_count": 43,
   "metadata": {},
   "outputs": [],
   "source": [
    "def u(x1,x2,alpha):\n",
    "    return (x1**(alpha)) * (x2**(1.0-alpha))"
   ]
  },
  {
   "cell_type": "code",
   "execution_count": 44,
   "metadata": {},
   "outputs": [
    {
     "data": {
      "text/plain": [
       "16.244542990071476"
      ]
     },
     "execution_count": 44,
     "metadata": {},
     "output_type": "execute_result"
    }
   ],
   "source": [
    "b_u = u(b_x1,b_x2,2/3)\n",
    "b_u"
   ]
  },
  {
   "cell_type": "markdown",
   "metadata": {},
   "source": [
    "On va résoudre pour le revenu qui donne ce niveau d'utilité. On commence par programmer l'utilité indirecte, "
   ]
  },
  {
   "cell_type": "code",
   "execution_count": 45,
   "metadata": {
    "indent": "0"
   },
   "outputs": [],
   "source": [
    "def v(p1,p2,I,alpha):\n",
    "    return u(d_x1(alpha,p1,p2,I),d_x2(1.0-alpha,p1,p2,I),alpha)"
   ]
  },
  {
   "cell_type": "markdown",
   "metadata": {},
   "source": [
    "On utilise ensuite bisect pour résoudre pour le revenu qui donne une utilité indirecte, aux nouveaux prix, égale au niveau d'utilité avant le changement de prix: "
   ]
  },
  {
   "cell_type": "code",
   "execution_count": 46,
   "metadata": {},
   "outputs": [],
   "source": [
    "from scipy.optimize import bisect\n",
    "def solve(I,p1,p2,alpha,uref):\n",
    "    return uref - v(p1,p2,I,alpha)"
   ]
  },
  {
   "cell_type": "markdown",
   "metadata": {},
   "source": [
    "Le revenu de départ est de 500 (le revenu de base). On va ensuite résoudre pour solve(I)=0 en utilisant bisect. "
   ]
  },
  {
   "cell_type": "code",
   "execution_count": 47,
   "metadata": {},
   "outputs": [],
   "source": [
    "I = 500"
   ]
  },
  {
   "cell_type": "code",
   "execution_count": 48,
   "metadata": {},
   "outputs": [
    {
     "data": {
      "text/plain": [
       "381.57141418444417"
      ]
     },
     "execution_count": 48,
     "metadata": {},
     "output_type": "execute_result"
    }
   ],
   "source": [
    "Icmp = bisect(solve,0.5*I,1.5*I,args=(8,30,2/3,b_u))\n",
    "Icmp "
   ]
  },
  {
   "cell_type": "markdown",
   "metadata": {},
   "source": [
    "On peut ensuite trouver les demandes compensées"
   ]
  },
  {
   "cell_type": "code",
   "execution_count": 49,
   "metadata": {
    "indent": "0"
   },
   "outputs": [
    {
     "data": {
      "text/plain": [
       "(31.79761784870368, 4.2396823798271575)"
      ]
     },
     "execution_count": 49,
     "metadata": {},
     "output_type": "execute_result"
    }
   ],
   "source": [
    "n_cmp_x1 = d_x1(2/3,8,30,Icmp)\n",
    "n_cmp_x2 = d_x2(1/3,8,30,Icmp)\n",
    "n_cmp_x1,n_cmp_x2"
   ]
  },
  {
   "cell_type": "markdown",
   "metadata": {},
   "source": [
    "Ensuite décomposer l'effet total en effet substitution et revenu. "
   ]
  },
  {
   "cell_type": "code",
   "execution_count": 50,
   "metadata": {},
   "outputs": [
    {
     "data": {
      "text/plain": [
       "(4.0198400709259055, 9.869048817962984, 13.88888888888889)"
      ]
     },
     "execution_count": 50,
     "metadata": {},
     "output_type": "execute_result"
    }
   ],
   "source": [
    "subs = n_cmp_x1 - b_x1\n",
    "rev = n_x1 - n_cmp_x1\n",
    "subs,rev,total"
   ]
  },
  {
   "cell_type": "markdown",
   "metadata": {},
   "source": [
    "6. Si tous les clients du cinéma ont les mêmes préférences que Marc, la stratégie du propriétaire du cinéma portera-t-elle fruit?"
   ]
  },
  {
   "cell_type": "code",
   "execution_count": 51,
   "metadata": {},
   "outputs": [
    {
     "data": {
      "text/plain": [
       "(333.3333333333333, 333.3333333333333)"
      ]
     },
     "execution_count": 51,
     "metadata": {},
     "output_type": "execute_result"
    }
   ],
   "source": [
    "b_recette = 12 * b_x1\n",
    "n_recette = 8 * n_x1\n",
    "b_recette, n_recette"
   ]
  },
  {
   "cell_type": "markdown",
   "metadata": {},
   "source": [
    "Recettes inchangées. Raison: cobb-douglass veut dire que part dans le revenu demeure constant, même avec changement de prix. Donc, élasticité prix totale de -1. Les recettes ne changent pas. "
   ]
  }
 ],
 "metadata": {
  "kernelspec": {
   "display_name": "Python 3",
   "language": "python",
   "name": "python3"
  },
  "language_info": {
   "codemirror_mode": {
    "name": "ipython",
    "version": 3
   },
   "file_extension": ".py",
   "mimetype": "text/x-python",
   "name": "python",
   "nbconvert_exporter": "python",
   "pygments_lexer": "ipython3",
   "version": "3.8.3"
  }
 },
 "nbformat": 4,
 "nbformat_minor": 4
}
