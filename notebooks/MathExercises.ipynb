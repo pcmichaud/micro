{
 "metadata": {
  "language_info": {
   "codemirror_mode": {
    "name": "ipython",
    "version": 3
   },
   "file_extension": ".py",
   "mimetype": "text/x-python",
   "name": "python",
   "nbconvert_exporter": "python",
   "pygments_lexer": "ipython3",
   "version": 3
  },
  "orig_nbformat": 2,
  "kernelspec": {
   "name": "python_defaultSpec_1596039657174",
   "display_name": "Python 3.6.10 64-bit ('base': conda)"
  }
 },
 "nbformat": 4,
 "nbformat_minor": 2,
 "cells": [
  {
   "cell_type": "code",
   "execution_count": 6,
   "metadata": {},
   "outputs": [],
   "source": [
    "import sympy as sp\n",
    "import numpy as np"
   ]
  },
  {
   "cell_type": "markdown",
   "metadata": {},
   "source": []
  },
  {
   "cell_type": "markdown",
   "metadata": {},
   "source": [
    "# Exercice A\n"
   ]
  },
  {
   "cell_type": "code",
   "execution_count": 7,
   "metadata": {},
   "outputs": [],
   "source": [
    "x = sp.symbols('x')"
   ]
  },
  {
   "cell_type": "code",
   "execution_count": 12,
   "metadata": {},
   "outputs": [
    {
     "output_type": "execute_result",
     "data": {
      "text/plain": "0.5*x**(-0.5)",
      "text/latex": "$\\displaystyle \\frac{0.5}{x^{0.5}}$"
     },
     "metadata": {},
     "execution_count": 12
    }
   ],
   "source": [
    "f = x**0.5\n",
    "sp.diff(f)"
   ]
  },
  {
   "cell_type": "code",
   "execution_count": 13,
   "metadata": {},
   "outputs": [
    {
     "output_type": "execute_result",
     "data": {
      "text/plain": "-x/(x + 1)**2 + 1/(x + 1)",
      "text/latex": "$\\displaystyle - \\frac{x}{\\left(x + 1\\right)^{2}} + \\frac{1}{x + 1}$"
     },
     "metadata": {},
     "execution_count": 13
    }
   ],
   "source": [
    "f = x/(1+x)\n",
    "sp.diff(f)"
   ]
  },
  {
   "cell_type": "code",
   "execution_count": 14,
   "metadata": {},
   "outputs": [
    {
     "output_type": "execute_result",
     "data": {
      "text/plain": "1.0*x + 2",
      "text/latex": "$\\displaystyle 1.0 x + 2$"
     },
     "metadata": {},
     "execution_count": 14
    }
   ],
   "source": [
    "f = 0.5*x**2 + 2*x -10\n",
    "sp.diff(f)"
   ]
  },
  {
   "cell_type": "code",
   "execution_count": 15,
   "metadata": {},
   "outputs": [
    {
     "output_type": "execute_result",
     "data": {
      "text/plain": "x/2 + 1",
      "text/latex": "$\\displaystyle \\frac{x}{2} + 1$"
     },
     "metadata": {},
     "execution_count": 15
    }
   ],
   "source": [
    "f = (1+x/2)**2\n",
    "sp.diff(f)"
   ]
  },
  {
   "cell_type": "markdown",
   "metadata": {},
   "source": [
    "# Exercice B"
   ]
  },
  {
   "cell_type": "code",
   "execution_count": 16,
   "metadata": {},
   "outputs": [],
   "source": [
    "x, x0 = sp.symbols('x x0')"
   ]
  },
  {
   "cell_type": "code",
   "execution_count": 47,
   "metadata": {},
   "outputs": [],
   "source": [
    "f = x**0.5"
   ]
  },
  {
   "cell_type": "code",
   "execution_count": 48,
   "metadata": {},
   "outputs": [],
   "source": [
    "df = sp.diff(f)"
   ]
  },
  {
   "cell_type": "code",
   "execution_count": 49,
   "metadata": {},
   "outputs": [],
   "source": [
    "f_approx = f.subs(x,x0) + df.subs(x,x0) * (x - x0)"
   ]
  },
  {
   "cell_type": "code",
   "execution_count": 50,
   "metadata": {},
   "outputs": [
    {
     "output_type": "execute_result",
     "data": {
      "text/plain": "0.288675134594813*x + 0.866025403784439",
      "text/latex": "$\\displaystyle 0.288675134594813 x + 0.866025403784439$"
     },
     "metadata": {},
     "execution_count": 50
    }
   ],
   "source": [
    "f_approx.subs(x0,3)"
   ]
  },
  {
   "cell_type": "markdown",
   "metadata": {},
   "source": [
    "# Exercice C"
   ]
  },
  {
   "cell_type": "code",
   "execution_count": 32,
   "metadata": {},
   "outputs": [
    {
     "output_type": "execute_result",
     "data": {
      "text/plain": "x*(10 - x)",
      "text/latex": "$\\displaystyle x \\left(10 - x\\right)$"
     },
     "metadata": {},
     "execution_count": 32
    }
   ],
   "source": [
    "f = x*(10-x)\n",
    "f"
   ]
  },
  {
   "cell_type": "code",
   "execution_count": 33,
   "metadata": {},
   "outputs": [
    {
     "output_type": "execute_result",
     "data": {
      "text/plain": "10 - 2*x",
      "text/latex": "$\\displaystyle 10 - 2 x$"
     },
     "metadata": {},
     "execution_count": 33
    }
   ],
   "source": [
    "df = sp.diff(f)\n",
    "df"
   ]
  },
  {
   "cell_type": "code",
   "execution_count": 36,
   "metadata": {},
   "outputs": [
    {
     "output_type": "execute_result",
     "data": {
      "text/plain": "[5]"
     },
     "metadata": {},
     "execution_count": 36
    }
   ],
   "source": [
    "optx = sp.solve(df,x)\n",
    "optx"
   ]
  },
  {
   "cell_type": "code",
   "execution_count": 37,
   "metadata": {},
   "outputs": [],
   "source": [
    "y = sp.symbols('y')"
   ]
  },
  {
   "cell_type": "code",
   "execution_count": 40,
   "metadata": {},
   "outputs": [
    {
     "output_type": "execute_result",
     "data": {
      "text/plain": "log(x*y)",
      "text/latex": "$\\displaystyle \\log{\\left(x y \\right)}$"
     },
     "metadata": {},
     "execution_count": 40
    }
   ],
   "source": [
    "f = sp.log(x*y)\n",
    "f"
   ]
  },
  {
   "cell_type": "code",
   "execution_count": 43,
   "metadata": {},
   "outputs": [
    {
     "output_type": "execute_result",
     "data": {
      "text/plain": "1/x",
      "text/latex": "$\\displaystyle \\frac{1}{x}$"
     },
     "metadata": {},
     "execution_count": 43
    }
   ],
   "source": [
    "dfx = sp.diff(f,x)\n",
    "dfx"
   ]
  },
  {
   "cell_type": "code",
   "execution_count": 44,
   "metadata": {},
   "outputs": [
    {
     "output_type": "execute_result",
     "data": {
      "text/plain": "1/y",
      "text/latex": "$\\displaystyle \\frac{1}{y}$"
     },
     "metadata": {},
     "execution_count": 44
    }
   ],
   "source": [
    "dfy = sp.diff(f,y)\n",
    "dfy"
   ]
  },
  {
   "cell_type": "code",
   "execution_count": 46,
   "metadata": {},
   "outputs": [
    {
     "output_type": "execute_result",
     "data": {
      "text/plain": "-y/x",
      "text/latex": "$\\displaystyle - \\frac{y}{x}$"
     },
     "metadata": {},
     "execution_count": 46
    }
   ],
   "source": [
    "dydx = -dfx/dfy\n",
    "dydx"
   ]
  },
  {
   "cell_type": "code",
   "execution_count": null,
   "metadata": {},
   "outputs": [],
   "source": []
  }
 ]
}