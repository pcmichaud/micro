{
  "nbformat": 4,
  "nbformat_minor": 0,
  "metadata": {
    "colab": {
      "name": "Welfare.ipynb",
      "provenance": [],
      "collapsed_sections": []
    },
    "kernelspec": {
      "name": "python3",
      "display_name": "Python 3"
    }
  },
  "cells": [
    {
      "cell_type": "code",
      "metadata": {
        "id": "lZ5v3INFUng4",
        "colab_type": "code",
        "colab": {}
      },
      "source": [
        "import numpy as np\n",
        "from matplotlib import pyplot as plt\n",
        "from scipy.optimize import bisect"
      ],
      "execution_count": 41,
      "outputs": []
    },
    {
      "cell_type": "code",
      "metadata": {
        "id": "KKisneZdUt95",
        "colab_type": "code",
        "colab": {}
      },
      "source": [
        "def u(x,y,rho):\n",
        "    sub = (x**rho) + (y**rho)\n",
        "    return sub**(1/rho)"
      ],
      "execution_count": 42,
      "outputs": []
    },
    {
      "cell_type": "code",
      "metadata": {
        "id": "CRtU3Y07VEYo",
        "colab_type": "code",
        "colab": {}
      },
      "source": [
        "def xstar(px,py,I,rho):\n",
        "  r = rho/(rho-1)\n",
        "  return (px**(r-1)/(px**r + py**r))*I \n",
        "def ystar(px,py,I,rho):\n",
        "  r = rho/(rho-1)\n",
        "  return (py**(r-1)/(px**r + py**r))*I \n",
        "def vstar(px,py,I,rho):\n",
        "  x = xstar(px,py,I,rho)\n",
        "  y = ystar(px,py,I,rho)\n",
        "  return u(x,y,rho)"
      ],
      "execution_count": 43,
      "outputs": []
    },
    {
      "cell_type": "code",
      "metadata": {
        "id": "KAbtTX2NVGU6",
        "colab_type": "code",
        "colab": {}
      },
      "source": [
        "px = 1\n",
        "py = 1\n",
        "tau_x = 0.1\n",
        "I = 100\n",
        "rho = 0.5"
      ],
      "execution_count": 44,
      "outputs": []
    },
    {
      "cell_type": "code",
      "metadata": {
        "id": "OcP2ZiPQVNUa",
        "colab_type": "code",
        "colab": {
          "base_uri": "https://localhost:8080/",
          "height": 33
        },
        "outputId": "9b862524-10f7-4b4b-dc36-4428a170bef6"
      },
      "source": [
        "vref = vstar(px,py,I,rho)\n",
        "xref = xstar(px,py,I,rho)\n",
        "yref = ystar(px,py,I,rho)\n",
        "(vref,xref,yref)"
      ],
      "execution_count": 45,
      "outputs": [
        {
          "output_type": "execute_result",
          "data": {
            "text/plain": [
              "(200.00000000000003, 50.0, 50.0)"
            ]
          },
          "metadata": {
            "tags": []
          },
          "execution_count": 45
        }
      ]
    },
    {
      "cell_type": "code",
      "metadata": {
        "id": "LZcd6jf4Vjsc",
        "colab_type": "code",
        "colab": {
          "base_uri": "https://localhost:8080/",
          "height": 33
        },
        "outputId": "217e9001-4745-48fe-fd50-783f8460879e"
      },
      "source": [
        "vtax = vstar(px*(1+tau_x),py,I,rho)\n",
        "xtax = xstar(px*(1+tau_x),py,I,rho)\n",
        "ytax = ystar(px*(1+tau_x),py,I,rho)\n",
        "(vtax,xtax,ytax)"
      ],
      "execution_count": 46,
      "outputs": [
        {
          "output_type": "execute_result",
          "data": {
            "text/plain": [
              "(190.9090909090909, 43.290043290043286, 52.38095238095239)"
            ]
          },
          "metadata": {
            "tags": []
          },
          "execution_count": 46
        }
      ]
    },
    {
      "cell_type": "code",
      "metadata": {
        "id": "XlMTMlKGV42Z",
        "colab_type": "code",
        "colab": {
          "base_uri": "https://localhost:8080/",
          "height": 33
        },
        "outputId": "4d7a0a69-0731-4deb-86d4-b1c5b8255562"
      },
      "source": [
        "rev = xtax*tau_x\n",
        "rev"
      ],
      "execution_count": 47,
      "outputs": [
        {
          "output_type": "execute_result",
          "data": {
            "text/plain": [
              "4.329004329004329"
            ]
          },
          "metadata": {
            "tags": []
          },
          "execution_count": 47
        }
      ]
    },
    {
      "cell_type": "code",
      "metadata": {
        "id": "42-Tos9FWEpY",
        "colab_type": "code",
        "colab": {}
      },
      "source": [
        "def slack(cmp,tau_x,px,py,I,rho):\n",
        "  vref = vstar(px,py,I,rho)\n",
        "  vtax = vstar(px*(1+tau_x),py,I-cmp,rho)\n",
        "  return vref - vtax"
      ],
      "execution_count": 48,
      "outputs": []
    },
    {
      "cell_type": "code",
      "metadata": {
        "id": "xgDz1ks7WccZ",
        "colab_type": "code",
        "colab": {
          "base_uri": "https://localhost:8080/",
          "height": 33
        },
        "outputId": "908a90a7-6b2b-4d97-cd44-085f1cff30bf"
      },
      "source": [
        "slack(0,tau_x,px,py,I,rho)"
      ],
      "execution_count": 49,
      "outputs": [
        {
          "output_type": "execute_result",
          "data": {
            "text/plain": [
              "9.090909090909122"
            ]
          },
          "metadata": {
            "tags": []
          },
          "execution_count": 49
        }
      ]
    },
    {
      "cell_type": "code",
      "metadata": {
        "id": "oqob2sCKWgBE",
        "colab_type": "code",
        "colab": {}
      },
      "source": [
        "cmp = bisect(slack,-0.5*I,0.5*I,args=(tau_x,px,py,I,rho))"
      ],
      "execution_count": 50,
      "outputs": []
    },
    {
      "cell_type": "code",
      "metadata": {
        "id": "yUx7vppOYC4g",
        "colab_type": "code",
        "colab": {
          "base_uri": "https://localhost:8080/",
          "height": 33
        },
        "outputId": "7e1c12ca-17e0-4d62-80fd-cfcdcb757b32"
      },
      "source": [
        "cmp"
      ],
      "execution_count": 51,
      "outputs": [
        {
          "output_type": "execute_result",
          "data": {
            "text/plain": [
              "-4.7619047619051"
            ]
          },
          "metadata": {
            "tags": []
          },
          "execution_count": 51
        }
      ]
    },
    {
      "cell_type": "code",
      "metadata": {
        "id": "3aDKPcqSWnst",
        "colab_type": "code",
        "colab": {
          "base_uri": "https://localhost:8080/",
          "height": 33
        },
        "outputId": "4d58ffbb-8348-49a5-e6e8-8385f8660c74"
      },
      "source": [
        "-cmp - tau_x * xstar(px*(1+tau_x),py,I,rho)"
      ],
      "execution_count": 52,
      "outputs": [
        {
          "output_type": "execute_result",
          "data": {
            "text/plain": [
              "0.4329004329007713"
            ]
          },
          "metadata": {
            "tags": []
          },
          "execution_count": 52
        }
      ]
    },
    {
      "cell_type": "code",
      "metadata": {
        "id": "PPLD9fCfWsdJ",
        "colab_type": "code",
        "colab": {}
      },
      "source": [
        "def deadweight(tau_x,px,py,I,rho):\n",
        "  cmp = bisect(slack,-0.5*I,0.5*I,args=(tau_x,px,py,I,rho))\n",
        "  return -cmp - tau_x * xstar(px*(1+tau_x),py,I,rho)\n"
      ],
      "execution_count": 53,
      "outputs": []
    },
    {
      "cell_type": "code",
      "metadata": {
        "id": "7GvculToYRQ4",
        "colab_type": "code",
        "colab": {}
      },
      "source": [
        "taus = np.linspace(0.01,0.2,10)"
      ],
      "execution_count": 54,
      "outputs": []
    },
    {
      "cell_type": "code",
      "metadata": {
        "id": "nyVFZo5eYgoN",
        "colab_type": "code",
        "colab": {}
      },
      "source": [
        "dw_low = [deadweight(tau,px,py,I,0.5) for tau in taus]\n",
        "dw_high = [deadweight(tau,px,py,I,0.9) for tau in taus]"
      ],
      "execution_count": 58,
      "outputs": []
    },
    {
      "cell_type": "code",
      "metadata": {
        "id": "yx7vxA9uYnNi",
        "colab_type": "code",
        "colab": {
          "base_uri": "https://localhost:8080/",
          "height": 278
        },
        "outputId": "357447b9-64d6-4a7c-8893-645024d5e85b"
      },
      "source": [
        "plt.figure()\n",
        "plt.plot(taus,dw_low,label='$\\\\rho=0.5$')\n",
        "plt.plot(taus,dw_high,label='$\\\\rho=0.9$')\n",
        "plt.xlabel('taux taxation X')\n",
        "plt.ylabel('perte de bien-être')\n",
        "plt.legend()\n",
        "plt.show()"
      ],
      "execution_count": 62,
      "outputs": [
        {
          "output_type": "display_data",
          "data": {
            "image/png": "[encoded data removed]",
            "text/plain": [
              "<Figure size 432x288 with 1 Axes>"
            ]
          },
          "metadata": {
            "tags": [],
            "needs_background": "light"
          }
        }
      ]
    },
    {
      "cell_type": "code",
      "metadata": {
        "id": "H-dx3blGY2C0",
        "colab_type": "code",
        "colab": {}
      },
      "source": [
        ""
      ],
      "execution_count": null,
      "outputs": []
    }
  ]
}