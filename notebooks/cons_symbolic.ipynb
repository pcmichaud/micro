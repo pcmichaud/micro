{
 "cells": [
  {
   "cell_type": "code",
   "execution_count": 19,
   "metadata": {},
   "outputs": [],
   "source": [
    "from sympy import symbols, diff, solve, Eq"
   ]
  },
  {
   "cell_type": "code",
   "execution_count": 20,
   "metadata": {},
   "outputs": [],
   "source": [
    "x, y, p_x, p_y, I = symbols('x y p_x p_y I')"
   ]
  },
  {
   "cell_type": "code",
   "execution_count": 21,
   "metadata": {},
   "outputs": [
    {
     "output_type": "execute_result",
     "data": {
      "text/plain": "x**0.5*y**0.5",
      "text/latex": "$\\displaystyle x^{0.5} y^{0.5}$"
     },
     "metadata": {},
     "execution_count": 21
    }
   ],
   "source": [
    "u = x**(0.5) * y**0.5\n",
    "u"
   ]
  },
  {
   "cell_type": "code",
   "execution_count": 22,
   "metadata": {},
   "outputs": [
    {
     "output_type": "execute_result",
     "data": {
      "text/plain": "Eq(1.0*x**(-1.0)*y**1.0, p_x/p_y)",
      "text/latex": "$\\displaystyle \\frac{1.0 y^{1.0}}{x^{1.0}} = \\frac{p_{x}}{p_{y}}$"
     },
     "metadata": {},
     "execution_count": 22
    }
   ],
   "source": [
    "cpo = Eq(diff(u,x)/diff(u,y),p_x/p_y)\n",
    "cpo"
   ]
  },
  {
   "cell_type": "code",
   "execution_count": 23,
   "metadata": {},
   "outputs": [],
   "source": [
    "cond = solve(cpo,y)[0]"
   ]
  },
  {
   "cell_type": "code",
   "execution_count": 24,
   "metadata": {},
   "outputs": [
    {
     "output_type": "execute_result",
     "data": {
      "text/plain": "p_x*x/p_y",
      "text/latex": "$\\displaystyle \\frac{p_{x} x}{p_{y}}$"
     },
     "metadata": {},
     "execution_count": 24
    }
   ],
   "source": [
    "cond"
   ]
  },
  {
   "cell_type": "code",
   "execution_count": 25,
   "metadata": {},
   "outputs": [
    {
     "output_type": "execute_result",
     "data": {
      "text/plain": "Eq(-I + 2*p_x*x, 0)",
      "text/latex": "$\\displaystyle - I + 2 p_{x} x = 0$"
     },
     "metadata": {},
     "execution_count": 25
    }
   ],
   "source": [
    "budget = Eq(p_x * x + p_y * cond - I,0)\n",
    "budget"
   ]
  },
  {
   "cell_type": "code",
   "execution_count": 26,
   "metadata": {},
   "outputs": [
    {
     "output_type": "execute_result",
     "data": {
      "text/plain": "I/(2*p_x)",
      "text/latex": "$\\displaystyle \\frac{I}{2 p_{x}}$"
     },
     "metadata": {},
     "execution_count": 26
    }
   ],
   "source": [
    "xstar = solve(budget,x)[0]\n",
    "xstar"
   ]
  },
  {
   "cell_type": "code",
   "execution_count": 29,
   "metadata": {},
   "outputs": [
    {
     "output_type": "execute_result",
     "data": {
      "text/plain": "I/(2*p_y)",
      "text/latex": "$\\displaystyle \\frac{I}{2 p_{y}}$"
     },
     "metadata": {},
     "execution_count": 29
    }
   ],
   "source": [
    "ystar = cond.subs(x,xstar)\n",
    "ystar"
   ]
  },
  {
   "cell_type": "code",
   "execution_count": null,
   "metadata": {},
   "outputs": [],
   "source": []
  }
 ],
 "metadata": {
  "language_info": {
   "codemirror_mode": {
    "name": "ipython",
    "version": 3
   },
   "file_extension": ".py",
   "mimetype": "text/x-python",
   "name": "python",
   "nbconvert_exporter": "python",
   "pygments_lexer": "ipython3",
   "version": "3.7.7-final"
  },
  "orig_nbformat": 2,
  "kernelspec": {
   "name": "python37364bitbasecondaf39041e9745b4bec9132056e2d8a196c",
   "display_name": "Python 3.7.3 64-bit ('base': conda)"
  }
 },
 "nbformat": 4,
 "nbformat_minor": 2
}