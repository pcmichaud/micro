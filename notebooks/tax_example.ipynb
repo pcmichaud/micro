{
  "nbformat": 4,
  "nbformat_minor": 0,
  "metadata": {
    "colab": {
      "name": "tax-example.ipynb",
      "provenance": [],
      "collapsed_sections": []
    },
    "kernelspec": {
      "name": "python3",
      "display_name": "Python 3"
    }
  },
  "cells": [
    {
      "cell_type": "code",
      "metadata": {
        "id": "CxFpiB6srdOF"
      },
      "source": [
        "import numpy as np \n",
        "from matplotlib import pyplot as plt"
      ],
      "execution_count": 260,
      "outputs": []
    },
    {
      "cell_type": "code",
      "metadata": {
        "id": "uusn0OpjrfiP",
        "outputId": "a656a67e-af32-4890-e2fd-f24afd790fb7",
        "colab": {
          "base_uri": "https://localhost:8080/",
          "height": 167
        }
      },
      "source": [
        "!pip install srd"
      ],
      "execution_count": 261,
      "outputs": [
        {
          "output_type": "stream",
          "text": [
            "Requirement already satisfied: srd in /usr/local/lib/python3.6/dist-packages (1.1.2)\n",
            "Requirement already satisfied: pandas in /usr/local/lib/python3.6/dist-packages (from srd) (1.0.5)\n",
            "Requirement already satisfied: xlrd in /usr/local/lib/python3.6/dist-packages (from srd) (1.1.0)\n",
            "Requirement already satisfied: numpy in /usr/local/lib/python3.6/dist-packages (from srd) (1.18.5)\n",
            "Requirement already satisfied: srpp in /usr/local/lib/python3.6/dist-packages (from srd) (0.5.1)\n",
            "Requirement already satisfied: pytz>=2017.2 in /usr/local/lib/python3.6/dist-packages (from pandas->srd) (2018.9)\n",
            "Requirement already satisfied: python-dateutil>=2.6.1 in /usr/local/lib/python3.6/dist-packages (from pandas->srd) (2.8.1)\n",
            "Requirement already satisfied: six>=1.5 in /usr/local/lib/python3.6/dist-packages (from python-dateutil>=2.6.1->pandas->srd) (1.15.0)\n"
          ],
          "name": "stdout"
        }
      ]
    },
    {
      "cell_type": "code",
      "metadata": {
        "id": "-A1lVc98rk1m"
      },
      "source": [
        "import srd"
      ],
      "execution_count": 262,
      "outputs": []
    },
    {
      "cell_type": "markdown",
      "metadata": {
        "id": "Ap1ZWyCIr4Np"
      },
      "source": [
        "# Contrainte budgétaire"
      ]
    },
    {
      "cell_type": "code",
      "metadata": {
        "id": "qzRYyIL3roWn"
      },
      "source": [
        "jean = srd.Person(earn=10e3)\n",
        "case = srd.Hhold(jean)\n",
        "tax = srd.tax(2019)"
      ],
      "execution_count": 263,
      "outputs": []
    },
    {
      "cell_type": "code",
      "metadata": {
        "id": "tdshgphPruBJ"
      },
      "source": [
        "case = tax.compute(case)"
      ],
      "execution_count": 264,
      "outputs": []
    },
    {
      "cell_type": "code",
      "metadata": {
        "id": "rJpiKH3vsJQL",
        "outputId": "4bb3c035-145e-4c36-8772-c1f8477a9b99",
        "colab": {
          "base_uri": "https://localhost:8080/",
          "height": 33
        }
      },
      "source": [
        "case.fam_disp_inc"
      ],
      "execution_count": 265,
      "outputs": [
        {
          "output_type": "execute_result",
          "data": {
            "text/plain": [
              "14608.16"
            ]
          },
          "metadata": {
            "tags": []
          },
          "execution_count": 265
        }
      ]
    },
    {
      "cell_type": "code",
      "metadata": {
        "id": "cBOWIjmDsOIL"
      },
      "source": [
        "wage = 35.0\n",
        "hours = np.linspace(0,60,100)"
      ],
      "execution_count": 266,
      "outputs": []
    },
    {
      "cell_type": "code",
      "metadata": {
        "id": "e_qYwvrYsYes"
      },
      "source": [
        "netinc = []\n",
        "for h in hours: \n",
        "  jean = srd.Person(earn=wage*h*52)\n",
        "  case = srd.Hhold(jean)\n",
        "  case = tax.compute(case)\n",
        "  netinc.append(case.fam_disp_inc)\n"
      ],
      "execution_count": 267,
      "outputs": []
    },
    {
      "cell_type": "code",
      "metadata": {
        "id": "VGSKoAK7tPJy"
      },
      "source": [
        "leisure = 5*16 - hours"
      ],
      "execution_count": 268,
      "outputs": []
    },
    {
      "cell_type": "code",
      "metadata": {
        "id": "2uLhaiq6su0Y",
        "outputId": "0350436e-c764-4223-c13c-635e9b89d5f9",
        "colab": {
          "base_uri": "https://localhost:8080/",
          "height": 278
        }
      },
      "source": [
        "plt.figure()\n",
        "plt.plot(leisure,netinc,label='contrainte')\n",
        "plt.plot(leisure,hours*wage*52,label='sans fiscalité')\n",
        "plt.xlabel('heures loisir (par semaine)')\n",
        "plt.ylabel('revenu annuel disponible')\n",
        "plt.ylim([0,max(netinc)])\n",
        "plt.legend()\n",
        "plt.show()"
      ],
      "execution_count": 269,
      "outputs": [
        {
          "output_type": "display_data",
          "data": {
            "image/png": "[encoded data removed]",
            "text/plain": [
              "<Figure size 432x288 with 1 Axes>"
            ]
          },
          "metadata": {
            "tags": [],
            "needs_background": "light"
          }
        }
      ]
    },
    {
      "cell_type": "code",
      "metadata": {
        "id": "Rn2IGbv1tCIY"
      },
      "source": [
        ""
      ],
      "execution_count": 269,
      "outputs": []
    },
    {
      "cell_type": "markdown",
      "metadata": {
        "id": "ufBCD9LbuRqi"
      },
      "source": [
        "# TEMI"
      ]
    },
    {
      "cell_type": "code",
      "metadata": {
        "id": "LlDUXoBSuQxq"
      },
      "source": [
        "temis = []\n",
        "for i,h in enumerate(hours[:-1]): \n",
        "   x = 1.0 - (netinc[i+1] - netinc[i])/(wage*(hours[i+1]-hours[i])*52) \n",
        "   temis.append(x)"
      ],
      "execution_count": 270,
      "outputs": []
    },
    {
      "cell_type": "code",
      "metadata": {
        "id": "iF-b6vtEvBF-",
        "outputId": "70523bd6-cdd5-4dfc-f606-c66b077dc522",
        "colab": {
          "base_uri": "https://localhost:8080/",
          "height": 281
        }
      },
      "source": [
        "plt.figure()\n",
        "plt.plot(hours[:-1],temis,label='TEMI')\n",
        "plt.xlabel('heures travail (par semaine)')\n",
        "plt.ylabel('TEMI')\n",
        "plt.ylim([0,max(temis)])\n",
        "plt.legend()\n",
        "plt.show()"
      ],
      "execution_count": 271,
      "outputs": [
        {
          "output_type": "display_data",
          "data": {
            "image/png": "[encoded data removed]",
            "text/plain": [
              "<Figure size 432x288 with 1 Axes>"
            ]
          },
          "metadata": {
            "tags": [],
            "needs_background": "light"
          }
        }
      ]
    },
    {
      "cell_type": "markdown",
      "metadata": {
        "id": "Wk56YFkKwQ_n"
      },
      "source": [
        "# Utilité et choix optimal"
      ]
    },
    {
      "cell_type": "code",
      "metadata": {
        "id": "HoiMQwwJv5-O"
      },
      "source": [
        "def u(c,h,phi,eps):\n",
        "  g = 1 + + 1/eps\n",
        "  return c - phi*(h**g) / g"
      ],
      "execution_count": 272,
      "outputs": []
    },
    {
      "cell_type": "code",
      "metadata": {
        "id": "ccKe-9Tqw518"
      },
      "source": [
        "eps = 1\n",
        "phi = 1e-2"
      ],
      "execution_count": 273,
      "outputs": []
    },
    {
      "cell_type": "code",
      "metadata": {
        "id": "kgIMldHWwuhL"
      },
      "source": [
        "us = [u(c,h,phi,eps) for c,h in zip(netinc,hours*52)]"
      ],
      "execution_count": 274,
      "outputs": []
    },
    {
      "cell_type": "code",
      "metadata": {
        "id": "mFYruQk9w4xr",
        "outputId": "e1785f96-9469-4f48-a98a-73aff8e01253",
        "colab": {
          "base_uri": "https://localhost:8080/",
          "height": 267
        }
      },
      "source": [
        "plt.figure()\n",
        "plt.plot(hours,us)\n",
        "plt.show()"
      ],
      "execution_count": 275,
      "outputs": [
        {
          "output_type": "display_data",
          "data": {
            "image/png": "[encoded data removed]",
            "text/plain": [
              "<Figure size 432x288 with 1 Axes>"
            ]
          },
          "metadata": {
            "tags": [],
            "needs_background": "light"
          }
        }
      ]
    },
    {
      "cell_type": "code",
      "metadata": {
        "id": "PENs0L97w_ac"
      },
      "source": [
        "hopt = hours[np.argmax(us)]"
      ],
      "execution_count": 276,
      "outputs": []
    },
    {
      "cell_type": "code",
      "metadata": {
        "id": "7d1OEwTPyptz",
        "outputId": "d122ce90-187f-40bf-9ae5-5eb0c0333a9f",
        "colab": {
          "base_uri": "https://localhost:8080/",
          "height": 33
        }
      },
      "source": [
        "hopt"
      ],
      "execution_count": 277,
      "outputs": [
        {
          "output_type": "execute_result",
          "data": {
            "text/plain": [
              "42.42424242424242"
            ]
          },
          "metadata": {
            "tags": []
          },
          "execution_count": 277
        }
      ]
    },
    {
      "cell_type": "markdown",
      "metadata": {
        "id": "GkWVpbNR00J-"
      },
      "source": [
        "# Offre de travail"
      ]
    },
    {
      "cell_type": "code",
      "metadata": {
        "id": "pj6BYyb-yqm8"
      },
      "source": [
        "def supply(phi,eps,wage,tax):\n",
        "  hours = np.linspace(0.0,80.0)\n",
        "  netinc = []\n",
        "  for h in hours: \n",
        "    p = srd.Person(earn=wage*h*52)\n",
        "    case = srd.Hhold(p)\n",
        "    case = tax.compute(case)\n",
        "    netinc.append(case.fam_disp_inc)  \n",
        "  us = [u(c,h,phi,eps) for c,h in zip(netinc,hours*52)]\n",
        "  hopt = hours[np.argmax(us)]\n",
        "  return hopt"
      ],
      "execution_count": 278,
      "outputs": []
    },
    {
      "cell_type": "code",
      "metadata": {
        "id": "vi2stHzN0AQF"
      },
      "source": [
        "wages = np.linspace(13.1,50.0,100)\n",
        "sc = [supply(1e-2,1.0,w,tax) for w in wages]"
      ],
      "execution_count": 279,
      "outputs": []
    },
    {
      "cell_type": "code",
      "metadata": {
        "id": "00ruIKXB0Pj0",
        "outputId": "80cebdf4-7ece-458e-bbb6-eda86817266c",
        "colab": {
          "base_uri": "https://localhost:8080/",
          "height": 278
        }
      },
      "source": [
        "plt.figure()\n",
        "plt.plot(wages,sc)\n",
        "plt.xlabel('heures travaillées')\n",
        "plt.ylabel('salaire horaire')\n",
        "plt.show()"
      ],
      "execution_count": 280,
      "outputs": [
        {
          "output_type": "display_data",
          "data": {
            "image/png": "[encoded data removed]",
            "text/plain": [
              "<Figure size 432x288 with 1 Axes>"
            ]
          },
          "metadata": {
            "tags": [],
            "needs_background": "light"
          }
        }
      ]
    },
    {
      "cell_type": "markdown",
      "metadata": {
        "id": "8FSXkPfb1oYi"
      },
      "source": [
        "# Changer de taux d'imposition"
      ]
    },
    {
      "cell_type": "code",
      "metadata": {
        "id": "HwhqyNdK1nVR"
      },
      "source": [
        "tax2 = srd.tax(year=2019)"
      ],
      "execution_count": 281,
      "outputs": []
    },
    {
      "cell_type": "code",
      "metadata": {
        "id": "yxymk2Sa18XK"
      },
      "source": [
        "tax2.federal.l_rates = [t*1.25 for t in tax2.federal.l_rates]"
      ],
      "execution_count": 282,
      "outputs": []
    },
    {
      "cell_type": "code",
      "metadata": {
        "id": "2ip6rGkn2zDb",
        "outputId": "5997209b-dcd2-45b8-b2dc-01e371c9298b",
        "colab": {
          "base_uri": "https://localhost:8080/",
          "height": 33
        }
      },
      "source": [
        "tax2.federal.l_rates"
      ],
      "execution_count": 283,
      "outputs": [
        {
          "output_type": "execute_result",
          "data": {
            "text/plain": [
              "[0.1875, 0.25625, 0.325, 0.3625, 0.41250000000000003]"
            ]
          },
          "metadata": {
            "tags": []
          },
          "execution_count": 283
        }
      ]
    },
    {
      "cell_type": "code",
      "metadata": {
        "id": "tA2J95cY2J71"
      },
      "source": [
        "href = supply(1e-2,1.0,wage,tax)\n",
        "htax = supply(1e-2,1.0,wage,tax2)"
      ],
      "execution_count": 284,
      "outputs": []
    },
    {
      "cell_type": "code",
      "metadata": {
        "id": "ax-yBxCB2Rss",
        "outputId": "5fd49797-891f-4ccf-ce95-05c1c6f08110",
        "colab": {
          "base_uri": "https://localhost:8080/",
          "height": 33
        }
      },
      "source": [
        "href,htax"
      ],
      "execution_count": 285,
      "outputs": [
        {
          "output_type": "execute_result",
          "data": {
            "text/plain": [
              "(42.44897959183673, 39.183673469387756)"
            ]
          },
          "metadata": {
            "tags": []
          },
          "execution_count": 285
        }
      ]
    },
    {
      "cell_type": "code",
      "metadata": {
        "id": "So287nu42htc"
      },
      "source": [
        "eta = (htax/href-1)/0.25"
      ],
      "execution_count": 286,
      "outputs": []
    },
    {
      "cell_type": "code",
      "metadata": {
        "id": "uF9waUd96fSs",
        "outputId": "4a86f8ce-fb31-4e06-917b-8205b0ffa3de",
        "colab": {
          "base_uri": "https://localhost:8080/",
          "height": 33
        }
      },
      "source": [
        "eta"
      ],
      "execution_count": 287,
      "outputs": [
        {
          "output_type": "execute_result",
          "data": {
            "text/plain": [
              "-0.3076923076923075"
            ]
          },
          "metadata": {
            "tags": []
          },
          "execution_count": 287
        }
      ]
    },
    {
      "cell_type": "code",
      "metadata": {
        "id": "DnNV1-AwNHTS"
      },
      "source": [
        ""
      ],
      "execution_count": null,
      "outputs": []
    }
  ]
}